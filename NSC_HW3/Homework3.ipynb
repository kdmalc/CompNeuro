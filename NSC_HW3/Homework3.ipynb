{
 "cells": [
  {
   "cell_type": "code",
   "execution_count": 1,
   "metadata": {},
   "outputs": [],
   "source": [
    "## Homework 3\n",
    "##\n",
    "## simple MNIST classifier network\n",
    "##\n",
    "## NSC3270/5270 Spring 2019\n",
    "\n",
    "import numpy as np\n",
    "import matplotlib.pyplot as plt\n",
    "from math import isclose\n",
    "\n",
    "# supress some unnecessary warnings\n",
    "import os\n",
    "os.environ['TF_CPP_MIN_LOG_LEVEL']='2'"
   ]
  },
  {
   "cell_type": "markdown",
   "metadata": {},
   "source": [
    "# load, display, and format mnist images and labels"
   ]
  },
  {
   "cell_type": "code",
   "execution_count": 2,
   "metadata": {},
   "outputs": [
    {
     "name": "stderr",
     "output_type": "stream",
     "text": [
      "C:\\Users\\kdmen\\miniconda3\\envs\\NSCenv\\lib\\site-packages\\tensorflow\\python\\framework\\dtypes.py:516: FutureWarning: Passing (type, 1) or '1type' as a synonym of type is deprecated; in a future version of numpy, it will be understood as (type, (1,)) / '(1,)type'.\n",
      "  _np_qint8 = np.dtype([(\"qint8\", np.int8, 1)])\n",
      "C:\\Users\\kdmen\\miniconda3\\envs\\NSCenv\\lib\\site-packages\\tensorflow\\python\\framework\\dtypes.py:517: FutureWarning: Passing (type, 1) or '1type' as a synonym of type is deprecated; in a future version of numpy, it will be understood as (type, (1,)) / '(1,)type'.\n",
      "  _np_quint8 = np.dtype([(\"quint8\", np.uint8, 1)])\n",
      "C:\\Users\\kdmen\\miniconda3\\envs\\NSCenv\\lib\\site-packages\\tensorflow\\python\\framework\\dtypes.py:518: FutureWarning: Passing (type, 1) or '1type' as a synonym of type is deprecated; in a future version of numpy, it will be understood as (type, (1,)) / '(1,)type'.\n",
      "  _np_qint16 = np.dtype([(\"qint16\", np.int16, 1)])\n",
      "C:\\Users\\kdmen\\miniconda3\\envs\\NSCenv\\lib\\site-packages\\tensorflow\\python\\framework\\dtypes.py:519: FutureWarning: Passing (type, 1) or '1type' as a synonym of type is deprecated; in a future version of numpy, it will be understood as (type, (1,)) / '(1,)type'.\n",
      "  _np_quint16 = np.dtype([(\"quint16\", np.uint16, 1)])\n",
      "C:\\Users\\kdmen\\miniconda3\\envs\\NSCenv\\lib\\site-packages\\tensorflow\\python\\framework\\dtypes.py:520: FutureWarning: Passing (type, 1) or '1type' as a synonym of type is deprecated; in a future version of numpy, it will be understood as (type, (1,)) / '(1,)type'.\n",
      "  _np_qint32 = np.dtype([(\"qint32\", np.int32, 1)])\n",
      "C:\\Users\\kdmen\\miniconda3\\envs\\NSCenv\\lib\\site-packages\\tensorflow\\python\\framework\\dtypes.py:525: FutureWarning: Passing (type, 1) or '1type' as a synonym of type is deprecated; in a future version of numpy, it will be understood as (type, (1,)) / '(1,)type'.\n",
      "  np_resource = np.dtype([(\"resource\", np.ubyte, 1)])\n",
      "C:\\Users\\kdmen\\miniconda3\\envs\\NSCenv\\lib\\site-packages\\tensorboard\\compat\\tensorflow_stub\\dtypes.py:541: FutureWarning: Passing (type, 1) or '1type' as a synonym of type is deprecated; in a future version of numpy, it will be understood as (type, (1,)) / '(1,)type'.\n",
      "  _np_qint8 = np.dtype([(\"qint8\", np.int8, 1)])\n",
      "C:\\Users\\kdmen\\miniconda3\\envs\\NSCenv\\lib\\site-packages\\tensorboard\\compat\\tensorflow_stub\\dtypes.py:542: FutureWarning: Passing (type, 1) or '1type' as a synonym of type is deprecated; in a future version of numpy, it will be understood as (type, (1,)) / '(1,)type'.\n",
      "  _np_quint8 = np.dtype([(\"quint8\", np.uint8, 1)])\n",
      "C:\\Users\\kdmen\\miniconda3\\envs\\NSCenv\\lib\\site-packages\\tensorboard\\compat\\tensorflow_stub\\dtypes.py:543: FutureWarning: Passing (type, 1) or '1type' as a synonym of type is deprecated; in a future version of numpy, it will be understood as (type, (1,)) / '(1,)type'.\n",
      "  _np_qint16 = np.dtype([(\"qint16\", np.int16, 1)])\n",
      "C:\\Users\\kdmen\\miniconda3\\envs\\NSCenv\\lib\\site-packages\\tensorboard\\compat\\tensorflow_stub\\dtypes.py:544: FutureWarning: Passing (type, 1) or '1type' as a synonym of type is deprecated; in a future version of numpy, it will be understood as (type, (1,)) / '(1,)type'.\n",
      "  _np_quint16 = np.dtype([(\"quint16\", np.uint16, 1)])\n",
      "C:\\Users\\kdmen\\miniconda3\\envs\\NSCenv\\lib\\site-packages\\tensorboard\\compat\\tensorflow_stub\\dtypes.py:545: FutureWarning: Passing (type, 1) or '1type' as a synonym of type is deprecated; in a future version of numpy, it will be understood as (type, (1,)) / '(1,)type'.\n",
      "  _np_qint32 = np.dtype([(\"qint32\", np.int32, 1)])\n",
      "C:\\Users\\kdmen\\miniconda3\\envs\\NSCenv\\lib\\site-packages\\tensorboard\\compat\\tensorflow_stub\\dtypes.py:550: FutureWarning: Passing (type, 1) or '1type' as a synonym of type is deprecated; in a future version of numpy, it will be understood as (type, (1,)) / '(1,)type'.\n",
      "  np_resource = np.dtype([(\"resource\", np.ubyte, 1)])\n"
     ]
    }
   ],
   "source": [
    "from tensorflow.keras.datasets import mnist\n",
    "\n",
    "# load mnist images\n",
    "(train_images, train_labels), (test_images, test_labels) = mnist.load_data()"
   ]
  },
  {
   "cell_type": "code",
   "execution_count": 3,
   "metadata": {},
   "outputs": [
    {
     "name": "stdout",
     "output_type": "stream",
     "text": [
      "train\n",
      "(60000, 28, 28)\n",
      "(60000,)\n",
      "<class 'numpy.ndarray'>\n",
      "<class 'numpy.ndarray'>\n",
      "\n",
      "test\n",
      "(10000, 28, 28)\n",
      "(10000,)\n",
      "<class 'numpy.ndarray'>\n",
      "<class 'numpy.ndarray'>\n"
     ]
    }
   ],
   "source": [
    "# check dimensions and type of images and labels\n",
    "\n",
    "print('train')\n",
    "print(train_images.shape)\n",
    "print(train_labels.shape)\n",
    "print(type(train_images))\n",
    "print(type(train_labels))\n",
    "print()\n",
    "\n",
    "print('test')\n",
    "print(test_images.shape)\n",
    "print(test_labels.shape)\n",
    "print(type(test_images))\n",
    "print(type(test_labels))"
   ]
  },
  {
   "cell_type": "markdown",
   "metadata": {},
   "source": [
    "There are 60,000 train images and 10,000 test images. Each image is 28x28 pixels (gray scale)."
   ]
  },
  {
   "cell_type": "code",
   "execution_count": 4,
   "metadata": {},
   "outputs": [
    {
     "data": {
      "image/png": "[encoded data removed]",
      "text/plain": [
       "<Figure size 432x288 with 9 Axes>"
      ]
     },
     "metadata": {},
     "output_type": "display_data"
    }
   ],
   "source": [
    "# display the first 9 digits\n",
    "\n",
    "fig = plt.figure()\n",
    "for i in range(9):\n",
    "    plt.subplot(3,3,i+1)\n",
    "    plt.tight_layout()\n",
    "    plt.imshow(train_images[i], cmap='gray', interpolation='none')\n",
    "    plt.title(\"Digit: {}\".format(train_labels[i]))\n",
    "    plt.xticks([])\n",
    "    plt.yticks([])\n",
    "plt.show()"
   ]
  },
  {
   "cell_type": "markdown",
   "metadata": {},
   "source": [
    "### reformat training and testing images"
   ]
  },
  {
   "cell_type": "code",
   "execution_count": 5,
   "metadata": {},
   "outputs": [
    {
     "name": "stdout",
     "output_type": "stream",
     "text": [
      "Training images shape:  (60000, 28, 28)\n",
      "Training pixel type:    <class 'numpy.uint8'>\n",
      "Testing images shape:   (10000, 28, 28)\n",
      "Testing pixel type:     <class 'numpy.uint8'>\n"
     ]
    }
   ],
   "source": [
    "# check out (again) dimensions and types of mnist data\n",
    "print('Training images shape: ', train_images.shape)\n",
    "print('Training pixel type:   ', type(train_images[0][0][0]))\n",
    "print('Testing images shape:  ', test_images.shape)\n",
    "print('Testing pixel type:    ', type(test_images[0][0][0]))"
   ]
  },
  {
   "cell_type": "code",
   "execution_count": 6,
   "metadata": {},
   "outputs": [
    {
     "name": "stdout",
     "output_type": "stream",
     "text": [
      "New training images shape:  (60000, 784)\n",
      "New training pixel type:    <class 'numpy.float32'>\n",
      "New testing images shape:   (10000, 784)\n",
      "New testing pixel type:     <class 'numpy.float32'>\n"
     ]
    }
   ],
   "source": [
    "# number of images\n",
    "Ntr = train_images.shape[0]\n",
    "Nts = test_images.shape[0]\n",
    "\n",
    "# image shape\n",
    "szx = train_images.shape[1]\n",
    "szy = train_images.shape[2]\n",
    "\n",
    "# need to reshape the 28x28 training/testing images as vectors\n",
    "train_images_vec = train_images.reshape((Ntr, szx * szy))\n",
    "test_images_vec = test_images.reshape(  (Nts, szx * szy))\n",
    "\n",
    "# deciding to normalize the pixels to 0..1 and recase as float32\n",
    "train_images_vec = train_images_vec.astype('float32') / 255\n",
    "test_images_vec = test_images_vec.astype('float32') / 255\n",
    "\n",
    "# display new input dimensions/type\n",
    "print('New training images shape: ', train_images_vec.shape)\n",
    "print('New training pixel type:   ', type(train_images_vec[0][0]))\n",
    "print('New testing images shape:  ', test_images_vec.shape)\n",
    "print('New testing pixel type:    ', type(test_images_vec[0][0]))"
   ]
  },
  {
   "cell_type": "markdown",
   "metadata": {},
   "source": [
    "### reformat training and testing labels"
   ]
  },
  {
   "cell_type": "code",
   "execution_count": 7,
   "metadata": {},
   "outputs": [
    {
     "name": "stdout",
     "output_type": "stream",
     "text": [
      "Training labels shape:  (60000,)\n",
      "Training labels type:   <class 'numpy.uint8'>\n",
      "\n",
      "First 9 training labels as labels:\n",
      " [5 0 4 1 9 2 1 3 1]\n"
     ]
    }
   ],
   "source": [
    "# check out dimensions and types of mnist data\n",
    "print('Training labels shape: ', train_labels.shape)\n",
    "print('Training labels type:  ', type(train_labels[0]))\n",
    "print()\n",
    "\n",
    "# check out what the first 9 labels look like\n",
    "print(\"First 9 training labels as labels:\\n\", train_labels[:9])"
   ]
  },
  {
   "cell_type": "code",
   "execution_count": 8,
   "metadata": {},
   "outputs": [
    {
     "name": "stdout",
     "output_type": "stream",
     "text": [
      "First 9 training labels as one-hot encoded vectors:\n",
      " [[0. 0. 0. 0. 0. 1. 0. 0. 0. 0.]\n",
      " [1. 0. 0. 0. 0. 0. 0. 0. 0. 0.]\n",
      " [0. 0. 0. 0. 1. 0. 0. 0. 0. 0.]\n",
      " [0. 1. 0. 0. 0. 0. 0. 0. 0. 0.]\n",
      " [0. 0. 0. 0. 0. 0. 0. 0. 0. 1.]\n",
      " [0. 0. 1. 0. 0. 0. 0. 0. 0. 0.]\n",
      " [0. 1. 0. 0. 0. 0. 0. 0. 0. 0.]\n",
      " [0. 0. 0. 1. 0. 0. 0. 0. 0. 0.]\n",
      " [0. 1. 0. 0. 0. 0. 0. 0. 0. 0.]]\n"
     ]
    }
   ],
   "source": [
    "from tensorflow.keras.utils import to_categorical\n",
    "\n",
    "# also need to categorically encode the labels as \"one hot\"\n",
    "\n",
    "train_labels_onehot = to_categorical(train_labels)\n",
    "test_labels_onehot = to_categorical(test_labels)\n",
    "\n",
    "print(\"First 9 training labels as one-hot encoded vectors:\\n\", train_labels_onehot[:9])"
   ]
  },
  {
   "cell_type": "code",
   "execution_count": 9,
   "metadata": {},
   "outputs": [
    {
     "name": "stdout",
     "output_type": "stream",
     "text": [
      "New training labels shape (one hot):  (60000, 10)\n",
      "New training labels type (one hot):   <class 'numpy.float32'>\n"
     ]
    }
   ],
   "source": [
    "# display new output dimensions/type\n",
    "print('New training labels shape (one hot): ', train_labels_onehot.shape)\n",
    "print('New training labels type (one hot):  ', type(train_labels_onehot[0][0]))"
   ]
  },
  {
   "cell_type": "markdown",
   "metadata": {},
   "source": [
    "# define and train neural network"
   ]
  },
  {
   "cell_type": "code",
   "execution_count": 10,
   "metadata": {},
   "outputs": [
    {
     "name": "stdout",
     "output_type": "stream",
     "text": [
      "WARNING:tensorflow:From C:\\Users\\kdmen\\miniconda3\\envs\\NSCenv\\lib\\site-packages\\tensorflow\\python\\ops\\init_ops.py:1251: calling VarianceScaling.__init__ (from tensorflow.python.ops.init_ops) with dtype is deprecated and will be removed in a future version.\n",
      "Instructions for updating:\n",
      "Call initializer instance with the dtype argument instead of passing it to the constructor\n",
      "Model: \"sequential\"\n",
      "_________________________________________________________________\n",
      "Layer (type)                 Output Shape              Param #   \n",
      "=================================================================\n",
      "dense (Dense)                (None, 10)                7850      \n",
      "=================================================================\n",
      "Total params: 7,850\n",
      "Trainable params: 7,850\n",
      "Non-trainable params: 0\n",
      "_________________________________________________________________\n",
      "None\n",
      "\n",
      "layer name : dense | input shape : (?, 784) | output shape : (?, 10)\n",
      "\n",
      "{'name': 'dense', 'trainable': True, 'batch_input_shape': (None, 784), 'dtype': 'float32', 'units': 10, 'activation': 'sigmoid', 'use_bias': True, 'kernel_initializer': {'class_name': 'GlorotUniform', 'config': {'seed': None, 'dtype': 'float32'}}, 'bias_initializer': {'class_name': 'Zeros', 'config': {'dtype': 'float32'}}, 'kernel_regularizer': None, 'bias_regularizer': None, 'activity_regularizer': None, 'kernel_constraint': None, 'bias_constraint': None}\n",
      "\n"
     ]
    }
   ],
   "source": [
    "# import tools for basic keras networks \n",
    "from tensorflow.keras import models\n",
    "from tensorflow.keras import layers\n",
    "\n",
    "nout = 10\n",
    "\n",
    "# create architecture of simple neural network model\n",
    "# input layer  : 28*28 = 784 input nodes\n",
    "# output layer : 10 (nout) output nodes\n",
    "network = models.Sequential()\n",
    "network.add(layers.Dense(nout, \n",
    "                         activation='sigmoid', \n",
    "                         input_shape=(szx * szy,)))\n",
    "\n",
    "# print a model summary\n",
    "print(network.summary())\n",
    "print()\n",
    "for layer in network.layers:\n",
    "    print('layer name : {} | input shape : {} | output shape : {}'.format(layer.name, layer.input.shape, layer.output.shape))\n",
    "print()\n",
    "for layer in network.layers:\n",
    "    print(layer.get_config())\n",
    "print()"
   ]
  },
  {
   "cell_type": "code",
   "execution_count": 11,
   "metadata": {},
   "outputs": [
    {
     "name": "stdout",
     "output_type": "stream",
     "text": [
      "Train on 54000 samples, validate on 6000 samples\n",
      "Epoch 1/20\n",
      "54000/54000 [==============================] - 1s 12us/sample - loss: 0.1480 - acc: 0.1758 - val_loss: 0.1051 - val_acc: 0.2487\n",
      "Epoch 2/20\n",
      "54000/54000 [==============================] - 1s 11us/sample - loss: 0.0974 - acc: 0.2930 - val_loss: 0.0914 - val_acc: 0.3607\n",
      "Epoch 3/20\n",
      "54000/54000 [==============================] - 1s 11us/sample - loss: 0.0893 - acc: 0.3763 - val_loss: 0.0862 - val_acc: 0.4333\n",
      "Epoch 4/20\n",
      "54000/54000 [==============================] - 1s 11us/sample - loss: 0.0854 - acc: 0.4351 - val_loss: 0.0828 - val_acc: 0.4843\n",
      "Epoch 5/20\n",
      "54000/54000 [==============================] - 1s 11us/sample - loss: 0.0824 - acc: 0.4832 - val_loss: 0.0799 - val_acc: 0.5373\n",
      "Epoch 6/20\n",
      "54000/54000 [==============================] - 1s 11us/sample - loss: 0.0798 - acc: 0.5304 - val_loss: 0.0772 - val_acc: 0.5845\n",
      "Epoch 7/20\n",
      "54000/54000 [==============================] - 1s 10us/sample - loss: 0.0772 - acc: 0.5722 - val_loss: 0.0745 - val_acc: 0.6198\n",
      "Epoch 8/20\n",
      "54000/54000 [==============================] - 1s 11us/sample - loss: 0.0746 - acc: 0.6027 - val_loss: 0.0717 - val_acc: 0.6450\n",
      "Epoch 9/20\n",
      "54000/54000 [==============================] - 1s 11us/sample - loss: 0.0721 - acc: 0.6220 - val_loss: 0.0691 - val_acc: 0.6613\n",
      "Epoch 10/20\n",
      "54000/54000 [==============================] - 1s 10us/sample - loss: 0.0697 - acc: 0.6361 - val_loss: 0.0666 - val_acc: 0.6737\n",
      "Epoch 11/20\n",
      "54000/54000 [==============================] - 1s 10us/sample - loss: 0.0674 - acc: 0.6489 - val_loss: 0.0644 - val_acc: 0.6880\n",
      "Epoch 12/20\n",
      "54000/54000 [==============================] - 1s 11us/sample - loss: 0.0654 - acc: 0.6597 - val_loss: 0.0624 - val_acc: 0.7002\n",
      "Epoch 13/20\n",
      "54000/54000 [==============================] - 1s 13us/sample - loss: 0.0636 - acc: 0.6709 - val_loss: 0.0606 - val_acc: 0.7117\n",
      "Epoch 14/20\n",
      "54000/54000 [==============================] - 1s 11us/sample - loss: 0.0620 - acc: 0.6816 - val_loss: 0.0590 - val_acc: 0.7217\n",
      "Epoch 15/20\n",
      "54000/54000 [==============================] - 1s 13us/sample - loss: 0.0606 - acc: 0.6922 - val_loss: 0.0575 - val_acc: 0.7320\n",
      "Epoch 16/20\n",
      "54000/54000 [==============================] - 1s 16us/sample - loss: 0.0592 - acc: 0.7021 - val_loss: 0.0561 - val_acc: 0.7400\n",
      "Epoch 17/20\n",
      "54000/54000 [==============================] - 1s 13us/sample - loss: 0.0580 - acc: 0.7111 - val_loss: 0.0549 - val_acc: 0.7503\n",
      "Epoch 18/20\n",
      "54000/54000 [==============================] - 1s 16us/sample - loss: 0.0569 - acc: 0.7193 - val_loss: 0.0537 - val_acc: 0.7617\n",
      "Epoch 19/20\n",
      "54000/54000 [==============================] - 1s 12us/sample - loss: 0.0558 - acc: 0.7273 - val_loss: 0.0527 - val_acc: 0.7707\n",
      "Epoch 20/20\n",
      "54000/54000 [==============================] - 1s 14us/sample - loss: 0.0548 - acc: 0.7355 - val_loss: 0.0517 - val_acc: 0.7765\n",
      "Done training!\n",
      "\n"
     ]
    }
   ],
   "source": [
    "# compile network\n",
    "network.compile(optimizer='sgd', \n",
    "                loss='mean_squared_error', \n",
    "                metrics=['accuracy'])\n",
    "\n",
    "# now train the network\n",
    "history = network.fit(train_images_vec, \n",
    "                      train_labels_onehot, \n",
    "                      verbose=True, \n",
    "                      validation_split=.1, \n",
    "                      epochs=20, \n",
    "                      batch_size=128)\n",
    "print('Done training!')\n",
    "print()"
   ]
  },
  {
   "cell_type": "code",
   "execution_count": 12,
   "metadata": {},
   "outputs": [
    {
     "name": "stdout",
     "output_type": "stream",
     "text": [
      "10000/10000 [==============================] - 0s 12us/sample - loss: 0.0535 - acc: 0.7517\n",
      "test_acc: 0.7517\n"
     ]
    }
   ],
   "source": [
    "# test network\n",
    "test_loss, test_acc = network.evaluate(test_images_vec, \n",
    "                                       test_labels_onehot, \n",
    "                                       verbose=True)\n",
    "print('test_acc:', test_acc)"
   ]
  },
  {
   "cell_type": "markdown",
   "metadata": {},
   "source": [
    "# some pieces needed to complete Homework 3"
   ]
  },
  {
   "cell_type": "code",
   "execution_count": 13,
   "metadata": {},
   "outputs": [
    {
     "name": "stdout",
     "output_type": "stream",
     "text": [
      "W (784, 10) | B (10,)\n"
     ]
    }
   ],
   "source": [
    "# get learned network weights and biases\n",
    "\n",
    "W = network.layers[0].get_weights()[0]     # weights input to hidden\n",
    "B = network.layers[0].get_weights()[1]     # bias to hidden\n",
    "\n",
    "print('W {} | B {}'.format(W.shape, B.shape))"
   ]
  },
  {
   "cell_type": "code",
   "execution_count": 14,
   "metadata": {},
   "outputs": [
    {
     "name": "stdout",
     "output_type": "stream",
     "text": [
      "(784,)\n",
      "(1, 784)\n"
     ]
    }
   ],
   "source": [
    "# model predictions (all 10000 test images)\n",
    "out = network.predict(test_images_vec)\n",
    "\n",
    "# model predictions (a single test image)\n",
    "example = test_images_vec[123]\n",
    "print(example.shape)\n",
    "\n",
    "# vector passed to network.predict must be (?, 784)\n",
    "example = example.reshape((1,example.shape[0]))\n",
    "print(example.shape)"
   ]
  },
  {
   "cell_type": "code",
   "execution_count": 15,
   "metadata": {},
   "outputs": [],
   "source": [
    "#########################################################################################\n",
    "##\n",
    "## Homework 3 Solution Area\n",
    "##\n",
    "\n",
    "## Q1. The original MNIST test_labels numpy array contains the digit value associated\n",
    "## with the corresponding digit image (test_images). The output from the network (from\n",
    "## out = network.predict(test_images_vec) above) contains the activations of the 10\n",
    "## output nodes for every test image presented to the network. Write a function that\n",
    "## takes the (10000,10) numpy array of output (of type float) activations and returns a \n",
    "## (10000,) numpy array of discrete digit classification by the network (of type int).\n",
    "## Specifically, create a test_decisions numpy array of the same size and type as the\n",
    "## MNIST test_labels array you started with. Whereas test_labels shows the correct\n",
    "## answer, test_decisions shows the ultimate decision by the network. Below you will use \n",
    "## both arrays to pull out test images that the network classifies correctly vs. incorrectly.\n",
    "##\n",
    "## To turn a numpy array of continuous output activations into a discrete digit classification,\n",
    "## just take the maximum output as the \"winner\" that \"takes all\", determining the classification.\n",
    "##\n",
    "## In your function, feel free to use for loops. Here, we are looking to see that you understand\n",
    "## how to use the outputs generated by the network, not whether you can program using the\n",
    "## most efficient Python style.\n",
    "\n",
    "### INSERT Q1 SOLUTION HERE ###\n",
    "\n",
    "def get_discrete_classifications(out):\n",
    "\n",
    "    out_max = np.amax(out,axis=1,keepdims=False)\n",
    "\n",
    "    test_decisions = np.zeros((len(out_max),1))\n",
    "    for idx in range(len(out_max)):\n",
    "        test_decisions[idx,0] = np.where(out[idx,:] == out_max[idx])[0][0]\n",
    "    return test_decisions\n",
    "        \n",
    "test_decisions = get_discrete_classifications(out)"
   ]
  },
  {
   "cell_type": "code",
   "execution_count": 16,
   "metadata": {},
   "outputs": [
    {
     "data": {
      "image/png": "[encoded data removed]",
      "text/plain": [
       "<Figure size 432x288 with 20 Axes>"
      ]
     },
     "metadata": {},
     "output_type": "display_data"
    }
   ],
   "source": [
    "##\n",
    "## Q2. Comparing the correct answers (test_labels) and network classifications (test_decisions),\n",
    "## for each digit 0..9, find one test image (test_image) that is classified by the network\n",
    "## correctly and one test image that is classified by the network incorrectly. \n",
    "##\n",
    "## Create a 2x10 plot of digit images (feel free to adapt the code above that uses subplot), with a \n",
    "## column for each digit 0..9 with the first row showing examples correctly classified (one example \n",
    "## for each digit) and the second row showing the examples incorrectly classified (one example \n",
    "## for each digit). Each subplot title should show the answer and the classification response \n",
    "## (e.g., displaying 4/2 as the title, if the correct answer is 4 and the classification was 2).\n",
    "##\n",
    "\n",
    "### INSERT Q2 SOLUTION HERE ###\n",
    "\n",
    "def plot_test_images_comp(test_labels, test_decisions, test_images):\n",
    "    test_labelsRE = np.reshape(test_labels, (10_000, 1))\n",
    "    test_decisionsRE = np.reshape(test_decisions, (10_000, 1))\n",
    "\n",
    "    #1) find out which values are the same\n",
    "    res_comp = test_labelsRE==test_decisionsRE\n",
    "\n",
    "    #2) get the index of the same values?\n",
    "    np.where((res_comp) == True) # or np.where(a==b)\n",
    "\n",
    "    # Adding on to the previous question, is there a way for me to return 1 if the values are the same and 0 otherwise\n",
    "    res_comp_bool = (res_comp).astype(int)\n",
    "    ##########################################################################################\n",
    "    true_dict = {x: -1 for x in list(range(10))}\n",
    "    false_dict = {x: -1 for x in list(range(10))}\n",
    "\n",
    "    true_count = 0\n",
    "    false_count = 0\n",
    "    while false_count+true_count<20:\n",
    "        for idx in range(len(res_comp)):\n",
    "            if res_comp[idx]==True and true_count<10:\n",
    "                if true_dict[test_labelsRE[idx][0]]==-1:\n",
    "                    true_dict[test_labelsRE[idx][0]] = idx\n",
    "                    true_count += 1\n",
    "            elif res_comp[idx]==False and false_count<10:\n",
    "                if false_dict[test_labelsRE[idx][0]]==-1:\n",
    "                    false_dict[test_labelsRE[idx][0]] = idx\n",
    "                    false_count += 1\n",
    "    ##########################################################################################\n",
    "    fig = plt.figure()\n",
    "    for i in range(20):\n",
    "        plt.subplot(2,10,i+1)    \n",
    "        if i<10:\n",
    "            img_idx = true_dict[i]\n",
    "        elif i<20:\n",
    "            img_idx = false_dict[i-10]\n",
    "\n",
    "        plt.imshow(test_images[img_idx], cmap='gray', interpolation='none')\n",
    "        plt.title(f\"{np.int16(test_decisions[img_idx,0]).item()}/{test_labels[img_idx]}\")\n",
    "        plt.xticks([])\n",
    "        plt.yticks([])\n",
    "    plt.show()\n",
    "    \n",
    "plot_test_images_comp(test_labels, test_decisions, test_images)"
   ]
  },
  {
   "cell_type": "code",
   "execution_count": 17,
   "metadata": {},
   "outputs": [
    {
     "data": {
      "image/png": "[encoded data removed]",
      "text/plain": [
       "<Figure size 432x288 with 10 Axes>"
      ]
     },
     "metadata": {},
     "output_type": "display_data"
    }
   ],
   "source": [
    "##\n",
    "## Q3. Create \"images\" of the connection weight adapting the code used to display\n",
    "## the actual digit images. There should be 10 weight images, an image for each\n",
    "## set of weight connecting the input layer (784 inputs) to each output node.\n",
    "## You will want to reshape the (784,1) vector of weights to a (28,28) image and\n",
    "## display the result using imshow()\n",
    "\n",
    "### INSERT Q3 SOLUTION HERE ###\n",
    "\n",
    "def create_weight_images(W):\n",
    "    w_rs = np.reshape(W, (28,28,10))\n",
    "    fig = plt.figure()\n",
    "    for i in range(10):\n",
    "        plt.subplot(2,5,i+1)\n",
    "\n",
    "        plt.imshow(w_rs[:,:,i], cmap='gray', interpolation='none')\n",
    "        plt.title(f\"{i}\")\n",
    "        plt.xticks([])\n",
    "        plt.yticks([])\n",
    "    plt.show()\n",
    "\n",
    "create_weight_images(W)"
   ]
  },
  {
   "cell_type": "code",
   "execution_count": 18,
   "metadata": {},
   "outputs": [
    {
     "name": "stdout",
     "output_type": "stream",
     "text": [
      "True\n"
     ]
    }
   ],
   "source": [
    "##\n",
    "## Q4. Use the weight matrix (W), bias vector (B), and activation function (simple sigmoid)\n",
    "## to reproduce in your own code the outputs (out) generated by the network (from\n",
    "## this out = network.predict(test_images_vec))\n",
    "##\n",
    "## The simple sigmoid activation function is defined as follows:\n",
    "## f(x) = 1 / (1+exp(-x))\n",
    "##\n",
    "## Confirm that your output vectors and the keras-produced output vectors are the same\n",
    "## (within some small epsilon since floating point calculations will often not come out\n",
    "## exactly the same on computers).\n",
    "##\n",
    "\n",
    "### INSERT Q4 SOLUTION HERE ###\n",
    "\n",
    "#Sigmoidal functions from HW2\n",
    "# Reference: alpha(n) = 1 / (1 + exp(-n))\n",
    "def alpha_vec(n, w=1, b=0):\n",
    "    return (1 / (1 + np.exp((-1)*np.array(np.dot(n,w) + b))))\n",
    "\n",
    "def compare_arrays(m1, m2):\n",
    "    assert m1.shape == m2.shape\n",
    "    \n",
    "    num_rows, num_cols = m1.shape\n",
    "    for row in range(num_rows):\n",
    "        for col in range(num_cols):\n",
    "            if not isclose(m1[row, col], m2[row, col], rel_tol =0.001):\n",
    "                print(f\"Failed to reach tolerance at: {row}, {col}\")\n",
    "                return False\n",
    "    return True\n",
    "\n",
    "my_out = alpha_vec(test_images_vec, W, B)\n",
    "print(compare_arrays(my_out, out))"
   ]
  },
  {
   "cell_type": "code",
   "execution_count": null,
   "metadata": {},
   "outputs": [],
   "source": []
  }
 ],
 "metadata": {
  "kernelspec": {
   "display_name": "Python 3 (ipykernel)",
   "language": "python",
   "name": "python3"
  },
  "language_info": {
   "codemirror_mode": {
    "name": "ipython",
    "version": 3
   },
   "file_extension": ".py",
   "mimetype": "text/x-python",
   "name": "python",
   "nbconvert_exporter": "python",
   "pygments_lexer": "ipython3",
   "version": "3.7.11"
  }
 },
 "nbformat": 4,
 "nbformat_minor": 4
}
