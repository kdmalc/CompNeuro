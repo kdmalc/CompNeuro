{
 "cells": [
  {
   "cell_type": "code",
   "execution_count": 1,
   "id": "874620ef-c649-4f3c-8d28-3a200414e355",
   "metadata": {},
   "outputs": [],
   "source": [
    "import os\n",
    "import numpy as np\n",
    "import scipy.stats as sps\n",
    "import matplotlib.pyplot as plt\n",
    "\n",
    "import warnings\n",
    "with warnings.catch_warnings():\n",
    "    warnings.filterwarnings(\"ignore\",category=FutureWarning)\n",
    "    from tensorflow.keras import models\n",
    "    from tensorflow.keras import layers\n",
    "    from tensorflow.keras import optimizers"
   ]
  },
  {
   "cell_type": "markdown",
   "id": "1084e015",
   "metadata": {},
   "source": [
    "https://brightspace.vanderbilt.edu/content/enforced/320206-2021F.1.NSC.3270.01/Week13a.pdf\n",
    "\n",
    "https://brightspace.vanderbilt.edu/d2l/le/content/320206/viewContent/2121494/View"
   ]
  },
  {
   "cell_type": "markdown",
   "id": "8941cc3b-0b9f-4bbd-bc0b-f52a994622e6",
   "metadata": {},
   "source": [
    "<hr>\n",
    "\n",
    "#### read in and prepare Haxby data"
   ]
  },
  {
   "cell_type": "code",
   "execution_count": 2,
   "id": "d6c4507e-f2af-43b2-aca6-58ab0740e75b",
   "metadata": {},
   "outputs": [],
   "source": [
    "# prepare Haxby data (see slides on Brightspace for details)\n",
    "\n",
    "def prep_haxby_data(dirpath = ''):\n",
    "    ### load the functional MRI patterns ###\n",
    "\n",
    "    # every 2.5 seconds the scanner records a full brain image\n",
    "    # we have extracted just voxels in ventral temporal lobe\n",
    "    # row number corresponds to image number / time point\n",
    "    # column number corresponds to voxel number within ventral temporal lobe\n",
    "    # there should be 1452 images, and 32450 voxels\n",
    "    full_patterns = np.load(dirpath + 'haxby_vt_patterns.npy')\n",
    "    n_img = full_patterns.shape[0]\n",
    "    n_vox = full_patterns.shape[1]\n",
    "\n",
    "    # if an fMRI experiment takes an hour, you usually wouldn't run \n",
    "    # the scanner for an hour straight\n",
    "    # usually, you would run it for a block of time (several minutes) \n",
    "    # called a 'run'\n",
    "    # each run contains a chunk of the experiment\n",
    "    # if there are several conditions in your experiment, usually you \n",
    "    # try to put each condition within each run\n",
    "    # Haxby et al had 8 experimental conditions, one condition for each \n",
    "    # of the 8 categories they used - they had 12 runs, and within each \n",
    "    # run they presented a block of images from the each category.\n",
    "    n_runs = 12\n",
    "\n",
    "    ### processing the experimental design ###\n",
    "    \n",
    "    # Haxby et al. provide a text file 'labels.txt' which says when \n",
    "    # they presented items from one category or another\n",
    "    # labels.txt has 1453 lines.  \n",
    "    # the first line is header information  \n",
    "    # then there are 1452 lines, one for each image, saying what was \n",
    "    # happening in the experiment at that time point\n",
    "    # each line specifies the category name / condition, and the run \n",
    "    # number (though the header calls this \"chunks\")\n",
    "    # aside from the 8 categories, there is also time when the screen was \n",
    "    # blank, in between category presentations\n",
    "    # they call this 'rest'; we will exclude rest images from our classification\n",
    "\n",
    "    # a bunch of items from the same category would be presented one \n",
    "    # after another\n",
    "    # so if you look at labels.txt, you'll see there will be 9 lines in a \n",
    "    # row that all say 'scissors'\n",
    "\n",
    "    # read the labels.txt file\n",
    "    fid = open(dirpath + 'labels.txt', 'r')\n",
    "    # this command reads in the first line of the file, the header, \n",
    "    # which we don't need \n",
    "    temp = fid.readline()\n",
    "\n",
    "    # these are the 9 different strings that appear in labels.txt\n",
    "    cond_names = ['face', 'house', 'cat', 'shoe', 'scissors', 'bottle', \n",
    "                  'scrambledpix', 'chair', 'rest']\n",
    "    # this will store the 'one-hot' target values for the classifier\n",
    "    all_targets = np.zeros([n_img, len(cond_names)])\n",
    "    # this will store the run index\n",
    "    all_runs = np.zeros([n_img,])\n",
    "\n",
    "    # now we iterate through the 1452 lines in labels.txt\n",
    "    # line.split breaks the string into 2 parts\n",
    "    # the first is 'this_cond' which says which category/condition (or rest)\n",
    "    # the second is 'this_run' which tells you the functional run of this image \n",
    "    imgcount = 0\n",
    "    for line in fid:\n",
    "        temp = line.split()\n",
    "        this_cond = temp[0]\n",
    "        this_run = temp[1]\n",
    "        all_targets[imgcount, cond_names.index(this_cond)] = 1\n",
    "        all_runs[imgcount] = int(this_run)\n",
    "        imgcount += 1\n",
    "\n",
    "    ### cheap version of accounting for the hemodynamic lag ###\n",
    "\n",
    "    # as we reviewed in lecture, there is a lag from when a stimulus is \n",
    "    # presented, to when the brain's vasculature has its peak response\n",
    "    # one can properly take this hemodynamic lag into account, but we \n",
    "    # are going to do a short-cut\n",
    "    # if each image takes 2.5 seconds to acquire, and it takes about 5 \n",
    "    # seconds for the brain to reach its peak response, we can shift the \n",
    "    # condition labels forward by two images\n",
    "    # an easy way to do this is to concatenate 2 rows of zeros at the \n",
    "    # beginning of the targets matrix and then remove 2 rows of zeros \n",
    "    # from the end of the targets matrix\n",
    "    # that pushes every label forward by 5 seconds\n",
    "    \n",
    "    # just shift all the regressors over by 2 time points\n",
    "    # each image takes 2.5 seconds to acquire\n",
    "    prepend_zeros = np.zeros([2, all_targets.shape[1]])\n",
    "    shift_all_targets = np.concatenate((prepend_zeros, all_targets))\n",
    "    mask = np.ones(shift_all_targets.shape[0], dtype=bool)\n",
    "    mask[shift_all_targets.shape[0]-2:shift_all_targets.shape[0]] = False\n",
    "    shift_all_targets = shift_all_targets[mask, :]\n",
    "    \n",
    "    # now that we are done just replace the original target labels \n",
    "    # with the shifted ones\n",
    "    all_targets = shift_all_targets\n",
    "\n",
    "    ### remove rests from runs ###\n",
    "    \n",
    "    # modify the labels matrix\n",
    "    # remove the rest unit, we don't want to classify rest patterns\n",
    "    temp_targets = all_targets[:, :8].copy()\n",
    "    # get rid of images where there isn't a category being presented\n",
    "    # and make it a boolean array\n",
    "    label_present = np.sum(temp_targets, axis=1)> 0\n",
    "\n",
    "    # label_present is a boolean array indicating when a category is \n",
    "    # being presented\n",
    "    # we are using it as a mask to get rid of all the time-points \n",
    "    # where nothing is being presented\n",
    "    # in other words it gets rid of all the rest periods\n",
    "    targets = temp_targets[label_present, :]\n",
    "    patterns = full_patterns[label_present, :]\n",
    "    runs = all_runs[label_present]\n",
    "    \n",
    "    ### z-scoring is a kind of normalization ###\n",
    "    n_vox = patterns.shape[1]\n",
    "    for i in range(n_vox):\n",
    "        patterns[:,i] = (patterns[:,i] - patterns[:,i].mean()) / patterns[:,i].std()\n",
    "\n",
    "    # for a set of numbers, get the mean and standard deviation\n",
    "    # subtract the mean off every number, divide every number \n",
    "    # by the standard deviation\n",
    "    # here we normalize our patterns using a temporal z-score,\n",
    "    # meaning that we normalize the values for each voxel, across time    \n",
    "    \n",
    "    # here are the arrays you need to do classification\n",
    "    return patterns, targets, runs"
   ]
  },
  {
   "cell_type": "markdown",
   "id": "85e5a472-286d-4c22-b1f4-04d7b48bab5b",
   "metadata": {},
   "source": [
    "patterns.shape, targets.shape, runs.shape<br>\n",
    "864 : number of fMRI brain scans (onebrain scan per object image)<br>\n",
    "32450 : number voxels in IT cortex (using an anatomical mask)<br>\n",
    "8 : number of object categories (face, house, cat, shoe, scissors, bottle, scrambled, chair, rest)\n",
    "\n",
    "patterns: contains voxel (fMRI) data\n",
    "\n",
    "targets: contains the condition (category) associated with each fMRI scan\n",
    "\n",
    "runs: which \"run\" each scan is associated with"
   ]
  },
  {
   "cell_type": "code",
   "execution_count": 3,
   "id": "60283587-270d-4431-8159-ce5e6d64935e",
   "metadata": {},
   "outputs": [
    {
     "name": "stdout",
     "output_type": "stream",
     "text": [
      "(864, 32450)\n",
      "(864, 8)\n",
      "(864,)\n"
     ]
    }
   ],
   "source": [
    "# load Haxby et al. data (see slides on Brightspace)\n",
    "\n",
    "patterns, targets, runs = prep_haxby_data()\n",
    "\n",
    "print(patterns.shape)\n",
    "print(targets.shape)\n",
    "print(runs.shape)\n",
    "\n",
    "cond_names = ['face', 'house', 'cat', 'shoe', 'scissors', 'bottle',\n",
    "              'scrambledpix', 'chair', 'rest']"
   ]
  },
  {
   "cell_type": "code",
   "execution_count": null,
   "id": "9a92eb16-6b40-4254-8a8b-e23c991d3e06",
   "metadata": {},
   "outputs": [],
   "source": []
  },
  {
   "cell_type": "markdown",
   "id": "d45a8be1-ab6a-4a66-b781-7a0f6f86fabe",
   "metadata": {},
   "source": [
    "<hr>\n",
    "\n",
    "#### \"feature selection\"\n",
    "\n",
    "with \"feature selection\", selecting voxels that modulate statistically significantly according to object category"
   ]
  },
  {
   "cell_type": "code",
   "execution_count": 4,
   "id": "7ec0f3e5-8b6f-4605-b387-1c1509d0838e",
   "metadata": {},
   "outputs": [],
   "source": [
    "# \"feature selection\" based on picking statistically significant voxels\n",
    "\n",
    "def feature_selection(train_pats, train_targs, test_pats):\n",
    "    pval = 0.1\n",
    "    \n",
    "    keep_these = np.zeros((train_pats.shape[1],))\n",
    "    \n",
    "    # loop through every voxel\n",
    "    for v in range(train_pats.shape[1]):\n",
    "        groups = []\n",
    "        # Loop through all 8 categories\n",
    "        for c in range(train_targets.shape[1]):\n",
    "            groups.append(train_pats[train_targs[:, c] == 1., v])\n",
    "           \n",
    "        # and statistically analyze it for category modulation\n",
    "        temp = sps.f_oneway(groups[0], groups[1], groups[2], groups[3],\n",
    "                            groups[4], groups[5], groups[6], groups[7])\n",
    "\n",
    "        if temp.pvalue < pval:\n",
    "            keep_these[v] = 1.\n",
    "    \n",
    "    keep_these = keep_these.astype(bool)\n",
    "    train_pats = train_pats[:, keep_these]\n",
    "    test_pats = test_pats[:, keep_these]\n",
    "    \n",
    "    return train_pats, test_pats"
   ]
  },
  {
   "cell_type": "markdown",
   "id": "95313beb-f17b-43d9-8756-77aa874a4d9c",
   "metadata": {},
   "source": [
    "<hr>\n",
    "\n",
    "#### some starting points for Q1 \n",
    "\n",
    "(see slides on Brightspace from class for details)"
   ]
  },
  {
   "cell_type": "code",
   "execution_count": 5,
   "id": "80fc8f82-85fd-42e3-9236-093d1a205a39",
   "metadata": {},
   "outputs": [],
   "source": [
    "# an example \"leaving out\" a particular run\n",
    "\n",
    "example_test_run = 1\n",
    "\n",
    "train_these = runs != example_test_run\n",
    "test_these  = runs == example_test_run\n",
    "\n",
    "# an example of logical indexing\n",
    "train_patterns = patterns[train_these, :]\n",
    "train_targets = targets[train_these, :]\n",
    "\n",
    "test_patterns = patterns[test_these, :]\n",
    "test_targets = targets[test_these, :]"
   ]
  },
  {
   "cell_type": "code",
   "execution_count": 6,
   "id": "f78a9fa6-7ddc-441a-9612-e48fbd9bc013",
   "metadata": {},
   "outputs": [],
   "source": [
    "# \"feature selection\" of statistically category-modulated voxels\n",
    "\n",
    "fs_train_patterns, fs_test_patterns = feature_selection(train_patterns,\n",
    "                                                        train_targets,\n",
    "                                                        test_patterns)"
   ]
  },
  {
   "cell_type": "code",
   "execution_count": 7,
   "id": "ad2dadaf-48dd-42fa-a3cd-c4371aa4bc94",
   "metadata": {},
   "outputs": [
    {
     "name": "stdout",
     "output_type": "stream",
     "text": [
      "(792, 12763)\n",
      "(792, 8)\n",
      "(72, 12763)\n",
      "(72, 8)\n"
     ]
    }
   ],
   "source": [
    "print(fs_train_patterns.shape)\n",
    "print(train_targets.shape)\n",
    "print(fs_test_patterns.shape)\n",
    "print(test_targets.shape)"
   ]
  },
  {
   "cell_type": "code",
   "execution_count": 8,
   "id": "6a2fce4a-41af-4385-a528-9cec3726cc31",
   "metadata": {},
   "outputs": [
    {
     "name": "stdout",
     "output_type": "stream",
     "text": [
      "12\n",
      "12763\n",
      "8\n"
     ]
    }
   ],
   "source": [
    "# report some metrics on Haxby experiment (n_vox is for this fold)\n",
    "\n",
    "n_runs = np.max(runs).astype('int') + 1\n",
    "n_vox  = fs_train_patterns.shape[1]\n",
    "n_cats = targets.shape[1]\n",
    "\n",
    "cond_names = ['face', 'house', 'cat', 'shoe', 'scissors', 'bottle', \n",
    "              'scrambledpix', 'chair', 'rest']\n",
    "\n",
    "print(n_runs)\n",
    "print(n_vox)\n",
    "print(n_cats)"
   ]
  },
  {
   "cell_type": "markdown",
   "id": "c3ae2c30",
   "metadata": {},
   "source": [
    "# Q1a:\n",
    "> Leave-one-out cross validation\n",
    "1. 12 runs, thus 12 folds: __For each fold, one run's worth of data becoemes the test pattern, and the rest of the data is the training patterns.__\n",
    "2. Use a linear classifier\n",
    "3. Do NOT use validation items\n",
    "4. Use a regularizer\n",
    "5. Report the classificaiton accuracy across the 12 folds\n",
    "6. Chance performance is 12.5%: we should be able to reach 30-50%\n",
    "7. Iterate over the full leave-one-out cross-validtion 5 times, since the data is noisy\n",
    "\n",
    "\n",
    "Save the classification\tfor\teach of\tthe\t12 folds and note the classification performance on\teach of\t the 8\tcategories and\tfor\teach of\tthe\t5 iterations. First, report\tthe\taverage\tclassification accuracy overall. Next, examine and\treport\tthe\taverage\tclassification\tfor\teach object category. Are certain\tcategories classified more accurately?\tHow\tmuch variability is\tthere across categories\tand\tacross\tfolds?"
   ]
  },
  {
   "cell_type": "code",
   "execution_count": 20,
   "id": "b57decde",
   "metadata": {},
   "outputs": [],
   "source": [
    "def plot_model_accuracy(history):\n",
    "    \"\"\"Accuracy Plotting Function\"\"\"\n",
    "    plt.plot(history.history['acc'])\n",
    "    plt.title('Model Accuracy As a Function of Number of Epochs Trained')\n",
    "    plt.ylabel('Accuracy')\n",
    "    plt.xlabel('Epoch')\n",
    "    plt.show()\n",
    "    \n",
    "def plot_model_loss(history):\n",
    "    \"\"\"Loss Plotting Function\"\"\"\n",
    "    plt.plot(history.history['loss'])\n",
    "    plt.title('Model Loss As a Function of Number of Epochs Trained')\n",
    "    plt.ylabel('Loss')\n",
    "    plt.xlabel('Epoch')\n",
    "    plt.show()"
   ]
  },
  {
   "cell_type": "code",
   "execution_count": 27,
   "id": "538f16c2",
   "metadata": {},
   "outputs": [
    {
     "name": "stdout",
     "output_type": "stream",
     "text": [
      "Model: \"sequential_2\"\n",
      "_________________________________________________________________\n",
      "Layer (type)                 Output Shape              Param #   \n",
      "=================================================================\n",
      "dense_1 (Dense)              (None, 8)                 102112    \n",
      "=================================================================\n",
      "Total params: 102,112\n",
      "Trainable params: 102,112\n",
      "Non-trainable params: 0\n",
      "_________________________________________________________________\n",
      "None\n"
     ]
    }
   ],
   "source": [
    "nin = n_vox\n",
    "nout = n_cats\n",
    "\n",
    "network_softmax = models.Sequential()\n",
    "network_softmax.add(layers.Dense(nout, \n",
    "                         activation='softmax', \n",
    "                         input_shape=(nin,)))\n",
    "\n",
    "print(network_softmax.summary())\n",
    "\n",
    "network_softmax.compile(optimizer='adam', \n",
    "                loss='categorical_crossentropy', \n",
    "                metrics=['accuracy', 'mse'])"
   ]
  },
  {
   "cell_type": "code",
   "execution_count": 44,
   "id": "b8720ec0",
   "metadata": {
    "scrolled": true
   },
   "outputs": [
    {
     "name": "stdout",
     "output_type": "stream",
     "text": [
      "Epoch 1/20\n",
      "792/792 [==============================] - 0s 174us/sample - loss: 0.0027 - acc: 1.0000 - mean_squared_error: 3.3245e-06\n",
      "Epoch 2/20\n",
      "792/792 [==============================] - 0s 170us/sample - loss: 0.0026 - acc: 1.0000 - mean_squared_error: 3.2284e-06\n",
      "Epoch 3/20\n",
      "792/792 [==============================] - 0s 200us/sample - loss: 0.0026 - acc: 1.0000 - mean_squared_error: 3.0690e-06\n",
      "Epoch 4/20\n",
      "792/792 [==============================] - 0s 202us/sample - loss: 0.0026 - acc: 1.0000 - mean_squared_error: 3.0578e-06\n",
      "Epoch 5/20\n",
      "792/792 [==============================] - 0s 203us/sample - loss: 0.0026 - acc: 1.0000 - mean_squared_error: 3.0270e-06\n",
      "Epoch 6/20\n",
      "792/792 [==============================] - 0s 192us/sample - loss: 0.0025 - acc: 1.0000 - mean_squared_error: 2.9620e-06\n",
      "Epoch 7/20\n",
      "792/792 [==============================] - 0s 212us/sample - loss: 0.0025 - acc: 1.0000 - mean_squared_error: 2.9238e-06\n",
      "Epoch 8/20\n",
      "792/792 [==============================] - 0s 188us/sample - loss: 0.0025 - acc: 1.0000 - mean_squared_error: 2.9809e-06\n",
      "Epoch 9/20\n",
      "792/792 [==============================] - 0s 194us/sample - loss: 0.0025 - acc: 1.0000 - mean_squared_error: 3.0108e-06\n",
      "Epoch 10/20\n",
      "792/792 [==============================] - 0s 196us/sample - loss: 0.0025 - acc: 1.0000 - mean_squared_error: 2.9293e-06\n",
      "Epoch 11/20\n",
      "792/792 [==============================] - 0s 194us/sample - loss: 0.0025 - acc: 1.0000 - mean_squared_error: 2.7867e-06\n",
      "Epoch 12/20\n",
      "792/792 [==============================] - 0s 178us/sample - loss: 0.0024 - acc: 1.0000 - mean_squared_error: 2.7009e-06\n",
      "Epoch 13/20\n",
      "792/792 [==============================] - 0s 260us/sample - loss: 0.0024 - acc: 1.0000 - mean_squared_error: 2.6713e-06\n",
      "Epoch 14/20\n",
      "792/792 [==============================] - 0s 318us/sample - loss: 0.0024 - acc: 1.0000 - mean_squared_error: 2.6756e-06\n",
      "Epoch 15/20\n",
      "792/792 [==============================] - 0s 347us/sample - loss: 0.0024 - acc: 1.0000 - mean_squared_error: 2.6971e-06\n",
      "Epoch 16/20\n",
      "792/792 [==============================] - 0s 259us/sample - loss: 0.0024 - acc: 1.0000 - mean_squared_error: 2.6208e-06\n",
      "Epoch 17/20\n",
      "792/792 [==============================] - 0s 252us/sample - loss: 0.0024 - acc: 1.0000 - mean_squared_error: 2.6946e-06\n",
      "Epoch 18/20\n",
      "792/792 [==============================] - 0s 247us/sample - loss: 0.0023 - acc: 1.0000 - mean_squared_error: 2.6971e-06\n",
      "Epoch 19/20\n",
      "792/792 [==============================] - 0s 212us/sample - loss: 0.0023 - acc: 1.0000 - mean_squared_error: 2.6255e-06\n",
      "Epoch 20/20\n",
      "792/792 [==============================] - 0s 235us/sample - loss: 0.0023 - acc: 1.0000 - mean_squared_error: 2.5212e-06\n"
     ]
    }
   ],
   "source": [
    "my_epochs = 20\n",
    "my_batch = 256\n",
    "\n",
    "example_test_run = 1\n",
    "\n",
    "train_these = runs != example_test_run\n",
    "test_these  = runs == example_test_run\n",
    "\n",
    "# an example of logical indexing\n",
    "train_patterns = patterns[train_these, :]\n",
    "train_targets = targets[train_these, :]\n",
    "\n",
    "test_patterns = patterns[test_these, :]\n",
    "test_targets = targets[test_these, :]\n",
    "\n",
    "# \"feature selection\" of statistically category-modulated voxels\n",
    "fs_train_patterns, fs_test_patterns = feature_selection(train_patterns,\n",
    "                                                        train_targets,\n",
    "                                                        test_patterns)\n",
    "\n",
    "history = network_softmax.fit(fs_train_patterns,\n",
    "                              train_targets,\n",
    "                              epochs=my_epochs,\n",
    "                              batch_size=my_batch,\n",
    "                              verbose=True)"
   ]
  },
  {
   "cell_type": "code",
   "execution_count": 45,
   "id": "c0274219",
   "metadata": {},
   "outputs": [
    {
     "data": {
      "image/png": "[encoded data removed]",
      "text/plain": [
       "<Figure size 432x288 with 1 Axes>"
      ]
     },
     "metadata": {
      "needs_background": "light"
     },
     "output_type": "display_data"
    },
    {
     "data": {
      "image/png": "[encoded data removed]",
      "text/plain": [
       "<Figure size 432x288 with 1 Axes>"
      ]
     },
     "metadata": {
      "needs_background": "light"
     },
     "output_type": "display_data"
    }
   ],
   "source": [
    "plot_model_accuracy(history)\n",
    "plot_model_loss(history)"
   ]
  },
  {
   "cell_type": "markdown",
   "id": "296afeb5",
   "metadata": {},
   "source": [
    "for i in range(12):\n",
    "    example_test_run = 1\n",
    "\n",
    "    train_these = runs != example_test_run\n",
    "    test_these  = runs == example_test_run\n",
    "\n",
    "    # an example of logical indexing\n",
    "    train_patterns = patterns[train_these, :]\n",
    "    train_targets = targets[train_these, :]\n",
    "\n",
    "    test_patterns = patterns[test_these, :]\n",
    "    test_targets = targets[test_these, :]\n",
    "\n",
    "    # \"feature selection\" of statistically category-modulated voxels\n",
    "    fs_train_patterns, fs_test_patterns = feature_selection(train_patterns,\n",
    "                                                            train_targets,\n",
    "                                                            test_patterns)\n",
    "\n",
    "    history = network_softmax.fit(fs_train_patterns,\n",
    "                                  train_targets,\n",
    "                                  epochs=my_epochs,\n",
    "                                  batch_size=my_batch,\n",
    "                                  verbose=True)"
   ]
  },
  {
   "cell_type": "markdown",
   "id": "6fc9edda",
   "metadata": {},
   "source": [
    "Not sure if my classifier has been trained wrong or if "
   ]
  },
  {
   "cell_type": "code",
   "execution_count": null,
   "id": "5ed556e2",
   "metadata": {},
   "outputs": [],
   "source": [
    "print(train_targets.shape)\n",
    "print(train_targets[0,:])\n",
    "print(train_targets[100,:])\n",
    "print(train_targets[200,:])\n",
    "print(train_targets[300,:])\n",
    "print(train_targets[400,:])\n",
    "print(train_targets[500,:])\n",
    "print(train_targets[600,:])\n",
    "print(train_targets[700,:])\n",
    "print(train_targets[-1,:])"
   ]
  },
  {
   "cell_type": "code",
   "execution_count": null,
   "id": "719be73f",
   "metadata": {},
   "outputs": [],
   "source": []
  },
  {
   "cell_type": "code",
   "execution_count": null,
   "id": "22079d6b",
   "metadata": {},
   "outputs": [],
   "source": []
  },
  {
   "cell_type": "code",
   "execution_count": null,
   "id": "d5a01673",
   "metadata": {},
   "outputs": [],
   "source": []
  },
  {
   "cell_type": "markdown",
   "id": "4977678a-e405-4651-ba68-db4770a1be8b",
   "metadata": {},
   "source": [
    "<hr>\n",
    "\n",
    "#### function to scramble targets for permutation test\n",
    "\n",
    "(as described in class)"
   ]
  },
  {
   "cell_type": "code",
   "execution_count": null,
   "id": "04ea2870-1fbd-49d1-9d71-e02e85d728fd",
   "metadata": {},
   "outputs": [],
   "source": [
    "# how to scramble the category labels for a permutation analysis\n",
    "\n",
    "def scramble_targets(targets, runs):\n",
    "    # there are 12 runs\n",
    "    n_runs = np.max(runs).astype('int') + 1\n",
    "    \n",
    "    # there are 8 categories\n",
    "    n_cats = targets.shape[1]\n",
    "    \n",
    "    # this will contain the scrambled category labels\n",
    "    scram_targets = np.zeros(targets.shape)\n",
    "    \n",
    "    for i in range(n_runs):\n",
    "        # first find the category labels just for this run\n",
    "        these_targets = targets[runs==i, :].copy()\n",
    "        \n",
    "        # this shuffles the columns of these_targets, which preserves \n",
    "        # the block structure of the experiment\n",
    "        scram_targets_this_run = these_targets[:, np.random.permutation(n_cats)]\n",
    "        \n",
    "        # this copies the scrambled targets for this run into the \n",
    "        # appropriate rows of the scrambled category labels matrix\n",
    "        scram_targets[runs==i,:] = scram_targets_this_run\n",
    "\n",
    "    return scram_targets"
   ]
  },
  {
   "cell_type": "code",
   "execution_count": null,
   "id": "8b1acaef-7266-4dc2-817b-bbe6bffe8e88",
   "metadata": {},
   "outputs": [],
   "source": [
    "scram_targets = scramble_targets(targets, runs)"
   ]
  },
  {
   "cell_type": "code",
   "execution_count": null,
   "id": "a16cb75a-14de-45c7-b096-c19d40302656",
   "metadata": {},
   "outputs": [],
   "source": [
    "example_test_run = 3\n",
    "\n",
    "train_these = runs != example_test_run\n",
    "test_these  = runs == example_test_run\n",
    "\n",
    "# an example of logical indexing\n",
    "train_patterns = patterns[train_these, :]\n",
    "scram_train_targets = scram_targets[train_these, :]\n",
    "\n",
    "test_patterns = patterns[test_these, :]\n",
    "test_targets = targets[test_these, :]"
   ]
  },
  {
   "cell_type": "code",
   "execution_count": null,
   "id": "2921feb4-d710-4be0-ba19-30caf903b9d2",
   "metadata": {},
   "outputs": [],
   "source": [
    "fs_train_patterns, fs_test_patterns = feature_selection(train_patterns,\n",
    "                                                        scram_train_targets,\n",
    "                                                        test_patterns)\n",
    "\n",
    "n_vox  = fs_train_patterns.shape[1]"
   ]
  },
  {
   "cell_type": "code",
   "execution_count": null,
   "id": "1bf4a6a1-bb8c-4fa1-8779-6f65c09f5a8f",
   "metadata": {},
   "outputs": [],
   "source": []
  }
 ],
 "metadata": {
  "kernelspec": {
   "display_name": "Python 3 (ipykernel)",
   "language": "python",
   "name": "python3"
  },
  "language_info": {
   "codemirror_mode": {
    "name": "ipython",
    "version": 3
   },
   "file_extension": ".py",
   "mimetype": "text/x-python",
   "name": "python",
   "nbconvert_exporter": "python",
   "pygments_lexer": "ipython3",
   "version": "3.7.11"
  }
 },
 "nbformat": 4,
 "nbformat_minor": 5
}
