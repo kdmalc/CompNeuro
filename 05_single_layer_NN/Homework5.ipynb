{
 "cells": [
  {
   "cell_type": "markdown",
   "id": "2cf8a58b-78d8-44e8-a564-e79f107e5d51",
   "metadata": {},
   "source": [
    "## Homework 5 Starting Code"
   ]
  },
  {
   "cell_type": "code",
   "execution_count": 1,
   "id": "0cde26b2-a1ee-4cd8-ad28-21976361867e",
   "metadata": {},
   "outputs": [],
   "source": [
    "import numpy as np\n",
    "import matplotlib.pyplot as plt\n",
    "import numpy.random as R\n",
    "\n",
    "# supress unnecessary warnings\n",
    "import os\n",
    "os.environ['TF_CPP_MIN_LOG_LEVEL']='2'"
   ]
  },
  {
   "cell_type": "code",
   "execution_count": 2,
   "id": "bd903e6c-e33e-4453-b177-8cc40f9eff9f",
   "metadata": {},
   "outputs": [],
   "source": [
    "## generate N random samples from a 2D multivariate normal distribution\n",
    "##\n",
    "## with mean [mx, my]\n",
    "##\n",
    "## with covariance matrix [[  sx*sx, r*sx*sy],\n",
    "##                         [r*sx*sy,   sy*sy]]\n",
    "## where sx is the standard deviation along the x dimension\n",
    "## where sy is the standard deviation along the y dimension\n",
    "## where r is the correlation between the dimensions\n",
    "##\n",
    "\n",
    "def gensamples(N, mx, my, sx, sy, r):\n",
    "    M   = np.array([mx, my])\n",
    "    Cov = np.array([[  sx*sx, r*sx*sy],\n",
    "                    [r*sx*sy,   sy*sy]])\n",
    "    return (R.multivariate_normal(M, Cov, size=N, check_valid='warn'))"
   ]
  },
  {
   "cell_type": "code",
   "execution_count": 3,
   "id": "6398a377-8afd-4ec8-ba27-1cb4a6eedbf2",
   "metadata": {},
   "outputs": [
    {
     "data": {
      "image/png": "[encoded data removed]",
      "text/plain": [
       "<Figure size 432x288 with 1 Axes>"
      ]
     },
     "metadata": {
      "needs_background": "light"
     },
     "output_type": "display_data"
    }
   ],
   "source": [
    "# classification problem used in Q1\n",
    "\n",
    "mx0 = 0.;  my0 = 0.\n",
    "sx0 = 1.;  sy0 = 1.\n",
    "r0 = 0.\n",
    "\n",
    "mx1 = 3.; my1 = 3.\n",
    "sx1 = 1.; sy1 = 1.\n",
    "r1 = 0.\n",
    "\n",
    "N = 100\n",
    "\n",
    "sample0 = gensamples(N, mx0, my0, sx0, sy0, r0)\n",
    "\n",
    "sample1 = gensamples(N, mx1, my1, sx1, sy1, r1)\n",
    "\n",
    "# plot example\n",
    "plt.plot(sample0[:,0],sample0[:,1],'b+',sample1[:,0],sample1[:,1],'r+')\n",
    "plt.xlabel('dim1')\n",
    "plt.ylabel('dim2')\n",
    "plt.axis('equal')\n",
    "plt.axis('square')\n",
    "plt.legend(('class 0', 'class 1'), loc='lower right')\n",
    "xymin = -5; xymax = 7.5\n",
    "plt.ylim((xymin,xymax))\n",
    "plt.xlim((xymin,xymax))\n",
    "plt.show()"
   ]
  },
  {
   "cell_type": "markdown",
   "id": "9990f63b-6ffc-4803-958c-be2e9c72b905",
   "metadata": {},
   "source": [
    "<hr>\n",
    "\n",
    "<b>Q1 (10 point).</b> Write Keras code to learn this classification problem with a neural network with an input layer containing two nodes (for the x and y dimension) and output node. "
   ]
  },
  {
   "cell_type": "code",
   "execution_count": 4,
   "id": "8d41837e",
   "metadata": {},
   "outputs": [
    {
     "name": "stderr",
     "output_type": "stream",
     "text": [
      "C:\\Users\\kdmen\\miniconda3\\envs\\NSCenv\\lib\\site-packages\\tensorflow\\python\\framework\\dtypes.py:516: FutureWarning: Passing (type, 1) or '1type' as a synonym of type is deprecated; in a future version of numpy, it will be understood as (type, (1,)) / '(1,)type'.\n",
      "  _np_qint8 = np.dtype([(\"qint8\", np.int8, 1)])\n",
      "C:\\Users\\kdmen\\miniconda3\\envs\\NSCenv\\lib\\site-packages\\tensorflow\\python\\framework\\dtypes.py:517: FutureWarning: Passing (type, 1) or '1type' as a synonym of type is deprecated; in a future version of numpy, it will be understood as (type, (1,)) / '(1,)type'.\n",
      "  _np_quint8 = np.dtype([(\"quint8\", np.uint8, 1)])\n",
      "C:\\Users\\kdmen\\miniconda3\\envs\\NSCenv\\lib\\site-packages\\tensorflow\\python\\framework\\dtypes.py:518: FutureWarning: Passing (type, 1) or '1type' as a synonym of type is deprecated; in a future version of numpy, it will be understood as (type, (1,)) / '(1,)type'.\n",
      "  _np_qint16 = np.dtype([(\"qint16\", np.int16, 1)])\n",
      "C:\\Users\\kdmen\\miniconda3\\envs\\NSCenv\\lib\\site-packages\\tensorflow\\python\\framework\\dtypes.py:519: FutureWarning: Passing (type, 1) or '1type' as a synonym of type is deprecated; in a future version of numpy, it will be understood as (type, (1,)) / '(1,)type'.\n",
      "  _np_quint16 = np.dtype([(\"quint16\", np.uint16, 1)])\n",
      "C:\\Users\\kdmen\\miniconda3\\envs\\NSCenv\\lib\\site-packages\\tensorflow\\python\\framework\\dtypes.py:520: FutureWarning: Passing (type, 1) or '1type' as a synonym of type is deprecated; in a future version of numpy, it will be understood as (type, (1,)) / '(1,)type'.\n",
      "  _np_qint32 = np.dtype([(\"qint32\", np.int32, 1)])\n",
      "C:\\Users\\kdmen\\miniconda3\\envs\\NSCenv\\lib\\site-packages\\tensorflow\\python\\framework\\dtypes.py:525: FutureWarning: Passing (type, 1) or '1type' as a synonym of type is deprecated; in a future version of numpy, it will be understood as (type, (1,)) / '(1,)type'.\n",
      "  np_resource = np.dtype([(\"resource\", np.ubyte, 1)])\n",
      "C:\\Users\\kdmen\\miniconda3\\envs\\NSCenv\\lib\\site-packages\\tensorboard\\compat\\tensorflow_stub\\dtypes.py:541: FutureWarning: Passing (type, 1) or '1type' as a synonym of type is deprecated; in a future version of numpy, it will be understood as (type, (1,)) / '(1,)type'.\n",
      "  _np_qint8 = np.dtype([(\"qint8\", np.int8, 1)])\n",
      "C:\\Users\\kdmen\\miniconda3\\envs\\NSCenv\\lib\\site-packages\\tensorboard\\compat\\tensorflow_stub\\dtypes.py:542: FutureWarning: Passing (type, 1) or '1type' as a synonym of type is deprecated; in a future version of numpy, it will be understood as (type, (1,)) / '(1,)type'.\n",
      "  _np_quint8 = np.dtype([(\"quint8\", np.uint8, 1)])\n",
      "C:\\Users\\kdmen\\miniconda3\\envs\\NSCenv\\lib\\site-packages\\tensorboard\\compat\\tensorflow_stub\\dtypes.py:543: FutureWarning: Passing (type, 1) or '1type' as a synonym of type is deprecated; in a future version of numpy, it will be understood as (type, (1,)) / '(1,)type'.\n",
      "  _np_qint16 = np.dtype([(\"qint16\", np.int16, 1)])\n",
      "C:\\Users\\kdmen\\miniconda3\\envs\\NSCenv\\lib\\site-packages\\tensorboard\\compat\\tensorflow_stub\\dtypes.py:544: FutureWarning: Passing (type, 1) or '1type' as a synonym of type is deprecated; in a future version of numpy, it will be understood as (type, (1,)) / '(1,)type'.\n",
      "  _np_quint16 = np.dtype([(\"quint16\", np.uint16, 1)])\n",
      "C:\\Users\\kdmen\\miniconda3\\envs\\NSCenv\\lib\\site-packages\\tensorboard\\compat\\tensorflow_stub\\dtypes.py:545: FutureWarning: Passing (type, 1) or '1type' as a synonym of type is deprecated; in a future version of numpy, it will be understood as (type, (1,)) / '(1,)type'.\n",
      "  _np_qint32 = np.dtype([(\"qint32\", np.int32, 1)])\n",
      "C:\\Users\\kdmen\\miniconda3\\envs\\NSCenv\\lib\\site-packages\\tensorboard\\compat\\tensorflow_stub\\dtypes.py:550: FutureWarning: Passing (type, 1) or '1type' as a synonym of type is deprecated; in a future version of numpy, it will be understood as (type, (1,)) / '(1,)type'.\n",
      "  np_resource = np.dtype([(\"resource\", np.ubyte, 1)])\n"
     ]
    }
   ],
   "source": [
    "from tensorflow.keras import models\n",
    "from tensorflow.keras import layers\n",
    "os.environ['TF_CPP_MIN_LOG_LEVEL']='2'"
   ]
  },
  {
   "cell_type": "code",
   "execution_count": 5,
   "id": "424d86de-fa91-43b6-8fd8-bedd36fc1b1c",
   "metadata": {},
   "outputs": [
    {
     "name": "stdout",
     "output_type": "stream",
     "text": [
      "WARNING:tensorflow:From C:\\Users\\kdmen\\miniconda3\\envs\\NSCenv\\lib\\site-packages\\tensorflow\\python\\ops\\init_ops.py:1251: calling VarianceScaling.__init__ (from tensorflow.python.ops.init_ops) with dtype is deprecated and will be removed in a future version.\n",
      "Instructions for updating:\n",
      "Call initializer instance with the dtype argument instead of passing it to the constructor\n",
      "Model: \"sequential_1\"\n",
      "_________________________________________________________________\n",
      "Layer (type)                 Output Shape              Param #   \n",
      "=================================================================\n",
      "dense (Dense)                (None, 1)                 3         \n",
      "=================================================================\n",
      "Total params: 3\n",
      "Trainable params: 3\n",
      "Non-trainable params: 0\n",
      "_________________________________________________________________\n",
      "None\n",
      "************************************************\n",
      "\n",
      "layer name : dense | input shape : (?, 2) | output shape : (?, 1)\n",
      "************************************************\n",
      "\n",
      "{'name': 'dense', 'trainable': True, 'batch_input_shape': (None, 2), 'dtype': 'float32', 'units': 1, 'activation': 'linear', 'use_bias': True, 'kernel_initializer': {'class_name': 'GlorotUniform', 'config': {'seed': None, 'dtype': 'float32'}}, 'bias_initializer': {'class_name': 'Zeros', 'config': {'dtype': 'float32'}}, 'kernel_regularizer': None, 'bias_regularizer': None, 'activity_regularizer': None, 'kernel_constraint': None, 'bias_constraint': None}\n",
      "\n"
     ]
    }
   ],
   "source": [
    "network = models.Sequential()\n",
    "\n",
    "nin  = 2\n",
    "nout = 1\n",
    "\n",
    "network = models.Sequential()\n",
    "network.add(layers.Dense(nout, \n",
    "                         activation='linear', \n",
    "                         input_shape=(nin,)))\n",
    "\n",
    "print(network.summary())\n",
    "print('************************************************\\n')\n",
    "\n",
    "for layer in network.layers:\n",
    "    print('layer name : {} | input shape : {} | output shape : {}'.format(layer.name, layer.input.shape, layer.output.shape))\n",
    "print('************************************************\\n')\n",
    "\n",
    "for layer in network.layers:\n",
    "    print(layer.get_config())\n",
    "print()"
   ]
  },
  {
   "cell_type": "code",
   "execution_count": 6,
   "id": "beafa23e",
   "metadata": {},
   "outputs": [],
   "source": [
    "# compile network\n",
    "#\n",
    "# configures the network for training, specifying optimizer and loss function\n",
    "#\n",
    "# optimizer='sgd'           : stochastic gradient descent (simplest, not the smartest)\n",
    "# loss='mean_squared_error' : uses MSE (MSE = 1/N * SSE)\n",
    "# metrics=['accuracy']      : what is printed when verbose=True\n",
    "network.compile(optimizer='sgd', \n",
    "                loss='mean_squared_error', \n",
    "                metrics=['accuracy', 'mse'])\n",
    "\n",
    "# if leave off metrics, only saves loss and val_loss\n",
    "# network.compile(optimizer='sgd', \n",
    "#                 loss='mean_squared_error')"
   ]
  },
  {
   "cell_type": "code",
   "execution_count": 7,
   "id": "3c41842d",
   "metadata": {},
   "outputs": [],
   "source": [
    "def create_network(nin=2, nout=1):\n",
    "    network = models.Sequential()\n",
    "\n",
    "    network = models.Sequential()\n",
    "    network.add(layers.Dense(nout, \n",
    "                             activation='linear', \n",
    "                             input_shape=(nin,)))\n",
    "\n",
    "    network.compile(optimizer='sgd', \n",
    "                    loss='mean_squared_error', \n",
    "                    metrics=['accuracy', 'mse'])\n",
    "    \n",
    "    return network"
   ]
  },
  {
   "cell_type": "code",
   "execution_count": 8,
   "id": "d06da8c4",
   "metadata": {},
   "outputs": [
    {
     "name": "stdout",
     "output_type": "stream",
     "text": [
      "[ 0.26625916 -0.29355623]\n",
      "200\n",
      "(200, 2)\n"
     ]
    }
   ],
   "source": [
    "train_labels_onehot = [0]*len(sample0) + [1]*len(sample1)\n",
    "\n",
    "sample0_list = list(sample0)\n",
    "sample1_list = list(sample1)\n",
    "train_vec = list()\n",
    "train_vec.extend(sample0_list)\n",
    "train_vec.extend(sample1_list)\n",
    "print(sample0_list[0])\n",
    "print(len(train_vec))\n",
    "\n",
    "train_array = np.array(train_vec)\n",
    "print(train_array.shape)\n",
    "#train_array = train_array.reshape((2,200))\n",
    "#print(train_array.shape)\n",
    "#print(train_array[:,0])\n"
   ]
  },
  {
   "cell_type": "code",
   "execution_count": 9,
   "id": "6631993f",
   "metadata": {},
   "outputs": [
    {
     "name": "stdout",
     "output_type": "stream",
     "text": [
      "Train on 180 samples, validate on 20 samples\n",
      "Epoch 1/20\n",
      "180/180 [==============================] - 0s 645us/sample - loss: 5.5057 - acc: 0.8333 - mean_squared_error: 5.5057 - val_loss: 5.0634 - val_acc: 0.9500 - val_mean_squared_error: 5.0634\n",
      "Epoch 2/20\n",
      "180/180 [==============================] - 0s 33us/sample - loss: 2.5069 - acc: 0.8722 - mean_squared_error: 2.5069 - val_loss: 2.4403 - val_acc: 0.9500 - val_mean_squared_error: 2.4403\n",
      "Epoch 3/20\n",
      "180/180 [==============================] - 0s 28us/sample - loss: 1.2744 - acc: 0.8944 - mean_squared_error: 1.2744 - val_loss: 1.1451 - val_acc: 0.9500 - val_mean_squared_error: 1.1451\n",
      "Epoch 4/20\n",
      "180/180 [==============================] - 0s 44us/sample - loss: 0.6622 - acc: 0.9111 - mean_squared_error: 0.6622 - val_loss: 0.5553 - val_acc: 0.9500 - val_mean_squared_error: 0.5553\n",
      "Epoch 5/20\n",
      "180/180 [==============================] - 0s 33us/sample - loss: 0.3765 - acc: 0.9444 - mean_squared_error: 0.3765 - val_loss: 0.3134 - val_acc: 0.9500 - val_mean_squared_error: 0.3134\n",
      "Epoch 6/20\n",
      "180/180 [==============================] - 0s 44us/sample - loss: 0.2435 - acc: 0.9556 - mean_squared_error: 0.2435 - val_loss: 0.1991 - val_acc: 0.9500 - val_mean_squared_error: 0.1991\n",
      "Epoch 7/20\n",
      "180/180 [==============================] - 0s 39us/sample - loss: 0.1766 - acc: 0.9556 - mean_squared_error: 0.1766 - val_loss: 0.1566 - val_acc: 0.9000 - val_mean_squared_error: 0.1566\n",
      "Epoch 8/20\n",
      "180/180 [==============================] - 0s 44us/sample - loss: 0.1452 - acc: 0.9556 - mean_squared_error: 0.1452 - val_loss: 0.1391 - val_acc: 0.9000 - val_mean_squared_error: 0.1391\n",
      "Epoch 9/20\n",
      "180/180 [==============================] - 0s 44us/sample - loss: 0.1282 - acc: 0.9611 - mean_squared_error: 0.1282 - val_loss: 0.1333 - val_acc: 0.9000 - val_mean_squared_error: 0.1333\n",
      "Epoch 10/20\n",
      "180/180 [==============================] - 0s 39us/sample - loss: 0.1192 - acc: 0.9667 - mean_squared_error: 0.1192 - val_loss: 0.1310 - val_acc: 0.9000 - val_mean_squared_error: 0.1310\n",
      "Epoch 11/20\n",
      "180/180 [==============================] - 0s 44us/sample - loss: 0.1139 - acc: 0.9667 - mean_squared_error: 0.1139 - val_loss: 0.1281 - val_acc: 0.9000 - val_mean_squared_error: 0.1281\n",
      "Epoch 12/20\n",
      "180/180 [==============================] - 0s 44us/sample - loss: 0.1098 - acc: 0.9667 - mean_squared_error: 0.1098 - val_loss: 0.1262 - val_acc: 0.9000 - val_mean_squared_error: 0.1262\n",
      "Epoch 13/20\n",
      "180/180 [==============================] - 0s 39us/sample - loss: 0.1059 - acc: 0.9611 - mean_squared_error: 0.1059 - val_loss: 0.1235 - val_acc: 0.9000 - val_mean_squared_error: 0.1235\n",
      "Epoch 14/20\n",
      "180/180 [==============================] - 0s 33us/sample - loss: 0.1024 - acc: 0.9611 - mean_squared_error: 0.1024 - val_loss: 0.1198 - val_acc: 0.9000 - val_mean_squared_error: 0.1198\n",
      "Epoch 15/20\n",
      "180/180 [==============================] - 0s 39us/sample - loss: 0.0993 - acc: 0.9667 - mean_squared_error: 0.0993 - val_loss: 0.1173 - val_acc: 0.9000 - val_mean_squared_error: 0.1173\n",
      "Epoch 16/20\n",
      "180/180 [==============================] - 0s 39us/sample - loss: 0.0965 - acc: 0.9667 - mean_squared_error: 0.0965 - val_loss: 0.1149 - val_acc: 0.9000 - val_mean_squared_error: 0.1149\n",
      "Epoch 17/20\n",
      "180/180 [==============================] - 0s 39us/sample - loss: 0.0938 - acc: 0.9667 - mean_squared_error: 0.0938 - val_loss: 0.1133 - val_acc: 0.9000 - val_mean_squared_error: 0.1133\n",
      "Epoch 18/20\n",
      "180/180 [==============================] - 0s 39us/sample - loss: 0.0914 - acc: 0.9667 - mean_squared_error: 0.0914 - val_loss: 0.1118 - val_acc: 0.9000 - val_mean_squared_error: 0.1118\n",
      "Epoch 19/20\n",
      "180/180 [==============================] - 0s 33us/sample - loss: 0.0892 - acc: 0.9667 - mean_squared_error: 0.0892 - val_loss: 0.1098 - val_acc: 0.9000 - val_mean_squared_error: 0.1098\n",
      "Epoch 20/20\n",
      "180/180 [==============================] - 0s 44us/sample - loss: 0.0871 - acc: 0.9667 - mean_squared_error: 0.0871 - val_loss: 0.1083 - val_acc: 0.9000 - val_mean_squared_error: 0.1083\n",
      "Done training!\n"
     ]
    }
   ],
   "source": [
    "# now train the network\n",
    "#\n",
    "# training requires training patterns (train_image_vec) and teachers (train_labels_onehot)\n",
    "#\n",
    "# sets # training epochs, validation (described later), and batch_size\n",
    "#\n",
    "# set verbose=True to see training unfold\n",
    "history = network.fit(train_array, \n",
    "                      train_labels_onehot, \n",
    "                      verbose=True, \n",
    "                      validation_split=.1, \n",
    "                      epochs=20, \n",
    "                      batch_size=128)\n",
    "print('Done training!')\n",
    "\n",
    "# if run this again, it will do more training on the same network"
   ]
  },
  {
   "cell_type": "markdown",
   "id": "80749519-6a30-47d8-9b0a-95641d357c00",
   "metadata": {},
   "source": [
    "<hr>\n",
    "\n",
    "<b>Q2 (2 points).</b> Create a plot of training accuracy as a function of epoch (with axes properly labeled)."
   ]
  },
  {
   "cell_type": "code",
   "execution_count": 10,
   "id": "442f7e24-9f3c-431c-9e8a-239d742717a6",
   "metadata": {},
   "outputs": [
    {
     "name": "stdout",
     "output_type": "stream",
     "text": [
      "dict_keys(['loss', 'acc', 'mean_squared_error', 'val_loss', 'val_acc', 'val_mean_squared_error'])\n"
     ]
    },
    {
     "data": {
      "image/png": "[encoded data removed]",
      "text/plain": [
       "<Figure size 432x288 with 1 Axes>"
      ]
     },
     "metadata": {
      "needs_background": "light"
     },
     "output_type": "display_data"
    }
   ],
   "source": [
    "print(history.history.keys())\n",
    "\n",
    "def plot_model_acc(history):\n",
    "    \"\"\"Accuracy Plotting Function\"\"\"\n",
    "    plt.plot(history.history['acc'])\n",
    "    plt.plot(history.history['val_acc'])\n",
    "    plt.title('Model Accuracy As a Function of Number of Epochs Trained')\n",
    "    plt.ylabel('Accuracy')\n",
    "    plt.xlabel('Epoch')\n",
    "    plt.legend(['train', 'validation'], loc='lower right')\n",
    "    plt.show()\n",
    "    \n",
    "plot_model_acc(history)"
   ]
  },
  {
   "cell_type": "markdown",
   "id": "7f8e6000-7ff4-4f57-868f-afc954d16d42",
   "metadata": {},
   "source": [
    "<hr>\n",
    "\n",
    "<b>Q3 (3 points).</b> Explore what happens when you (a) set the batch size equal to 1 (so that weights get updated after every training pattern), and (b) set the batch size equal to the total number of training patterns (so that weights get updated once per epoch after all of the training patterns have been shown). "
   ]
  },
  {
   "cell_type": "code",
   "execution_count": 11,
   "id": "8627e528-7545-401b-a1f9-4f8ac4fe7c92",
   "metadata": {},
   "outputs": [
    {
     "name": "stdout",
     "output_type": "stream",
     "text": [
      "Train on 180 samples, validate on 20 samples\n",
      "Epoch 1/20\n",
      "180/180 [==============================] - 0s 1ms/sample - loss: 0.0952 - acc: 0.9667 - mean_squared_error: 0.0952 - val_loss: 0.0519 - val_acc: 0.9500 - val_mean_squared_error: 0.0519\n",
      "Epoch 2/20\n",
      "180/180 [==============================] - 0s 641us/sample - loss: 0.0571 - acc: 0.9778 - mean_squared_error: 0.0571 - val_loss: 0.0506 - val_acc: 0.9500 - val_mean_squared_error: 0.0506\n",
      "Epoch 3/20\n",
      "180/180 [==============================] - 0s 648us/sample - loss: 0.0557 - acc: 0.9722 - mean_squared_error: 0.0557 - val_loss: 0.0681 - val_acc: 0.9500 - val_mean_squared_error: 0.0681\n",
      "Epoch 4/20\n",
      "180/180 [==============================] - 0s 562us/sample - loss: 0.0572 - acc: 0.9833 - mean_squared_error: 0.0572 - val_loss: 0.0473 - val_acc: 0.9500 - val_mean_squared_error: 0.0473\n",
      "Epoch 5/20\n",
      "180/180 [==============================] - 0s 561us/sample - loss: 0.0588 - acc: 0.9611 - mean_squared_error: 0.0588 - val_loss: 0.0500 - val_acc: 0.9500 - val_mean_squared_error: 0.0500\n",
      "Epoch 6/20\n",
      "180/180 [==============================] - 0s 718us/sample - loss: 0.0582 - acc: 0.9667 - mean_squared_error: 0.0582 - val_loss: 0.0476 - val_acc: 0.9500 - val_mean_squared_error: 0.0476\n",
      "Epoch 7/20\n",
      "180/180 [==============================] - 0s 632us/sample - loss: 0.0580 - acc: 0.9778 - mean_squared_error: 0.0580 - val_loss: 0.0512 - val_acc: 0.9500 - val_mean_squared_error: 0.0512\n",
      "Epoch 8/20\n",
      "180/180 [==============================] - 0s 700us/sample - loss: 0.0594 - acc: 0.9667 - mean_squared_error: 0.0594 - val_loss: 0.0618 - val_acc: 0.9500 - val_mean_squared_error: 0.0618\n",
      "Epoch 9/20\n",
      "180/180 [==============================] - 0s 757us/sample - loss: 0.0573 - acc: 0.9833 - mean_squared_error: 0.0573 - val_loss: 0.0484 - val_acc: 0.9500 - val_mean_squared_error: 0.0484\n",
      "Epoch 10/20\n",
      "180/180 [==============================] - 0s 562us/sample - loss: 0.0591 - acc: 0.9889 - mean_squared_error: 0.0591 - val_loss: 0.0599 - val_acc: 0.9500 - val_mean_squared_error: 0.0599\n",
      "Epoch 11/20\n",
      "180/180 [==============================] - 0s 635us/sample - loss: 0.0574 - acc: 0.9722 - mean_squared_error: 0.0574 - val_loss: 0.0983 - val_acc: 0.9500 - val_mean_squared_error: 0.0983\n",
      "Epoch 12/20\n",
      "180/180 [==============================] - 0s 648us/sample - loss: 0.0576 - acc: 0.9667 - mean_squared_error: 0.0576 - val_loss: 0.0523 - val_acc: 0.9500 - val_mean_squared_error: 0.0523\n",
      "Epoch 13/20\n",
      "180/180 [==============================] - 0s 809us/sample - loss: 0.0569 - acc: 0.9667 - mean_squared_error: 0.0569 - val_loss: 0.0520 - val_acc: 0.9500 - val_mean_squared_error: 0.0520\n",
      "Epoch 14/20\n",
      "180/180 [==============================] - 0s 608us/sample - loss: 0.0590 - acc: 0.9722 - mean_squared_error: 0.0590 - val_loss: 0.0671 - val_acc: 0.9500 - val_mean_squared_error: 0.0671\n",
      "Epoch 15/20\n",
      "180/180 [==============================] - 0s 609us/sample - loss: 0.0589 - acc: 0.9778 - mean_squared_error: 0.0589 - val_loss: 0.0467 - val_acc: 0.9500 - val_mean_squared_error: 0.0467\n",
      "Epoch 16/20\n",
      "180/180 [==============================] - 0s 682us/sample - loss: 0.0592 - acc: 0.9611 - mean_squared_error: 0.0592 - val_loss: 0.0473 - val_acc: 0.9500 - val_mean_squared_error: 0.0473\n",
      "Epoch 17/20\n",
      "180/180 [==============================] - 0s 603us/sample - loss: 0.0566 - acc: 0.9667 - mean_squared_error: 0.0566 - val_loss: 0.1036 - val_acc: 0.9500 - val_mean_squared_error: 0.1036\n",
      "Epoch 18/20\n",
      "180/180 [==============================] - 0s 648us/sample - loss: 0.0574 - acc: 0.9556 - mean_squared_error: 0.0574 - val_loss: 0.0456 - val_acc: 0.9500 - val_mean_squared_error: 0.0456\n",
      "Epoch 19/20\n",
      "180/180 [==============================] - 0s 648us/sample - loss: 0.0582 - acc: 0.9611 - mean_squared_error: 0.0582 - val_loss: 0.0482 - val_acc: 0.9500 - val_mean_squared_error: 0.0482\n",
      "Epoch 20/20\n",
      "180/180 [==============================] - 0s 680us/sample - loss: 0.0584 - acc: 0.9778 - mean_squared_error: 0.0584 - val_loss: 0.0475 - val_acc: 0.9500 - val_mean_squared_error: 0.0475\n",
      "Done training!\n"
     ]
    }
   ],
   "source": [
    "# Batch size equal to 1\n",
    "bs1_network = create_network()\n",
    "bs1_history = bs1_network.fit(train_array, \n",
    "                      train_labels_onehot, \n",
    "                      verbose=True, \n",
    "                      validation_split=.1, \n",
    "                      epochs=20, \n",
    "                      batch_size=1)\n",
    "print('Done training!')"
   ]
  },
  {
   "cell_type": "code",
   "execution_count": 12,
   "id": "a595bcf7",
   "metadata": {},
   "outputs": [
    {
     "data": {
      "image/png": "[encoded data removed]",
      "text/plain": [
       "<Figure size 432x288 with 1 Axes>"
      ]
     },
     "metadata": {
      "needs_background": "light"
     },
     "output_type": "display_data"
    }
   ],
   "source": [
    "plot_model_acc(bs1_history)"
   ]
  },
  {
   "cell_type": "code",
   "execution_count": 13,
   "id": "4218874e",
   "metadata": {},
   "outputs": [
    {
     "name": "stdout",
     "output_type": "stream",
     "text": [
      "Train on 180 samples, validate on 20 samples\n",
      "Epoch 1/20\n",
      "180/180 [==============================] - 0s 488us/sample - loss: 5.6338 - acc: 0.4111 - mean_squared_error: 5.6338 - val_loss: 8.8201 - val_acc: 0.0000e+00 - val_mean_squared_error: 8.8201\n",
      "Epoch 2/20\n",
      "180/180 [==============================] - 0s 28us/sample - loss: 3.8313 - acc: 0.4444 - mean_squared_error: 3.8313 - val_loss: 6.0908 - val_acc: 0.0000e+00 - val_mean_squared_error: 6.0908\n",
      "Epoch 3/20\n",
      "180/180 [==============================] - 0s 33us/sample - loss: 2.6174 - acc: 0.4611 - mean_squared_error: 2.6174 - val_loss: 4.2344 - val_acc: 0.0000e+00 - val_mean_squared_error: 4.2344\n",
      "Epoch 4/20\n",
      "180/180 [==============================] - 0s 22us/sample - loss: 1.7997 - acc: 0.4667 - mean_squared_error: 1.7997 - val_loss: 2.9690 - val_acc: 0.0000e+00 - val_mean_squared_error: 2.9690\n",
      "Epoch 5/20\n",
      "180/180 [==============================] - 0s 28us/sample - loss: 1.2486 - acc: 0.4944 - mean_squared_error: 1.2486 - val_loss: 2.1040 - val_acc: 0.0000e+00 - val_mean_squared_error: 2.1040\n",
      "Epoch 6/20\n",
      "180/180 [==============================] - 0s 22us/sample - loss: 0.8771 - acc: 0.4944 - mean_squared_error: 0.8771 - val_loss: 1.5109 - val_acc: 0.1000 - val_mean_squared_error: 1.5109\n",
      "Epoch 7/20\n",
      "180/180 [==============================] - 0s 22us/sample - loss: 0.6263 - acc: 0.5056 - mean_squared_error: 0.6263 - val_loss: 1.1027 - val_acc: 0.1000 - val_mean_squared_error: 1.1027\n",
      "Epoch 8/20\n",
      "180/180 [==============================] - 0s 22us/sample - loss: 0.4569 - acc: 0.5333 - mean_squared_error: 0.4569 - val_loss: 0.8203 - val_acc: 0.1000 - val_mean_squared_error: 0.8203\n",
      "Epoch 9/20\n",
      "180/180 [==============================] - 0s 22us/sample - loss: 0.3422 - acc: 0.5611 - mean_squared_error: 0.3422 - val_loss: 0.6239 - val_acc: 0.2000 - val_mean_squared_error: 0.6239\n",
      "Epoch 10/20\n",
      "180/180 [==============================] - 0s 28us/sample - loss: 0.2644 - acc: 0.6056 - mean_squared_error: 0.2644 - val_loss: 0.4864 - val_acc: 0.4000 - val_mean_squared_error: 0.4864\n",
      "Epoch 11/20\n",
      "180/180 [==============================] - 0s 22us/sample - loss: 0.2115 - acc: 0.6722 - mean_squared_error: 0.2115 - val_loss: 0.3894 - val_acc: 0.5000 - val_mean_squared_error: 0.3894\n",
      "Epoch 12/20\n",
      "180/180 [==============================] - 0s 28us/sample - loss: 0.1753 - acc: 0.7167 - mean_squared_error: 0.1753 - val_loss: 0.3203 - val_acc: 0.5000 - val_mean_squared_error: 0.3203\n",
      "Epoch 13/20\n",
      "180/180 [==============================] - 0s 22us/sample - loss: 0.1504 - acc: 0.7722 - mean_squared_error: 0.1504 - val_loss: 0.2705 - val_acc: 0.5500 - val_mean_squared_error: 0.2705\n",
      "Epoch 14/20\n",
      "180/180 [==============================] - 0s 28us/sample - loss: 0.1330 - acc: 0.8222 - mean_squared_error: 0.1330 - val_loss: 0.2343 - val_acc: 0.6500 - val_mean_squared_error: 0.2343\n",
      "Epoch 15/20\n",
      "180/180 [==============================] - 0s 22us/sample - loss: 0.1209 - acc: 0.8611 - mean_squared_error: 0.1209 - val_loss: 0.2075 - val_acc: 0.7000 - val_mean_squared_error: 0.2075\n",
      "Epoch 16/20\n",
      "180/180 [==============================] - 0s 22us/sample - loss: 0.1122 - acc: 0.8722 - mean_squared_error: 0.1122 - val_loss: 0.1874 - val_acc: 0.7500 - val_mean_squared_error: 0.1874\n",
      "Epoch 17/20\n",
      "180/180 [==============================] - 0s 28us/sample - loss: 0.1058 - acc: 0.8833 - mean_squared_error: 0.1058 - val_loss: 0.1720 - val_acc: 0.8000 - val_mean_squared_error: 0.1720\n",
      "Epoch 18/20\n",
      "180/180 [==============================] - 0s 22us/sample - loss: 0.1011 - acc: 0.8889 - mean_squared_error: 0.1011 - val_loss: 0.1601 - val_acc: 0.8500 - val_mean_squared_error: 0.1601\n",
      "Epoch 19/20\n",
      "180/180 [==============================] - 0s 22us/sample - loss: 0.0975 - acc: 0.8944 - mean_squared_error: 0.0975 - val_loss: 0.1506 - val_acc: 0.8500 - val_mean_squared_error: 0.1506\n",
      "Epoch 20/20\n",
      "180/180 [==============================] - 0s 17us/sample - loss: 0.0946 - acc: 0.8944 - mean_squared_error: 0.0946 - val_loss: 0.1430 - val_acc: 0.9000 - val_mean_squared_error: 0.1430\n",
      "Done training!\n"
     ]
    }
   ],
   "source": [
    "# Batch size equal to the number of training patterns\n",
    "bse_network = create_network()\n",
    "bse_history = bse_network.fit(train_array, \n",
    "                      train_labels_onehot, \n",
    "                      verbose=True, \n",
    "                      validation_split=.1, \n",
    "                      epochs=20, \n",
    "                      batch_size=train_array.shape[0])\n",
    "print('Done training!')"
   ]
  },
  {
   "cell_type": "code",
   "execution_count": 14,
   "id": "cf31dd17",
   "metadata": {},
   "outputs": [
    {
     "data": {
      "image/png": "[encoded data removed]",
      "text/plain": [
       "<Figure size 432x288 with 1 Axes>"
      ]
     },
     "metadata": {
      "needs_background": "light"
     },
     "output_type": "display_data"
    }
   ],
   "source": [
    "plot_model_acc(bse_history)"
   ]
  },
  {
   "cell_type": "markdown",
   "id": "f6cf124a-3804-40ce-a35d-0b3eec27cd9b",
   "metadata": {},
   "source": [
    "<hr>\n",
    "\n",
    "<b>Q4 (4 points).</b> Homework5.ipynb provides code that generates an array of test patterns and provides a plottest() function that displays a shaded contour plot of network predictions on these test patterns (these were discussed in class). All you need to do is apply these test patterns to the trained network from Q1 and plot the results using the plottest() function. "
   ]
  },
  {
   "cell_type": "code",
   "execution_count": 15,
   "id": "6ff3cecf-c7fd-4b64-81eb-23c9bca73f66",
   "metadata": {},
   "outputs": [],
   "source": [
    "# generate test pattern array for Q4\n",
    "\n",
    "xymin = -5\n",
    "xymax = 7.5\n",
    "Npts = 50\n",
    "xv, yv = np.meshgrid(np.linspace(xymin, xymax, Npts), \n",
    "                     np.linspace(xymin, xymax, Npts))\n",
    "test_pats = np.concatenate((xv.reshape((Npts*Npts,1)), \n",
    "                            yv.reshape((Npts*Npts,1))), axis=1)"
   ]
  },
  {
   "cell_type": "code",
   "execution_count": 16,
   "id": "fb9e3b07",
   "metadata": {},
   "outputs": [
    {
     "data": {
      "image/png": "[encoded data removed]",
      "text/plain": [
       "<Figure size 432x288 with 1 Axes>"
      ]
     },
     "metadata": {
      "needs_background": "light"
     },
     "output_type": "display_data"
    }
   ],
   "source": [
    "# plot example\n",
    "plt.plot(sample0[:,0],sample0[:,1],'b+',sample1[:,0],sample1[:,1],'r+')\n",
    "plt.xlabel('dim1')\n",
    "plt.ylabel('dim2')\n",
    "plt.axis('equal')\n",
    "plt.axis('square')\n",
    "plt.legend(('class 0', 'class 1'), loc='lower right')\n",
    "xymin = -5; xymax = 7.5\n",
    "plt.ylim((xymin,xymax))\n",
    "plt.xlim((xymin,xymax))\n",
    "plt.show()"
   ]
  },
  {
   "cell_type": "code",
   "execution_count": 17,
   "id": "12495a74",
   "metadata": {},
   "outputs": [
    {
     "name": "stdout",
     "output_type": "stream",
     "text": [
      "(2500, 2)\n",
      "[[-5.         -5.        ]\n",
      " [-4.74489796 -5.        ]\n",
      " [-4.48979592 -5.        ]\n",
      " ...\n",
      " [ 6.98979592  7.5       ]\n",
      " [ 7.24489796  7.5       ]\n",
      " [ 7.5         7.5       ]]\n"
     ]
    },
    {
     "data": {
      "image/png": "[encoded data removed]",
      "text/plain": [
       "<Figure size 432x288 with 1 Axes>"
      ]
     },
     "metadata": {
      "needs_background": "light"
     },
     "output_type": "display_data"
    }
   ],
   "source": [
    "print(test_pats.shape)\n",
    "\n",
    "print(test_pats)\n",
    "\n",
    "# train_labels_onehot = [0]*len(sample0) + [1]*len(sample1)\n",
    "test_labels_onehot = [0]*test_pats.shape[0]\n",
    "\n",
    "# plot example\n",
    "for idx in range((test_pats.shape[0])):\n",
    "    point = test_pats[idx,:]\n",
    "    if point[1]>((-1*point[0]+4)):\n",
    "        test_labels_onehot[idx] = 1\n",
    "        plt.plot(point[0],point[1],'r+')\n",
    "    else:\n",
    "        plt.plot(point[0],point[1],'b+')\n",
    "plt.xlabel('dim1')\n",
    "plt.ylabel('dim2')\n",
    "plt.axis('equal')\n",
    "plt.axis('square')\n",
    "#plt.legend(('class 0', 'class 1'), loc='lower right')\n",
    "xymin = -5; xymax = 7.5\n",
    "#plt.ylim((xymin,xymax))\n",
    "#plt.xlim((xymin,xymax))\n",
    "plt.show()\n",
    "\n",
    "test_labels_onehot = np.array(test_labels_onehot).reshape((test_pats.shape[0],1))"
   ]
  },
  {
   "cell_type": "code",
   "execution_count": 18,
   "id": "1099f68f-6117-451d-858a-851d88c89f94",
   "metadata": {},
   "outputs": [],
   "source": [
    "# function for generating plot for Q4\n",
    "# xv is array of x-values of test grid (from meshgrid)\n",
    "# yv is array of y-values of test grid (from meshgrid)\n",
    "# out is the output of the neural network given the test patterns\n",
    "# sample0, sample1 are the training patterns from earlier\n",
    "\n",
    "def plottest(xv, yv, out, sample0, sample1):\n",
    "    # reshape out\n",
    "    zv = out.reshape(xv.shape)\n",
    "\n",
    "    # create figure\n",
    "    fig = plt.figure()\n",
    "    plt.contourf(xv, yv, zv, levels=xv.shape[0], cmap=plt.cm.gist_yarg)\n",
    "    plt.plot(sample0[:,0], sample0[:,1], 'b+', \n",
    "             sample1[:,0], sample1[:,1], 'r+')    \n",
    "    \n",
    "    plt.xlabel('dim1')\n",
    "    plt.ylabel('dim2')\n",
    "    plt.axis('equal')\n",
    "    plt.axis('square')\n",
    "    xymin = -5; xymax = 7.5\n",
    "    plt.ylim((xymin,xymax))\n",
    "    plt.xlim((xymin,xymax))\n",
    "    plt.show()"
   ]
  },
  {
   "cell_type": "code",
   "execution_count": 19,
   "id": "6f2fbffd",
   "metadata": {},
   "outputs": [
    {
     "name": "stdout",
     "output_type": "stream",
     "text": [
      "(2500, 2)\n",
      "(2500, 1)\n"
     ]
    }
   ],
   "source": [
    "print(test_pats.shape)\n",
    "print(test_labels_onehot.shape)"
   ]
  },
  {
   "cell_type": "code",
   "execution_count": 25,
   "id": "2f8b403e-aca9-46ff-8b95-4a9e95fbe5c0",
   "metadata": {
    "scrolled": true
   },
   "outputs": [
    {
     "name": "stdout",
     "output_type": "stream",
     "text": [
      "test_loss (MSE)     : 0.5800449237823486\n",
      "test_acc (%Correct) : 0.8080000281333923\n"
     ]
    }
   ],
   "source": [
    "# call network.evaluate() if you have test patterns and test answers and want to know performance\n",
    "results = network.evaluate(test_pats, \n",
    "                           test_labels_onehot, \n",
    "                           verbose=False)\n",
    "\n",
    "test_loss = results[0]\n",
    "test_acc = results[1]\n",
    "\n",
    "print('test_loss (MSE)     : {}'.format(test_loss))\n",
    "print('test_acc (%Correct) : {}'.format(test_acc))\n",
    "\n",
    "out = network.predict(\n",
    "   test_pats, \n",
    "   batch_size = None, \n",
    "   verbose = 0, \n",
    "   max_queue_size = 10, \n",
    "   workers = 1, \n",
    "   use_multiprocessing = False)"
   ]
  },
  {
   "cell_type": "code",
   "execution_count": 26,
   "id": "9cb25de4",
   "metadata": {},
   "outputs": [
    {
     "data": {
      "image/png": "[encoded data removed]",
      "text/plain": [
       "<Figure size 432x288 with 1 Axes>"
      ]
     },
     "metadata": {
      "needs_background": "light"
     },
     "output_type": "display_data"
    }
   ],
   "source": [
    "plottest(xv, yv, out, sample0, sample1)"
   ]
  },
  {
   "cell_type": "code",
   "execution_count": null,
   "id": "743d62ec",
   "metadata": {},
   "outputs": [],
   "source": []
  }
 ],
 "metadata": {
  "kernelspec": {
   "display_name": "Python 3 (ipykernel)",
   "language": "python",
   "name": "python3"
  },
  "language_info": {
   "codemirror_mode": {
    "name": "ipython",
    "version": 3
   },
   "file_extension": ".py",
   "mimetype": "text/x-python",
   "name": "python",
   "nbconvert_exporter": "python",
   "pygments_lexer": "ipython3",
   "version": "3.7.11"
  }
 },
 "nbformat": 4,
 "nbformat_minor": 5
}
