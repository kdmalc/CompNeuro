{
 "cells": [
  {
   "cell_type": "markdown",
   "id": "2cf8a58b-78d8-44e8-a564-e79f107e5d51",
   "metadata": {},
   "source": [
    "## Homework 5 Starting Code"
   ]
  },
  {
   "cell_type": "code",
   "execution_count": 1,
   "id": "0cde26b2-a1ee-4cd8-ad28-21976361867e",
   "metadata": {},
   "outputs": [],
   "source": [
    "import numpy as np\n",
    "import matplotlib.pyplot as plt\n",
    "import numpy.random as R\n",
    "\n",
    "# supress unnecessary warnings\n",
    "import os\n",
    "os.environ['TF_CPP_MIN_LOG_LEVEL']='2'"
   ]
  },
  {
   "cell_type": "code",
   "execution_count": 2,
   "id": "bd903e6c-e33e-4453-b177-8cc40f9eff9f",
   "metadata": {},
   "outputs": [],
   "source": [
    "## generate N random samples from a 2D multivariate normal distribution\n",
    "##\n",
    "## with mean [mx, my]\n",
    "##\n",
    "## with covariance matrix [[  sx*sx, r*sx*sy],\n",
    "##                         [r*sx*sy,   sy*sy]]\n",
    "## where sx is the standard deviation along the x dimension\n",
    "## where sy is the standard deviation along the y dimension\n",
    "## where r is the correlation between the dimensions\n",
    "##\n",
    "\n",
    "def gensamples(N, mx, my, sx, sy, r):\n",
    "    M   = np.array([mx, my])\n",
    "    Cov = np.array([[  sx*sx, r*sx*sy],\n",
    "                    [r*sx*sy,   sy*sy]])\n",
    "    return (R.multivariate_normal(M, Cov, size=N, check_valid='warn'))"
   ]
  },
  {
   "cell_type": "code",
   "execution_count": 3,
   "id": "6398a377-8afd-4ec8-ba27-1cb4a6eedbf2",
   "metadata": {},
   "outputs": [
    {
     "data": {
      "image/png": "[encoded data removed]",
      "text/plain": [
       "<Figure size 432x288 with 1 Axes>"
      ]
     },
     "metadata": {
      "needs_background": "light"
     },
     "output_type": "display_data"
    }
   ],
   "source": [
    "# classification problem used in Q1\n",
    "\n",
    "mx0 = 0.;  my0 = 0.\n",
    "sx0 = 1.;  sy0 = 1.\n",
    "r0 = 0.\n",
    "\n",
    "mx1 = 3.; my1 = 3.\n",
    "sx1 = 1.; sy1 = 1.\n",
    "r1 = 0.\n",
    "\n",
    "N = 100\n",
    "\n",
    "sample0 = gensamples(N, mx0, my0, sx0, sy0, r0)\n",
    "\n",
    "sample1 = gensamples(N, mx1, my1, sx1, sy1, r1)\n",
    "\n",
    "# plot example\n",
    "plt.plot(sample0[:,0],sample0[:,1],'b+',sample1[:,0],sample1[:,1],'r+')\n",
    "plt.xlabel('dim1')\n",
    "plt.ylabel('dim2')\n",
    "plt.axis('equal')\n",
    "plt.axis('square')\n",
    "plt.legend(('class 0', 'class 1'), loc='lower right')\n",
    "xymin = -5; xymax = 7.5\n",
    "plt.ylim((xymin,xymax))\n",
    "plt.xlim((xymin,xymax))\n",
    "plt.show()"
   ]
  },
  {
   "cell_type": "markdown",
   "id": "9990f63b-6ffc-4803-958c-be2e9c72b905",
   "metadata": {},
   "source": [
    "<hr>\n",
    "\n",
    "<b>Q1 (10 point).</b> Write Keras code to learn this classification problem with a neural network with an input layer containing two nodes (for the x and y dimension) and output node. "
   ]
  },
  {
   "cell_type": "code",
   "execution_count": 36,
   "id": "8d41837e",
   "metadata": {},
   "outputs": [],
   "source": [
    "from tensorflow.keras import models\n",
    "from tensorflow.keras import layers\n",
    "os.environ['TF_CPP_MIN_LOG_LEVEL']='2'"
   ]
  },
  {
   "cell_type": "code",
   "execution_count": 5,
   "id": "424d86de-fa91-43b6-8fd8-bedd36fc1b1c",
   "metadata": {},
   "outputs": [
    {
     "name": "stdout",
     "output_type": "stream",
     "text": [
      "WARNING:tensorflow:From C:\\Users\\kdmen\\miniconda3\\envs\\NSCenv\\lib\\site-packages\\tensorflow\\python\\ops\\init_ops.py:1251: calling VarianceScaling.__init__ (from tensorflow.python.ops.init_ops) with dtype is deprecated and will be removed in a future version.\n",
      "Instructions for updating:\n",
      "Call initializer instance with the dtype argument instead of passing it to the constructor\n",
      "Model: \"sequential_1\"\n",
      "_________________________________________________________________\n",
      "Layer (type)                 Output Shape              Param #   \n",
      "=================================================================\n",
      "dense (Dense)                (None, 1)                 3         \n",
      "=================================================================\n",
      "Total params: 3\n",
      "Trainable params: 3\n",
      "Non-trainable params: 0\n",
      "_________________________________________________________________\n",
      "None\n",
      "************************************************\n",
      "\n",
      "layer name : dense | input shape : (?, 2) | output shape : (?, 1)\n",
      "************************************************\n",
      "\n",
      "{'name': 'dense', 'trainable': True, 'batch_input_shape': (None, 2), 'dtype': 'float32', 'units': 1, 'activation': 'linear', 'use_bias': True, 'kernel_initializer': {'class_name': 'GlorotUniform', 'config': {'seed': None, 'dtype': 'float32'}}, 'bias_initializer': {'class_name': 'Zeros', 'config': {'dtype': 'float32'}}, 'kernel_regularizer': None, 'bias_regularizer': None, 'activity_regularizer': None, 'kernel_constraint': None, 'bias_constraint': None}\n",
      "\n"
     ]
    }
   ],
   "source": [
    "network = models.Sequential()\n",
    "\n",
    "nin  = 2\n",
    "nout = 1\n",
    "\n",
    "network = models.Sequential()\n",
    "network.add(layers.Dense(nout, \n",
    "                         activation='linear', \n",
    "                         input_shape=(nin,)))\n",
    "\n",
    "print(network.summary())\n",
    "print('************************************************\\n')\n",
    "\n",
    "for layer in network.layers:\n",
    "    print('layer name : {} | input shape : {} | output shape : {}'.format(layer.name, layer.input.shape, layer.output.shape))\n",
    "print('************************************************\\n')\n",
    "\n",
    "for layer in network.layers:\n",
    "    print(layer.get_config())\n",
    "print()"
   ]
  },
  {
   "cell_type": "code",
   "execution_count": 6,
   "id": "beafa23e",
   "metadata": {},
   "outputs": [],
   "source": [
    "# compile network\n",
    "#\n",
    "# configures the network for training, specifying optimizer and loss function\n",
    "#\n",
    "# optimizer='sgd'           : stochastic gradient descent (simplest, not the smartest)\n",
    "# loss='mean_squared_error' : uses MSE (MSE = 1/N * SSE)\n",
    "# metrics=['accuracy']      : what is printed when verbose=True\n",
    "network.compile(optimizer='sgd', \n",
    "                loss='mean_squared_error', \n",
    "                metrics=['accuracy', 'mse'])\n",
    "\n",
    "# if leave off metrics, only saves loss and val_loss\n",
    "# network.compile(optimizer='sgd', \n",
    "#                 loss='mean_squared_error')"
   ]
  },
  {
   "cell_type": "code",
   "execution_count": 32,
   "id": "3c41842d",
   "metadata": {},
   "outputs": [],
   "source": [
    "def create_network(nin=2, nout=1):\n",
    "    network = models.Sequential()\n",
    "\n",
    "    network = models.Sequential()\n",
    "    network.add(layers.Dense(nout, \n",
    "                             activation='linear', \n",
    "                             input_shape=(nin,)))\n",
    "\n",
    "    network.compile(optimizer='sgd', \n",
    "                    loss='mean_squared_error', \n",
    "                    metrics=['accuracy', 'mse'])\n",
    "    \n",
    "    return network"
   ]
  },
  {
   "cell_type": "code",
   "execution_count": 21,
   "id": "d06da8c4",
   "metadata": {},
   "outputs": [
    {
     "name": "stdout",
     "output_type": "stream",
     "text": [
      "[0.78280908 1.47735591]\n",
      "200\n",
      "(200, 2)\n"
     ]
    }
   ],
   "source": [
    "train_labels_onehot = [0]*len(sample0) + [1]*len(sample1)\n",
    "\n",
    "sample0_list = list(sample0)\n",
    "sample1_list = list(sample1)\n",
    "train_vec = list()\n",
    "train_vec.extend(sample0_list)\n",
    "train_vec.extend(sample1_list)\n",
    "print(sample0_list[0])\n",
    "print(len(train_vec))\n",
    "\n",
    "train_array = np.array(train_vec)\n",
    "print(train_array.shape)\n",
    "#train_array = train_array.reshape((2,200))\n",
    "#print(train_array.shape)\n",
    "#print(train_array[:,0])\n"
   ]
  },
  {
   "cell_type": "code",
   "execution_count": 22,
   "id": "6631993f",
   "metadata": {},
   "outputs": [
    {
     "name": "stdout",
     "output_type": "stream",
     "text": [
      "Train on 180 samples, validate on 20 samples\n",
      "Epoch 1/20\n",
      "180/180 [==============================] - 0s 1ms/sample - loss: 0.8673 - acc: 0.5167 - mean_squared_error: 0.8673 - val_loss: 0.8992 - val_acc: 0.1500 - val_mean_squared_error: 0.8992\n",
      "Epoch 2/20\n",
      "180/180 [==============================] - 0s 67us/sample - loss: 0.4595 - acc: 0.6056 - mean_squared_error: 0.4595 - val_loss: 0.4515 - val_acc: 0.3000 - val_mean_squared_error: 0.4515\n",
      "Epoch 3/20\n",
      "180/180 [==============================] - 0s 80us/sample - loss: 0.2822 - acc: 0.7056 - mean_squared_error: 0.2822 - val_loss: 0.2648 - val_acc: 0.5500 - val_mean_squared_error: 0.2648\n",
      "Epoch 4/20\n",
      "180/180 [==============================] - 0s 83us/sample - loss: 0.2038 - acc: 0.7500 - mean_squared_error: 0.2038 - val_loss: 0.1824 - val_acc: 0.8000 - val_mean_squared_error: 0.1824\n",
      "Epoch 5/20\n",
      "180/180 [==============================] - 0s 101us/sample - loss: 0.1667 - acc: 0.8222 - mean_squared_error: 0.1667 - val_loss: 0.1509 - val_acc: 0.9000 - val_mean_squared_error: 0.1509\n",
      "Epoch 6/20\n",
      "180/180 [==============================] - 0s 85us/sample - loss: 0.1478 - acc: 0.8500 - mean_squared_error: 0.1478 - val_loss: 0.1317 - val_acc: 0.9000 - val_mean_squared_error: 0.1317\n",
      "Epoch 7/20\n",
      "180/180 [==============================] - 0s 88us/sample - loss: 0.1351 - acc: 0.8667 - mean_squared_error: 0.1351 - val_loss: 0.1221 - val_acc: 0.9500 - val_mean_squared_error: 0.1221\n",
      "Epoch 8/20\n",
      "180/180 [==============================] - 0s 90us/sample - loss: 0.1265 - acc: 0.8778 - mean_squared_error: 0.1265 - val_loss: 0.1143 - val_acc: 0.9500 - val_mean_squared_error: 0.1143\n",
      "Epoch 9/20\n",
      "180/180 [==============================] - 0s 94us/sample - loss: 0.1190 - acc: 0.8778 - mean_squared_error: 0.1190 - val_loss: 0.1087 - val_acc: 0.9500 - val_mean_squared_error: 0.1087\n",
      "Epoch 10/20\n",
      "180/180 [==============================] - 0s 86us/sample - loss: 0.1124 - acc: 0.9000 - mean_squared_error: 0.1124 - val_loss: 0.1032 - val_acc: 0.9500 - val_mean_squared_error: 0.1032\n",
      "Epoch 11/20\n",
      "180/180 [==============================] - 0s 105us/sample - loss: 0.1065 - acc: 0.9056 - mean_squared_error: 0.1065 - val_loss: 0.0993 - val_acc: 0.9500 - val_mean_squared_error: 0.0993\n",
      "Epoch 12/20\n",
      "180/180 [==============================] - 0s 89us/sample - loss: 0.1017 - acc: 0.9111 - mean_squared_error: 0.1017 - val_loss: 0.0956 - val_acc: 0.9500 - val_mean_squared_error: 0.0956\n",
      "Epoch 13/20\n",
      "180/180 [==============================] - 0s 102us/sample - loss: 0.0971 - acc: 0.9278 - mean_squared_error: 0.0971 - val_loss: 0.0918 - val_acc: 1.0000 - val_mean_squared_error: 0.0918\n",
      "Epoch 14/20\n",
      "180/180 [==============================] - 0s 89us/sample - loss: 0.0926 - acc: 0.9333 - mean_squared_error: 0.0926 - val_loss: 0.0882 - val_acc: 1.0000 - val_mean_squared_error: 0.0882\n",
      "Epoch 15/20\n",
      "180/180 [==============================] - 0s 94us/sample - loss: 0.0881 - acc: 0.9444 - mean_squared_error: 0.0881 - val_loss: 0.0849 - val_acc: 1.0000 - val_mean_squared_error: 0.0849\n",
      "Epoch 16/20\n",
      "180/180 [==============================] - 0s 100us/sample - loss: 0.0841 - acc: 0.9444 - mean_squared_error: 0.0841 - val_loss: 0.0819 - val_acc: 1.0000 - val_mean_squared_error: 0.0819\n",
      "Epoch 17/20\n",
      "180/180 [==============================] - 0s 102us/sample - loss: 0.0805 - acc: 0.9444 - mean_squared_error: 0.0805 - val_loss: 0.0791 - val_acc: 1.0000 - val_mean_squared_error: 0.0791\n",
      "Epoch 18/20\n",
      "180/180 [==============================] - 0s 89us/sample - loss: 0.0775 - acc: 0.9500 - mean_squared_error: 0.0775 - val_loss: 0.0769 - val_acc: 1.0000 - val_mean_squared_error: 0.0769\n",
      "Epoch 19/20\n",
      "180/180 [==============================] - 0s 85us/sample - loss: 0.0745 - acc: 0.9500 - mean_squared_error: 0.0745 - val_loss: 0.0744 - val_acc: 1.0000 - val_mean_squared_error: 0.0744\n",
      "Epoch 20/20\n",
      "180/180 [==============================] - 0s 83us/sample - loss: 0.0715 - acc: 0.9500 - mean_squared_error: 0.0715 - val_loss: 0.0723 - val_acc: 1.0000 - val_mean_squared_error: 0.0723\n",
      "Done training!\n"
     ]
    }
   ],
   "source": [
    "# now train the network\n",
    "#\n",
    "# training requires training patterns (train_image_vec) and teachers (train_labels_onehot)\n",
    "#\n",
    "# sets # training epochs, validation (described later), and batch_size\n",
    "#\n",
    "# set verbose=True to see training unfold\n",
    "history = network.fit(train_array, \n",
    "                      train_labels_onehot, \n",
    "                      verbose=True, \n",
    "                      validation_split=.1, \n",
    "                      epochs=20, \n",
    "                      batch_size=128)\n",
    "print('Done training!')\n",
    "\n",
    "# if run this again, it will do more training on the same network"
   ]
  },
  {
   "cell_type": "markdown",
   "id": "80749519-6a30-47d8-9b0a-95641d357c00",
   "metadata": {},
   "source": [
    "<hr>\n",
    "\n",
    "<b>Q2 (2 points).</b> Create a plot of training accuracy as a function of epoch (with axes properly labeled)."
   ]
  },
  {
   "cell_type": "code",
   "execution_count": 31,
   "id": "442f7e24-9f3c-431c-9e8a-239d742717a6",
   "metadata": {},
   "outputs": [
    {
     "name": "stdout",
     "output_type": "stream",
     "text": [
      "dict_keys(['loss', 'acc', 'mean_squared_error', 'val_loss', 'val_acc', 'val_mean_squared_error'])\n"
     ]
    },
    {
     "data": {
      "image/png": "[encoded data removed]",
      "text/plain": [
       "<Figure size 432x288 with 1 Axes>"
      ]
     },
     "metadata": {
      "needs_background": "light"
     },
     "output_type": "display_data"
    }
   ],
   "source": [
    "print(history.history.keys())\n",
    "\n",
    "def plot_model_acc(history):\n",
    "    \"\"\"Accuracy Plotting Function\"\"\"\n",
    "    plt.plot(history.history['acc'])\n",
    "    plt.plot(history.history['val_acc'])\n",
    "    plt.title('Model Accuracy As a Function of Number of Epochs Trained')\n",
    "    plt.ylabel('Accuracy')\n",
    "    plt.xlabel('Epoch')\n",
    "    plt.legend(['train', 'validation'], loc='lower right')\n",
    "    plt.show()\n",
    "    \n",
    "plot_model_acc(history)"
   ]
  },
  {
   "cell_type": "markdown",
   "id": "7f8e6000-7ff4-4f57-868f-afc954d16d42",
   "metadata": {},
   "source": [
    "<hr>\n",
    "\n",
    "<b>Q3 (3 points).</b> Explore what happens when you (a) set the batch size equal to 1 (so that weights get updated after every training pattern), and (b) set the batch size equal to the total number of training patterns (so that weights get updated once per epoch after all of the training patterns have been shown). "
   ]
  },
  {
   "cell_type": "code",
   "execution_count": 33,
   "id": "8627e528-7545-401b-a1f9-4f8ac4fe7c92",
   "metadata": {},
   "outputs": [
    {
     "name": "stdout",
     "output_type": "stream",
     "text": [
      "Train on 180 samples, validate on 20 samples\n",
      "Epoch 1/20\n",
      "180/180 [==============================] - 1s 3ms/sample - loss: 0.3612 - acc: 0.9611 - mean_squared_error: 0.3612 - val_loss: 0.0557 - val_acc: 1.0000 - val_mean_squared_error: 0.0557\n",
      "Epoch 2/20\n",
      "180/180 [==============================] - 0s 2ms/sample - loss: 0.0514 - acc: 0.9722 - mean_squared_error: 0.0514 - val_loss: 0.0486 - val_acc: 1.0000 - val_mean_squared_error: 0.0486\n",
      "Epoch 3/20\n",
      "180/180 [==============================] - 0s 2ms/sample - loss: 0.0481 - acc: 0.9889 - mean_squared_error: 0.0481 - val_loss: 0.0560 - val_acc: 1.0000 - val_mean_squared_error: 0.0560\n",
      "Epoch 4/20\n",
      "180/180 [==============================] - 0s 2ms/sample - loss: 0.0473 - acc: 0.9833 - mean_squared_error: 0.0473 - val_loss: 0.0487 - val_acc: 1.0000 - val_mean_squared_error: 0.0487\n",
      "Epoch 5/20\n",
      "180/180 [==============================] - 0s 2ms/sample - loss: 0.0500 - acc: 0.9833 - mean_squared_error: 0.0500 - val_loss: 0.0464 - val_acc: 1.0000 - val_mean_squared_error: 0.0464\n",
      "Epoch 6/20\n",
      "180/180 [==============================] - 0s 2ms/sample - loss: 0.0492 - acc: 0.9722 - mean_squared_error: 0.0492 - val_loss: 0.0602 - val_acc: 0.9500 - val_mean_squared_error: 0.0602\n",
      "Epoch 7/20\n",
      "180/180 [==============================] - 0s 2ms/sample - loss: 0.0480 - acc: 0.9778 - mean_squared_error: 0.0480 - val_loss: 0.0546 - val_acc: 1.0000 - val_mean_squared_error: 0.0546\n",
      "Epoch 8/20\n",
      "180/180 [==============================] - 0s 2ms/sample - loss: 0.0486 - acc: 0.9944 - mean_squared_error: 0.0486 - val_loss: 0.0481 - val_acc: 1.0000 - val_mean_squared_error: 0.0481\n",
      "Epoch 9/20\n",
      "180/180 [==============================] - 0s 2ms/sample - loss: 0.0478 - acc: 0.9889 - mean_squared_error: 0.0478 - val_loss: 0.0473 - val_acc: 1.0000 - val_mean_squared_error: 0.0473\n",
      "Epoch 10/20\n",
      "180/180 [==============================] - 0s 2ms/sample - loss: 0.0493 - acc: 0.9889 - mean_squared_error: 0.0493 - val_loss: 0.1098 - val_acc: 0.8500 - val_mean_squared_error: 0.1098\n",
      "Epoch 11/20\n",
      "180/180 [==============================] - 0s 2ms/sample - loss: 0.0482 - acc: 0.9778 - mean_squared_error: 0.0482 - val_loss: 0.0554 - val_acc: 0.9500 - val_mean_squared_error: 0.0554\n",
      "Epoch 12/20\n",
      "180/180 [==============================] - 0s 2ms/sample - loss: 0.0496 - acc: 0.9778 - mean_squared_error: 0.0496 - val_loss: 0.0661 - val_acc: 1.0000 - val_mean_squared_error: 0.0661\n",
      "Epoch 13/20\n",
      "180/180 [==============================] - 0s 2ms/sample - loss: 0.0504 - acc: 0.9833 - mean_squared_error: 0.0504 - val_loss: 0.0465 - val_acc: 1.0000 - val_mean_squared_error: 0.0465\n",
      "Epoch 14/20\n",
      "180/180 [==============================] - 0s 2ms/sample - loss: 0.0499 - acc: 0.9889 - mean_squared_error: 0.0499 - val_loss: 0.0898 - val_acc: 0.8500 - val_mean_squared_error: 0.0898\n",
      "Epoch 15/20\n",
      "180/180 [==============================] - 0s 2ms/sample - loss: 0.0494 - acc: 0.9778 - mean_squared_error: 0.0494 - val_loss: 0.0518 - val_acc: 1.0000 - val_mean_squared_error: 0.0518\n",
      "Epoch 16/20\n",
      "180/180 [==============================] - 0s 2ms/sample - loss: 0.0483 - acc: 0.9833 - mean_squared_error: 0.0483 - val_loss: 0.0554 - val_acc: 1.0000 - val_mean_squared_error: 0.0554\n",
      "Epoch 17/20\n",
      "180/180 [==============================] - 0s 2ms/sample - loss: 0.0484 - acc: 0.9889 - mean_squared_error: 0.0484 - val_loss: 0.0470 - val_acc: 1.0000 - val_mean_squared_error: 0.0470\n",
      "Epoch 18/20\n",
      "180/180 [==============================] - 0s 2ms/sample - loss: 0.0489 - acc: 0.9722 - mean_squared_error: 0.0489 - val_loss: 0.0552 - val_acc: 1.0000 - val_mean_squared_error: 0.0552\n",
      "Epoch 19/20\n",
      "180/180 [==============================] - 0s 2ms/sample - loss: 0.0492 - acc: 0.9889 - mean_squared_error: 0.0492 - val_loss: 0.0478 - val_acc: 1.0000 - val_mean_squared_error: 0.0478\n",
      "Epoch 20/20\n",
      "180/180 [==============================] - 0s 2ms/sample - loss: 0.0489 - acc: 0.9889 - mean_squared_error: 0.0489 - val_loss: 0.0494 - val_acc: 1.0000 - val_mean_squared_error: 0.0494\n",
      "Done training!\n"
     ]
    }
   ],
   "source": [
    "# Batch size equal to 1\n",
    "bs1_network = create_network()\n",
    "bs1_history = bs1_network.fit(train_array, \n",
    "                      train_labels_onehot, \n",
    "                      verbose=True, \n",
    "                      validation_split=.1, \n",
    "                      epochs=20, \n",
    "                      batch_size=1)\n",
    "print('Done training!')"
   ]
  },
  {
   "cell_type": "code",
   "execution_count": 37,
   "id": "a595bcf7",
   "metadata": {},
   "outputs": [
    {
     "data": {
      "image/png": "[encoded data removed]",
      "text/plain": [
       "<Figure size 432x288 with 1 Axes>"
      ]
     },
     "metadata": {
      "needs_background": "light"
     },
     "output_type": "display_data"
    }
   ],
   "source": [
    "plot_model_acc(bs1_history)"
   ]
  },
  {
   "cell_type": "code",
   "execution_count": 38,
   "id": "4218874e",
   "metadata": {},
   "outputs": [
    {
     "name": "stdout",
     "output_type": "stream",
     "text": [
      "Train on 180 samples, validate on 20 samples\n",
      "Epoch 1/20\n",
      "180/180 [==============================] - 0s 1ms/sample - loss: 3.1379 - acc: 0.4000 - mean_squared_error: 3.1379 - val_loss: 4.3246 - val_acc: 0.0000e+00 - val_mean_squared_error: 4.3246\n",
      "Epoch 2/20\n",
      "180/180 [==============================] - 0s 44us/sample - loss: 2.2367 - acc: 0.4111 - mean_squared_error: 2.2367 - val_loss: 2.9604 - val_acc: 0.0500 - val_mean_squared_error: 2.9604\n",
      "Epoch 3/20\n",
      "180/180 [==============================] - 0s 39us/sample - loss: 1.6421 - acc: 0.4389 - mean_squared_error: 1.6421 - val_loss: 2.0669 - val_acc: 0.1500 - val_mean_squared_error: 2.0669\n",
      "Epoch 4/20\n",
      "180/180 [==============================] - 0s 45us/sample - loss: 1.2475 - acc: 0.4611 - mean_squared_error: 1.2475 - val_loss: 1.4801 - val_acc: 0.1500 - val_mean_squared_error: 1.4801\n",
      "Epoch 5/20\n",
      "180/180 [==============================] - 0s 61us/sample - loss: 0.9836 - acc: 0.5000 - mean_squared_error: 0.9836 - val_loss: 1.0932 - val_acc: 0.2500 - val_mean_squared_error: 1.0932\n",
      "Epoch 6/20\n",
      "180/180 [==============================] - 0s 49us/sample - loss: 0.8050 - acc: 0.5389 - mean_squared_error: 0.8050 - val_loss: 0.8367 - val_acc: 0.3000 - val_mean_squared_error: 0.8367\n",
      "Epoch 7/20\n",
      "180/180 [==============================] - 0s 50us/sample - loss: 0.6823 - acc: 0.5500 - mean_squared_error: 0.6823 - val_loss: 0.6653 - val_acc: 0.3000 - val_mean_squared_error: 0.6653\n",
      "Epoch 8/20\n",
      "180/180 [==============================] - 0s 50us/sample - loss: 0.5962 - acc: 0.5611 - mean_squared_error: 0.5962 - val_loss: 0.5494 - val_acc: 0.4000 - val_mean_squared_error: 0.5494\n",
      "Epoch 9/20\n",
      "180/180 [==============================] - 0s 44us/sample - loss: 0.5344 - acc: 0.5944 - mean_squared_error: 0.5344 - val_loss: 0.4699 - val_acc: 0.4500 - val_mean_squared_error: 0.4699\n",
      "Epoch 10/20\n",
      "180/180 [==============================] - 0s 50us/sample - loss: 0.4885 - acc: 0.6167 - mean_squared_error: 0.4885 - val_loss: 0.4141 - val_acc: 0.5500 - val_mean_squared_error: 0.4141\n",
      "Epoch 11/20\n",
      "180/180 [==============================] - 0s 50us/sample - loss: 0.4532 - acc: 0.6167 - mean_squared_error: 0.4532 - val_loss: 0.3741 - val_acc: 0.6000 - val_mean_squared_error: 0.3741\n",
      "Epoch 12/20\n",
      "180/180 [==============================] - 0s 53us/sample - loss: 0.4251 - acc: 0.6389 - mean_squared_error: 0.4251 - val_loss: 0.3444 - val_acc: 0.7000 - val_mean_squared_error: 0.3444\n",
      "Epoch 13/20\n",
      "180/180 [==============================] - 0s 56us/sample - loss: 0.4019 - acc: 0.6611 - mean_squared_error: 0.4019 - val_loss: 0.3216 - val_acc: 0.7000 - val_mean_squared_error: 0.3216\n",
      "Epoch 14/20\n",
      "180/180 [==============================] - 0s 58us/sample - loss: 0.3821 - acc: 0.6667 - mean_squared_error: 0.3821 - val_loss: 0.3034 - val_acc: 0.7000 - val_mean_squared_error: 0.3034\n",
      "Epoch 15/20\n",
      "180/180 [==============================] - 0s 55us/sample - loss: 0.3647 - acc: 0.6833 - mean_squared_error: 0.3647 - val_loss: 0.2883 - val_acc: 0.7500 - val_mean_squared_error: 0.2883\n",
      "Epoch 16/20\n",
      "180/180 [==============================] - 0s 53us/sample - loss: 0.3491 - acc: 0.6889 - mean_squared_error: 0.3491 - val_loss: 0.2755 - val_acc: 0.8500 - val_mean_squared_error: 0.2755\n",
      "Epoch 17/20\n",
      "180/180 [==============================] - 0s 70us/sample - loss: 0.3348 - acc: 0.6944 - mean_squared_error: 0.3348 - val_loss: 0.2641 - val_acc: 0.8500 - val_mean_squared_error: 0.2641\n",
      "Epoch 18/20\n",
      "180/180 [==============================] - 0s 60us/sample - loss: 0.3215 - acc: 0.7111 - mean_squared_error: 0.3215 - val_loss: 0.2539 - val_acc: 0.8500 - val_mean_squared_error: 0.2539\n",
      "Epoch 19/20\n",
      "180/180 [==============================] - 0s 64us/sample - loss: 0.3091 - acc: 0.7222 - mean_squared_error: 0.3091 - val_loss: 0.2446 - val_acc: 0.8500 - val_mean_squared_error: 0.2446\n",
      "Epoch 20/20\n",
      "180/180 [==============================] - 0s 59us/sample - loss: 0.2974 - acc: 0.7333 - mean_squared_error: 0.2974 - val_loss: 0.2359 - val_acc: 0.9000 - val_mean_squared_error: 0.2359\n",
      "Done training!\n"
     ]
    }
   ],
   "source": [
    "# Batch size equal to the number of training patterns\n",
    "bse_network = create_network()\n",
    "bse_history = bse_network.fit(train_array, \n",
    "                      train_labels_onehot, \n",
    "                      verbose=True, \n",
    "                      validation_split=.1, \n",
    "                      epochs=20, \n",
    "                      batch_size=train_array.shape[0])\n",
    "print('Done training!')"
   ]
  },
  {
   "cell_type": "code",
   "execution_count": 39,
   "id": "cf31dd17",
   "metadata": {},
   "outputs": [
    {
     "data": {
      "image/png": "[encoded data removed]",
      "text/plain": [
       "<Figure size 432x288 with 1 Axes>"
      ]
     },
     "metadata": {
      "needs_background": "light"
     },
     "output_type": "display_data"
    }
   ],
   "source": [
    "plot_model_acc(bse_history)"
   ]
  },
  {
   "cell_type": "markdown",
   "id": "f6cf124a-3804-40ce-a35d-0b3eec27cd9b",
   "metadata": {},
   "source": [
    "<hr>\n",
    "\n",
    "<b>Q4 (4 points).</b> Homework5.ipynb provides code that generates an array of test patterns and provides a plottest() function that displays a shaded contour plot of network predictions on these test patterns (these were discussed in class). All you need to do is apply these test patterns to the trained network from Q1 and plot the results using the plottest() function. "
   ]
  },
  {
   "cell_type": "code",
   "execution_count": 40,
   "id": "6ff3cecf-c7fd-4b64-81eb-23c9bca73f66",
   "metadata": {},
   "outputs": [],
   "source": [
    "# generate test pattern array for Q4\n",
    "\n",
    "xymin = -5\n",
    "xymax = 7.5\n",
    "Npts = 50\n",
    "xv, yv = np.meshgrid(np.linspace(xymin, xymax, Npts), \n",
    "                     np.linspace(xymin, xymax, Npts))\n",
    "test_pats = np.concatenate((xv.reshape((Npts*Npts,1)), \n",
    "                            yv.reshape((Npts*Npts,1))), axis=1)"
   ]
  },
  {
   "cell_type": "code",
   "execution_count": 47,
   "id": "fb9e3b07",
   "metadata": {},
   "outputs": [
    {
     "data": {
      "image/png": "[encoded data removed]",
      "text/plain": [
       "<Figure size 432x288 with 1 Axes>"
      ]
     },
     "metadata": {
      "needs_background": "light"
     },
     "output_type": "display_data"
    }
   ],
   "source": [
    "# plot example\n",
    "plt.plot(sample0[:,0],sample0[:,1],'b+',sample1[:,0],sample1[:,1],'r+')\n",
    "plt.xlabel('dim1')\n",
    "plt.ylabel('dim2')\n",
    "plt.axis('equal')\n",
    "plt.axis('square')\n",
    "plt.legend(('class 0', 'class 1'), loc='lower right')\n",
    "xymin = -5; xymax = 7.5\n",
    "plt.ylim((xymin,xymax))\n",
    "plt.xlim((xymin,xymax))\n",
    "plt.show()"
   ]
  },
  {
   "cell_type": "code",
   "execution_count": 91,
   "id": "12495a74",
   "metadata": {},
   "outputs": [
    {
     "name": "stdout",
     "output_type": "stream",
     "text": [
      "(2500, 2)\n",
      "[[-5.         -5.        ]\n",
      " [-4.74489796 -5.        ]\n",
      " [-4.48979592 -5.        ]\n",
      " ...\n",
      " [ 6.98979592  7.5       ]\n",
      " [ 7.24489796  7.5       ]\n",
      " [ 7.5         7.5       ]]\n"
     ]
    },
    {
     "data": {
      "image/png": "[encoded data removed]",
      "text/plain": [
       "<Figure size 432x288 with 1 Axes>"
      ]
     },
     "metadata": {
      "needs_background": "light"
     },
     "output_type": "display_data"
    }
   ],
   "source": [
    "print(test_pats.shape)\n",
    "\n",
    "print(test_pats)\n",
    "\n",
    "# train_labels_onehot = [0]*len(sample0) + [1]*len(sample1)\n",
    "test_labels_onehot = [0]*test_pats.shape[0]\n",
    "\n",
    "# plot example\n",
    "for idx in range((test_pats.shape[0])):\n",
    "    point = test_pats[idx,:]\n",
    "    if point[1]>((-1*point[0]+4)):\n",
    "        test_labels_onehot[idx] = 1\n",
    "        plt.plot(point[0],point[1],'r+')\n",
    "    else:\n",
    "        plt.plot(point[0],point[1],'b+')\n",
    "plt.xlabel('dim1')\n",
    "plt.ylabel('dim2')\n",
    "plt.axis('equal')\n",
    "plt.axis('square')\n",
    "#plt.legend(('class 0', 'class 1'), loc='lower right')\n",
    "xymin = -5; xymax = 7.5\n",
    "#plt.ylim((xymin,xymax))\n",
    "#plt.xlim((xymin,xymax))\n",
    "plt.show()\n",
    "\n",
    "test_labels_onehot = np.array(test_labels_onehot).reshape((test_pats.shape[0],1))"
   ]
  },
  {
   "cell_type": "code",
   "execution_count": 41,
   "id": "1099f68f-6117-451d-858a-851d88c89f94",
   "metadata": {},
   "outputs": [],
   "source": [
    "# function for generating plot for Q4\n",
    "# xv is array of x-values of test grid (from meshgrid)\n",
    "# yv is array of y-values of test grid (from meshgrid)\n",
    "# out is the output of the neural network given the test patterns\n",
    "# sample0, sample1 are the training patterns from earlier\n",
    "\n",
    "def plottest(xv, yv, out, sample0, sample1):\n",
    "    # reshape out\n",
    "    zv = out.reshape(xv.shape)\n",
    "\n",
    "    # create figure\n",
    "    fig = plt.figure()\n",
    "    plt.contourf(xv, yv, zv, levels=xv.shape[0], cmap=plt.cm.gist_yarg)\n",
    "    plt.plot(sample0[:,0], sample0[:,1], 'b+', \n",
    "             sample1[:,0], sample1[:,1], 'r+')    \n",
    "    \n",
    "    plt.xlabel('dim1')\n",
    "    plt.ylabel('dim2')\n",
    "    plt.axis('equal')\n",
    "    plt.axis('square')\n",
    "    xymin = -5; xymax = 7.5\n",
    "    plt.ylim((xymin,xymax))\n",
    "    plt.xlim((xymin,xymax))\n",
    "    plt.show()"
   ]
  },
  {
   "cell_type": "code",
   "execution_count": 75,
   "id": "6f2fbffd",
   "metadata": {},
   "outputs": [
    {
     "name": "stdout",
     "output_type": "stream",
     "text": [
      "(2500, 2)\n",
      "(2500, 1)\n"
     ]
    }
   ],
   "source": [
    "print(test_pats.shape)\n",
    "print(test_labels_onehot.shape)"
   ]
  },
  {
   "cell_type": "code",
   "execution_count": 94,
   "id": "2f8b403e-aca9-46ff-8b95-4a9e95fbe5c0",
   "metadata": {
    "scrolled": true
   },
   "outputs": [
    {
     "name": "stdout",
     "output_type": "stream",
     "text": [
      "test_loss (MSE)     : 0.48250903363227843\n",
      "test_acc (%Correct) : 0.77920001745224\n"
     ]
    }
   ],
   "source": [
    "# call network.evaluate() if you have test patterns and test answers and want to know performance\n",
    "results = network.evaluate(test_pats, \n",
    "                           test_labels_onehot, \n",
    "                           verbose=False)\n",
    "\n",
    "test_loss = results[0]\n",
    "test_acc = results[1]\n",
    "\n",
    "print('test_loss (MSE)     : {}'.format(test_loss))\n",
    "print('test_acc (%Correct) : {}'.format(test_acc))\n",
    "\n",
    "out = network.predict(\n",
    "   test_pats, \n",
    "   batch_size = None, \n",
    "   verbose = 0, \n",
    "   max_queue_size = 10, \n",
    "   workers = 1, \n",
    "   use_multiprocessing = False)"
   ]
  },
  {
   "cell_type": "code",
   "execution_count": 93,
   "id": "9cb25de4",
   "metadata": {},
   "outputs": [
    {
     "data": {
      "image/png": "[encoded data removed]",
      "text/plain": [
       "<Figure size 432x288 with 1 Axes>"
      ]
     },
     "metadata": {
      "needs_background": "light"
     },
     "output_type": "display_data"
    }
   ],
   "source": [
    "plottest(xv, yv, out, sample0, sample1)"
   ]
  },
  {
   "cell_type": "code",
   "execution_count": null,
   "id": "743d62ec",
   "metadata": {},
   "outputs": [],
   "source": []
  }
 ],
 "metadata": {
  "kernelspec": {
   "display_name": "Python 3 (ipykernel)",
   "language": "python",
   "name": "python3"
  },
  "language_info": {
   "codemirror_mode": {
    "name": "ipython",
    "version": 3
   },
   "file_extension": ".py",
   "mimetype": "text/x-python",
   "name": "python",
   "nbconvert_exporter": "python",
   "pygments_lexer": "ipython3",
   "version": "3.7.11"
  }
 },
 "nbformat": 4,
 "nbformat_minor": 5
}
