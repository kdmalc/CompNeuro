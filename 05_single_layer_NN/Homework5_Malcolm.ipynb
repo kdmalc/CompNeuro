{
 "cells": [
  {
   "cell_type": "markdown",
   "id": "2cf8a58b-78d8-44e8-a564-e79f107e5d51",
   "metadata": {},
   "source": [
    "## Homework 5 Starting Code"
   ]
  },
  {
   "cell_type": "code",
   "execution_count": 1,
   "id": "0cde26b2-a1ee-4cd8-ad28-21976361867e",
   "metadata": {},
   "outputs": [],
   "source": [
    "import numpy as np\n",
    "import matplotlib.pyplot as plt\n",
    "import numpy.random as R\n",
    "\n",
    "# supress unnecessary warnings\n",
    "import os\n",
    "os.environ['TF_CPP_MIN_LOG_LEVEL']='2'"
   ]
  },
  {
   "cell_type": "code",
   "execution_count": 2,
   "id": "bd903e6c-e33e-4453-b177-8cc40f9eff9f",
   "metadata": {},
   "outputs": [],
   "source": [
    "## generate N random samples from a 2D multivariate normal distribution\n",
    "##\n",
    "## with mean [mx, my]\n",
    "##\n",
    "## with covariance matrix [[  sx*sx, r*sx*sy],\n",
    "##                         [r*sx*sy,   sy*sy]]\n",
    "## where sx is the standard deviation along the x dimension\n",
    "## where sy is the standard deviation along the y dimension\n",
    "## where r is the correlation between the dimensions\n",
    "##\n",
    "\n",
    "def gensamples(N, mx, my, sx, sy, r):\n",
    "    M   = np.array([mx, my])\n",
    "    Cov = np.array([[  sx*sx, r*sx*sy],\n",
    "                    [r*sx*sy,   sy*sy]])\n",
    "    return (R.multivariate_normal(M, Cov, size=N, check_valid='warn'))"
   ]
  },
  {
   "cell_type": "code",
   "execution_count": 3,
   "id": "6398a377-8afd-4ec8-ba27-1cb4a6eedbf2",
   "metadata": {},
   "outputs": [
    {
     "data": {
      "image/png": "[encoded data removed]",
      "text/plain": [
       "<Figure size 432x288 with 1 Axes>"
      ]
     },
     "metadata": {
      "needs_background": "light"
     },
     "output_type": "display_data"
    }
   ],
   "source": [
    "# classification problem used in Q1\n",
    "\n",
    "mx0 = 0.;  my0 = 0.\n",
    "sx0 = 1.;  sy0 = 1.\n",
    "r0 = 0.\n",
    "\n",
    "mx1 = 3.; my1 = 3.\n",
    "sx1 = 1.; sy1 = 1.\n",
    "r1 = 0.\n",
    "\n",
    "N = 100\n",
    "\n",
    "sample0 = gensamples(N, mx0, my0, sx0, sy0, r0)\n",
    "\n",
    "sample1 = gensamples(N, mx1, my1, sx1, sy1, r1)\n",
    "\n",
    "# plot example\n",
    "plt.plot(sample0[:,0],sample0[:,1],'b+',sample1[:,0],sample1[:,1],'r+')\n",
    "plt.xlabel('dim1')\n",
    "plt.ylabel('dim2')\n",
    "plt.axis('equal')\n",
    "plt.axis('square')\n",
    "plt.legend(('class 0', 'class 1'), loc='lower right')\n",
    "xymin = -5; xymax = 7.5\n",
    "plt.ylim((xymin,xymax))\n",
    "plt.xlim((xymin,xymax))\n",
    "plt.show()"
   ]
  },
  {
   "cell_type": "markdown",
   "id": "9990f63b-6ffc-4803-958c-be2e9c72b905",
   "metadata": {},
   "source": [
    "<hr>\n",
    "\n",
    "<b>Q1 (10 point).</b> Write Keras code to learn this classification problem with a neural network with an input layer containing two nodes (for the x and y dimension) and output node. "
   ]
  },
  {
   "cell_type": "code",
   "execution_count": 44,
   "id": "8d41837e",
   "metadata": {},
   "outputs": [],
   "source": [
    "from tensorflow.keras import models\n",
    "from tensorflow.keras import layers\n",
    "from tensorflow.keras import optimizers\n",
    "os.environ['TF_CPP_MIN_LOG_LEVEL']='2'"
   ]
  },
  {
   "cell_type": "code",
   "execution_count": 5,
   "id": "dce908f5",
   "metadata": {},
   "outputs": [],
   "source": [
    "def plot_model_acc(history):\n",
    "    \"\"\"Accuracy Plotting Function\"\"\"\n",
    "    plt.plot(history.history['acc'])\n",
    "    plt.plot(history.history['val_acc'])\n",
    "    plt.title('Model Accuracy As a Function of Number of Epochs Trained')\n",
    "    plt.ylabel('Accuracy')\n",
    "    plt.xlabel('Epoch')\n",
    "    plt.legend(['train', 'validation'], loc='lower right')\n",
    "    plt.show()"
   ]
  },
  {
   "cell_type": "code",
   "execution_count": 6,
   "id": "424d86de-fa91-43b6-8fd8-bedd36fc1b1c",
   "metadata": {},
   "outputs": [
    {
     "name": "stdout",
     "output_type": "stream",
     "text": [
      "WARNING:tensorflow:From C:\\Users\\kdmen\\miniconda3\\envs\\NSCenv\\lib\\site-packages\\tensorflow\\python\\ops\\init_ops.py:1251: calling VarianceScaling.__init__ (from tensorflow.python.ops.init_ops) with dtype is deprecated and will be removed in a future version.\n",
      "Instructions for updating:\n",
      "Call initializer instance with the dtype argument instead of passing it to the constructor\n",
      "Model: \"sequential_1\"\n",
      "_________________________________________________________________\n",
      "Layer (type)                 Output Shape              Param #   \n",
      "=================================================================\n",
      "dense (Dense)                (None, 1)                 3         \n",
      "=================================================================\n",
      "Total params: 3\n",
      "Trainable params: 3\n",
      "Non-trainable params: 0\n",
      "_________________________________________________________________\n",
      "None\n",
      "************************************************\n",
      "\n",
      "layer name : dense | input shape : (?, 2) | output shape : (?, 1)\n",
      "************************************************\n",
      "\n",
      "{'name': 'dense', 'trainable': True, 'batch_input_shape': (None, 2), 'dtype': 'float32', 'units': 1, 'activation': 'linear', 'use_bias': True, 'kernel_initializer': {'class_name': 'GlorotUniform', 'config': {'seed': None, 'dtype': 'float32'}}, 'bias_initializer': {'class_name': 'Zeros', 'config': {'dtype': 'float32'}}, 'kernel_regularizer': None, 'bias_regularizer': None, 'activity_regularizer': None, 'kernel_constraint': None, 'bias_constraint': None}\n",
      "\n"
     ]
    }
   ],
   "source": [
    "network = models.Sequential()\n",
    "\n",
    "nin  = 2\n",
    "nout = 1\n",
    "\n",
    "network = models.Sequential()\n",
    "network.add(layers.Dense(nout, \n",
    "                         activation='linear', \n",
    "                         input_shape=(nin,)))\n",
    "\n",
    "print(network.summary())\n",
    "print('************************************************\\n')\n",
    "\n",
    "for layer in network.layers:\n",
    "    print('layer name : {} | input shape : {} | output shape : {}'.format(layer.name, layer.input.shape, layer.output.shape))\n",
    "print('************************************************\\n')\n",
    "\n",
    "for layer in network.layers:\n",
    "    print(layer.get_config())\n",
    "print()"
   ]
  },
  {
   "cell_type": "code",
   "execution_count": 7,
   "id": "beafa23e",
   "metadata": {},
   "outputs": [],
   "source": [
    "# compile network\n",
    "#\n",
    "# configures the network for training, specifying optimizer and loss function\n",
    "#\n",
    "# optimizer='sgd'           : stochastic gradient descent (simplest, not the smartest)\n",
    "# loss='mean_squared_error' : uses MSE (MSE = 1/N * SSE)\n",
    "# metrics=['accuracy']      : what is printed when verbose=True\n",
    "\n",
    "# configure optimizer\n",
    "sgd = optimizers.SGD(learning_rate=0.01, decay=1e-6, momentum=0.9)\n",
    "\n",
    "network.compile(optimizer=sgd, \n",
    "                loss='mean_squared_error', \n",
    "                metrics=['accuracy', 'mse'])"
   ]
  },
  {
   "cell_type": "code",
   "execution_count": 8,
   "id": "3c41842d",
   "metadata": {},
   "outputs": [],
   "source": [
    "def create_network(nin=2, nout=1):\n",
    "    network = models.Sequential()\n",
    "\n",
    "    network = models.Sequential()\n",
    "    network.add(layers.Dense(nout, \n",
    "                             activation='linear', \n",
    "                             input_shape=(nin,)))\n",
    "    \n",
    "    # configure optimizer\n",
    "    sgd = optimizers.SGD(learning_rate=0.01, decay=1e-6, momentum=0.9)\n",
    "\n",
    "    network.compile(optimizer=sgd, \n",
    "                    loss='mean_squared_error', \n",
    "                    metrics=['accuracy', 'mse'])\n",
    "    \n",
    "    return network"
   ]
  },
  {
   "cell_type": "code",
   "execution_count": 9,
   "id": "d06da8c4",
   "metadata": {},
   "outputs": [],
   "source": [
    "train_0s = np.zeros((sample0.shape[0],1), dtype=int)\n",
    "train_1s = np.ones((sample1.shape[0],1), dtype=int)\n",
    "train_labels_onehot = np.concatenate((train_0s, train_1s))\n",
    "train_labels_onehot = train_labels_onehot.reshape(train_labels_onehot.shape[0],1)\n",
    "\n",
    "#print(train_labels_onehot)"
   ]
  },
  {
   "cell_type": "code",
   "execution_count": 10,
   "id": "5e8bc915",
   "metadata": {},
   "outputs": [
    {
     "name": "stdout",
     "output_type": "stream",
     "text": [
      "(200, 2)\n",
      "[0.021652965441503382, -0.6811371524730494]\n",
      "[ 0.02165297 -0.68113715]\n",
      "----------------------------------------\n",
      "[2.7074863677123364, 4.224232476271714]\n",
      "[2.70748637 4.22423248]\n"
     ]
    }
   ],
   "source": [
    "sample0_list = [list(sample) for sample in sample0]\n",
    "sample1_list = [list(sample) for sample in sample1]\n",
    "train_vec = list()\n",
    "train_vec.extend(sample0_list)\n",
    "train_vec.extend(sample1_list)\n",
    "\n",
    "train_array = np.array(train_vec)\n",
    "print(train_array.shape)\n",
    "print(sample0_list[0])\n",
    "print(train_array[0,:])\n",
    "print(\"----------------------------------------\")\n",
    "print(sample1_list[0])\n",
    "print(train_array[100,:])"
   ]
  },
  {
   "cell_type": "code",
   "execution_count": 11,
   "id": "6631993f",
   "metadata": {},
   "outputs": [
    {
     "name": "stdout",
     "output_type": "stream",
     "text": [
      "Train on 180 samples, validate on 20 samples\n",
      "Epoch 1/25\n",
      "180/180 [==============================] - 0s 2ms/sample - loss: 1.3693 - acc: 0.6500 - mean_squared_error: 1.3693 - val_loss: 0.6814 - val_acc: 0.3500 - val_mean_squared_error: 0.6814\n",
      "Epoch 2/25\n",
      "180/180 [==============================] - 0s 159us/sample - loss: 0.1700 - acc: 0.8833 - mean_squared_error: 0.1700 - val_loss: 0.0662 - val_acc: 1.0000 - val_mean_squared_error: 0.0662\n",
      "Epoch 3/25\n",
      "180/180 [==============================] - 0s 211us/sample - loss: 0.2206 - acc: 0.8000 - mean_squared_error: 0.2206 - val_loss: 0.1013 - val_acc: 1.0000 - val_mean_squared_error: 0.1013\n",
      "Epoch 4/25\n",
      "180/180 [==============================] - 0s 161us/sample - loss: 0.1061 - acc: 0.9222 - mean_squared_error: 0.1061 - val_loss: 0.0462 - val_acc: 1.0000 - val_mean_squared_error: 0.0462\n",
      "Epoch 5/25\n",
      "180/180 [==============================] - 0s 178us/sample - loss: 0.0669 - acc: 0.9667 - mean_squared_error: 0.0669 - val_loss: 0.0857 - val_acc: 0.9500 - val_mean_squared_error: 0.0857\n",
      "Epoch 6/25\n",
      "180/180 [==============================] - 0s 170us/sample - loss: 0.0700 - acc: 0.9333 - mean_squared_error: 0.0700 - val_loss: 0.0420 - val_acc: 1.0000 - val_mean_squared_error: 0.0420\n",
      "Epoch 7/25\n",
      "180/180 [==============================] - 0s 164us/sample - loss: 0.0541 - acc: 0.9611 - mean_squared_error: 0.0541 - val_loss: 0.0341 - val_acc: 1.0000 - val_mean_squared_error: 0.0341\n",
      "Epoch 8/25\n",
      "180/180 [==============================] - 0s 171us/sample - loss: 0.0524 - acc: 0.9611 - mean_squared_error: 0.0524 - val_loss: 0.0390 - val_acc: 1.0000 - val_mean_squared_error: 0.0390\n",
      "Epoch 9/25\n",
      "180/180 [==============================] - 0s 169us/sample - loss: 0.0488 - acc: 0.9722 - mean_squared_error: 0.0488 - val_loss: 0.0267 - val_acc: 1.0000 - val_mean_squared_error: 0.0267\n",
      "Epoch 10/25\n",
      "180/180 [==============================] - 0s 161us/sample - loss: 0.0502 - acc: 0.9611 - mean_squared_error: 0.0502 - val_loss: 0.0499 - val_acc: 1.0000 - val_mean_squared_error: 0.0499\n",
      "Epoch 11/25\n",
      "180/180 [==============================] - 0s 178us/sample - loss: 0.0527 - acc: 0.9667 - mean_squared_error: 0.0527 - val_loss: 0.0485 - val_acc: 1.0000 - val_mean_squared_error: 0.0485\n",
      "Epoch 12/25\n",
      "180/180 [==============================] - 0s 163us/sample - loss: 0.0517 - acc: 0.9611 - mean_squared_error: 0.0517 - val_loss: 0.0274 - val_acc: 1.0000 - val_mean_squared_error: 0.0274\n",
      "Epoch 13/25\n",
      "180/180 [==============================] - 0s 153us/sample - loss: 0.0510 - acc: 0.9722 - mean_squared_error: 0.0510 - val_loss: 0.0518 - val_acc: 1.0000 - val_mean_squared_error: 0.0518\n",
      "Epoch 14/25\n",
      "180/180 [==============================] - 0s 174us/sample - loss: 0.0538 - acc: 0.9778 - mean_squared_error: 0.0538 - val_loss: 0.0421 - val_acc: 1.0000 - val_mean_squared_error: 0.0421\n",
      "Epoch 15/25\n",
      "180/180 [==============================] - 0s 156us/sample - loss: 0.0507 - acc: 0.9722 - mean_squared_error: 0.0507 - val_loss: 0.0287 - val_acc: 1.0000 - val_mean_squared_error: 0.0287\n",
      "Epoch 16/25\n",
      "180/180 [==============================] - 0s 169us/sample - loss: 0.0485 - acc: 0.9778 - mean_squared_error: 0.0485 - val_loss: 0.0321 - val_acc: 1.0000 - val_mean_squared_error: 0.0321\n",
      "Epoch 17/25\n",
      "180/180 [==============================] - 0s 159us/sample - loss: 0.0490 - acc: 0.9778 - mean_squared_error: 0.0490 - val_loss: 0.0307 - val_acc: 1.0000 - val_mean_squared_error: 0.0307\n",
      "Epoch 18/25\n",
      "180/180 [==============================] - 0s 159us/sample - loss: 0.0509 - acc: 0.9722 - mean_squared_error: 0.0509 - val_loss: 0.0267 - val_acc: 1.0000 - val_mean_squared_error: 0.0267\n",
      "Epoch 19/25\n",
      "180/180 [==============================] - 0s 162us/sample - loss: 0.0519 - acc: 0.9667 - mean_squared_error: 0.0519 - val_loss: 0.0624 - val_acc: 1.0000 - val_mean_squared_error: 0.0624\n",
      "Epoch 20/25\n",
      "180/180 [==============================] - 0s 158us/sample - loss: 0.0529 - acc: 0.9722 - mean_squared_error: 0.0529 - val_loss: 0.0320 - val_acc: 1.0000 - val_mean_squared_error: 0.0320\n",
      "Epoch 21/25\n",
      "180/180 [==============================] - 0s 157us/sample - loss: 0.0495 - acc: 0.9722 - mean_squared_error: 0.0495 - val_loss: 0.0273 - val_acc: 1.0000 - val_mean_squared_error: 0.0273\n",
      "Epoch 22/25\n",
      "180/180 [==============================] - 0s 173us/sample - loss: 0.0500 - acc: 0.9778 - mean_squared_error: 0.0500 - val_loss: 0.0363 - val_acc: 1.0000 - val_mean_squared_error: 0.0363\n",
      "Epoch 23/25\n",
      "180/180 [==============================] - 0s 176us/sample - loss: 0.0515 - acc: 0.9778 - mean_squared_error: 0.0515 - val_loss: 0.0472 - val_acc: 1.0000 - val_mean_squared_error: 0.0472\n",
      "Epoch 24/25\n",
      "180/180 [==============================] - 0s 175us/sample - loss: 0.0484 - acc: 0.9778 - mean_squared_error: 0.0484 - val_loss: 0.0310 - val_acc: 1.0000 - val_mean_squared_error: 0.0310\n",
      "Epoch 25/25\n",
      "180/180 [==============================] - 0s 169us/sample - loss: 0.0515 - acc: 0.9611 - mean_squared_error: 0.0515 - val_loss: 0.0477 - val_acc: 1.0000 - val_mean_squared_error: 0.0477\n",
      "Done training!\n"
     ]
    },
    {
     "data": {
      "image/png": "[encoded data removed]",
      "text/plain": [
       "<Figure size 432x288 with 1 Axes>"
      ]
     },
     "metadata": {
      "needs_background": "light"
     },
     "output_type": "display_data"
    },
    {
     "name": "stdout",
     "output_type": "stream",
     "text": [
      "!!!!!!!!!!!!!!!!!!!!!!!!!!!!!!!!!!!!!!!!!!!!!!!!!!\n",
      "Network success!\n",
      "!!!!!!!!!!!!!!!!!!!!!!!!!!!!!!!!!!!!!!!!!!!!!!!!!!\n"
     ]
    }
   ],
   "source": [
    "# now train the network\n",
    "#\n",
    "# training requires training patterns (train_image_vec) and teachers (train_labels_onehot)\n",
    "#\n",
    "# sets # training epochs, validation (described later), and batch_size\n",
    "#\n",
    "# set verbose=True to see training unfold\n",
    "\n",
    "num_epochs = 25\n",
    "\n",
    "network = create_network()\n",
    "history = network.fit(train_array, \n",
    "                      train_labels_onehot, \n",
    "                      verbose=True, \n",
    "                      validation_split=.1, \n",
    "                      epochs=num_epochs, \n",
    "                      batch_size=20)\n",
    "print('Done training!')\n",
    "plot_model_acc(history)\n",
    "\n",
    "mean = sum(history.history['acc'][-20:])/len(history.history['acc'][-20:])\n",
    "upper = mean * 1.005 > history.history['acc'][-6]\n",
    "lower = mean * 0.995 < history.history['acc'][-6]\n",
    "\n",
    "if upper and lower:\n",
    "    print(\"!!!!!!!!!!!!!!!!!!!!!!!!!!!!!!!!!!!!!!!!!!!!!!!!!!\")\n",
    "    print(\"Network success!\")\n",
    "    print(\"!!!!!!!!!!!!!!!!!!!!!!!!!!!!!!!!!!!!!!!!!!!!!!!!!!\")\n",
    "else: \n",
    "    print(\"!!!!!!!!!!!!!!!!!!!!!!!!!!!!!!!!!!!!!!!!!!!!!!!!!!\")\n",
    "    print(\"Network failure\")\n",
    "    print(\"!!!!!!!!!!!!!!!!!!!!!!!!!!!!!!!!!!!!!!!!!!!!!!!!!!\")"
   ]
  },
  {
   "cell_type": "markdown",
   "id": "80749519-6a30-47d8-9b0a-95641d357c00",
   "metadata": {},
   "source": [
    "<hr>\n",
    "\n",
    "<b>Q2 (2 points).</b> Create a plot of training accuracy as a function of epoch (with axes properly labeled)."
   ]
  },
  {
   "cell_type": "code",
   "execution_count": 12,
   "id": "442f7e24-9f3c-431c-9e8a-239d742717a6",
   "metadata": {},
   "outputs": [
    {
     "name": "stdout",
     "output_type": "stream",
     "text": [
      "dict_keys(['loss', 'acc', 'mean_squared_error', 'val_loss', 'val_acc', 'val_mean_squared_error'])\n"
     ]
    },
    {
     "data": {
      "image/png": "[encoded data removed]",
      "text/plain": [
       "<Figure size 432x288 with 1 Axes>"
      ]
     },
     "metadata": {
      "needs_background": "light"
     },
     "output_type": "display_data"
    }
   ],
   "source": [
    "print(history.history.keys())\n",
    "    \n",
    "plot_model_acc(history)"
   ]
  },
  {
   "cell_type": "markdown",
   "id": "7f8e6000-7ff4-4f57-868f-afc954d16d42",
   "metadata": {},
   "source": [
    "<hr>\n",
    "\n",
    "<b>Q3 (3 points).</b> Explore what happens when you (a) set the batch size equal to 1 (so that weights get updated after every training pattern), and (b) set the batch size equal to the total number of training patterns (so that weights get updated once per epoch after all of the training patterns have been shown). "
   ]
  },
  {
   "cell_type": "code",
   "execution_count": 42,
   "id": "8627e528-7545-401b-a1f9-4f8ac4fe7c92",
   "metadata": {},
   "outputs": [
    {
     "name": "stdout",
     "output_type": "stream",
     "text": [
      "Train on 180 samples, validate on 20 samples\n",
      "Epoch 1/25\n",
      "180/180 [==============================] - 1s 6ms/sample - loss: 16.8280 - acc: 0.5833 - mean_squared_error: 16.8280 - val_loss: 22.4125 - val_acc: 1.0000 - val_mean_squared_error: 22.4125\n",
      "Epoch 2/25\n",
      "180/180 [==============================] - 0s 3ms/sample - loss: 3.4941 - acc: 0.6667 - mean_squared_error: 3.4941 - val_loss: 0.0959 - val_acc: 1.0000 - val_mean_squared_error: 0.0959\n",
      "Epoch 3/25\n",
      "180/180 [==============================] - 0s 3ms/sample - loss: 0.9079 - acc: 0.7667 - mean_squared_error: 0.9079 - val_loss: 2.3214 - val_acc: 1.0000 - val_mean_squared_error: 2.3214\n",
      "Epoch 4/25\n",
      "180/180 [==============================] - 1s 3ms/sample - loss: 130.1746 - acc: 0.6611 - mean_squared_error: 130.1746 - val_loss: 130.8421 - val_acc: 0.0000e+00 - val_mean_squared_error: 130.8421\n",
      "Epoch 5/25\n",
      "180/180 [==============================] - 0s 2ms/sample - loss: 7694.7177 - acc: 0.4889 - mean_squared_error: 7694.7183 - val_loss: 46088.7150 - val_acc: 0.9000 - val_mean_squared_error: 46088.7188\n",
      "Epoch 6/25\n",
      "180/180 [==============================] - 0s 3ms/sample - loss: 9206.2952 - acc: 0.4889 - mean_squared_error: 9206.2949 - val_loss: 2493.8833 - val_acc: 0.0000e+00 - val_mean_squared_error: 2493.8833\n",
      "Epoch 7/25\n",
      "180/180 [==============================] - 0s 2ms/sample - loss: 211.1288 - acc: 0.5389 - mean_squared_error: 211.1288 - val_loss: 0.1525 - val_acc: 0.8000 - val_mean_squared_error: 0.1525\n",
      "Epoch 8/25\n",
      "180/180 [==============================] - 0s 2ms/sample - loss: 7.2172 - acc: 0.6389 - mean_squared_error: 7.2172 - val_loss: 0.0957 - val_acc: 1.0000 - val_mean_squared_error: 0.0957\n",
      "Epoch 9/25\n",
      "180/180 [==============================] - 0s 2ms/sample - loss: 1.3219 - acc: 0.7722 - mean_squared_error: 1.3219 - val_loss: 5.3337 - val_acc: 1.0000 - val_mean_squared_error: 5.3337\n",
      "Epoch 10/25\n",
      "180/180 [==============================] - 0s 2ms/sample - loss: 1.0687 - acc: 0.7389 - mean_squared_error: 1.0687 - val_loss: 0.3094 - val_acc: 1.0000 - val_mean_squared_error: 0.3094\n",
      "Epoch 11/25\n",
      "180/180 [==============================] - 0s 2ms/sample - loss: 8.7814 - acc: 0.6722 - mean_squared_error: 8.7814 - val_loss: 7.0636 - val_acc: 0.0500 - val_mean_squared_error: 7.0636\n",
      "Epoch 12/25\n",
      "180/180 [==============================] - 0s 2ms/sample - loss: 1.6775 - acc: 0.6889 - mean_squared_error: 1.6775 - val_loss: 5.1066 - val_acc: 0.7000 - val_mean_squared_error: 5.1066\n",
      "Epoch 13/25\n",
      "180/180 [==============================] - 0s 2ms/sample - loss: 2.0792 - acc: 0.7222 - mean_squared_error: 2.0792 - val_loss: 1.5450 - val_acc: 1.0000 - val_mean_squared_error: 1.5450\n",
      "Epoch 14/25\n",
      "180/180 [==============================] - 0s 2ms/sample - loss: 2.0004 - acc: 0.7278 - mean_squared_error: 2.0004 - val_loss: 0.3435 - val_acc: 1.0000 - val_mean_squared_error: 0.3435\n",
      "Epoch 15/25\n",
      "180/180 [==============================] - 0s 2ms/sample - loss: 0.2592 - acc: 0.8889 - mean_squared_error: 0.2592 - val_loss: 2.1838 - val_acc: 0.0500 - val_mean_squared_error: 2.1838\n",
      "Epoch 16/25\n",
      "180/180 [==============================] - 0s 2ms/sample - loss: 2.7989 - acc: 0.6889 - mean_squared_error: 2.7989 - val_loss: 15.9708 - val_acc: 0.0000e+00 - val_mean_squared_error: 15.9708\n",
      "Epoch 17/25\n",
      "180/180 [==============================] - 0s 2ms/sample - loss: 394.9738 - acc: 0.5167 - mean_squared_error: 394.9738 - val_loss: 22.7705 - val_acc: 1.0000 - val_mean_squared_error: 22.7705\n",
      "Epoch 18/25\n",
      "180/180 [==============================] - 0s 2ms/sample - loss: 2190.4196 - acc: 0.5333 - mean_squared_error: 2190.4197 - val_loss: 52917.6777 - val_acc: 0.0000e+00 - val_mean_squared_error: 52917.6758\n",
      "Epoch 19/25\n",
      "180/180 [==============================] - 1s 3ms/sample - loss: 6151.7595 - acc: 0.5556 - mean_squared_error: 6151.7632 - val_loss: 0.7942 - val_acc: 1.0000 - val_mean_squared_error: 0.7942\n",
      "Epoch 20/25\n",
      "180/180 [==============================] - 0s 2ms/sample - loss: 0.6759 - acc: 0.7833 - mean_squared_error: 0.6759 - val_loss: 0.0603 - val_acc: 1.0000 - val_mean_squared_error: 0.0603\n",
      "Epoch 21/25\n",
      "180/180 [==============================] - 0s 2ms/sample - loss: 0.2404 - acc: 0.8611 - mean_squared_error: 0.2404 - val_loss: 0.0779 - val_acc: 1.0000 - val_mean_squared_error: 0.0779\n",
      "Epoch 22/25\n",
      "180/180 [==============================] - 0s 2ms/sample - loss: 22.9947 - acc: 0.7667 - mean_squared_error: 22.9947 - val_loss: 2.0198 - val_acc: 0.1000 - val_mean_squared_error: 2.0198\n",
      "Epoch 23/25\n",
      "180/180 [==============================] - 0s 2ms/sample - loss: 7.1697 - acc: 0.7167 - mean_squared_error: 7.1697 - val_loss: 0.3613 - val_acc: 0.4500 - val_mean_squared_error: 0.3613\n",
      "Epoch 24/25\n",
      "180/180 [==============================] - 0s 3ms/sample - loss: 18.7063 - acc: 0.7167 - mean_squared_error: 18.7063 - val_loss: 113.5284 - val_acc: 0.0000e+00 - val_mean_squared_error: 113.5284\n",
      "Epoch 25/25\n",
      "180/180 [==============================] - 0s 2ms/sample - loss: 213.8325 - acc: 0.5278 - mean_squared_error: 213.8325 - val_loss: 156.1133 - val_acc: 1.0000 - val_mean_squared_error: 156.1133\n",
      "Done training!\n"
     ]
    }
   ],
   "source": [
    "# Batch size equal to 1\n",
    "bs1_network = create_network()\n",
    "bs1_history = bs1_network.fit(train_array, \n",
    "                      train_labels_onehot, \n",
    "                      verbose=True, \n",
    "                      validation_split=.1, \n",
    "                      epochs=num_epochs, \n",
    "                      batch_size=1)\n",
    "print('Done training!')"
   ]
  },
  {
   "cell_type": "code",
   "execution_count": 39,
   "id": "4218874e",
   "metadata": {},
   "outputs": [
    {
     "name": "stdout",
     "output_type": "stream",
     "text": [
      "Train on 180 samples, validate on 20 samples\n",
      "Epoch 1/25\n",
      "180/180 [==============================] - 0s 3ms/sample - loss: 7.8186 - acc: 0.4056 - mean_squared_error: 7.8186 - val_loss: 11.4385 - val_acc: 0.0000e+00 - val_mean_squared_error: 11.4385\n",
      "Epoch 2/25\n",
      "180/180 [==============================] - 0s 63us/sample - loss: 5.1311 - acc: 0.4278 - mean_squared_error: 5.1311 - val_loss: 4.1826 - val_acc: 0.0000e+00 - val_mean_squared_error: 4.1826\n",
      "Epoch 3/25\n",
      "180/180 [==============================] - 0s 52us/sample - loss: 1.9003 - acc: 0.4778 - mean_squared_error: 1.9003 - val_loss: 0.3705 - val_acc: 0.5500 - val_mean_squared_error: 0.3705\n",
      "Epoch 4/25\n",
      "180/180 [==============================] - 0s 60us/sample - loss: 0.2703 - acc: 0.7056 - mean_squared_error: 0.2703 - val_loss: 1.4158 - val_acc: 1.0000 - val_mean_squared_error: 1.4158\n",
      "Epoch 5/25\n",
      "180/180 [==============================] - 0s 61us/sample - loss: 0.8622 - acc: 0.8222 - mean_squared_error: 0.8622 - val_loss: 5.0797 - val_acc: 1.0000 - val_mean_squared_error: 5.0797\n",
      "Epoch 6/25\n",
      "180/180 [==============================] - 0s 69us/sample - loss: 2.6210 - acc: 0.7500 - mean_squared_error: 2.6210 - val_loss: 7.7744 - val_acc: 1.0000 - val_mean_squared_error: 7.7744\n",
      "Epoch 7/25\n",
      "180/180 [==============================] - 0s 67us/sample - loss: 3.8828 - acc: 0.7556 - mean_squared_error: 3.8828 - val_loss: 7.3753 - val_acc: 1.0000 - val_mean_squared_error: 7.3753\n",
      "Epoch 8/25\n",
      "180/180 [==============================] - 0s 64us/sample - loss: 3.6704 - acc: 0.7556 - mean_squared_error: 3.6704 - val_loss: 4.4461 - val_acc: 1.0000 - val_mean_squared_error: 4.4461\n",
      "Epoch 9/25\n",
      "180/180 [==============================] - 0s 71us/sample - loss: 2.2560 - acc: 0.7667 - mean_squared_error: 2.2560 - val_loss: 1.3127 - val_acc: 1.0000 - val_mean_squared_error: 1.3127\n",
      "Epoch 10/25\n",
      "180/180 [==============================] - 0s 67us/sample - loss: 0.7296 - acc: 0.8722 - mean_squared_error: 0.7296 - val_loss: 0.0562 - val_acc: 1.0000 - val_mean_squared_error: 0.0562\n",
      "Epoch 11/25\n",
      "180/180 [==============================] - 0s 78us/sample - loss: 0.0691 - acc: 0.9611 - mean_squared_error: 0.0691 - val_loss: 1.0593 - val_acc: 0.0000e+00 - val_mean_squared_error: 1.0593\n",
      "Epoch 12/25\n",
      "180/180 [==============================] - 0s 78us/sample - loss: 0.4661 - acc: 0.5556 - mean_squared_error: 0.4661 - val_loss: 3.0386 - val_acc: 0.0000e+00 - val_mean_squared_error: 3.0386\n",
      "Epoch 13/25\n",
      "180/180 [==============================] - 0s 58us/sample - loss: 1.3382 - acc: 0.5556 - mean_squared_error: 1.3382 - val_loss: 4.2586 - val_acc: 0.0000e+00 - val_mean_squared_error: 4.2586\n",
      "Epoch 14/25\n",
      "180/180 [==============================] - 0s 67us/sample - loss: 1.8882 - acc: 0.5500 - mean_squared_error: 1.8882 - val_loss: 3.8439 - val_acc: 0.0000e+00 - val_mean_squared_error: 3.8439\n",
      "Epoch 15/25\n",
      "180/180 [==============================] - 0s 69us/sample - loss: 1.7096 - acc: 0.5500 - mean_squared_error: 1.7096 - val_loss: 2.2369 - val_acc: 0.0000e+00 - val_mean_squared_error: 2.2369\n",
      "Epoch 16/25\n",
      "180/180 [==============================] - 0s 72us/sample - loss: 0.9996 - acc: 0.5556 - mean_squared_error: 0.9996 - val_loss: 0.6388 - val_acc: 0.0000e+00 - val_mean_squared_error: 0.6388\n",
      "Epoch 17/25\n",
      "180/180 [==============================] - 0s 56us/sample - loss: 0.3031 - acc: 0.5556 - mean_squared_error: 0.3031 - val_loss: 0.0202 - val_acc: 1.0000 - val_mean_squared_error: 0.0202\n",
      "Epoch 18/25\n",
      "180/180 [==============================] - 0s 59us/sample - loss: 0.0588 - acc: 0.9556 - mean_squared_error: 0.0588 - val_loss: 0.4836 - val_acc: 1.0000 - val_mean_squared_error: 0.4836\n",
      "Epoch 19/25\n",
      "180/180 [==============================] - 0s 70us/sample - loss: 0.3068 - acc: 0.9111 - mean_squared_error: 0.3068 - val_loss: 1.3628 - val_acc: 1.0000 - val_mean_squared_error: 1.3628\n",
      "Epoch 20/25\n",
      "180/180 [==============================] - 0s 62us/sample - loss: 0.7353 - acc: 0.8833 - mean_squared_error: 0.7353 - val_loss: 1.8456 - val_acc: 1.0000 - val_mean_squared_error: 1.8456\n",
      "Epoch 21/25\n",
      "180/180 [==============================] - 0s 56us/sample - loss: 0.9674 - acc: 0.8778 - mean_squared_error: 0.9674 - val_loss: 1.5796 - val_acc: 1.0000 - val_mean_squared_error: 1.5796\n",
      "Epoch 22/25\n",
      "180/180 [==============================] - 0s 79us/sample - loss: 0.8410 - acc: 0.8778 - mean_squared_error: 0.8410 - val_loss: 0.8333 - val_acc: 1.0000 - val_mean_squared_error: 0.8333\n",
      "Epoch 23/25\n",
      "180/180 [==============================] - 0s 84us/sample - loss: 0.4823 - acc: 0.9000 - mean_squared_error: 0.4823 - val_loss: 0.1834 - val_acc: 1.0000 - val_mean_squared_error: 0.1834\n",
      "Epoch 24/25\n",
      "180/180 [==============================] - 0s 89us/sample - loss: 0.1609 - acc: 0.9333 - mean_squared_error: 0.1609 - val_loss: 0.0415 - val_acc: 1.0000 - val_mean_squared_error: 0.0415\n",
      "Epoch 25/25\n",
      "180/180 [==============================] - 0s 67us/sample - loss: 0.0713 - acc: 0.9167 - mean_squared_error: 0.0713 - val_loss: 0.3870 - val_acc: 0.1000 - val_mean_squared_error: 0.3870\n",
      "Done training!\n"
     ]
    }
   ],
   "source": [
    "# Batch size equal to the number of training patterns\n",
    "bse_network = create_network()\n",
    "bse_history = bse_network.fit(train_array, \n",
    "                      train_labels_onehot, \n",
    "                      verbose=True, \n",
    "                      validation_split=.1, \n",
    "                      epochs=num_epochs, \n",
    "                      batch_size=train_array.shape[0])\n",
    "print('Done training!')"
   ]
  },
  {
   "cell_type": "markdown",
   "id": "0a803d55",
   "metadata": {},
   "source": [
    "## Batch Size of 1"
   ]
  },
  {
   "cell_type": "code",
   "execution_count": 43,
   "id": "3843e92d",
   "metadata": {},
   "outputs": [
    {
     "data": {
      "image/png": "[encoded data removed]",
      "text/plain": [
       "<Figure size 432x288 with 1 Axes>"
      ]
     },
     "metadata": {
      "needs_background": "light"
     },
     "output_type": "display_data"
    }
   ],
   "source": [
    "plot_model_acc(bs1_history)"
   ]
  },
  {
   "cell_type": "markdown",
   "id": "c8031fdf",
   "metadata": {},
   "source": [
    "## Batch Size as the Number of Training Examples"
   ]
  },
  {
   "cell_type": "code",
   "execution_count": 41,
   "id": "cf31dd17",
   "metadata": {
    "scrolled": true
   },
   "outputs": [
    {
     "data": {
      "image/png": "[encoded data removed]",
      "text/plain": [
       "<Figure size 432x288 with 1 Axes>"
      ]
     },
     "metadata": {
      "needs_background": "light"
     },
     "output_type": "display_data"
    }
   ],
   "source": [
    "plot_model_acc(bse_history)"
   ]
  },
  {
   "cell_type": "markdown",
   "id": "83efc2b4",
   "metadata": {},
   "source": [
    "Note that the batch size of 1 accuracy is much \"finer grain\" than the batch size of number of training examples.  We would expect to see much larger swings in the example where the batch size is equal to the number of training examples, as the network must work through ALL the training examples before it is allowed to update.  Thus we would expect much larger, more severe weight adjustments, which should be reflected in large swings in the model's accuracy, which is indeed observed.  The network with the batch size of 1 is updated after EACH training example, and thus we would expect to see a much more gradual (e.g. smoother) change in the upwards direction, while we should see overshoot (and negative overshoot) in the large batch size example."
   ]
  },
  {
   "cell_type": "markdown",
   "id": "f6cf124a-3804-40ce-a35d-0b3eec27cd9b",
   "metadata": {},
   "source": [
    "<hr>\n",
    "\n",
    "<b>Q4 (4 points).</b> Homework5.ipynb provides code that generates an array of test patterns and provides a plottest() function that displays a shaded contour plot of network predictions on these test patterns (these were discussed in class). All you need to do is apply these test patterns to the trained network from Q1 and plot the results using the plottest() function. "
   ]
  },
  {
   "cell_type": "code",
   "execution_count": 17,
   "id": "6ff3cecf-c7fd-4b64-81eb-23c9bca73f66",
   "metadata": {},
   "outputs": [],
   "source": [
    "# generate test pattern array for Q4\n",
    "\n",
    "xymin = -5\n",
    "xymax = 7.5\n",
    "Npts = 50\n",
    "xv, yv = np.meshgrid(np.linspace(xymin, xymax, Npts), \n",
    "                     np.linspace(xymin, xymax, Npts))\n",
    "test_pats = np.concatenate((xv.reshape((Npts*Npts,1)), \n",
    "                            yv.reshape((Npts*Npts,1))), axis=1)"
   ]
  },
  {
   "cell_type": "code",
   "execution_count": 18,
   "id": "fb9e3b07",
   "metadata": {},
   "outputs": [
    {
     "data": {
      "image/png": "[encoded data removed]",
      "text/plain": [
       "<Figure size 432x288 with 1 Axes>"
      ]
     },
     "metadata": {
      "needs_background": "light"
     },
     "output_type": "display_data"
    }
   ],
   "source": [
    "# plot example\n",
    "plt.plot(sample0[:,0],sample0[:,1],'b+',sample1[:,0],sample1[:,1],'r+')\n",
    "plt.xlabel('dim1')\n",
    "plt.ylabel('dim2')\n",
    "plt.axis('equal')\n",
    "plt.axis('square')\n",
    "plt.legend(('class 0', 'class 1'), loc='lower right')\n",
    "xymin = -5; xymax = 7.5\n",
    "plt.ylim((xymin,xymax))\n",
    "plt.xlim((xymin,xymax))\n",
    "plt.show()"
   ]
  },
  {
   "cell_type": "code",
   "execution_count": 19,
   "id": "12495a74",
   "metadata": {},
   "outputs": [
    {
     "name": "stdout",
     "output_type": "stream",
     "text": [
      "(2500, 2)\n",
      "[[-5.         -5.        ]\n",
      " [-4.74489796 -5.        ]\n",
      " [-4.48979592 -5.        ]\n",
      " ...\n",
      " [ 6.98979592  7.5       ]\n",
      " [ 7.24489796  7.5       ]\n",
      " [ 7.5         7.5       ]]\n"
     ]
    },
    {
     "data": {
      "image/png": "[encoded data removed]",
      "text/plain": [
       "<Figure size 432x288 with 1 Axes>"
      ]
     },
     "metadata": {
      "needs_background": "light"
     },
     "output_type": "display_data"
    }
   ],
   "source": [
    "print(test_pats.shape)\n",
    "\n",
    "print(test_pats)\n",
    "\n",
    "test_labels_onehot = [0]*test_pats.shape[0]\n",
    "\n",
    "# plot example\n",
    "for idx in range((test_pats.shape[0])):\n",
    "    point = test_pats[idx,:]\n",
    "    if point[1]>((-1*point[0]+4)):\n",
    "        test_labels_onehot[idx] = 1\n",
    "        plt.plot(point[0],point[1],'r+')\n",
    "    else:\n",
    "        plt.plot(point[0],point[1],'b+')\n",
    "plt.xlabel('dim1')\n",
    "plt.ylabel('dim2')\n",
    "plt.axis('equal')\n",
    "plt.axis('square')\n",
    "xymin = -5; xymax = 7.5\n",
    "plt.show()"
   ]
  },
  {
   "cell_type": "code",
   "execution_count": 20,
   "id": "46e105ad",
   "metadata": {},
   "outputs": [],
   "source": [
    "#print(test_labels_onehot)\n",
    "\n",
    "test_labels_onehot_array = np.array(test_labels_onehot).reshape((test_pats.shape[0],1))\n",
    "test_labels_onehot_opened = [val[0] for val in test_labels_onehot_array]\n",
    "#print(test_pats.shape)\n",
    "#print(len(test_labels_onehot_opened))\n",
    "test_labels_onehot_2D = np.array(test_labels_onehot_opened).reshape(len(test_labels_onehot_opened),1)\n",
    "#print(test_labels_onehot_2D.shape)"
   ]
  },
  {
   "cell_type": "code",
   "execution_count": 21,
   "id": "1099f68f-6117-451d-858a-851d88c89f94",
   "metadata": {},
   "outputs": [],
   "source": [
    "# function for generating plot for Q4\n",
    "# xv is array of x-values of test grid (from meshgrid)\n",
    "# yv is array of y-values of test grid (from meshgrid)\n",
    "# out is the output of the neural network given the test patterns\n",
    "# sample0, sample1 are the training patterns from earlier\n",
    "\n",
    "def plottest(xv, yv, out, sample0, sample1):\n",
    "    # reshape out\n",
    "    zv = out.reshape(xv.shape)\n",
    "\n",
    "    # create figure\n",
    "    fig = plt.figure()\n",
    "    plt.contourf(xv, yv, zv, levels=xv.shape[0], cmap=plt.cm.gist_yarg)\n",
    "    plt.plot(sample0[:,0], sample0[:,1], 'b+', \n",
    "             sample1[:,0], sample1[:,1], 'r+')    \n",
    "    \n",
    "    plt.xlabel('dim1')\n",
    "    plt.ylabel('dim2')\n",
    "    plt.axis('equal')\n",
    "    plt.axis('square')\n",
    "    xymin = -5; xymax = 7.5\n",
    "    plt.ylim((xymin,xymax))\n",
    "    plt.xlim((xymin,xymax))\n",
    "    plt.show()"
   ]
  },
  {
   "cell_type": "code",
   "execution_count": 22,
   "id": "2f8b403e-aca9-46ff-8b95-4a9e95fbe5c0",
   "metadata": {
    "scrolled": true
   },
   "outputs": [
    {
     "name": "stdout",
     "output_type": "stream",
     "text": [
      "test_loss (MSE)     : 0.1385096546649933\n",
      "test_acc (%Correct) : 0.9796000123023987\n"
     ]
    }
   ],
   "source": [
    "# call network.evaluate() if you have test patterns and test answers and want to know performance\n",
    "results = network.evaluate(test_pats, \n",
    "                           test_labels_onehot_2D, \n",
    "                           verbose=False)\n",
    "\n",
    "test_loss = results[0]\n",
    "test_acc = results[1]\n",
    "\n",
    "print('test_loss (MSE)     : {}'.format(test_loss))\n",
    "print('test_acc (%Correct) : {}'.format(test_acc))\n",
    "\n",
    "out = network.predict(\n",
    "   test_pats, \n",
    "   batch_size = 20, \n",
    "   verbose = 0,  \n",
    "   workers = 1, \n",
    "   use_multiprocessing = False)"
   ]
  },
  {
   "cell_type": "code",
   "execution_count": 23,
   "id": "9cb25de4",
   "metadata": {},
   "outputs": [
    {
     "data": {
      "image/png": "[encoded data removed]",
      "text/plain": [
       "<Figure size 432x288 with 1 Axes>"
      ]
     },
     "metadata": {
      "needs_background": "light"
     },
     "output_type": "display_data"
    }
   ],
   "source": [
    "plottest(xv, yv, out, sample0, sample1)"
   ]
  },
  {
   "cell_type": "code",
   "execution_count": 24,
   "id": "743d62ec",
   "metadata": {},
   "outputs": [
    {
     "data": {
      "image/png": "[encoded data removed]",
      "text/plain": [
       "<Figure size 432x288 with 1 Axes>"
      ]
     },
     "metadata": {
      "needs_background": "light"
     },
     "output_type": "display_data"
    }
   ],
   "source": [
    "plottest(xv, yv, test_labels_onehot_2D, sample0, sample1)"
   ]
  },
  {
   "cell_type": "code",
   "execution_count": null,
   "id": "b148a9cb",
   "metadata": {},
   "outputs": [],
   "source": []
  }
 ],
 "metadata": {
  "kernelspec": {
   "display_name": "Python 3 (ipykernel)",
   "language": "python",
   "name": "python3"
  },
  "language_info": {
   "codemirror_mode": {
    "name": "ipython",
    "version": 3
   },
   "file_extension": ".py",
   "mimetype": "text/x-python",
   "name": "python",
   "nbconvert_exporter": "python",
   "pygments_lexer": "ipython3",
   "version": "3.7.11"
  }
 },
 "nbformat": 4,
 "nbformat_minor": 5
}
