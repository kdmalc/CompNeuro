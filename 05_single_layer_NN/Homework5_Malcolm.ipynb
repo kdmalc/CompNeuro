{
 "cells": [
  {
   "cell_type": "markdown",
   "id": "2cf8a58b-78d8-44e8-a564-e79f107e5d51",
   "metadata": {},
   "source": [
    "## Homework 5 Starting Code"
   ]
  },
  {
   "cell_type": "code",
   "execution_count": 1,
   "id": "0cde26b2-a1ee-4cd8-ad28-21976361867e",
   "metadata": {},
   "outputs": [],
   "source": [
    "import numpy as np\n",
    "import matplotlib.pyplot as plt\n",
    "import numpy.random as R\n",
    "\n",
    "# supress unnecessary warnings\n",
    "import os\n",
    "os.environ['TF_CPP_MIN_LOG_LEVEL']='2'"
   ]
  },
  {
   "cell_type": "code",
   "execution_count": 2,
   "id": "bd903e6c-e33e-4453-b177-8cc40f9eff9f",
   "metadata": {},
   "outputs": [],
   "source": [
    "## generate N random samples from a 2D multivariate normal distribution\n",
    "##\n",
    "## with mean [mx, my]\n",
    "##\n",
    "## with covariance matrix [[  sx*sx, r*sx*sy],\n",
    "##                         [r*sx*sy,   sy*sy]]\n",
    "## where sx is the standard deviation along the x dimension\n",
    "## where sy is the standard deviation along the y dimension\n",
    "## where r is the correlation between the dimensions\n",
    "##\n",
    "\n",
    "def gensamples(N, mx, my, sx, sy, r):\n",
    "    M   = np.array([mx, my])\n",
    "    Cov = np.array([[  sx*sx, r*sx*sy],\n",
    "                    [r*sx*sy,   sy*sy]])\n",
    "    return (R.multivariate_normal(M, Cov, size=N, check_valid='warn'))"
   ]
  },
  {
   "cell_type": "code",
   "execution_count": 3,
   "id": "6398a377-8afd-4ec8-ba27-1cb4a6eedbf2",
   "metadata": {},
   "outputs": [
    {
     "data": {
      "image/png": "[encoded data removed]",
      "text/plain": [
       "<Figure size 432x288 with 1 Axes>"
      ]
     },
     "metadata": {
      "needs_background": "light"
     },
     "output_type": "display_data"
    }
   ],
   "source": [
    "# classification problem used in Q1\n",
    "\n",
    "mx0 = 0.;  my0 = 0.\n",
    "sx0 = 1.;  sy0 = 1.\n",
    "r0 = 0.\n",
    "\n",
    "mx1 = 3.; my1 = 3.\n",
    "sx1 = 1.; sy1 = 1.\n",
    "r1 = 0.\n",
    "\n",
    "N = 100\n",
    "\n",
    "sample0 = gensamples(N, mx0, my0, sx0, sy0, r0)\n",
    "\n",
    "sample1 = gensamples(N, mx1, my1, sx1, sy1, r1)\n",
    "\n",
    "# plot example\n",
    "plt.plot(sample0[:,0],sample0[:,1],'b+',sample1[:,0],sample1[:,1],'r+')\n",
    "plt.xlabel('dim1')\n",
    "plt.ylabel('dim2')\n",
    "plt.axis('equal')\n",
    "plt.axis('square')\n",
    "plt.legend(('class 0', 'class 1'), loc='lower right')\n",
    "xymin = -5; xymax = 7.5\n",
    "plt.ylim((xymin,xymax))\n",
    "plt.xlim((xymin,xymax))\n",
    "plt.show()"
   ]
  },
  {
   "cell_type": "markdown",
   "id": "9990f63b-6ffc-4803-958c-be2e9c72b905",
   "metadata": {},
   "source": [
    "<hr>\n",
    "\n",
    "<b>Q1 (10 point).</b> Write Keras code to learn this classification problem with a neural network with an input layer containing two nodes (for the x and y dimension) and output node. "
   ]
  },
  {
   "cell_type": "code",
   "execution_count": 4,
   "id": "8d41837e",
   "metadata": {},
   "outputs": [
    {
     "name": "stderr",
     "output_type": "stream",
     "text": [
      "C:\\Users\\kdmen\\miniconda3\\envs\\NSCenv\\lib\\site-packages\\tensorflow\\python\\framework\\dtypes.py:516: FutureWarning: Passing (type, 1) or '1type' as a synonym of type is deprecated; in a future version of numpy, it will be understood as (type, (1,)) / '(1,)type'.\n",
      "  _np_qint8 = np.dtype([(\"qint8\", np.int8, 1)])\n",
      "C:\\Users\\kdmen\\miniconda3\\envs\\NSCenv\\lib\\site-packages\\tensorflow\\python\\framework\\dtypes.py:517: FutureWarning: Passing (type, 1) or '1type' as a synonym of type is deprecated; in a future version of numpy, it will be understood as (type, (1,)) / '(1,)type'.\n",
      "  _np_quint8 = np.dtype([(\"quint8\", np.uint8, 1)])\n",
      "C:\\Users\\kdmen\\miniconda3\\envs\\NSCenv\\lib\\site-packages\\tensorflow\\python\\framework\\dtypes.py:518: FutureWarning: Passing (type, 1) or '1type' as a synonym of type is deprecated; in a future version of numpy, it will be understood as (type, (1,)) / '(1,)type'.\n",
      "  _np_qint16 = np.dtype([(\"qint16\", np.int16, 1)])\n",
      "C:\\Users\\kdmen\\miniconda3\\envs\\NSCenv\\lib\\site-packages\\tensorflow\\python\\framework\\dtypes.py:519: FutureWarning: Passing (type, 1) or '1type' as a synonym of type is deprecated; in a future version of numpy, it will be understood as (type, (1,)) / '(1,)type'.\n",
      "  _np_quint16 = np.dtype([(\"quint16\", np.uint16, 1)])\n",
      "C:\\Users\\kdmen\\miniconda3\\envs\\NSCenv\\lib\\site-packages\\tensorflow\\python\\framework\\dtypes.py:520: FutureWarning: Passing (type, 1) or '1type' as a synonym of type is deprecated; in a future version of numpy, it will be understood as (type, (1,)) / '(1,)type'.\n",
      "  _np_qint32 = np.dtype([(\"qint32\", np.int32, 1)])\n",
      "C:\\Users\\kdmen\\miniconda3\\envs\\NSCenv\\lib\\site-packages\\tensorflow\\python\\framework\\dtypes.py:525: FutureWarning: Passing (type, 1) or '1type' as a synonym of type is deprecated; in a future version of numpy, it will be understood as (type, (1,)) / '(1,)type'.\n",
      "  np_resource = np.dtype([(\"resource\", np.ubyte, 1)])\n",
      "C:\\Users\\kdmen\\miniconda3\\envs\\NSCenv\\lib\\site-packages\\tensorboard\\compat\\tensorflow_stub\\dtypes.py:541: FutureWarning: Passing (type, 1) or '1type' as a synonym of type is deprecated; in a future version of numpy, it will be understood as (type, (1,)) / '(1,)type'.\n",
      "  _np_qint8 = np.dtype([(\"qint8\", np.int8, 1)])\n",
      "C:\\Users\\kdmen\\miniconda3\\envs\\NSCenv\\lib\\site-packages\\tensorboard\\compat\\tensorflow_stub\\dtypes.py:542: FutureWarning: Passing (type, 1) or '1type' as a synonym of type is deprecated; in a future version of numpy, it will be understood as (type, (1,)) / '(1,)type'.\n",
      "  _np_quint8 = np.dtype([(\"quint8\", np.uint8, 1)])\n",
      "C:\\Users\\kdmen\\miniconda3\\envs\\NSCenv\\lib\\site-packages\\tensorboard\\compat\\tensorflow_stub\\dtypes.py:543: FutureWarning: Passing (type, 1) or '1type' as a synonym of type is deprecated; in a future version of numpy, it will be understood as (type, (1,)) / '(1,)type'.\n",
      "  _np_qint16 = np.dtype([(\"qint16\", np.int16, 1)])\n",
      "C:\\Users\\kdmen\\miniconda3\\envs\\NSCenv\\lib\\site-packages\\tensorboard\\compat\\tensorflow_stub\\dtypes.py:544: FutureWarning: Passing (type, 1) or '1type' as a synonym of type is deprecated; in a future version of numpy, it will be understood as (type, (1,)) / '(1,)type'.\n",
      "  _np_quint16 = np.dtype([(\"quint16\", np.uint16, 1)])\n",
      "C:\\Users\\kdmen\\miniconda3\\envs\\NSCenv\\lib\\site-packages\\tensorboard\\compat\\tensorflow_stub\\dtypes.py:545: FutureWarning: Passing (type, 1) or '1type' as a synonym of type is deprecated; in a future version of numpy, it will be understood as (type, (1,)) / '(1,)type'.\n",
      "  _np_qint32 = np.dtype([(\"qint32\", np.int32, 1)])\n",
      "C:\\Users\\kdmen\\miniconda3\\envs\\NSCenv\\lib\\site-packages\\tensorboard\\compat\\tensorflow_stub\\dtypes.py:550: FutureWarning: Passing (type, 1) or '1type' as a synonym of type is deprecated; in a future version of numpy, it will be understood as (type, (1,)) / '(1,)type'.\n",
      "  np_resource = np.dtype([(\"resource\", np.ubyte, 1)])\n"
     ]
    }
   ],
   "source": [
    "from tensorflow.keras import models\n",
    "from tensorflow.keras import layers\n",
    "os.environ['TF_CPP_MIN_LOG_LEVEL']='2'"
   ]
  },
  {
   "cell_type": "markdown",
   "id": "d4d1b3bf",
   "metadata": {},
   "source": [
    "1. Pick an activation function\n",
    "2. Use SGD optimizier (lr=0.1, decay=e-6, mom=0.9)\n",
    "3. Use mean_squared_error as the loss function\n",
    "4. Save accuracy as one of the metrics when you compile your network\n",
    "5. Assume batch size of 20\n",
    "6. You will need to select the number of training epochs so that the accuracy asymptotes (e.g. doesn't change more than 0.5% between epochs).  Try training at least 10 times to hone in on a number of epochs that is the sweet spot for most randomizations  Use verbose=True."
   ]
  },
  {
   "cell_type": "code",
   "execution_count": 5,
   "id": "dce908f5",
   "metadata": {},
   "outputs": [],
   "source": [
    "def plot_model_acc(history):\n",
    "    \"\"\"Accuracy Plotting Function\"\"\"\n",
    "    plt.plot(history.history['acc'])\n",
    "    plt.plot(history.history['val_acc'])\n",
    "    plt.title('Model Accuracy As a Function of Number of Epochs Trained')\n",
    "    plt.ylabel('Accuracy')\n",
    "    plt.xlabel('Epoch')\n",
    "    plt.legend(['train', 'validation'], loc='lower right')\n",
    "    plt.show()"
   ]
  },
  {
   "cell_type": "code",
   "execution_count": 6,
   "id": "424d86de-fa91-43b6-8fd8-bedd36fc1b1c",
   "metadata": {},
   "outputs": [
    {
     "name": "stdout",
     "output_type": "stream",
     "text": [
      "WARNING:tensorflow:From C:\\Users\\kdmen\\miniconda3\\envs\\NSCenv\\lib\\site-packages\\tensorflow\\python\\ops\\init_ops.py:1251: calling VarianceScaling.__init__ (from tensorflow.python.ops.init_ops) with dtype is deprecated and will be removed in a future version.\n",
      "Instructions for updating:\n",
      "Call initializer instance with the dtype argument instead of passing it to the constructor\n",
      "Model: \"sequential_1\"\n",
      "_________________________________________________________________\n",
      "Layer (type)                 Output Shape              Param #   \n",
      "=================================================================\n",
      "dense (Dense)                (None, 1)                 3         \n",
      "=================================================================\n",
      "Total params: 3\n",
      "Trainable params: 3\n",
      "Non-trainable params: 0\n",
      "_________________________________________________________________\n",
      "None\n",
      "************************************************\n",
      "\n",
      "layer name : dense | input shape : (?, 2) | output shape : (?, 1)\n",
      "************************************************\n",
      "\n",
      "{'name': 'dense', 'trainable': True, 'batch_input_shape': (None, 2), 'dtype': 'float32', 'units': 1, 'activation': 'linear', 'use_bias': True, 'kernel_initializer': {'class_name': 'GlorotUniform', 'config': {'seed': None, 'dtype': 'float32'}}, 'bias_initializer': {'class_name': 'Zeros', 'config': {'dtype': 'float32'}}, 'kernel_regularizer': None, 'bias_regularizer': None, 'activity_regularizer': None, 'kernel_constraint': None, 'bias_constraint': None}\n",
      "\n"
     ]
    }
   ],
   "source": [
    "network = models.Sequential()\n",
    "\n",
    "nin  = 2\n",
    "nout = 1\n",
    "\n",
    "network = models.Sequential()\n",
    "network.add(layers.Dense(nout, \n",
    "                         activation='linear', \n",
    "                         input_shape=(nin,)))\n",
    "\n",
    "print(network.summary())\n",
    "print('************************************************\\n')\n",
    "\n",
    "for layer in network.layers:\n",
    "    print('layer name : {} | input shape : {} | output shape : {}'.format(layer.name, layer.input.shape, layer.output.shape))\n",
    "print('************************************************\\n')\n",
    "\n",
    "for layer in network.layers:\n",
    "    print(layer.get_config())\n",
    "print()"
   ]
  },
  {
   "cell_type": "code",
   "execution_count": 7,
   "id": "beafa23e",
   "metadata": {},
   "outputs": [],
   "source": [
    "# compile network\n",
    "#\n",
    "# configures the network for training, specifying optimizer and loss function\n",
    "#\n",
    "# optimizer='sgd'           : stochastic gradient descent (simplest, not the smartest)\n",
    "# loss='mean_squared_error' : uses MSE (MSE = 1/N * SSE)\n",
    "# metrics=['accuracy']      : what is printed when verbose=True\n",
    "network.compile(optimizer='sgd', \n",
    "                loss='mean_squared_error', \n",
    "                metrics=['accuracy', 'mse'])"
   ]
  },
  {
   "cell_type": "code",
   "execution_count": 8,
   "id": "3c41842d",
   "metadata": {},
   "outputs": [],
   "source": [
    "def create_network(nin=2, nout=1):\n",
    "    network = models.Sequential()\n",
    "\n",
    "    network = models.Sequential()\n",
    "    network.add(layers.Dense(nout, \n",
    "                             activation='linear', \n",
    "                             input_shape=(nin,)))\n",
    "\n",
    "    network.compile(optimizer='sgd', \n",
    "                    loss='mean_squared_error', \n",
    "                    metrics=['accuracy', 'mse'])\n",
    "    \n",
    "    return network"
   ]
  },
  {
   "cell_type": "code",
   "execution_count": 9,
   "id": "d06da8c4",
   "metadata": {},
   "outputs": [
    {
     "name": "stdout",
     "output_type": "stream",
     "text": [
      "[ 1.35049537 -0.26665817]\n",
      "200\n",
      "(200, 2)\n"
     ]
    }
   ],
   "source": [
    "train_labels_onehot = [0]*len(sample0) + [1]*len(sample1)\n",
    "\n",
    "sample0_list = list(sample0)\n",
    "sample1_list = list(sample1)\n",
    "train_vec = list()\n",
    "train_vec.extend(sample0_list)\n",
    "train_vec.extend(sample1_list)\n",
    "print(sample0_list[0])\n",
    "print(len(train_vec))\n",
    "\n",
    "train_array = np.array(train_vec)\n",
    "print(train_array.shape)"
   ]
  },
  {
   "cell_type": "code",
   "execution_count": 25,
   "id": "6631993f",
   "metadata": {},
   "outputs": [
    {
     "name": "stdout",
     "output_type": "stream",
     "text": [
      "Train on 180 samples, validate on 20 samples\n",
      "Epoch 1/40\n",
      "180/180 [==============================] - 0s 3ms/sample - loss: 0.3603 - acc: 0.6667 - mean_squared_error: 0.3603 - val_loss: 0.1787 - val_acc: 0.7000 - val_mean_squared_error: 0.1787\n",
      "Epoch 2/40\n",
      "180/180 [==============================] - 0s 218us/sample - loss: 0.0726 - acc: 0.9500 - mean_squared_error: 0.0726 - val_loss: 0.0717 - val_acc: 1.0000 - val_mean_squared_error: 0.0717\n",
      "Epoch 3/40\n",
      "180/180 [==============================] - 0s 178us/sample - loss: 0.0611 - acc: 0.9667 - mean_squared_error: 0.0611 - val_loss: 0.0527 - val_acc: 1.0000 - val_mean_squared_error: 0.0527\n",
      "Epoch 4/40\n",
      "180/180 [==============================] - 0s 180us/sample - loss: 0.0583 - acc: 0.9667 - mean_squared_error: 0.0583 - val_loss: 0.0512 - val_acc: 1.0000 - val_mean_squared_error: 0.0512\n",
      "Epoch 5/40\n",
      "180/180 [==============================] - 0s 192us/sample - loss: 0.0562 - acc: 0.9778 - mean_squared_error: 0.0562 - val_loss: 0.0461 - val_acc: 1.0000 - val_mean_squared_error: 0.0461\n",
      "Epoch 6/40\n",
      "180/180 [==============================] - 0s 168us/sample - loss: 0.0555 - acc: 0.9667 - mean_squared_error: 0.0555 - val_loss: 0.0507 - val_acc: 1.0000 - val_mean_squared_error: 0.0507\n",
      "Epoch 7/40\n",
      "180/180 [==============================] - 0s 140us/sample - loss: 0.0546 - acc: 0.9778 - mean_squared_error: 0.0546 - val_loss: 0.0410 - val_acc: 1.0000 - val_mean_squared_error: 0.0410\n",
      "Epoch 8/40\n",
      "180/180 [==============================] - 0s 205us/sample - loss: 0.0537 - acc: 0.9778 - mean_squared_error: 0.0537 - val_loss: 0.0376 - val_acc: 1.0000 - val_mean_squared_error: 0.0376\n",
      "Epoch 9/40\n",
      "180/180 [==============================] - 0s 176us/sample - loss: 0.0536 - acc: 0.9778 - mean_squared_error: 0.0536 - val_loss: 0.0368 - val_acc: 1.0000 - val_mean_squared_error: 0.0368\n",
      "Epoch 10/40\n",
      "180/180 [==============================] - 0s 186us/sample - loss: 0.0533 - acc: 0.9722 - mean_squared_error: 0.0533 - val_loss: 0.0386 - val_acc: 1.0000 - val_mean_squared_error: 0.0386\n",
      "Epoch 11/40\n",
      "180/180 [==============================] - 0s 214us/sample - loss: 0.0533 - acc: 0.9778 - mean_squared_error: 0.0533 - val_loss: 0.0361 - val_acc: 1.0000 - val_mean_squared_error: 0.0361\n",
      "Epoch 12/40\n",
      "180/180 [==============================] - 0s 224us/sample - loss: 0.0528 - acc: 0.9833 - mean_squared_error: 0.0528 - val_loss: 0.0325 - val_acc: 1.0000 - val_mean_squared_error: 0.0325\n",
      "Epoch 13/40\n",
      "180/180 [==============================] - 0s 203us/sample - loss: 0.0533 - acc: 0.9722 - mean_squared_error: 0.0533 - val_loss: 0.0362 - val_acc: 1.0000 - val_mean_squared_error: 0.0362\n",
      "Epoch 14/40\n",
      "180/180 [==============================] - 0s 160us/sample - loss: 0.0527 - acc: 0.9667 - mean_squared_error: 0.0527 - val_loss: 0.0388 - val_acc: 1.0000 - val_mean_squared_error: 0.0388\n",
      "Epoch 15/40\n",
      "180/180 [==============================] - 0s 206us/sample - loss: 0.0529 - acc: 0.9833 - mean_squared_error: 0.0529 - val_loss: 0.0351 - val_acc: 1.0000 - val_mean_squared_error: 0.0351\n",
      "Epoch 16/40\n",
      "180/180 [==============================] - 0s 205us/sample - loss: 0.0527 - acc: 0.9833 - mean_squared_error: 0.0527 - val_loss: 0.0323 - val_acc: 1.0000 - val_mean_squared_error: 0.0323\n",
      "Epoch 17/40\n",
      "180/180 [==============================] - 0s 207us/sample - loss: 0.0530 - acc: 0.9722 - mean_squared_error: 0.0530 - val_loss: 0.0335 - val_acc: 1.0000 - val_mean_squared_error: 0.0335\n",
      "Epoch 18/40\n",
      "180/180 [==============================] - 0s 169us/sample - loss: 0.0527 - acc: 0.9778 - mean_squared_error: 0.0527 - val_loss: 0.0362 - val_acc: 1.0000 - val_mean_squared_error: 0.0362\n",
      "Epoch 19/40\n",
      "180/180 [==============================] - 0s 207us/sample - loss: 0.0526 - acc: 0.9778 - mean_squared_error: 0.0526 - val_loss: 0.0318 - val_acc: 1.0000 - val_mean_squared_error: 0.0318\n",
      "Epoch 20/40\n",
      "180/180 [==============================] - 0s 203us/sample - loss: 0.0529 - acc: 0.9778 - mean_squared_error: 0.0529 - val_loss: 0.0331 - val_acc: 1.0000 - val_mean_squared_error: 0.0331\n",
      "Epoch 21/40\n",
      "180/180 [==============================] - 0s 218us/sample - loss: 0.0528 - acc: 0.9778 - mean_squared_error: 0.0528 - val_loss: 0.0346 - val_acc: 1.0000 - val_mean_squared_error: 0.0346\n",
      "Epoch 22/40\n",
      "180/180 [==============================] - 0s 216us/sample - loss: 0.0527 - acc: 0.9833 - mean_squared_error: 0.0527 - val_loss: 0.0367 - val_acc: 1.0000 - val_mean_squared_error: 0.0367\n",
      "Epoch 23/40\n",
      "180/180 [==============================] - 0s 176us/sample - loss: 0.0528 - acc: 0.9833 - mean_squared_error: 0.0528 - val_loss: 0.0373 - val_acc: 1.0000 - val_mean_squared_error: 0.0373\n",
      "Epoch 24/40\n",
      "180/180 [==============================] - 0s 184us/sample - loss: 0.0528 - acc: 0.9722 - mean_squared_error: 0.0528 - val_loss: 0.0338 - val_acc: 1.0000 - val_mean_squared_error: 0.0338\n",
      "Epoch 25/40\n",
      "180/180 [==============================] - 0s 182us/sample - loss: 0.0527 - acc: 0.9778 - mean_squared_error: 0.0527 - val_loss: 0.0310 - val_acc: 1.0000 - val_mean_squared_error: 0.0310\n",
      "Epoch 26/40\n",
      "180/180 [==============================] - 0s 205us/sample - loss: 0.0528 - acc: 0.9722 - mean_squared_error: 0.0528 - val_loss: 0.0336 - val_acc: 1.0000 - val_mean_squared_error: 0.0336\n",
      "Epoch 27/40\n",
      "180/180 [==============================] - 0s 210us/sample - loss: 0.0527 - acc: 0.9722 - mean_squared_error: 0.0527 - val_loss: 0.0358 - val_acc: 1.0000 - val_mean_squared_error: 0.0358\n",
      "Epoch 28/40\n",
      "180/180 [==============================] - 0s 215us/sample - loss: 0.0525 - acc: 0.9778 - mean_squared_error: 0.0525 - val_loss: 0.0373 - val_acc: 1.0000 - val_mean_squared_error: 0.0373\n",
      "Epoch 29/40\n",
      "180/180 [==============================] - 0s 236us/sample - loss: 0.0527 - acc: 0.9778 - mean_squared_error: 0.0527 - val_loss: 0.0379 - val_acc: 1.0000 - val_mean_squared_error: 0.0379\n",
      "Epoch 30/40\n",
      "180/180 [==============================] - 0s 167us/sample - loss: 0.0529 - acc: 0.9778 - mean_squared_error: 0.0529 - val_loss: 0.0325 - val_acc: 1.0000 - val_mean_squared_error: 0.0325\n",
      "Epoch 31/40\n",
      "180/180 [==============================] - 0s 185us/sample - loss: 0.0527 - acc: 0.9778 - mean_squared_error: 0.0527 - val_loss: 0.0335 - val_acc: 1.0000 - val_mean_squared_error: 0.0335\n",
      "Epoch 32/40\n",
      "180/180 [==============================] - 0s 239us/sample - loss: 0.0532 - acc: 0.9778 - mean_squared_error: 0.0532 - val_loss: 0.0333 - val_acc: 1.0000 - val_mean_squared_error: 0.0333\n",
      "Epoch 33/40\n",
      "180/180 [==============================] - 0s 234us/sample - loss: 0.0526 - acc: 0.9778 - mean_squared_error: 0.0526 - val_loss: 0.0364 - val_acc: 1.0000 - val_mean_squared_error: 0.0364\n",
      "Epoch 34/40\n",
      "180/180 [==============================] - 0s 183us/sample - loss: 0.0528 - acc: 0.9778 - mean_squared_error: 0.0528 - val_loss: 0.0367 - val_acc: 1.0000 - val_mean_squared_error: 0.0367\n",
      "Epoch 35/40\n",
      "180/180 [==============================] - 0s 187us/sample - loss: 0.0531 - acc: 0.9833 - mean_squared_error: 0.0531 - val_loss: 0.0337 - val_acc: 1.0000 - val_mean_squared_error: 0.0337\n",
      "Epoch 36/40\n",
      "180/180 [==============================] - 0s 179us/sample - loss: 0.0532 - acc: 0.9778 - mean_squared_error: 0.0532 - val_loss: 0.0375 - val_acc: 1.0000 - val_mean_squared_error: 0.0375\n",
      "Epoch 37/40\n",
      "180/180 [==============================] - 0s 188us/sample - loss: 0.0528 - acc: 0.9778 - mean_squared_error: 0.0528 - val_loss: 0.0350 - val_acc: 1.0000 - val_mean_squared_error: 0.0350\n",
      "Epoch 38/40\n",
      "180/180 [==============================] - 0s 208us/sample - loss: 0.0527 - acc: 0.9778 - mean_squared_error: 0.0527 - val_loss: 0.0349 - val_acc: 1.0000 - val_mean_squared_error: 0.0349\n",
      "Epoch 39/40\n",
      "180/180 [==============================] - 0s 148us/sample - loss: 0.0527 - acc: 0.9778 - mean_squared_error: 0.0527 - val_loss: 0.0348 - val_acc: 1.0000 - val_mean_squared_error: 0.0348\n",
      "Epoch 40/40\n",
      "180/180 [==============================] - 0s 170us/sample - loss: 0.0527 - acc: 0.9778 - mean_squared_error: 0.0527 - val_loss: 0.0387 - val_acc: 1.0000 - val_mean_squared_error: 0.0387\n",
      "Done training!\n"
     ]
    },
    {
     "data": {
      "image/png": "[encoded data removed]",
      "text/plain": [
       "<Figure size 432x288 with 1 Axes>"
      ]
     },
     "metadata": {
      "needs_background": "light"
     },
     "output_type": "display_data"
    },
    {
     "name": "stdout",
     "output_type": "stream",
     "text": [
      "!!!!!!!!!!!!!!!!!!!!!!!!!!!!!!!!!!!!!!!!!!!!!!!!!!\n",
      "Network failure\n",
      "!!!!!!!!!!!!!!!!!!!!!!!!!!!!!!!!!!!!!!!!!!!!!!!!!!\n"
     ]
    }
   ],
   "source": [
    "# now train the network\n",
    "#\n",
    "# training requires training patterns (train_image_vec) and teachers (train_labels_onehot)\n",
    "#\n",
    "# sets # training epochs, validation (described later), and batch_size\n",
    "#\n",
    "# set verbose=True to see training unfold\n",
    "\n",
    "num_epochs = 40\n",
    "\n",
    "network100 = create_network()\n",
    "history = network100.fit(train_array, \n",
    "                      train_labels_onehot, \n",
    "                      verbose=True, \n",
    "                      validation_split=.1, \n",
    "                      epochs=num_epochs, \n",
    "                      batch_size=20)\n",
    "print('Done training!')\n",
    "plot_model_acc(history)\n",
    "\n",
    "mean = sum(history.history['acc'][-20:])/len(history.history['acc'][-20:])\n",
    "upper = mean * 1.005 > history.history['acc'][-6]\n",
    "lower = mean * 0.995 < history.history['acc'][-6]\n",
    "\n",
    "if upper and lower:\n",
    "    print(\"!!!!!!!!!!!!!!!!!!!!!!!!!!!!!!!!!!!!!!!!!!!!!!!!!!\")\n",
    "    print(\"Network success!\")\n",
    "    print(\"!!!!!!!!!!!!!!!!!!!!!!!!!!!!!!!!!!!!!!!!!!!!!!!!!!\")\n",
    "else: \n",
    "    print(\"!!!!!!!!!!!!!!!!!!!!!!!!!!!!!!!!!!!!!!!!!!!!!!!!!!\")\n",
    "    print(\"Network failure\")\n",
    "    print(\"!!!!!!!!!!!!!!!!!!!!!!!!!!!!!!!!!!!!!!!!!!!!!!!!!!\")"
   ]
  },
  {
   "cell_type": "markdown",
   "id": "80749519-6a30-47d8-9b0a-95641d357c00",
   "metadata": {},
   "source": [
    "<hr>\n",
    "\n",
    "<b>Q2 (2 points).</b> Create a plot of training accuracy as a function of epoch (with axes properly labeled)."
   ]
  },
  {
   "cell_type": "code",
   "execution_count": 26,
   "id": "442f7e24-9f3c-431c-9e8a-239d742717a6",
   "metadata": {},
   "outputs": [
    {
     "name": "stdout",
     "output_type": "stream",
     "text": [
      "dict_keys(['loss', 'acc', 'mean_squared_error', 'val_loss', 'val_acc', 'val_mean_squared_error'])\n"
     ]
    },
    {
     "data": {
      "image/png": "[encoded data removed]",
      "text/plain": [
       "<Figure size 432x288 with 1 Axes>"
      ]
     },
     "metadata": {
      "needs_background": "light"
     },
     "output_type": "display_data"
    }
   ],
   "source": [
    "print(history.history.keys())\n",
    "\n",
    "plot_model_acc(history)"
   ]
  },
  {
   "cell_type": "markdown",
   "id": "7f8e6000-7ff4-4f57-868f-afc954d16d42",
   "metadata": {},
   "source": [
    "<hr>\n",
    "\n",
    "<b>Q3 (3 points).</b> Explore what happens when you (a) set the batch size equal to 1 (so that weights get updated after every training pattern), and (b) set the batch size equal to the total number of training patterns (so that weights get updated once per epoch after all of the training patterns have been shown). "
   ]
  },
  {
   "cell_type": "code",
   "execution_count": 27,
   "id": "8627e528-7545-401b-a1f9-4f8ac4fe7c92",
   "metadata": {},
   "outputs": [
    {
     "name": "stdout",
     "output_type": "stream",
     "text": [
      "Train on 180 samples, validate on 20 samples\n",
      "Epoch 1/20\n",
      "180/180 [==============================] - 1s 5ms/sample - loss: 0.4771 - acc: 0.9500 - mean_squared_error: 0.4771 - val_loss: 0.0367 - val_acc: 1.0000 - val_mean_squared_error: 0.0367\n",
      "Epoch 2/20\n",
      "180/180 [==============================] - 0s 2ms/sample - loss: 0.0588 - acc: 0.9611 - mean_squared_error: 0.0588 - val_loss: 0.0448 - val_acc: 1.0000 - val_mean_squared_error: 0.0448\n",
      "Epoch 3/20\n",
      "180/180 [==============================] - 0s 2ms/sample - loss: 0.0590 - acc: 0.9667 - mean_squared_error: 0.0590 - val_loss: 0.0327 - val_acc: 1.0000 - val_mean_squared_error: 0.0327\n",
      "Epoch 4/20\n",
      "180/180 [==============================] - 0s 2ms/sample - loss: 0.0603 - acc: 0.9500 - mean_squared_error: 0.0603 - val_loss: 0.0264 - val_acc: 1.0000 - val_mean_squared_error: 0.0264\n",
      "Epoch 5/20\n",
      "180/180 [==============================] - 0s 2ms/sample - loss: 0.0578 - acc: 0.9611 - mean_squared_error: 0.0578 - val_loss: 0.0712 - val_acc: 1.0000 - val_mean_squared_error: 0.0712\n",
      "Epoch 6/20\n",
      "180/180 [==============================] - 0s 2ms/sample - loss: 0.0584 - acc: 0.9667 - mean_squared_error: 0.0584 - val_loss: 0.1165 - val_acc: 1.0000 - val_mean_squared_error: 0.1165\n",
      "Epoch 7/20\n",
      "180/180 [==============================] - 0s 2ms/sample - loss: 0.0595 - acc: 0.9667 - mean_squared_error: 0.0595 - val_loss: 0.0487 - val_acc: 1.0000 - val_mean_squared_error: 0.0487\n",
      "Epoch 8/20\n",
      "180/180 [==============================] - 0s 2ms/sample - loss: 0.0611 - acc: 0.9556 - mean_squared_error: 0.0611 - val_loss: 0.0224 - val_acc: 1.0000 - val_mean_squared_error: 0.0224\n",
      "Epoch 9/20\n",
      "180/180 [==============================] - 0s 2ms/sample - loss: 0.0576 - acc: 0.9722 - mean_squared_error: 0.0576 - val_loss: 0.0914 - val_acc: 1.0000 - val_mean_squared_error: 0.0914\n",
      "Epoch 10/20\n",
      "180/180 [==============================] - 0s 2ms/sample - loss: 0.0617 - acc: 0.9556 - mean_squared_error: 0.0617 - val_loss: 0.0394 - val_acc: 1.0000 - val_mean_squared_error: 0.0394\n",
      "Epoch 11/20\n",
      "180/180 [==============================] - 0s 2ms/sample - loss: 0.0579 - acc: 0.9722 - mean_squared_error: 0.0579 - val_loss: 0.0392 - val_acc: 1.0000 - val_mean_squared_error: 0.0392\n",
      "Epoch 12/20\n",
      "180/180 [==============================] - 0s 2ms/sample - loss: 0.0600 - acc: 0.9667 - mean_squared_error: 0.0600 - val_loss: 0.0457 - val_acc: 1.0000 - val_mean_squared_error: 0.0457\n",
      "Epoch 13/20\n",
      "180/180 [==============================] - 0s 2ms/sample - loss: 0.0585 - acc: 0.9667 - mean_squared_error: 0.0585 - val_loss: 0.0443 - val_acc: 1.0000 - val_mean_squared_error: 0.0443\n",
      "Epoch 14/20\n",
      "180/180 [==============================] - 0s 2ms/sample - loss: 0.0594 - acc: 0.9611 - mean_squared_error: 0.0594 - val_loss: 0.0382 - val_acc: 1.0000 - val_mean_squared_error: 0.0382\n",
      "Epoch 15/20\n",
      "180/180 [==============================] - 0s 3ms/sample - loss: 0.0599 - acc: 0.9667 - mean_squared_error: 0.0599 - val_loss: 0.0264 - val_acc: 1.0000 - val_mean_squared_error: 0.0264\n",
      "Epoch 16/20\n",
      "180/180 [==============================] - 0s 2ms/sample - loss: 0.0598 - acc: 0.9722 - mean_squared_error: 0.0598 - val_loss: 0.0239 - val_acc: 1.0000 - val_mean_squared_error: 0.0239\n",
      "Epoch 17/20\n",
      "180/180 [==============================] - 0s 3ms/sample - loss: 0.0605 - acc: 0.9722 - mean_squared_error: 0.0605 - val_loss: 0.0589 - val_acc: 1.0000 - val_mean_squared_error: 0.0589\n",
      "Epoch 18/20\n",
      "180/180 [==============================] - 0s 2ms/sample - loss: 0.0601 - acc: 0.9667 - mean_squared_error: 0.0601 - val_loss: 0.0460 - val_acc: 1.0000 - val_mean_squared_error: 0.0460\n",
      "Epoch 19/20\n",
      "180/180 [==============================] - 0s 2ms/sample - loss: 0.0620 - acc: 0.9778 - mean_squared_error: 0.0620 - val_loss: 0.0272 - val_acc: 1.0000 - val_mean_squared_error: 0.0272\n",
      "Epoch 20/20\n",
      "180/180 [==============================] - 0s 2ms/sample - loss: 0.0596 - acc: 0.9556 - mean_squared_error: 0.0596 - val_loss: 0.0241 - val_acc: 1.0000 - val_mean_squared_error: 0.0241\n",
      "Done training!\n"
     ]
    }
   ],
   "source": [
    "# Batch size equal to 1\n",
    "bs1_network = create_network()\n",
    "bs1_history = bs1_network.fit(train_array, \n",
    "                      train_labels_onehot, \n",
    "                      verbose=True, \n",
    "                      validation_split=.1, \n",
    "                      epochs=num_epochs, \n",
    "                      batch_size=1)\n",
    "print('Done training!')"
   ]
  },
  {
   "cell_type": "code",
   "execution_count": 28,
   "id": "a595bcf7",
   "metadata": {},
   "outputs": [
    {
     "data": {
      "image/png": "[encoded data removed]",
      "text/plain": [
       "<Figure size 432x288 with 1 Axes>"
      ]
     },
     "metadata": {
      "needs_background": "light"
     },
     "output_type": "display_data"
    }
   ],
   "source": [
    "plot_model_acc(bs1_history)"
   ]
  },
  {
   "cell_type": "code",
   "execution_count": 29,
   "id": "4218874e",
   "metadata": {},
   "outputs": [
    {
     "name": "stdout",
     "output_type": "stream",
     "text": [
      "Train on 180 samples, validate on 20 samples\n",
      "Epoch 1/20\n",
      "180/180 [==============================] - 0s 3ms/sample - loss: 2.2372 - acc: 0.4611 - mean_squared_error: 2.2372 - val_loss: 2.8028 - val_acc: 0.0000e+00 - val_mean_squared_error: 2.8028\n",
      "Epoch 2/20\n",
      "180/180 [==============================] - 0s 104us/sample - loss: 1.5429 - acc: 0.4611 - mean_squared_error: 1.5429 - val_loss: 1.9096 - val_acc: 0.1000 - val_mean_squared_error: 1.9096\n",
      "Epoch 3/20\n",
      "180/180 [==============================] - 0s 97us/sample - loss: 1.0857 - acc: 0.4944 - mean_squared_error: 1.0857 - val_loss: 1.3211 - val_acc: 0.1500 - val_mean_squared_error: 1.3211\n",
      "Epoch 4/20\n",
      "180/180 [==============================] - 0s 66us/sample - loss: 0.7839 - acc: 0.5222 - mean_squared_error: 0.7839 - val_loss: 0.9321 - val_acc: 0.2500 - val_mean_squared_error: 0.9321\n",
      "Epoch 5/20\n",
      "180/180 [==============================] - 0s 45us/sample - loss: 0.5839 - acc: 0.5556 - mean_squared_error: 0.5839 - val_loss: 0.6739 - val_acc: 0.3000 - val_mean_squared_error: 0.6739\n",
      "Epoch 6/20\n",
      "180/180 [==============================] - 0s 56us/sample - loss: 0.4507 - acc: 0.6000 - mean_squared_error: 0.4507 - val_loss: 0.5016 - val_acc: 0.3500 - val_mean_squared_error: 0.5016\n",
      "Epoch 7/20\n",
      "180/180 [==============================] - 0s 42us/sample - loss: 0.3613 - acc: 0.6500 - mean_squared_error: 0.3613 - val_loss: 0.3858 - val_acc: 0.4000 - val_mean_squared_error: 0.3858\n",
      "Epoch 8/20\n",
      "180/180 [==============================] - 0s 94us/sample - loss: 0.3006 - acc: 0.6889 - mean_squared_error: 0.3006 - val_loss: 0.3070 - val_acc: 0.5000 - val_mean_squared_error: 0.3070\n",
      "Epoch 9/20\n",
      "180/180 [==============================] - 0s 54us/sample - loss: 0.2589 - acc: 0.7111 - mean_squared_error: 0.2589 - val_loss: 0.2528 - val_acc: 0.6000 - val_mean_squared_error: 0.2528\n",
      "Epoch 10/20\n",
      "180/180 [==============================] - 0s 69us/sample - loss: 0.2297 - acc: 0.7333 - mean_squared_error: 0.2297 - val_loss: 0.2147 - val_acc: 0.8000 - val_mean_squared_error: 0.2147\n",
      "Epoch 11/20\n",
      "180/180 [==============================] - 0s 92us/sample - loss: 0.2087 - acc: 0.7611 - mean_squared_error: 0.2087 - val_loss: 0.1875 - val_acc: 0.9000 - val_mean_squared_error: 0.1875\n",
      "Epoch 12/20\n",
      "180/180 [==============================] - 0s 17us/sample - loss: 0.1932 - acc: 0.7778 - mean_squared_error: 0.1932 - val_loss: 0.1674 - val_acc: 0.9000 - val_mean_squared_error: 0.1674\n",
      "Epoch 13/20\n",
      "180/180 [==============================] - 0s 54us/sample - loss: 0.1813 - acc: 0.7944 - mean_squared_error: 0.1813 - val_loss: 0.1523 - val_acc: 0.9000 - val_mean_squared_error: 0.1523\n",
      "Epoch 14/20\n",
      "180/180 [==============================] - 0s 76us/sample - loss: 0.1720 - acc: 0.8000 - mean_squared_error: 0.1720 - val_loss: 0.1404 - val_acc: 0.9500 - val_mean_squared_error: 0.1404\n",
      "Epoch 15/20\n",
      "180/180 [==============================] - 0s 54us/sample - loss: 0.1643 - acc: 0.8167 - mean_squared_error: 0.1643 - val_loss: 0.1309 - val_acc: 0.9500 - val_mean_squared_error: 0.1309\n",
      "Epoch 16/20\n",
      "180/180 [==============================] - 0s 98us/sample - loss: 0.1578 - acc: 0.8222 - mean_squared_error: 0.1578 - val_loss: 0.1229 - val_acc: 0.9500 - val_mean_squared_error: 0.1229\n",
      "Epoch 17/20\n",
      "180/180 [==============================] - 0s 35us/sample - loss: 0.1521 - acc: 0.8278 - mean_squared_error: 0.1521 - val_loss: 0.1162 - val_acc: 0.9500 - val_mean_squared_error: 0.1162\n",
      "Epoch 18/20\n",
      "180/180 [==============================] - 0s 70us/sample - loss: 0.1471 - acc: 0.8444 - mean_squared_error: 0.1471 - val_loss: 0.1102 - val_acc: 0.9500 - val_mean_squared_error: 0.1102\n",
      "Epoch 19/20\n",
      "180/180 [==============================] - 0s 57us/sample - loss: 0.1425 - acc: 0.8500 - mean_squared_error: 0.1425 - val_loss: 0.1050 - val_acc: 0.9500 - val_mean_squared_error: 0.1050\n",
      "Epoch 20/20\n",
      "180/180 [==============================] - 0s 78us/sample - loss: 0.1382 - acc: 0.8556 - mean_squared_error: 0.1382 - val_loss: 0.1002 - val_acc: 0.9500 - val_mean_squared_error: 0.1002\n",
      "Done training!\n"
     ]
    }
   ],
   "source": [
    "# Batch size equal to the number of training patterns\n",
    "bse_network = create_network()\n",
    "bse_history = bse_network.fit(train_array, \n",
    "                      train_labels_onehot, \n",
    "                      verbose=True, \n",
    "                      validation_split=.1, \n",
    "                      epochs=num_epochs, \n",
    "                      batch_size=train_array.shape[0])\n",
    "print('Done training!')"
   ]
  },
  {
   "cell_type": "code",
   "execution_count": 30,
   "id": "cf31dd17",
   "metadata": {},
   "outputs": [
    {
     "data": {
      "image/png": "[encoded data removed]",
      "text/plain": [
       "<Figure size 432x288 with 1 Axes>"
      ]
     },
     "metadata": {
      "needs_background": "light"
     },
     "output_type": "display_data"
    }
   ],
   "source": [
    "plot_model_acc(bse_history)"
   ]
  },
  {
   "cell_type": "markdown",
   "id": "f6cf124a-3804-40ce-a35d-0b3eec27cd9b",
   "metadata": {},
   "source": [
    "<hr>\n",
    "\n",
    "<b>Q4 (4 points).</b> Homework5.ipynb provides code that generates an array of test patterns and provides a plottest() function that displays a shaded contour plot of network predictions on these test patterns (these were discussed in class). All you need to do is apply these test patterns to the trained network from Q1 and plot the results using the plottest() function. "
   ]
  },
  {
   "cell_type": "code",
   "execution_count": 31,
   "id": "6ff3cecf-c7fd-4b64-81eb-23c9bca73f66",
   "metadata": {},
   "outputs": [],
   "source": [
    "# generate test pattern array for Q4\n",
    "\n",
    "xymin = -5\n",
    "xymax = 7.5\n",
    "Npts = 50\n",
    "xv, yv = np.meshgrid(np.linspace(xymin, xymax, Npts), \n",
    "                     np.linspace(xymin, xymax, Npts))\n",
    "test_pats = np.concatenate((xv.reshape((Npts*Npts,1)), \n",
    "                            yv.reshape((Npts*Npts,1))), axis=1)"
   ]
  },
  {
   "cell_type": "code",
   "execution_count": 32,
   "id": "fb9e3b07",
   "metadata": {},
   "outputs": [
    {
     "data": {
      "image/png": "[encoded data removed]",
      "text/plain": [
       "<Figure size 432x288 with 1 Axes>"
      ]
     },
     "metadata": {
      "needs_background": "light"
     },
     "output_type": "display_data"
    }
   ],
   "source": [
    "# plot example\n",
    "plt.plot(sample0[:,0],sample0[:,1],'b+',sample1[:,0],sample1[:,1],'r+')\n",
    "plt.xlabel('dim1')\n",
    "plt.ylabel('dim2')\n",
    "plt.axis('equal')\n",
    "plt.axis('square')\n",
    "plt.legend(('class 0', 'class 1'), loc='lower right')\n",
    "xymin = -5; xymax = 7.5\n",
    "plt.ylim((xymin,xymax))\n",
    "plt.xlim((xymin,xymax))\n",
    "plt.show()"
   ]
  },
  {
   "cell_type": "code",
   "execution_count": 33,
   "id": "12495a74",
   "metadata": {},
   "outputs": [
    {
     "name": "stdout",
     "output_type": "stream",
     "text": [
      "(2500, 2)\n",
      "[[-5.         -5.        ]\n",
      " [-4.74489796 -5.        ]\n",
      " [-4.48979592 -5.        ]\n",
      " ...\n",
      " [ 6.98979592  7.5       ]\n",
      " [ 7.24489796  7.5       ]\n",
      " [ 7.5         7.5       ]]\n"
     ]
    },
    {
     "data": {
      "image/png": "[encoded data removed]",
      "text/plain": [
       "<Figure size 432x288 with 1 Axes>"
      ]
     },
     "metadata": {
      "needs_background": "light"
     },
     "output_type": "display_data"
    }
   ],
   "source": [
    "print(test_pats.shape)\n",
    "\n",
    "print(test_pats)\n",
    "\n",
    "# train_labels_onehot = [0]*len(sample0) + [1]*len(sample1)\n",
    "test_labels_onehot = [0]*test_pats.shape[0]\n",
    "\n",
    "# plot example\n",
    "for idx in range((test_pats.shape[0])):\n",
    "    point = test_pats[idx,:]\n",
    "    if point[1]>((-1*point[0]+4)):\n",
    "        test_labels_onehot[idx] = 1\n",
    "        plt.plot(point[0],point[1],'r+')\n",
    "    else:\n",
    "        plt.plot(point[0],point[1],'b+')\n",
    "plt.xlabel('dim1')\n",
    "plt.ylabel('dim2')\n",
    "plt.axis('equal')\n",
    "plt.axis('square')\n",
    "#plt.legend(('class 0', 'class 1'), loc='lower right')\n",
    "xymin = -5; xymax = 7.5\n",
    "#plt.ylim((xymin,xymax))\n",
    "#plt.xlim((xymin,xymax))\n",
    "plt.show()\n",
    "\n",
    "test_labels_onehot = np.array(test_labels_onehot).reshape((test_pats.shape[0],1))"
   ]
  },
  {
   "cell_type": "code",
   "execution_count": 34,
   "id": "1099f68f-6117-451d-858a-851d88c89f94",
   "metadata": {},
   "outputs": [],
   "source": [
    "# function for generating plot for Q4\n",
    "# xv is array of x-values of test grid (from meshgrid)\n",
    "# yv is array of y-values of test grid (from meshgrid)\n",
    "# out is the output of the neural network given the test patterns\n",
    "# sample0, sample1 are the training patterns from earlier\n",
    "\n",
    "def plottest(xv, yv, out, sample0, sample1):\n",
    "    # reshape out\n",
    "    zv = out.reshape(xv.shape)\n",
    "\n",
    "    # create figure\n",
    "    fig = plt.figure()\n",
    "    plt.contourf(xv, yv, zv, levels=xv.shape[0], cmap=plt.cm.gist_yarg)\n",
    "    plt.plot(sample0[:,0], sample0[:,1], 'b+', \n",
    "             sample1[:,0], sample1[:,1], 'r+')    \n",
    "    \n",
    "    plt.xlabel('dim1')\n",
    "    plt.ylabel('dim2')\n",
    "    plt.axis('equal')\n",
    "    plt.axis('square')\n",
    "    xymin = -5; xymax = 7.5\n",
    "    plt.ylim((xymin,xymax))\n",
    "    plt.xlim((xymin,xymax))\n",
    "    plt.show()"
   ]
  },
  {
   "cell_type": "code",
   "execution_count": 35,
   "id": "6f2fbffd",
   "metadata": {},
   "outputs": [
    {
     "name": "stdout",
     "output_type": "stream",
     "text": [
      "(2500, 2)\n",
      "(2500, 1)\n"
     ]
    }
   ],
   "source": [
    "print(test_pats.shape)\n",
    "print(test_labels_onehot.shape)"
   ]
  },
  {
   "cell_type": "code",
   "execution_count": 44,
   "id": "2f8b403e-aca9-46ff-8b95-4a9e95fbe5c0",
   "metadata": {
    "scrolled": true
   },
   "outputs": [
    {
     "name": "stdout",
     "output_type": "stream",
     "text": [
      "test_loss (MSE)     : 0.17890884981155394\n",
      "test_acc (%Correct) : 0.9416000247001648\n"
     ]
    }
   ],
   "source": [
    "# call network.evaluate() if you have test patterns and test answers and want to know performance\n",
    "results = network.evaluate(test_pats, \n",
    "                           test_labels_onehot, \n",
    "                           verbose=False)\n",
    "\n",
    "test_loss = results[0]\n",
    "test_acc = results[1]\n",
    "\n",
    "print('test_loss (MSE)     : {}'.format(test_loss))\n",
    "print('test_acc (%Correct) : {}'.format(test_acc))\n",
    "\n",
    "out = network.predict(\n",
    "   test_pats, \n",
    "   batch_size = 20, \n",
    "   verbose = 0, \n",
    "   max_queue_size = 10, \n",
    "   workers = 1, \n",
    "   use_multiprocessing = False)"
   ]
  },
  {
   "cell_type": "code",
   "execution_count": 45,
   "id": "9cb25de4",
   "metadata": {},
   "outputs": [
    {
     "data": {
      "image/png": "[encoded data removed]",
      "text/plain": [
       "<Figure size 432x288 with 1 Axes>"
      ]
     },
     "metadata": {
      "needs_background": "light"
     },
     "output_type": "display_data"
    }
   ],
   "source": [
    "plottest(xv, yv, out, sample0, sample1)"
   ]
  },
  {
   "cell_type": "code",
   "execution_count": null,
   "id": "743d62ec",
   "metadata": {},
   "outputs": [],
   "source": []
  }
 ],
 "metadata": {
  "kernelspec": {
   "display_name": "Python 3 (ipykernel)",
   "language": "python",
   "name": "python3"
  },
  "language_info": {
   "codemirror_mode": {
    "name": "ipython",
    "version": 3
   },
   "file_extension": ".py",
   "mimetype": "text/x-python",
   "name": "python",
   "nbconvert_exporter": "python",
   "pygments_lexer": "ipython3",
   "version": "3.7.11"
  }
 },
 "nbformat": 4,
 "nbformat_minor": 5
}
