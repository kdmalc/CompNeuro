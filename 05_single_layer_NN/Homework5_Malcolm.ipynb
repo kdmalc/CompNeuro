{
 "cells": [
  {
   "cell_type": "markdown",
   "id": "2cf8a58b-78d8-44e8-a564-e79f107e5d51",
   "metadata": {},
   "source": [
    "## Homework 5 Starting Code"
   ]
  },
  {
   "cell_type": "code",
   "execution_count": 1,
   "id": "0cde26b2-a1ee-4cd8-ad28-21976361867e",
   "metadata": {},
   "outputs": [],
   "source": [
    "import numpy as np\n",
    "import matplotlib.pyplot as plt\n",
    "import numpy.random as R\n",
    "\n",
    "# supress unnecessary warnings\n",
    "import os\n",
    "os.environ['TF_CPP_MIN_LOG_LEVEL']='2'"
   ]
  },
  {
   "cell_type": "code",
   "execution_count": 2,
   "id": "bd903e6c-e33e-4453-b177-8cc40f9eff9f",
   "metadata": {},
   "outputs": [],
   "source": [
    "## generate N random samples from a 2D multivariate normal distribution\n",
    "##\n",
    "## with mean [mx, my]\n",
    "##\n",
    "## with covariance matrix [[  sx*sx, r*sx*sy],\n",
    "##                         [r*sx*sy,   sy*sy]]\n",
    "## where sx is the standard deviation along the x dimension\n",
    "## where sy is the standard deviation along the y dimension\n",
    "## where r is the correlation between the dimensions\n",
    "##\n",
    "\n",
    "def gensamples(N, mx, my, sx, sy, r):\n",
    "    M   = np.array([mx, my])\n",
    "    Cov = np.array([[  sx*sx, r*sx*sy],\n",
    "                    [r*sx*sy,   sy*sy]])\n",
    "    return (R.multivariate_normal(M, Cov, size=N, check_valid='warn'))"
   ]
  },
  {
   "cell_type": "code",
   "execution_count": 3,
   "id": "6398a377-8afd-4ec8-ba27-1cb4a6eedbf2",
   "metadata": {},
   "outputs": [
    {
     "data": {
      "image/png": "[encoded data removed]",
      "text/plain": [
       "<Figure size 432x288 with 1 Axes>"
      ]
     },
     "metadata": {
      "needs_background": "light"
     },
     "output_type": "display_data"
    }
   ],
   "source": [
    "# classification problem used in Q1\n",
    "\n",
    "mx0 = 0.;  my0 = 0.\n",
    "sx0 = 1.;  sy0 = 1.\n",
    "r0 = 0.\n",
    "\n",
    "mx1 = 3.; my1 = 3.\n",
    "sx1 = 1.; sy1 = 1.\n",
    "r1 = 0.\n",
    "\n",
    "N = 100\n",
    "\n",
    "sample0 = gensamples(N, mx0, my0, sx0, sy0, r0)\n",
    "\n",
    "sample1 = gensamples(N, mx1, my1, sx1, sy1, r1)\n",
    "\n",
    "# plot example\n",
    "plt.plot(sample0[:,0],sample0[:,1],'b+',sample1[:,0],sample1[:,1],'r+')\n",
    "plt.xlabel('dim1')\n",
    "plt.ylabel('dim2')\n",
    "plt.axis('equal')\n",
    "plt.axis('square')\n",
    "plt.legend(('class 0', 'class 1'), loc='lower right')\n",
    "xymin = -5; xymax = 7.5\n",
    "plt.ylim((xymin,xymax))\n",
    "plt.xlim((xymin,xymax))\n",
    "plt.show()"
   ]
  },
  {
   "cell_type": "markdown",
   "id": "9990f63b-6ffc-4803-958c-be2e9c72b905",
   "metadata": {},
   "source": [
    "<hr>\n",
    "\n",
    "<b>Q1 (10 point).</b> Write Keras code to learn this classification problem with a neural network with an input layer containing two nodes (for the x and y dimension) and output node. "
   ]
  },
  {
   "cell_type": "code",
   "execution_count": 55,
   "id": "8d41837e",
   "metadata": {},
   "outputs": [],
   "source": [
    "from tensorflow.keras import models\n",
    "from tensorflow.keras import layers\n",
    "from tensorflow.keras import optimizers\n",
    "os.environ['TF_CPP_MIN_LOG_LEVEL']='2'"
   ]
  },
  {
   "cell_type": "markdown",
   "id": "d4d1b3bf",
   "metadata": {},
   "source": [
    "1. Pick an activation function\n",
    "2. Use SGD optimizier (lr=0.1, decay=e-6, mom=0.9)\n",
    "3. Use mean_squared_error as the loss function\n",
    "4. Save accuracy as one of the metrics when you compile your network\n",
    "5. Assume batch size of 20\n",
    "6. You will need to select the number of training epochs so that the accuracy asymptotes (e.g. doesn't change more than 0.5% between epochs).  Try training at least 10 times to hone in on a number of epochs that is the sweet spot for most randomizations  Use verbose=True."
   ]
  },
  {
   "cell_type": "code",
   "execution_count": 56,
   "id": "dce908f5",
   "metadata": {},
   "outputs": [],
   "source": [
    "def plot_model_acc(history):\n",
    "    \"\"\"Accuracy Plotting Function\"\"\"\n",
    "    plt.plot(history.history['acc'])\n",
    "    plt.plot(history.history['val_acc'])\n",
    "    plt.title('Model Accuracy As a Function of Number of Epochs Trained')\n",
    "    plt.ylabel('Accuracy')\n",
    "    plt.xlabel('Epoch')\n",
    "    plt.legend(['train', 'validation'], loc='lower right')\n",
    "    plt.show()"
   ]
  },
  {
   "cell_type": "code",
   "execution_count": 57,
   "id": "424d86de-fa91-43b6-8fd8-bedd36fc1b1c",
   "metadata": {},
   "outputs": [
    {
     "name": "stdout",
     "output_type": "stream",
     "text": [
      "Model: \"sequential_25\"\n",
      "_________________________________________________________________\n",
      "Layer (type)                 Output Shape              Param #   \n",
      "=================================================================\n",
      "dense_12 (Dense)             (None, 1)                 3         \n",
      "=================================================================\n",
      "Total params: 3\n",
      "Trainable params: 3\n",
      "Non-trainable params: 0\n",
      "_________________________________________________________________\n",
      "None\n",
      "************************************************\n",
      "\n",
      "layer name : dense_12 | input shape : (?, 2) | output shape : (?, 1)\n",
      "************************************************\n",
      "\n",
      "{'name': 'dense_12', 'trainable': True, 'batch_input_shape': (None, 2), 'dtype': 'float32', 'units': 1, 'activation': 'linear', 'use_bias': True, 'kernel_initializer': {'class_name': 'GlorotUniform', 'config': {'seed': None, 'dtype': 'float32'}}, 'bias_initializer': {'class_name': 'Zeros', 'config': {'dtype': 'float32'}}, 'kernel_regularizer': None, 'bias_regularizer': None, 'activity_regularizer': None, 'kernel_constraint': None, 'bias_constraint': None}\n",
      "\n"
     ]
    }
   ],
   "source": [
    "network = models.Sequential()\n",
    "\n",
    "nin  = 2\n",
    "nout = 1\n",
    "\n",
    "network = models.Sequential()\n",
    "network.add(layers.Dense(nout, \n",
    "                         activation='linear', \n",
    "                         input_shape=(nin,)))\n",
    "\n",
    "print(network.summary())\n",
    "print('************************************************\\n')\n",
    "\n",
    "for layer in network.layers:\n",
    "    print('layer name : {} | input shape : {} | output shape : {}'.format(layer.name, layer.input.shape, layer.output.shape))\n",
    "print('************************************************\\n')\n",
    "\n",
    "for layer in network.layers:\n",
    "    print(layer.get_config())\n",
    "print()"
   ]
  },
  {
   "cell_type": "code",
   "execution_count": 58,
   "id": "beafa23e",
   "metadata": {},
   "outputs": [],
   "source": [
    "# compile network\n",
    "#\n",
    "# configures the network for training, specifying optimizer and loss function\n",
    "#\n",
    "# optimizer='sgd'           : stochastic gradient descent (simplest, not the smartest)\n",
    "# loss='mean_squared_error' : uses MSE (MSE = 1/N * SSE)\n",
    "# metrics=['accuracy']      : what is printed when verbose=True\n",
    "\n",
    "# configure optimizer\n",
    "sgd = optimizers.SGD(learning_rate=0.01, decay=1e-6, momentum=0.9)\n",
    "\n",
    "network.compile(optimizer=sgd, \n",
    "                loss='mean_squared_error', \n",
    "                metrics=['accuracy', 'mse'])"
   ]
  },
  {
   "cell_type": "code",
   "execution_count": 59,
   "id": "3c41842d",
   "metadata": {},
   "outputs": [],
   "source": [
    "def create_network(nin=2, nout=1):\n",
    "    network = models.Sequential()\n",
    "\n",
    "    network = models.Sequential()\n",
    "    network.add(layers.Dense(nout, \n",
    "                             activation='linear', \n",
    "                             input_shape=(nin,)))\n",
    "    \n",
    "    # configure optimizer\n",
    "    sgd = optimizers.SGD(learning_rate=0.01, decay=1e-6, momentum=0.9)\n",
    "\n",
    "    network.compile(optimizer=sgd, \n",
    "                    loss='mean_squared_error', \n",
    "                    metrics=['accuracy', 'mse'])\n",
    "    \n",
    "    return network"
   ]
  },
  {
   "cell_type": "code",
   "execution_count": 60,
   "id": "d06da8c4",
   "metadata": {},
   "outputs": [
    {
     "name": "stdout",
     "output_type": "stream",
     "text": [
      "[-1.25745732  1.67778374]\n",
      "200\n",
      "(200, 2)\n"
     ]
    }
   ],
   "source": [
    "train_labels_onehot = [0]*len(sample0) + [1]*len(sample1)\n",
    "\n",
    "sample0_list = list(sample0)\n",
    "sample1_list = list(sample1)\n",
    "train_vec = list()\n",
    "train_vec.extend(sample0_list)\n",
    "train_vec.extend(sample1_list)\n",
    "print(sample0_list[0])\n",
    "print(len(train_vec))\n",
    "\n",
    "train_array = np.array(train_vec)\n",
    "print(train_array.shape)"
   ]
  },
  {
   "cell_type": "code",
   "execution_count": 61,
   "id": "6631993f",
   "metadata": {},
   "outputs": [
    {
     "name": "stdout",
     "output_type": "stream",
     "text": [
      "Train on 180 samples, validate on 20 samples\n",
      "Epoch 1/30\n",
      "180/180 [==============================] - 0s 3ms/sample - loss: 1.5664 - acc: 0.6500 - mean_squared_error: 1.5664 - val_loss: 0.3262 - val_acc: 0.8500 - val_mean_squared_error: 0.3262\n",
      "Epoch 2/30\n",
      "180/180 [==============================] - 0s 161us/sample - loss: 0.1624 - acc: 0.8444 - mean_squared_error: 0.1624 - val_loss: 0.1229 - val_acc: 0.8000 - val_mean_squared_error: 0.1229\n",
      "Epoch 3/30\n",
      "180/180 [==============================] - 0s 163us/sample - loss: 0.2232 - acc: 0.8444 - mean_squared_error: 0.2232 - val_loss: 0.2223 - val_acc: 0.6500 - val_mean_squared_error: 0.2223\n",
      "Epoch 4/30\n",
      "180/180 [==============================] - 0s 173us/sample - loss: 0.1135 - acc: 0.8889 - mean_squared_error: 0.1135 - val_loss: 0.0550 - val_acc: 1.0000 - val_mean_squared_error: 0.0550\n",
      "Epoch 5/30\n",
      "180/180 [==============================] - 0s 162us/sample - loss: 0.0556 - acc: 0.9833 - mean_squared_error: 0.0556 - val_loss: 0.1175 - val_acc: 0.9000 - val_mean_squared_error: 0.1175\n",
      "Epoch 6/30\n",
      "180/180 [==============================] - 0s 189us/sample - loss: 0.0642 - acc: 0.9722 - mean_squared_error: 0.0642 - val_loss: 0.0693 - val_acc: 1.0000 - val_mean_squared_error: 0.0693\n",
      "Epoch 7/30\n",
      "180/180 [==============================] - 0s 156us/sample - loss: 0.0464 - acc: 0.9889 - mean_squared_error: 0.0464 - val_loss: 0.0420 - val_acc: 1.0000 - val_mean_squared_error: 0.0420\n",
      "Epoch 8/30\n",
      "180/180 [==============================] - 0s 173us/sample - loss: 0.0452 - acc: 0.9889 - mean_squared_error: 0.0452 - val_loss: 0.0529 - val_acc: 1.0000 - val_mean_squared_error: 0.0529\n",
      "Epoch 9/30\n",
      "180/180 [==============================] - 0s 150us/sample - loss: 0.0432 - acc: 0.9889 - mean_squared_error: 0.0432 - val_loss: 0.0598 - val_acc: 1.0000 - val_mean_squared_error: 0.0598\n",
      "Epoch 10/30\n",
      "180/180 [==============================] - 0s 165us/sample - loss: 0.0432 - acc: 0.9889 - mean_squared_error: 0.0432 - val_loss: 0.0542 - val_acc: 1.0000 - val_mean_squared_error: 0.0542\n",
      "Epoch 11/30\n",
      "180/180 [==============================] - 0s 155us/sample - loss: 0.0420 - acc: 0.9889 - mean_squared_error: 0.0420 - val_loss: 0.0614 - val_acc: 1.0000 - val_mean_squared_error: 0.0614\n",
      "Epoch 12/30\n",
      "180/180 [==============================] - 0s 156us/sample - loss: 0.0419 - acc: 0.9889 - mean_squared_error: 0.0419 - val_loss: 0.0453 - val_acc: 1.0000 - val_mean_squared_error: 0.0453\n",
      "Epoch 13/30\n",
      "180/180 [==============================] - 0s 150us/sample - loss: 0.0423 - acc: 0.9889 - mean_squared_error: 0.0423 - val_loss: 0.0575 - val_acc: 1.0000 - val_mean_squared_error: 0.0575\n",
      "Epoch 14/30\n",
      "180/180 [==============================] - 0s 172us/sample - loss: 0.0416 - acc: 0.9889 - mean_squared_error: 0.0416 - val_loss: 0.0455 - val_acc: 1.0000 - val_mean_squared_error: 0.0455\n",
      "Epoch 15/30\n",
      "180/180 [==============================] - 0s 167us/sample - loss: 0.0434 - acc: 0.9889 - mean_squared_error: 0.0434 - val_loss: 0.0846 - val_acc: 1.0000 - val_mean_squared_error: 0.0846\n",
      "Epoch 16/30\n",
      "180/180 [==============================] - 0s 150us/sample - loss: 0.0454 - acc: 0.9833 - mean_squared_error: 0.0454 - val_loss: 0.0472 - val_acc: 1.0000 - val_mean_squared_error: 0.0472\n",
      "Epoch 17/30\n",
      "180/180 [==============================] - 0s 183us/sample - loss: 0.0416 - acc: 0.9889 - mean_squared_error: 0.0416 - val_loss: 0.0608 - val_acc: 1.0000 - val_mean_squared_error: 0.0608\n",
      "Epoch 18/30\n",
      "180/180 [==============================] - 0s 172us/sample - loss: 0.0428 - acc: 0.9889 - mean_squared_error: 0.0428 - val_loss: 0.0597 - val_acc: 1.0000 - val_mean_squared_error: 0.0597\n",
      "Epoch 19/30\n",
      "180/180 [==============================] - 0s 180us/sample - loss: 0.0437 - acc: 0.9889 - mean_squared_error: 0.0437 - val_loss: 0.0433 - val_acc: 1.0000 - val_mean_squared_error: 0.0433\n",
      "Epoch 20/30\n",
      "180/180 [==============================] - 0s 161us/sample - loss: 0.0426 - acc: 0.9889 - mean_squared_error: 0.0426 - val_loss: 0.0619 - val_acc: 1.0000 - val_mean_squared_error: 0.0619\n",
      "Epoch 21/30\n",
      "180/180 [==============================] - 0s 150us/sample - loss: 0.0431 - acc: 0.9889 - mean_squared_error: 0.0431 - val_loss: 0.0585 - val_acc: 1.0000 - val_mean_squared_error: 0.0585\n",
      "Epoch 22/30\n",
      "180/180 [==============================] - 0s 133us/sample - loss: 0.0425 - acc: 0.9889 - mean_squared_error: 0.0425 - val_loss: 0.0475 - val_acc: 1.0000 - val_mean_squared_error: 0.0475\n",
      "Epoch 23/30\n",
      "180/180 [==============================] - 0s 194us/sample - loss: 0.0415 - acc: 0.9889 - mean_squared_error: 0.0415 - val_loss: 0.0656 - val_acc: 1.0000 - val_mean_squared_error: 0.0656\n",
      "Epoch 24/30\n",
      "180/180 [==============================] - 0s 167us/sample - loss: 0.0422 - acc: 0.9889 - mean_squared_error: 0.0422 - val_loss: 0.0469 - val_acc: 1.0000 - val_mean_squared_error: 0.0469\n",
      "Epoch 25/30\n",
      "180/180 [==============================] - 0s 161us/sample - loss: 0.0418 - acc: 0.9889 - mean_squared_error: 0.0418 - val_loss: 0.0747 - val_acc: 1.0000 - val_mean_squared_error: 0.0747\n",
      "Epoch 26/30\n",
      "180/180 [==============================] - 0s 167us/sample - loss: 0.0457 - acc: 0.9889 - mean_squared_error: 0.0457 - val_loss: 0.0607 - val_acc: 1.0000 - val_mean_squared_error: 0.0607\n",
      "Epoch 27/30\n",
      "180/180 [==============================] - 0s 155us/sample - loss: 0.0429 - acc: 0.9889 - mean_squared_error: 0.0429 - val_loss: 0.0444 - val_acc: 1.0000 - val_mean_squared_error: 0.0444\n",
      "Epoch 28/30\n",
      "180/180 [==============================] - 0s 156us/sample - loss: 0.0429 - acc: 0.9889 - mean_squared_error: 0.0429 - val_loss: 0.0544 - val_acc: 1.0000 - val_mean_squared_error: 0.0544\n",
      "Epoch 29/30\n",
      "180/180 [==============================] - 0s 183us/sample - loss: 0.0426 - acc: 0.9889 - mean_squared_error: 0.0426 - val_loss: 0.0601 - val_acc: 1.0000 - val_mean_squared_error: 0.0601\n",
      "Epoch 30/30\n",
      "180/180 [==============================] - 0s 161us/sample - loss: 0.0426 - acc: 0.9889 - mean_squared_error: 0.0426 - val_loss: 0.0453 - val_acc: 1.0000 - val_mean_squared_error: 0.0453\n",
      "Done training!\n"
     ]
    },
    {
     "data": {
      "image/png": "[encoded data removed]",
      "text/plain": [
       "<Figure size 432x288 with 1 Axes>"
      ]
     },
     "metadata": {
      "needs_background": "light"
     },
     "output_type": "display_data"
    },
    {
     "name": "stdout",
     "output_type": "stream",
     "text": [
      "!!!!!!!!!!!!!!!!!!!!!!!!!!!!!!!!!!!!!!!!!!!!!!!!!!\n",
      "Network success!\n",
      "!!!!!!!!!!!!!!!!!!!!!!!!!!!!!!!!!!!!!!!!!!!!!!!!!!\n"
     ]
    }
   ],
   "source": [
    "# now train the network\n",
    "#\n",
    "# training requires training patterns (train_image_vec) and teachers (train_labels_onehot)\n",
    "#\n",
    "# sets # training epochs, validation (described later), and batch_size\n",
    "#\n",
    "# set verbose=True to see training unfold\n",
    "\n",
    "num_epochs = 30\n",
    "\n",
    "network100 = create_network()\n",
    "history = network100.fit(train_array, \n",
    "                      train_labels_onehot, \n",
    "                      verbose=True, \n",
    "                      validation_split=.1, \n",
    "                      epochs=num_epochs, \n",
    "                      batch_size=20)\n",
    "print('Done training!')\n",
    "plot_model_acc(history)\n",
    "\n",
    "mean = sum(history.history['acc'][-20:])/len(history.history['acc'][-20:])\n",
    "upper = mean * 1.005 > history.history['acc'][-6]\n",
    "lower = mean * 0.995 < history.history['acc'][-6]\n",
    "\n",
    "if upper and lower:\n",
    "    print(\"!!!!!!!!!!!!!!!!!!!!!!!!!!!!!!!!!!!!!!!!!!!!!!!!!!\")\n",
    "    print(\"Network success!\")\n",
    "    print(\"!!!!!!!!!!!!!!!!!!!!!!!!!!!!!!!!!!!!!!!!!!!!!!!!!!\")\n",
    "else: \n",
    "    print(\"!!!!!!!!!!!!!!!!!!!!!!!!!!!!!!!!!!!!!!!!!!!!!!!!!!\")\n",
    "    print(\"Network failure\")\n",
    "    print(\"!!!!!!!!!!!!!!!!!!!!!!!!!!!!!!!!!!!!!!!!!!!!!!!!!!\")"
   ]
  },
  {
   "cell_type": "markdown",
   "id": "80749519-6a30-47d8-9b0a-95641d357c00",
   "metadata": {},
   "source": [
    "<hr>\n",
    "\n",
    "<b>Q2 (2 points).</b> Create a plot of training accuracy as a function of epoch (with axes properly labeled)."
   ]
  },
  {
   "cell_type": "code",
   "execution_count": 62,
   "id": "442f7e24-9f3c-431c-9e8a-239d742717a6",
   "metadata": {},
   "outputs": [
    {
     "name": "stdout",
     "output_type": "stream",
     "text": [
      "dict_keys(['loss', 'acc', 'mean_squared_error', 'val_loss', 'val_acc', 'val_mean_squared_error'])\n"
     ]
    },
    {
     "data": {
      "image/png": "[encoded data removed]",
      "text/plain": [
       "<Figure size 432x288 with 1 Axes>"
      ]
     },
     "metadata": {
      "needs_background": "light"
     },
     "output_type": "display_data"
    }
   ],
   "source": [
    "print(history.history.keys())\n",
    "    \n",
    "plot_model_acc(history)"
   ]
  },
  {
   "cell_type": "markdown",
   "id": "7f8e6000-7ff4-4f57-868f-afc954d16d42",
   "metadata": {},
   "source": [
    "<hr>\n",
    "\n",
    "<b>Q3 (3 points).</b> Explore what happens when you (a) set the batch size equal to 1 (so that weights get updated after every training pattern), and (b) set the batch size equal to the total number of training patterns (so that weights get updated once per epoch after all of the training patterns have been shown). "
   ]
  },
  {
   "cell_type": "code",
   "execution_count": 63,
   "id": "8627e528-7545-401b-a1f9-4f8ac4fe7c92",
   "metadata": {},
   "outputs": [
    {
     "name": "stdout",
     "output_type": "stream",
     "text": [
      "Train on 180 samples, validate on 20 samples\n",
      "Epoch 1/30\n",
      "180/180 [==============================] - 1s 5ms/sample - loss: 2.5896 - acc: 0.7278 - mean_squared_error: 2.5896 - val_loss: 0.0488 - val_acc: 1.0000 - val_mean_squared_error: 0.0488\n",
      "Epoch 2/30\n",
      "180/180 [==============================] - 0s 3ms/sample - loss: 0.8762 - acc: 0.8222 - mean_squared_error: 0.8762 - val_loss: 0.4583 - val_acc: 0.2500 - val_mean_squared_error: 0.4583\n",
      "Epoch 3/30\n",
      "180/180 [==============================] - 0s 3ms/sample - loss: 0.2037 - acc: 0.8444 - mean_squared_error: 0.2037 - val_loss: 0.4452 - val_acc: 0.9500 - val_mean_squared_error: 0.4452\n",
      "Epoch 4/30\n",
      "180/180 [==============================] - 0s 3ms/sample - loss: 3.1769 - acc: 0.6944 - mean_squared_error: 3.1769 - val_loss: 0.1650 - val_acc: 0.9000 - val_mean_squared_error: 0.1650\n",
      "Epoch 5/30\n",
      "180/180 [==============================] - 0s 3ms/sample - loss: 15.6052 - acc: 0.6889 - mean_squared_error: 15.6052 - val_loss: 2.2027 - val_acc: 0.8000 - val_mean_squared_error: 2.2027\n",
      "Epoch 6/30\n",
      "180/180 [==============================] - 0s 3ms/sample - loss: 1098.7714 - acc: 0.4833 - mean_squared_error: 1098.7712 - val_loss: 458.8829 - val_acc: 1.0000 - val_mean_squared_error: 458.8829\n",
      "Epoch 7/30\n",
      "180/180 [==============================] - 0s 3ms/sample - loss: 409.7686 - acc: 0.5389 - mean_squared_error: 409.7687 - val_loss: 2185.5081 - val_acc: 0.0000e+00 - val_mean_squared_error: 2185.5083\n",
      "Epoch 8/30\n",
      "180/180 [==============================] - 0s 2ms/sample - loss: 1825.0903 - acc: 0.5056 - mean_squared_error: 1825.0901 - val_loss: 61.9434 - val_acc: 0.2500 - val_mean_squared_error: 61.9434\n",
      "Epoch 9/30\n",
      "180/180 [==============================] - 0s 3ms/sample - loss: 4546.3237 - acc: 0.4889 - mean_squared_error: 4546.3228 - val_loss: 2.4514 - val_acc: 0.4000 - val_mean_squared_error: 2.4514\n",
      "Epoch 10/30\n",
      "180/180 [==============================] - 0s 3ms/sample - loss: 1.3799 - acc: 0.7444 - mean_squared_error: 1.3799 - val_loss: 0.2414 - val_acc: 0.5500 - val_mean_squared_error: 0.2414\n",
      "Epoch 11/30\n",
      "180/180 [==============================] - 0s 3ms/sample - loss: 0.4387 - acc: 0.7889 - mean_squared_error: 0.4387 - val_loss: 0.2181 - val_acc: 1.0000 - val_mean_squared_error: 0.2181\n",
      "Epoch 12/30\n",
      "180/180 [==============================] - 1s 3ms/sample - loss: 0.2829 - acc: 0.8500 - mean_squared_error: 0.2829 - val_loss: 0.0636 - val_acc: 1.0000 - val_mean_squared_error: 0.0636\n",
      "Epoch 13/30\n",
      "180/180 [==============================] - 0s 2ms/sample - loss: 0.1132 - acc: 0.9333 - mean_squared_error: 0.1132 - val_loss: 0.4882 - val_acc: 1.0000 - val_mean_squared_error: 0.4882\n",
      "Epoch 14/30\n",
      "180/180 [==============================] - 0s 2ms/sample - loss: 4.5564 - acc: 0.6556 - mean_squared_error: 4.5564 - val_loss: 0.0631 - val_acc: 1.0000 - val_mean_squared_error: 0.0631\n",
      "Epoch 15/30\n",
      "180/180 [==============================] - 0s 2ms/sample - loss: 91.5086 - acc: 0.6556 - mean_squared_error: 91.5086 - val_loss: 1936.0331 - val_acc: 1.0000 - val_mean_squared_error: 1936.0330\n",
      "Epoch 16/30\n",
      "180/180 [==============================] - 0s 3ms/sample - loss: 398.4051 - acc: 0.5556 - mean_squared_error: 398.4052 - val_loss: 10.7529 - val_acc: 1.0000 - val_mean_squared_error: 10.7529\n",
      "Epoch 17/30\n",
      "180/180 [==============================] - 1s 3ms/sample - loss: 6.7052 - acc: 0.6722 - mean_squared_error: 6.7052 - val_loss: 3.4056 - val_acc: 0.0000e+00 - val_mean_squared_error: 3.4056\n",
      "Epoch 18/30\n",
      "180/180 [==============================] - 0s 3ms/sample - loss: 11.3778 - acc: 0.6611 - mean_squared_error: 11.3778 - val_loss: 4.6171 - val_acc: 1.0000 - val_mean_squared_error: 4.6171\n",
      "Epoch 19/30\n",
      "180/180 [==============================] - 0s 3ms/sample - loss: 22.7661 - acc: 0.6000 - mean_squared_error: 22.7661 - val_loss: 8.4767 - val_acc: 0.0000e+00 - val_mean_squared_error: 8.4767\n",
      "Epoch 20/30\n",
      "180/180 [==============================] - 0s 2ms/sample - loss: 0.5470 - acc: 0.8000 - mean_squared_error: 0.5470 - val_loss: 0.2169 - val_acc: 1.0000 - val_mean_squared_error: 0.2169\n",
      "Epoch 21/30\n",
      "180/180 [==============================] - 0s 3ms/sample - loss: 1.2226 - acc: 0.7889 - mean_squared_error: 1.2226 - val_loss: 2.5309 - val_acc: 1.0000 - val_mean_squared_error: 2.5309\n",
      "Epoch 22/30\n",
      "180/180 [==============================] - 0s 2ms/sample - loss: 0.2602 - acc: 0.8722 - mean_squared_error: 0.2602 - val_loss: 0.0598 - val_acc: 1.0000 - val_mean_squared_error: 0.0598\n",
      "Epoch 23/30\n",
      "180/180 [==============================] - 0s 3ms/sample - loss: 0.3711 - acc: 0.8167 - mean_squared_error: 0.3711 - val_loss: 4.4991 - val_acc: 0.0000e+00 - val_mean_squared_error: 4.4991\n",
      "Epoch 24/30\n",
      "180/180 [==============================] - 0s 2ms/sample - loss: 1.2559 - acc: 0.7611 - mean_squared_error: 1.2559 - val_loss: 1.1103 - val_acc: 0.0000e+00 - val_mean_squared_error: 1.1103\n",
      "Epoch 25/30\n",
      "180/180 [==============================] - 0s 2ms/sample - loss: 1.5713 - acc: 0.8111 - mean_squared_error: 1.5713 - val_loss: 6.2015 - val_acc: 0.0000e+00 - val_mean_squared_error: 6.2015\n",
      "Epoch 26/30\n",
      "180/180 [==============================] - 0s 2ms/sample - loss: 1.4554 - acc: 0.7500 - mean_squared_error: 1.4554 - val_loss: 1.7795 - val_acc: 0.0000e+00 - val_mean_squared_error: 1.7795\n",
      "Epoch 27/30\n",
      "180/180 [==============================] - 0s 2ms/sample - loss: 16.8270 - acc: 0.6222 - mean_squared_error: 16.8270 - val_loss: 162.2405 - val_acc: 1.0000 - val_mean_squared_error: 162.2405\n",
      "Epoch 28/30\n",
      "180/180 [==============================] - 0s 2ms/sample - loss: 72.1659 - acc: 0.6333 - mean_squared_error: 72.1659 - val_loss: 0.1569 - val_acc: 0.7500 - val_mean_squared_error: 0.1569\n",
      "Epoch 29/30\n",
      "180/180 [==============================] - 0s 2ms/sample - loss: 0.4751 - acc: 0.8167 - mean_squared_error: 0.4751 - val_loss: 0.1509 - val_acc: 1.0000 - val_mean_squared_error: 0.1509\n",
      "Epoch 30/30\n",
      "180/180 [==============================] - 0s 2ms/sample - loss: 0.4984 - acc: 0.7944 - mean_squared_error: 0.4984 - val_loss: 0.1221 - val_acc: 0.9500 - val_mean_squared_error: 0.1221\n",
      "Done training!\n"
     ]
    }
   ],
   "source": [
    "# Batch size equal to 1\n",
    "bs1_network = create_network()\n",
    "bs1_history = bs1_network.fit(train_array, \n",
    "                      train_labels_onehot, \n",
    "                      verbose=True, \n",
    "                      validation_split=.1, \n",
    "                      epochs=num_epochs, \n",
    "                      batch_size=1)\n",
    "print('Done training!')"
   ]
  },
  {
   "cell_type": "code",
   "execution_count": 64,
   "id": "a595bcf7",
   "metadata": {},
   "outputs": [
    {
     "data": {
      "image/png": "[encoded data removed]",
      "text/plain": [
       "<Figure size 432x288 with 1 Axes>"
      ]
     },
     "metadata": {
      "needs_background": "light"
     },
     "output_type": "display_data"
    }
   ],
   "source": [
    "plot_model_acc(bs1_history)"
   ]
  },
  {
   "cell_type": "code",
   "execution_count": 65,
   "id": "4218874e",
   "metadata": {},
   "outputs": [
    {
     "name": "stdout",
     "output_type": "stream",
     "text": [
      "Train on 180 samples, validate on 20 samples\n",
      "Epoch 1/30\n",
      "180/180 [==============================] - 0s 3ms/sample - loss: 5.0975 - acc: 0.3944 - mean_squared_error: 5.0975 - val_loss: 6.6103 - val_acc: 0.0000e+00 - val_mean_squared_error: 6.6103\n",
      "Epoch 2/30\n",
      "180/180 [==============================] - 0s 67us/sample - loss: 3.4189 - acc: 0.4556 - mean_squared_error: 3.4189 - val_loss: 2.6124 - val_acc: 0.0000e+00 - val_mean_squared_error: 2.6124\n",
      "Epoch 3/30\n",
      "180/180 [==============================] - 0s 67us/sample - loss: 1.3403 - acc: 0.5000 - mean_squared_error: 1.3403 - val_loss: 0.2801 - val_acc: 0.6000 - val_mean_squared_error: 0.2801\n",
      "Epoch 4/30\n",
      "180/180 [==============================] - 0s 56us/sample - loss: 0.1811 - acc: 0.7333 - mean_squared_error: 0.1811 - val_loss: 0.5086 - val_acc: 1.0000 - val_mean_squared_error: 0.5086\n",
      "Epoch 5/30\n",
      "180/180 [==============================] - 0s 64us/sample - loss: 0.4055 - acc: 0.8833 - mean_squared_error: 0.4055 - val_loss: 2.3325 - val_acc: 1.0000 - val_mean_squared_error: 2.3325\n",
      "Epoch 6/30\n",
      "180/180 [==============================] - 0s 50us/sample - loss: 1.4723 - acc: 0.8111 - mean_squared_error: 1.4723 - val_loss: 3.9432 - val_acc: 1.0000 - val_mean_squared_error: 3.9432\n",
      "Epoch 7/30\n",
      "180/180 [==============================] - 0s 72us/sample - loss: 2.3884 - acc: 0.8111 - mean_squared_error: 2.3884 - val_loss: 4.0754 - val_acc: 1.0000 - val_mean_squared_error: 4.0754\n",
      "Epoch 8/30\n",
      "180/180 [==============================] - 0s 56us/sample - loss: 2.4620 - acc: 0.8333 - mean_squared_error: 2.4620 - val_loss: 2.7569 - val_acc: 1.0000 - val_mean_squared_error: 2.7569\n",
      "Epoch 9/30\n",
      "180/180 [==============================] - 0s 66us/sample - loss: 1.7090 - acc: 0.8389 - mean_squared_error: 1.7090 - val_loss: 1.0396 - val_acc: 1.0000 - val_mean_squared_error: 1.0396\n",
      "Epoch 10/30\n",
      "180/180 [==============================] - 0s 61us/sample - loss: 0.7078 - acc: 0.8667 - mean_squared_error: 0.7078 - val_loss: 0.0867 - val_acc: 1.0000 - val_mean_squared_error: 0.0867\n",
      "Epoch 11/30\n",
      "180/180 [==============================] - 0s 72us/sample - loss: 0.1025 - acc: 0.9389 - mean_squared_error: 0.1025 - val_loss: 0.3533 - val_acc: 0.1500 - val_mean_squared_error: 0.3533\n",
      "Epoch 12/30\n",
      "180/180 [==============================] - 0s 64us/sample - loss: 0.1567 - acc: 0.6778 - mean_squared_error: 0.1567 - val_loss: 1.3977 - val_acc: 0.0000e+00 - val_mean_squared_error: 1.3977\n",
      "Epoch 13/30\n",
      "180/180 [==============================] - 0s 56us/sample - loss: 0.6483 - acc: 0.5556 - mean_squared_error: 0.6483 - val_loss: 2.3333 - val_acc: 0.0000e+00 - val_mean_squared_error: 2.3333\n",
      "Epoch 14/30\n",
      "180/180 [==============================] - 0s 61us/sample - loss: 1.1098 - acc: 0.5556 - mean_squared_error: 1.1098 - val_loss: 2.4973 - val_acc: 0.0000e+00 - val_mean_squared_error: 2.4973\n",
      "Epoch 15/30\n",
      "180/180 [==============================] - 0s 66us/sample - loss: 1.1890 - acc: 0.5556 - mean_squared_error: 1.1890 - val_loss: 1.8488 - val_acc: 0.0000e+00 - val_mean_squared_error: 1.8488\n",
      "Epoch 16/30\n",
      "180/180 [==============================] - 0s 67us/sample - loss: 0.8628 - acc: 0.5556 - mean_squared_error: 0.8628 - val_loss: 0.8793 - val_acc: 0.0000e+00 - val_mean_squared_error: 0.8793\n",
      "Epoch 17/30\n",
      "180/180 [==============================] - 0s 61us/sample - loss: 0.3897 - acc: 0.5556 - mean_squared_error: 0.3897 - val_loss: 0.1881 - val_acc: 0.7000 - val_mean_squared_error: 0.1881\n",
      "Epoch 18/30\n",
      "180/180 [==============================] - 0s 61us/sample - loss: 0.0821 - acc: 0.9389 - mean_squared_error: 0.0821 - val_loss: 0.0694 - val_acc: 1.0000 - val_mean_squared_error: 0.0694\n",
      "Epoch 19/30\n",
      "180/180 [==============================] - 0s 56us/sample - loss: 0.0853 - acc: 0.9722 - mean_squared_error: 0.0853 - val_loss: 0.3847 - val_acc: 1.0000 - val_mean_squared_error: 0.3847\n",
      "Epoch 20/30\n",
      "180/180 [==============================] - 0s 67us/sample - loss: 0.3111 - acc: 0.9111 - mean_squared_error: 0.3111 - val_loss: 0.7480 - val_acc: 1.0000 - val_mean_squared_error: 0.7480\n",
      "Epoch 21/30\n",
      "180/180 [==============================] - 0s 67us/sample - loss: 0.5413 - acc: 0.8833 - mean_squared_error: 0.5413 - val_loss: 0.8397 - val_acc: 1.0000 - val_mean_squared_error: 0.8397\n",
      "Epoch 22/30\n",
      "180/180 [==============================] - 0s 61us/sample - loss: 0.5984 - acc: 0.8833 - mean_squared_error: 0.5984 - val_loss: 0.6111 - val_acc: 1.0000 - val_mean_squared_error: 0.6111\n",
      "Epoch 23/30\n",
      "180/180 [==============================] - 0s 67us/sample - loss: 0.4571 - acc: 0.8833 - mean_squared_error: 0.4571 - val_loss: 0.2634 - val_acc: 1.0000 - val_mean_squared_error: 0.2634\n",
      "Epoch 24/30\n",
      "180/180 [==============================] - 0s 61us/sample - loss: 0.2321 - acc: 0.9222 - mean_squared_error: 0.2321 - val_loss: 0.0587 - val_acc: 1.0000 - val_mean_squared_error: 0.0587\n",
      "Epoch 25/30\n",
      "180/180 [==============================] - 0s 61us/sample - loss: 0.0741 - acc: 0.9778 - mean_squared_error: 0.0741 - val_loss: 0.1238 - val_acc: 0.9500 - val_mean_squared_error: 0.1238\n",
      "Epoch 26/30\n",
      "180/180 [==============================] - 0s 64us/sample - loss: 0.0617 - acc: 0.9556 - mean_squared_error: 0.0617 - val_loss: 0.3811 - val_acc: 0.1500 - val_mean_squared_error: 0.3811\n",
      "Epoch 27/30\n",
      "180/180 [==============================] - 0s 50us/sample - loss: 0.1618 - acc: 0.6556 - mean_squared_error: 0.1618 - val_loss: 0.6319 - val_acc: 0.0000e+00 - val_mean_squared_error: 0.6319\n",
      "Epoch 28/30\n",
      "180/180 [==============================] - 0s 67us/sample - loss: 0.2734 - acc: 0.5556 - mean_squared_error: 0.2734 - val_loss: 0.7074 - val_acc: 0.0000e+00 - val_mean_squared_error: 0.7074\n",
      "Epoch 29/30\n",
      "180/180 [==============================] - 0s 61us/sample - loss: 0.3080 - acc: 0.5556 - mean_squared_error: 0.3080 - val_loss: 0.5741 - val_acc: 0.0000e+00 - val_mean_squared_error: 0.5741\n",
      "Epoch 30/30\n",
      "180/180 [==============================] - 0s 66us/sample - loss: 0.2467 - acc: 0.5556 - mean_squared_error: 0.2467 - val_loss: 0.3321 - val_acc: 0.2000 - val_mean_squared_error: 0.3321\n",
      "Done training!\n"
     ]
    }
   ],
   "source": [
    "# Batch size equal to the number of training patterns\n",
    "bse_network = create_network()\n",
    "bse_history = bse_network.fit(train_array, \n",
    "                      train_labels_onehot, \n",
    "                      verbose=True, \n",
    "                      validation_split=.1, \n",
    "                      epochs=num_epochs, \n",
    "                      batch_size=train_array.shape[0])\n",
    "print('Done training!')"
   ]
  },
  {
   "cell_type": "code",
   "execution_count": 66,
   "id": "cf31dd17",
   "metadata": {},
   "outputs": [
    {
     "data": {
      "image/png": "[encoded data removed]",
      "text/plain": [
       "<Figure size 432x288 with 1 Axes>"
      ]
     },
     "metadata": {
      "needs_background": "light"
     },
     "output_type": "display_data"
    }
   ],
   "source": [
    "plot_model_acc(bse_history)"
   ]
  },
  {
   "cell_type": "markdown",
   "id": "f6cf124a-3804-40ce-a35d-0b3eec27cd9b",
   "metadata": {},
   "source": [
    "<hr>\n",
    "\n",
    "<b>Q4 (4 points).</b> Homework5.ipynb provides code that generates an array of test patterns and provides a plottest() function that displays a shaded contour plot of network predictions on these test patterns (these were discussed in class). All you need to do is apply these test patterns to the trained network from Q1 and plot the results using the plottest() function. "
   ]
  },
  {
   "cell_type": "code",
   "execution_count": 67,
   "id": "6ff3cecf-c7fd-4b64-81eb-23c9bca73f66",
   "metadata": {},
   "outputs": [],
   "source": [
    "# generate test pattern array for Q4\n",
    "\n",
    "xymin = -5\n",
    "xymax = 7.5\n",
    "Npts = 50\n",
    "xv, yv = np.meshgrid(np.linspace(xymin, xymax, Npts), \n",
    "                     np.linspace(xymin, xymax, Npts))\n",
    "test_pats = np.concatenate((xv.reshape((Npts*Npts,1)), \n",
    "                            yv.reshape((Npts*Npts,1))), axis=1)"
   ]
  },
  {
   "cell_type": "code",
   "execution_count": 68,
   "id": "fb9e3b07",
   "metadata": {},
   "outputs": [
    {
     "data": {
      "image/png": "[encoded data removed]",
      "text/plain": [
       "<Figure size 432x288 with 1 Axes>"
      ]
     },
     "metadata": {
      "needs_background": "light"
     },
     "output_type": "display_data"
    }
   ],
   "source": [
    "# plot example\n",
    "plt.plot(sample0[:,0],sample0[:,1],'b+',sample1[:,0],sample1[:,1],'r+')\n",
    "plt.xlabel('dim1')\n",
    "plt.ylabel('dim2')\n",
    "plt.axis('equal')\n",
    "plt.axis('square')\n",
    "plt.legend(('class 0', 'class 1'), loc='lower right')\n",
    "xymin = -5; xymax = 7.5\n",
    "plt.ylim((xymin,xymax))\n",
    "plt.xlim((xymin,xymax))\n",
    "plt.show()"
   ]
  },
  {
   "cell_type": "code",
   "execution_count": 69,
   "id": "12495a74",
   "metadata": {},
   "outputs": [
    {
     "name": "stdout",
     "output_type": "stream",
     "text": [
      "(2500, 2)\n",
      "[[-5.         -5.        ]\n",
      " [-4.74489796 -5.        ]\n",
      " [-4.48979592 -5.        ]\n",
      " ...\n",
      " [ 6.98979592  7.5       ]\n",
      " [ 7.24489796  7.5       ]\n",
      " [ 7.5         7.5       ]]\n"
     ]
    },
    {
     "data": {
      "image/png": "[encoded data removed]",
      "text/plain": [
       "<Figure size 432x288 with 1 Axes>"
      ]
     },
     "metadata": {
      "needs_background": "light"
     },
     "output_type": "display_data"
    }
   ],
   "source": [
    "print(test_pats.shape)\n",
    "\n",
    "print(test_pats)\n",
    "\n",
    "# train_labels_onehot = [0]*len(sample0) + [1]*len(sample1)\n",
    "test_labels_onehot = [0]*test_pats.shape[0]\n",
    "\n",
    "# plot example\n",
    "for idx in range((test_pats.shape[0])):\n",
    "    point = test_pats[idx,:]\n",
    "    if point[1]>((-1*point[0]+4)):\n",
    "        test_labels_onehot[idx] = 1\n",
    "        plt.plot(point[0],point[1],'r+')\n",
    "    else:\n",
    "        plt.plot(point[0],point[1],'b+')\n",
    "plt.xlabel('dim1')\n",
    "plt.ylabel('dim2')\n",
    "plt.axis('equal')\n",
    "plt.axis('square')\n",
    "#plt.legend(('class 0', 'class 1'), loc='lower right')\n",
    "xymin = -5; xymax = 7.5\n",
    "#plt.ylim((xymin,xymax))\n",
    "#plt.xlim((xymin,xymax))\n",
    "plt.show()\n",
    "\n",
    "test_labels_onehot = np.array(test_labels_onehot).reshape((test_pats.shape[0],1))"
   ]
  },
  {
   "cell_type": "code",
   "execution_count": 70,
   "id": "1099f68f-6117-451d-858a-851d88c89f94",
   "metadata": {},
   "outputs": [],
   "source": [
    "# function for generating plot for Q4\n",
    "# xv is array of x-values of test grid (from meshgrid)\n",
    "# yv is array of y-values of test grid (from meshgrid)\n",
    "# out is the output of the neural network given the test patterns\n",
    "# sample0, sample1 are the training patterns from earlier\n",
    "\n",
    "def plottest(xv, yv, out, sample0, sample1):\n",
    "    # reshape out\n",
    "    zv = out.reshape(xv.shape)\n",
    "\n",
    "    # create figure\n",
    "    fig = plt.figure()\n",
    "    plt.contourf(xv, yv, zv, levels=xv.shape[0], cmap=plt.cm.gist_yarg)\n",
    "    plt.plot(sample0[:,0], sample0[:,1], 'b+', \n",
    "             sample1[:,0], sample1[:,1], 'r+')    \n",
    "    \n",
    "    plt.xlabel('dim1')\n",
    "    plt.ylabel('dim2')\n",
    "    plt.axis('equal')\n",
    "    plt.axis('square')\n",
    "    xymin = -5; xymax = 7.5\n",
    "    plt.ylim((xymin,xymax))\n",
    "    plt.xlim((xymin,xymax))\n",
    "    plt.show()"
   ]
  },
  {
   "cell_type": "code",
   "execution_count": 71,
   "id": "6f2fbffd",
   "metadata": {},
   "outputs": [
    {
     "name": "stdout",
     "output_type": "stream",
     "text": [
      "(2500, 2)\n",
      "(2500, 1)\n"
     ]
    }
   ],
   "source": [
    "print(test_pats.shape)\n",
    "print(test_labels_onehot.shape)"
   ]
  },
  {
   "cell_type": "code",
   "execution_count": 72,
   "id": "2f8b403e-aca9-46ff-8b95-4a9e95fbe5c0",
   "metadata": {
    "scrolled": true
   },
   "outputs": [
    {
     "name": "stdout",
     "output_type": "stream",
     "text": [
      "test_loss (MSE)     : 14.177330114746093\n",
      "test_acc (%Correct) : 0.7567999958992004\n"
     ]
    }
   ],
   "source": [
    "# call network.evaluate() if you have test patterns and test answers and want to know performance\n",
    "results = network.evaluate(test_pats, \n",
    "                           test_labels_onehot, \n",
    "                           verbose=False)\n",
    "\n",
    "test_loss = results[0]\n",
    "test_acc = results[1]\n",
    "\n",
    "print('test_loss (MSE)     : {}'.format(test_loss))\n",
    "print('test_acc (%Correct) : {}'.format(test_acc))\n",
    "\n",
    "out = network.predict(\n",
    "   test_pats, \n",
    "   batch_size = 20, \n",
    "   verbose = 0, \n",
    "   max_queue_size = 10, \n",
    "   workers = 1, \n",
    "   use_multiprocessing = False)"
   ]
  },
  {
   "cell_type": "code",
   "execution_count": 73,
   "id": "9cb25de4",
   "metadata": {},
   "outputs": [
    {
     "data": {
      "image/png": "[encoded data removed]",
      "text/plain": [
       "<Figure size 432x288 with 1 Axes>"
      ]
     },
     "metadata": {
      "needs_background": "light"
     },
     "output_type": "display_data"
    }
   ],
   "source": [
    "plottest(xv, yv, out, sample0, sample1)"
   ]
  },
  {
   "cell_type": "code",
   "execution_count": null,
   "id": "743d62ec",
   "metadata": {},
   "outputs": [],
   "source": []
  }
 ],
 "metadata": {
  "kernelspec": {
   "display_name": "Python 3 (ipykernel)",
   "language": "python",
   "name": "python3"
  },
  "language_info": {
   "codemirror_mode": {
    "name": "ipython",
    "version": 3
   },
   "file_extension": ".py",
   "mimetype": "text/x-python",
   "name": "python",
   "nbconvert_exporter": "python",
   "pygments_lexer": "ipython3",
   "version": "3.7.11"
  }
 },
 "nbformat": 4,
 "nbformat_minor": 5
}
