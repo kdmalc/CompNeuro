{
 "cells": [
  {
   "cell_type": "markdown",
   "id": "32da1e2d",
   "metadata": {},
   "source": [
    "# NSC HW2\n",
    "## Due 9/14/21 "
   ]
  },
  {
   "cell_type": "code",
   "execution_count": 1,
   "id": "95742018",
   "metadata": {},
   "outputs": [],
   "source": [
    "import numpy as np\n",
    "import matplotlib.pyplot as plt\n"
   ]
  },
  {
   "cell_type": "markdown",
   "id": "ab538f0e",
   "metadata": {},
   "source": [
    "## Part a) Logistic/Sigmoidal Function"
   ]
  },
  {
   "cell_type": "code",
   "execution_count": 17,
   "id": "803de11e",
   "metadata": {},
   "outputs": [
    {
     "name": "stdout",
     "output_type": "stream",
     "text": [
      "<class 'numpy.ndarray'>\n",
      "3\n"
     ]
    },
    {
     "data": {
      "text/plain": [
       "array([ 2.71828183,  7.3890561 , 20.08553692])"
      ]
     },
     "execution_count": 17,
     "metadata": {},
     "output_type": "execute_result"
    }
   ],
   "source": [
    "test = np.array([1,2,3])\n",
    "print(type(test))\n",
    "print(len(test))\n",
    "\n",
    "test**2\n",
    "1 + test\n",
    "1/test\n",
    "np.exp(test)\n"
   ]
  },
  {
   "cell_type": "code",
   "execution_count": 20,
   "id": "c3a67a7c",
   "metadata": {},
   "outputs": [],
   "source": [
    "#alpha(n) = 1 / (1 + exp(-n))\n",
    "\n",
    "#One of the functions should use a for loop to fill in values of a(n). \n",
    "def alpha_for(n):\n",
    "    res = [0]*len(n)\n",
    "    for idx, val in enumerate(n):\n",
    "        res[idx] = 1 / (1 + np.exp(-val))\n",
    "    return res\n",
    "\n",
    "\n",
    "#The other function should use “vectorized” operations (without a for loop) to fill in values of a(n).\n",
    "def alpha_vec(n):\n",
    "    return 1 / (1 + np.exp((-1)*np.array(n)))\n"
   ]
  },
  {
   "cell_type": "markdown",
   "id": "6b37e98a",
   "metadata": {},
   "source": [
    "## Part b) Basic Relu Function"
   ]
  },
  {
   "cell_type": "code",
   "execution_count": 30,
   "id": "342050a0",
   "metadata": {},
   "outputs": [],
   "source": [
    "def relu_for(n):\n",
    "    res = [0]*len(n)\n",
    "    for idx, val in enumerate(n):\n",
    "        res[idx] = val if val > 0 else 0\n",
    "    return res\n",
    "\n",
    "\n",
    "def relu_vec(n):\n",
    "    return [val if val > 0 else 0 for val in n]\n"
   ]
  },
  {
   "cell_type": "code",
   "execution_count": 31,
   "id": "4348f689",
   "metadata": {},
   "outputs": [
    {
     "data": {
      "image/png": "[encoded data removed]",
      "text/plain": [
       "<Figure size 576x432 with 1 Axes>"
      ]
     },
     "metadata": {
      "needs_background": "light"
     },
     "output_type": "display_data"
    }
   ],
   "source": [
    "# n = np.arange(-20,21)\n",
    "\n",
    "# Initialise the figure and axes.\n",
    "fig2, ax2 = plt.subplots(1, figsize=(8, 6))\n",
    "\n",
    "# Draw all the lines in the same plot, assigning a label for each one\n",
    "ax2.plot(n, relu_for(n), color=\"red\", label=\"Via For Loop\")\n",
    "ax2.plot(n, relu_vec(n), color=\"green\", label=\"Via Vectorization\")\n",
    "\n",
    "# Labels\n",
    "plt.title(\"Rectified Linear Unit Function\")\n",
    "plt.xlabel(\"Time\")\n",
    "plt.ylabel(\"Value\")\n",
    "plt.legend(loc=\"upper left\", frameon=False)\n",
    "\n",
    "plt.show()"
   ]
  },
  {
   "cell_type": "markdown",
   "id": "d4977071",
   "metadata": {},
   "source": [
    "## Part c) Plotting"
   ]
  },
  {
   "cell_type": "code",
   "execution_count": null,
   "id": "10e9e9e7",
   "metadata": {},
   "outputs": [],
   "source": [
    "def plot_me(n,func,my_label,my_title=\"Descriptive Title\",legend_loc=\"lower right\"):\n",
    "    # Initialise the figure and axes.\n",
    "    fig, ax = plt.subplots(1, figsize=(8, 6))\n",
    "\n",
    "    # Draw all the lines in the same plot, assigning a label for each one\n",
    "    ax.plot(n, func(n), color=\"red\", label=my_label)\n",
    "\n",
    "    # Labels\n",
    "    plt.title(my_title)\n",
    "    plt.xlabel(\"Time\")\n",
    "    plt.ylabel(\"Value\")\n",
    "    plt.legend(loc=legend_loc, frameon=False)\n",
    "\n",
    "    plt.show()\n",
    "    "
   ]
  },
  {
   "cell_type": "code",
   "execution_count": null,
   "id": "c41b5ca9",
   "metadata": {},
   "outputs": [],
   "source": [
    "n = np.arange(-20,21)\n",
    "\n",
    "#plot_me"
   ]
  }
 ],
 "metadata": {
  "kernelspec": {
   "display_name": "Python 3 (ipykernel)",
   "language": "python",
   "name": "python3"
  },
  "language_info": {
   "codemirror_mode": {
    "name": "ipython",
    "version": 3
   },
   "file_extension": ".py",
   "mimetype": "text/x-python",
   "name": "python",
   "nbconvert_exporter": "python",
   "pygments_lexer": "ipython3",
   "version": "3.7.11"
  }
 },
 "nbformat": 4,
 "nbformat_minor": 5
}
