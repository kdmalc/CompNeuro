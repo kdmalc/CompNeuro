{
 "cells": [
  {
   "cell_type": "code",
   "execution_count": null,
   "id": "dcdd23b0",
   "metadata": {},
   "outputs": [],
   "source": [
    "from tensorflow.keras import models\n",
    "from tensorflow.keras import layers"
   ]
  },
  {
   "cell_type": "markdown",
   "id": "5da25fd5",
   "metadata": {},
   "source": [
    "> __Optimizers__: \n",
    "1. sgd\n",
    "2. RMSprop\n",
    "3. adam\n",
    "4. nadam\n",
    "5. ftrl\n",
    "<br>\n",
    "\n",
    "> __Loss Functions__:\n",
    "\n",
    "1. mean_squared_error\n",
    "2. binary_crossentropy\n",
    "3. categorical_crossentropy\n",
    "\n",
    "<br>\n",
    "\n",
    "> Multiclass Classification: SOFTMAX act_func goes with CATEGORICAL CROSS-ENTROPY loss_func<br>\n",
    "> Binary Classification: SIGMOID act_func goes with BINARY CROSS-ENTROPY loss_func <br>"
   ]
  },
  {
   "cell_type": "code",
   "execution_count": null,
   "id": "a851971b",
   "metadata": {},
   "outputs": [],
   "source": [
    "network = models.Sequential()\n",
    "\n",
    "nin = 4\n",
    "nhid1 = 5\n",
    "nhid2 = 2\n",
    "nout = 3\n",
    "network.add(layers.Dense(nhid1,\n",
    "                        activation='sigmoid',\n",
    "                        input_shape=(nin,)))\n",
    "network.add(layers.Dense(nhid2,\n",
    "                        activation='sigmoid',\n",
    "                        input_shape=(nhid1,)))\n",
    "network.add(layers.Dense(nout,\n",
    "                        activation='sigmoid',\n",
    "                        input_shape=(nhid2,)))"
   ]
  },
  {
   "cell_type": "code",
   "execution_count": null,
   "id": "f127bc79",
   "metadata": {},
   "outputs": [],
   "source": [
    "network.compile(optimizer='sgd',\n",
    "               loss='mean_squred_error',\n",
    "               metrix=['accuracy', 'mse'])\n",
    "\n",
    "history = network.fit(train_patterns,\n",
    "                     train_teach,\n",
    "                     verbose=True,\n",
    "                     validation_split=0.1,\n",
    "                     epochs=20,\n",
    "                     batch_size=128)"
   ]
  },
  {
   "cell_type": "code",
   "execution_count": null,
   "id": "420a8a31",
   "metadata": {},
   "outputs": [],
   "source": [
    "out_test = network.predict(test_patterns)"
   ]
  },
  {
   "cell_type": "code",
   "execution_count": null,
   "id": "a62237f6",
   "metadata": {},
   "outputs": [],
   "source": []
  },
  {
   "cell_type": "code",
   "execution_count": null,
   "id": "71583e33",
   "metadata": {},
   "outputs": [],
   "source": []
  }
 ],
 "metadata": {
  "kernelspec": {
   "display_name": "Python 3 (ipykernel)",
   "language": "python",
   "name": "python3"
  },
  "language_info": {
   "codemirror_mode": {
    "name": "ipython",
    "version": 3
   },
   "file_extension": ".py",
   "mimetype": "text/x-python",
   "name": "python",
   "nbconvert_exporter": "python",
   "pygments_lexer": "ipython3",
   "version": "3.7.11"
  }
 },
 "nbformat": 4,
 "nbformat_minor": 5
}
