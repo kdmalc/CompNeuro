{
 "cells": [
  {
   "cell_type": "markdown",
   "id": "b230f331",
   "metadata": {},
   "source": [
    "# Homework 6\n",
    "# Multi-layer Neural Networks\n",
    "# Due Tues Oct 26"
   ]
  },
  {
   "cell_type": "code",
   "execution_count": 1,
   "id": "b0f2ac56",
   "metadata": {
    "scrolled": true
   },
   "outputs": [],
   "source": [
    "import numpy as np\n",
    "import matplotlib.pyplot as plt\n",
    "import numpy.random as R\n",
    "R.seed(1337)\n",
    "\n",
    "import warnings\n",
    "with warnings.catch_warnings():\n",
    "    warnings.filterwarnings(\"ignore\",category=FutureWarning)\n",
    "    from tensorflow.keras import models\n",
    "    from tensorflow.keras import layers\n",
    "    from tensorflow.keras import optimizers"
   ]
  },
  {
   "cell_type": "markdown",
   "id": "27c7c634",
   "metadata": {},
   "source": [
    "## Q1 (2 points)\n",
    "\n",
    "Use the approach from HW5 to create an XOR problem, allowing for 200 training patterns per category (e.g. 400 total) and assume the same standard deviations/correlations used for HW5.  You will need to format the matrix of training patterns and the matrix of teachers to allow for the problem to be learned by a neural network using Keras.  Display your XOR problem in a figure."
   ]
  },
  {
   "cell_type": "code",
   "execution_count": 2,
   "id": "4d14a963",
   "metadata": {},
   "outputs": [],
   "source": [
    "## generate N random samples from a 2D multivariate normal distribution\n",
    "##\n",
    "## with mean [mx, my]\n",
    "##\n",
    "## with covariance matrix [[  sx*sx, r*sx*sy],\n",
    "##                         [r*sx*sy,   sy*sy]]\n",
    "## where sx is the standard deviation along the x dimension\n",
    "## where sy is the standard deviation along the y dimension\n",
    "## where r is the correlation between the dimensions\n",
    "##\n",
    "\n",
    "def gensamples(N, mx, my, sx, sy, r):\n",
    "    M   = np.array([mx, my])\n",
    "    Cov = np.array([[  sx*sx, r*sx*sy],\n",
    "                    [r*sx*sy,   sy*sy]])\n",
    "    return (R.multivariate_normal(M, Cov, size=N, check_valid='warn'))"
   ]
  },
  {
   "cell_type": "code",
   "execution_count": 3,
   "id": "403dc0e3",
   "metadata": {},
   "outputs": [
    {
     "data": {
      "image/png": "[encoded data removed]",
      "text/plain": [
       "<Figure size 432x288 with 1 Axes>"
      ]
     },
     "metadata": {
      "needs_background": "light"
     },
     "output_type": "display_data"
    }
   ],
   "source": [
    "# classification problem used in Q1\n",
    "\n",
    "# Bottom left\n",
    "mx0 = -3.;  my0 = -3.\n",
    "sx0 = 1.;  sy0 = 1.\n",
    "r0 = 0.\n",
    "# Top right\n",
    "mx1 = 3.; my1 = 3.\n",
    "#######################################################################\n",
    "# Bottom right\n",
    "mx3 = 3.;  my3 = -3.\n",
    "sx3 = 1.; sy3 = 1.\n",
    "r3 = 0.\n",
    "# Top left\n",
    "mx4 = -3.; my4 = 3.\n",
    "#######################################################################\n",
    "N = 50\n",
    "sample_bl = gensamples(N, mx0, my0, sx0, sy0, r0)\n",
    "sample_tr = gensamples(N, mx1, my1, sx0, sy0, r0)\n",
    "sample0 = np.concatenate((sample_bl, sample_tr), axis=0)\n",
    "\n",
    "sample_br = gensamples(N, mx3, my3, sx3, sy3, r3)\n",
    "sample_tl = gensamples(N, mx4, my4, sx3, sy3, r3)\n",
    "sample1 = np.concatenate((sample_br, sample_tl), axis=0)\n",
    "\n",
    "# plot example\n",
    "plt.plot(sample0[:,0],sample0[:,1],'b+',sample1[:,0],sample1[:,1],'r+')\n",
    "plt.xlabel('dim1')\n",
    "plt.ylabel('dim2')\n",
    "plt.axis('equal')\n",
    "plt.axis('square')\n",
    "plt.legend(('class 0', 'class 1'), loc='lower right')\n",
    "xymin = -7; xymax = 7\n",
    "plt.ylim((xymin,xymax))\n",
    "plt.xlim((xymin,xymax))\n",
    "plt.show()"
   ]
  },
  {
   "cell_type": "markdown",
   "id": "4d6f34e9",
   "metadata": {},
   "source": [
    "Format the training patterns and make the teachers (one_hot_labels)"
   ]
  },
  {
   "cell_type": "code",
   "execution_count": 4,
   "id": "a703a70a",
   "metadata": {},
   "outputs": [
    {
     "name": "stdout",
     "output_type": "stream",
     "text": [
      "(200, 2)\n",
      "[-3.70318731 -3.49028236]\n",
      "[-3.70318731 -3.49028236]\n",
      "[ 2.32331345 -2.59240808]\n",
      "[ 2.32331345 -2.59240808]\n"
     ]
    }
   ],
   "source": [
    "# All training patterns\n",
    "\n",
    "train_array = np.concatenate((sample0, sample1), axis=0)\n",
    "# Verify correct shape\n",
    "print(train_array.shape)\n",
    "# Verify the first sample is the first entry of sample0\n",
    "print(sample0[0])\n",
    "print(train_array[0])\n",
    "# Verify the 100th sample is the first entry of sample1\n",
    "print(sample1[0])\n",
    "print(train_array[100])"
   ]
  },
  {
   "cell_type": "code",
   "execution_count": 5,
   "id": "4cbbc541",
   "metadata": {},
   "outputs": [
    {
     "name": "stdout",
     "output_type": "stream",
     "text": [
      "(200, 1)\n",
      "[0.]\n",
      "[1.]\n"
     ]
    }
   ],
   "source": [
    "# Create the teacher\n",
    "\n",
    "train_labels_onehot = np.concatenate((np.zeros((N*2,1)), np.ones((N*2,1))))\n",
    "print(train_labels_onehot.shape)\n",
    "print(train_labels_onehot[0])\n",
    "print(train_labels_onehot[100])"
   ]
  },
  {
   "cell_type": "markdown",
   "id": "67fe108c",
   "metadata": {},
   "source": [
    "## Q3 (5 points)\n",
    "\n",
    "Create a multi-layer neural network that can learn this XOR problem using Keras.  You will need to decide the number of hidden layers and nodes per layer (and justify those choices), as well as choose an optimizer and choose a number of epochs and batch size (and justify these choices).  Hold out 20% of the training patterns for validation.  Document the iterations you did before arriving at your final answer.  Use the plots in Q3 to inform your choices. <br>\n",
    "<br>\n",
    "In a markdown cell, briefly document the different options you investigated (different network architectures and Keras settinsg) and why you chose the particular combinations you arrived at.\n",
    "\n",
    "## Justifications and Iterations\n",
    "1. First iteration was with a basic network of relu activation, feeding into a softmax layer, with the categorical cross entropy loss function.  Specifically, this iteration had 2 input nodes, 2 hidden nodes, and 2 output nodes (e.g. 1 output for each class).  This failed to learn the correlations, instead resulting in single smooth gradient from the top left (class 0) to the bottom right (class 1), with an accuracy below 50%.\n",
    "2. The second iteration instead used 4 hidden input nodes, as the network will need to be able to draw at least 2 intersecting lines (e.g. 4 line segments if the 2 lines do not divide perfectly).  This resulted in an accuracy of 68% but still the wrong gradient as plotted from plottest()\n",
    "3. This iteration determined the minimum number of nodes in the hidden layer before the network could learn the pattern."
   ]
  },
  {
   "cell_type": "code",
   "execution_count": 21,
   "id": "d1dc5109",
   "metadata": {},
   "outputs": [],
   "source": [
    "def create_network(*args):\n",
    "    network = models.Sequential()\n",
    "    for idx, arg in enumerate(args):\n",
    "        if idx == 0:\n",
    "            n_prev = arg\n",
    "        elif idx == len(args):\n",
    "            network.add(layers.Dense(arg, \n",
    "                             activation='softmax', \n",
    "                             input_shape=(n_prev,)))\n",
    "        else:\n",
    "            network.add(layers.Dense(arg, \n",
    "                                     activation='relu', \n",
    "                                     input_shape=(n_prev,)))\n",
    "    \n",
    "    # configure optimizer\n",
    "    # sgd = optimizers.SGD(learning_rate=0.01, decay=1e-6, momentum=0.9)\n",
    "\n",
    "    network.compile(optimizer='adam', \n",
    "                    loss='sparse_categorical_crossentropy', \n",
    "                    metrics=['accuracy', 'mse'])\n",
    "    \n",
    "    print(network.summary())\n",
    "    print('************************************************\\n')\n",
    "\n",
    "    for layer in network.layers:\n",
    "        print('layer name : {} | input shape : {} | output shape : {}'.format(layer.name, layer.input.shape, layer.output.shape))\n",
    "    print('************************************************\\n')\n",
    "\n",
    "    for layer in network.layers:\n",
    "        print(layer.get_config())\n",
    "    print()\n",
    "    \n",
    "    return network\n",
    "\n",
    "def plot_model_acc(history):\n",
    "    \"\"\"Accuracy Plotting Function\"\"\"\n",
    "    plt.plot(history.history['acc'])\n",
    "    plt.plot(history.history['val_acc'])\n",
    "    plt.title('Model Accuracy As a Function of Number of Epochs Trained')\n",
    "    plt.ylabel('Accuracy')\n",
    "    plt.xlabel('Epoch')\n",
    "    plt.legend(['train', 'validation'], loc='lower right')\n",
    "    plt.show()"
   ]
  },
  {
   "cell_type": "code",
   "execution_count": 34,
   "id": "7f71a270",
   "metadata": {},
   "outputs": [
    {
     "name": "stdout",
     "output_type": "stream",
     "text": [
      "Model: \"sequential_6\"\n",
      "_________________________________________________________________\n",
      "Layer (type)                 Output Shape              Param #   \n",
      "=================================================================\n",
      "dense_9 (Dense)              (None, 15)                45        \n",
      "_________________________________________________________________\n",
      "dense_10 (Dense)             (None, 15)                240       \n",
      "_________________________________________________________________\n",
      "dense_11 (Dense)             (None, 2)                 32        \n",
      "=================================================================\n",
      "Total params: 317\n",
      "Trainable params: 317\n",
      "Non-trainable params: 0\n",
      "_________________________________________________________________\n",
      "None\n",
      "************************************************\n",
      "\n",
      "layer name : dense_9 | input shape : (?, 2) | output shape : (?, 15)\n",
      "layer name : dense_10 | input shape : (?, 15) | output shape : (?, 15)\n",
      "layer name : dense_11 | input shape : (?, 15) | output shape : (?, 2)\n",
      "************************************************\n",
      "\n",
      "{'name': 'dense_9', 'trainable': True, 'batch_input_shape': (None, 2), 'dtype': 'float32', 'units': 15, 'activation': 'relu', 'use_bias': True, 'kernel_initializer': {'class_name': 'GlorotUniform', 'config': {'seed': None, 'dtype': 'float32'}}, 'bias_initializer': {'class_name': 'Zeros', 'config': {'dtype': 'float32'}}, 'kernel_regularizer': None, 'bias_regularizer': None, 'activity_regularizer': None, 'kernel_constraint': None, 'bias_constraint': None}\n",
      "{'name': 'dense_10', 'trainable': True, 'batch_input_shape': (None, 2), 'dtype': 'float32', 'units': 15, 'activation': 'relu', 'use_bias': True, 'kernel_initializer': {'class_name': 'GlorotUniform', 'config': {'seed': None, 'dtype': 'float32'}}, 'bias_initializer': {'class_name': 'Zeros', 'config': {'dtype': 'float32'}}, 'kernel_regularizer': None, 'bias_regularizer': None, 'activity_regularizer': None, 'kernel_constraint': None, 'bias_constraint': None}\n",
      "{'name': 'dense_11', 'trainable': True, 'batch_input_shape': (None, 2), 'dtype': 'float32', 'units': 2, 'activation': 'relu', 'use_bias': True, 'kernel_initializer': {'class_name': 'GlorotUniform', 'config': {'seed': None, 'dtype': 'float32'}}, 'bias_initializer': {'class_name': 'Zeros', 'config': {'dtype': 'float32'}}, 'kernel_regularizer': None, 'bias_regularizer': None, 'activity_regularizer': None, 'kernel_constraint': None, 'bias_constraint': None}\n",
      "\n"
     ]
    }
   ],
   "source": [
    "network = create_network(2,15,15,2)"
   ]
  },
  {
   "cell_type": "code",
   "execution_count": 35,
   "id": "d46009d1",
   "metadata": {},
   "outputs": [
    {
     "name": "stdout",
     "output_type": "stream",
     "text": [
      "Train on 160 samples, validate on 40 samples\n",
      "Epoch 1/30\n",
      "160/160 [==============================] - 0s 965us/sample - loss: 0.4592 - acc: 0.9625 - mean_squared_error: 0.2635 - val_loss: 2.6822e-07 - val_acc: 1.0000 - val_mean_squared_error: 0.6831\n",
      "Epoch 2/30\n",
      "160/160 [==============================] - 0s 62us/sample - loss: 0.4592 - acc: 0.9625 - mean_squared_error: 0.2546 - val_loss: 2.5928e-07 - val_acc: 1.0000 - val_mean_squared_error: 0.6778\n",
      "Epoch 3/30\n",
      "160/160 [==============================] - 0s 56us/sample - loss: 0.5232 - acc: 0.9625 - mean_squared_error: 0.2475 - val_loss: 2.5928e-07 - val_acc: 1.0000 - val_mean_squared_error: 0.6777\n",
      "Epoch 4/30\n",
      "160/160 [==============================] - 0s 62us/sample - loss: 0.4549 - acc: 0.9688 - mean_squared_error: 0.2490 - val_loss: 2.6524e-07 - val_acc: 1.0000 - val_mean_squared_error: 0.6808\n",
      "Epoch 5/30\n",
      "160/160 [==============================] - 0s 44us/sample - loss: 0.4549 - acc: 0.9688 - mean_squared_error: 0.2514 - val_loss: 2.6524e-07 - val_acc: 1.0000 - val_mean_squared_error: 0.6821\n",
      "Epoch 6/30\n",
      "160/160 [==============================] - 0s 75us/sample - loss: 0.4549 - acc: 0.9688 - mean_squared_error: 0.2522 - val_loss: 2.6524e-07 - val_acc: 1.0000 - val_mean_squared_error: 0.6821\n",
      "Epoch 7/30\n",
      "160/160 [==============================] - 0s 69us/sample - loss: 0.4505 - acc: 0.9750 - mean_squared_error: 0.2521 - val_loss: 2.6226e-07 - val_acc: 1.0000 - val_mean_squared_error: 0.6809\n",
      "Epoch 8/30\n",
      "160/160 [==============================] - 0s 63us/sample - loss: 0.4462 - acc: 0.9812 - mean_squared_error: 0.2488 - val_loss: 2.6226e-07 - val_acc: 1.0000 - val_mean_squared_error: 0.6783\n",
      "Epoch 9/30\n",
      "160/160 [==============================] - 0s 63us/sample - loss: 0.4376 - acc: 0.9937 - mean_squared_error: 0.2443 - val_loss: 2.5630e-07 - val_acc: 1.0000 - val_mean_squared_error: 0.6748\n",
      "Epoch 10/30\n",
      "160/160 [==============================] - 0s 62us/sample - loss: 0.4375 - acc: 0.9937 - mean_squared_error: 0.2384 - val_loss: 2.4736e-07 - val_acc: 1.0000 - val_mean_squared_error: 0.6718\n",
      "Epoch 11/30\n",
      "160/160 [==============================] - 0s 56us/sample - loss: 0.4375 - acc: 0.9937 - mean_squared_error: 0.2354 - val_loss: 2.4736e-07 - val_acc: 1.0000 - val_mean_squared_error: 0.6691\n",
      "Epoch 12/30\n",
      "160/160 [==============================] - 0s 63us/sample - loss: 0.4375 - acc: 0.9937 - mean_squared_error: 0.2330 - val_loss: 2.4140e-07 - val_acc: 1.0000 - val_mean_squared_error: 0.6664\n",
      "Epoch 13/30\n",
      "160/160 [==============================] - 0s 69us/sample - loss: 0.4375 - acc: 0.9937 - mean_squared_error: 0.2315 - val_loss: 2.3842e-07 - val_acc: 1.0000 - val_mean_squared_error: 0.6637\n",
      "Epoch 14/30\n",
      "160/160 [==============================] - 0s 62us/sample - loss: 0.4375 - acc: 0.9937 - mean_squared_error: 0.2305 - val_loss: 2.3842e-07 - val_acc: 1.0000 - val_mean_squared_error: 0.6612\n",
      "Epoch 15/30\n",
      "160/160 [==============================] - 0s 63us/sample - loss: 0.4375 - acc: 0.9937 - mean_squared_error: 0.2298 - val_loss: 2.3544e-07 - val_acc: 1.0000 - val_mean_squared_error: 0.6587\n",
      "Epoch 16/30\n",
      "160/160 [==============================] - 0s 75us/sample - loss: 0.4375 - acc: 0.9937 - mean_squared_error: 0.2293 - val_loss: 2.3544e-07 - val_acc: 1.0000 - val_mean_squared_error: 0.6562\n",
      "Epoch 17/30\n",
      "160/160 [==============================] - 0s 69us/sample - loss: 0.4332 - acc: 1.0000 - mean_squared_error: 0.2289 - val_loss: 2.3246e-07 - val_acc: 1.0000 - val_mean_squared_error: 0.6534\n",
      "Epoch 18/30\n",
      "160/160 [==============================] - 0s 63us/sample - loss: 0.4332 - acc: 1.0000 - mean_squared_error: 0.2277 - val_loss: 2.2948e-07 - val_acc: 1.0000 - val_mean_squared_error: 0.6505\n",
      "Epoch 19/30\n",
      "160/160 [==============================] - 0s 69us/sample - loss: 0.4332 - acc: 1.0000 - mean_squared_error: 0.2264 - val_loss: 2.2650e-07 - val_acc: 1.0000 - val_mean_squared_error: 0.6475\n",
      "Epoch 20/30\n",
      "160/160 [==============================] - 0s 69us/sample - loss: 0.4332 - acc: 1.0000 - mean_squared_error: 0.2253 - val_loss: 2.2352e-07 - val_acc: 1.0000 - val_mean_squared_error: 0.6449\n",
      "Epoch 21/30\n",
      "160/160 [==============================] - 0s 69us/sample - loss: 0.4332 - acc: 1.0000 - mean_squared_error: 0.2246 - val_loss: 2.2054e-07 - val_acc: 1.0000 - val_mean_squared_error: 0.6424\n",
      "Epoch 22/30\n",
      "160/160 [==============================] - 0s 69us/sample - loss: 0.4332 - acc: 1.0000 - mean_squared_error: 0.2241 - val_loss: 2.1458e-07 - val_acc: 1.0000 - val_mean_squared_error: 0.6400\n",
      "Epoch 23/30\n",
      "160/160 [==============================] - 0s 63us/sample - loss: 0.4332 - acc: 1.0000 - mean_squared_error: 0.2238 - val_loss: 2.1458e-07 - val_acc: 1.0000 - val_mean_squared_error: 0.6375\n",
      "Epoch 24/30\n",
      "160/160 [==============================] - 0s 69us/sample - loss: 0.4332 - acc: 1.0000 - mean_squared_error: 0.2234 - val_loss: 2.1458e-07 - val_acc: 1.0000 - val_mean_squared_error: 0.6351\n",
      "Epoch 25/30\n",
      "160/160 [==============================] - 0s 62us/sample - loss: 0.4332 - acc: 1.0000 - mean_squared_error: 0.2232 - val_loss: 2.1458e-07 - val_acc: 1.0000 - val_mean_squared_error: 0.6326\n",
      "Epoch 26/30\n",
      "160/160 [==============================] - 0s 69us/sample - loss: 0.4332 - acc: 1.0000 - mean_squared_error: 0.2230 - val_loss: 2.1160e-07 - val_acc: 1.0000 - val_mean_squared_error: 0.6303\n",
      "Epoch 27/30\n",
      "160/160 [==============================] - 0s 63us/sample - loss: 0.4332 - acc: 1.0000 - mean_squared_error: 0.2228 - val_loss: 2.0564e-07 - val_acc: 1.0000 - val_mean_squared_error: 0.6280\n",
      "Epoch 28/30\n",
      "160/160 [==============================] - 0s 62us/sample - loss: 0.4332 - acc: 1.0000 - mean_squared_error: 0.2226 - val_loss: 2.0266e-07 - val_acc: 1.0000 - val_mean_squared_error: 0.6259\n",
      "Epoch 29/30\n",
      "160/160 [==============================] - 0s 56us/sample - loss: 0.4332 - acc: 1.0000 - mean_squared_error: 0.2225 - val_loss: 2.0266e-07 - val_acc: 1.0000 - val_mean_squared_error: 0.6236\n",
      "Epoch 30/30\n",
      "160/160 [==============================] - 0s 62us/sample - loss: 0.4332 - acc: 1.0000 - mean_squared_error: 0.2223 - val_loss: 1.9968e-07 - val_acc: 1.0000 - val_mean_squared_error: 0.6215\n",
      "Done training!\n"
     ]
    }
   ],
   "source": [
    "# now train the network\n",
    "#\n",
    "# training requires training patterns (train_image_vec) and teachers (train_labels_onehot)\n",
    "#\n",
    "# sets # training epochs, validation (described later), and batch_size\n",
    "#\n",
    "# set verbose=True to see training unfold\n",
    "\n",
    "num_epochs = 30\n",
    "\n",
    "history = network.fit(train_array, \n",
    "                      train_labels_onehot, \n",
    "                      verbose=True, \n",
    "                      validation_split=.2, \n",
    "                      epochs=num_epochs, \n",
    "                      batch_size=40)\n",
    "print('Done training!')"
   ]
  },
  {
   "cell_type": "markdown",
   "id": "5222f548",
   "metadata": {},
   "source": [
    "## Q3 (3 points)\n",
    "\n",
    "Create a plot of training accuracy as a function of epoch, create a plot of both the loss ('loss') and validation loss ('val_loss') on the same graph.  Test the network using a mesh grid of test patterns and display the results as a 3D graph using plottest()."
   ]
  },
  {
   "cell_type": "code",
   "execution_count": 36,
   "id": "6af2735d",
   "metadata": {},
   "outputs": [],
   "source": [
    "# function for generating plot for Q4\n",
    "# xv is array of x-values of test grid (from meshgrid)\n",
    "# yv is array of y-values of test grid (from meshgrid)\n",
    "# out is the output of the neural network given the test patterns\n",
    "# sample0, sample1 are the training patterns from earlier\n",
    "\n",
    "def plottest(xv, yv, out, sample0, sample1):\n",
    "    # reshape out\n",
    "    zv = out.reshape(xv.shape)\n",
    "\n",
    "    # create figure\n",
    "    fig = plt.figure()\n",
    "    plt.contourf(xv, yv, zv, levels=xv.shape[0], cmap=plt.cm.gist_yarg)\n",
    "    plt.plot(sample0[:,0], sample0[:,1], 'b+', \n",
    "             sample1[:,0], sample1[:,1], 'r+')    \n",
    "    \n",
    "    plt.xlabel('dim1')\n",
    "    plt.ylabel('dim2')\n",
    "    plt.axis('equal')\n",
    "    plt.axis('square')\n",
    "    xymin = -5.5; xymax = 5.5\n",
    "    plt.ylim((xymin,xymax))\n",
    "    plt.xlim((xymin,xymax))\n",
    "    plt.show()"
   ]
  },
  {
   "cell_type": "code",
   "execution_count": 37,
   "id": "ccf6577e",
   "metadata": {},
   "outputs": [
    {
     "data": {
      "image/png": "[encoded data removed]",
      "text/plain": [
       "<Figure size 432x288 with 1 Axes>"
      ]
     },
     "metadata": {
      "needs_background": "light"
     },
     "output_type": "display_data"
    }
   ],
   "source": [
    "plot_model_acc(history)"
   ]
  },
  {
   "cell_type": "code",
   "execution_count": 38,
   "id": "9c814293",
   "metadata": {},
   "outputs": [
    {
     "name": "stdout",
     "output_type": "stream",
     "text": [
      "(625, 2)\n",
      "[-5.5 -5.5]\n",
      "[-5.04166667 -5.5       ]\n",
      "[ 5.04166667 -4.125     ]\n",
      "[ 5.5   -4.125]\n"
     ]
    }
   ],
   "source": [
    "# generate test pattern array for Q4\n",
    "\n",
    "xymin = -5.5\n",
    "xymax = 5.5\n",
    "Npts = 25\n",
    "xv, yv = np.meshgrid(np.linspace(xymin, xymax, Npts), \n",
    "                     np.linspace(xymin, xymax, Npts))\n",
    "test_pats = np.concatenate((xv.reshape((Npts*Npts,1)), \n",
    "                            yv.reshape((Npts*Npts,1))), axis=1)\n",
    "\n",
    "print(test_pats[0])\n",
    "print(test_pats[1])\n",
    "print(test_pats[98])\n",
    "print(test_pats[99])"
   ]
  },
  {
   "cell_type": "code",
   "execution_count": 44,
   "id": "37d68417",
   "metadata": {},
   "outputs": [
    {
     "name": "stdout",
     "output_type": "stream",
     "text": [
      "(625, 2)\n",
      "(25, 25)\n",
      "(25, 25)\n"
     ]
    }
   ],
   "source": [
    "print(test_pats.shape)\n",
    "print(xv.shape)\n",
    "print(yv.shape)"
   ]
  },
  {
   "cell_type": "code",
   "execution_count": 39,
   "id": "b96b421e",
   "metadata": {},
   "outputs": [
    {
     "data": {
      "image/png": "[encoded data removed]",
      "text/plain": [
       "<Figure size 432x288 with 1 Axes>"
      ]
     },
     "metadata": {
      "needs_background": "light"
     },
     "output_type": "display_data"
    }
   ],
   "source": [
    "test_labels_onehot = [0]*test_pats.shape[0]\n",
    "\n",
    "# plot example\n",
    "for idx in range((test_pats.shape[0])):\n",
    "    point = test_pats[idx,:]\n",
    "    if ((point[0] < 0 and point[1] > 0) or (point[0] > 0 and point[1]<0)):\n",
    "        test_labels_onehot[idx] = 1\n",
    "        plt.plot(point[0],point[1],'r+')\n",
    "    else:\n",
    "        plt.plot(point[0],point[1],'b+')\n",
    "plt.xlabel('dim1')\n",
    "plt.ylabel('dim2')\n",
    "plt.axis('equal')\n",
    "plt.axis('square')\n",
    "xymin = -5; xymax = 7.5\n",
    "plt.show()"
   ]
  },
  {
   "cell_type": "code",
   "execution_count": 40,
   "id": "2b51d537",
   "metadata": {},
   "outputs": [],
   "source": [
    "#print(test_labels_onehot)\n",
    "\n",
    "test_labels_onehot_array = np.array(test_labels_onehot).reshape((test_pats.shape[0],1))\n",
    "test_labels_onehot_opened = [val[0] for val in test_labels_onehot_array]\n",
    "test_labels_onehot_2D = np.array(test_labels_onehot_opened).reshape(len(test_labels_onehot_opened),1)"
   ]
  },
  {
   "cell_type": "code",
   "execution_count": 41,
   "id": "3e871b1d",
   "metadata": {},
   "outputs": [
    {
     "name": "stdout",
     "output_type": "stream",
     "text": [
      "test_loss (MSE)     : 2.0143809238433836\n",
      "test_acc (%Correct) : 0.8655999898910522\n"
     ]
    }
   ],
   "source": [
    "# call network.evaluate() if you have test patterns and test answers and want to know performance\n",
    "results = network.evaluate(test_pats, \n",
    "                           test_labels_onehot_2D, \n",
    "                           verbose=False)\n",
    "\n",
    "test_loss = results[0]\n",
    "test_acc = results[1]\n",
    "\n",
    "print('test_loss (MSE)     : {}'.format(test_loss))\n",
    "print('test_acc (%Correct) : {}'.format(test_acc))\n",
    "\n",
    "out = network.predict(\n",
    "   test_pats, \n",
    "   batch_size = 20, \n",
    "   verbose = 0,  \n",
    "   workers = 1, \n",
    "   use_multiprocessing = False)"
   ]
  },
  {
   "cell_type": "code",
   "execution_count": 55,
   "id": "2b3bd5c6",
   "metadata": {},
   "outputs": [
    {
     "name": "stdout",
     "output_type": "stream",
     "text": [
      "(625, 2)\n",
      "0.0\n",
      "197.60539698926732\n"
     ]
    }
   ],
   "source": [
    "print(out.shape)\n",
    "print(sum(out[:,0]))\n",
    "print(sum(out[:,1]))"
   ]
  },
  {
   "cell_type": "markdown",
   "id": "f49571d6",
   "metadata": {},
   "source": [
    "The issue here is that my output is 2 nodes, which are softmax, and thus it outputs 2 different probabilities.  My input is n by 2 (for x and y features)."
   ]
  },
  {
   "cell_type": "code",
   "execution_count": 42,
   "id": "6de19052",
   "metadata": {},
   "outputs": [
    {
     "ename": "ValueError",
     "evalue": "cannot reshape array of size 1250 into shape (25,25)",
     "output_type": "error",
     "traceback": [
      "\u001b[1;31m---------------------------------------------------------------------------\u001b[0m",
      "\u001b[1;31mValueError\u001b[0m                                Traceback (most recent call last)",
      "\u001b[1;32m~\\AppData\\Local\\Temp/ipykernel_14572/231074745.py\u001b[0m in \u001b[0;36m<module>\u001b[1;34m\u001b[0m\n\u001b[1;32m----> 1\u001b[1;33m \u001b[0mplottest\u001b[0m\u001b[1;33m(\u001b[0m\u001b[0mxv\u001b[0m\u001b[1;33m,\u001b[0m \u001b[0myv\u001b[0m\u001b[1;33m,\u001b[0m \u001b[0mout\u001b[0m\u001b[1;33m,\u001b[0m \u001b[0msample0\u001b[0m\u001b[1;33m,\u001b[0m \u001b[0msample1\u001b[0m\u001b[1;33m)\u001b[0m\u001b[1;33m\u001b[0m\u001b[1;33m\u001b[0m\u001b[0m\n\u001b[0m",
      "\u001b[1;32m~\\AppData\\Local\\Temp/ipykernel_14572/4196178234.py\u001b[0m in \u001b[0;36mplottest\u001b[1;34m(xv, yv, out, sample0, sample1)\u001b[0m\n\u001b[0;32m      7\u001b[0m \u001b[1;32mdef\u001b[0m \u001b[0mplottest\u001b[0m\u001b[1;33m(\u001b[0m\u001b[0mxv\u001b[0m\u001b[1;33m,\u001b[0m \u001b[0myv\u001b[0m\u001b[1;33m,\u001b[0m \u001b[0mout\u001b[0m\u001b[1;33m,\u001b[0m \u001b[0msample0\u001b[0m\u001b[1;33m,\u001b[0m \u001b[0msample1\u001b[0m\u001b[1;33m)\u001b[0m\u001b[1;33m:\u001b[0m\u001b[1;33m\u001b[0m\u001b[1;33m\u001b[0m\u001b[0m\n\u001b[0;32m      8\u001b[0m     \u001b[1;31m# reshape out\u001b[0m\u001b[1;33m\u001b[0m\u001b[1;33m\u001b[0m\u001b[1;33m\u001b[0m\u001b[0m\n\u001b[1;32m----> 9\u001b[1;33m     \u001b[0mzv\u001b[0m \u001b[1;33m=\u001b[0m \u001b[0mout\u001b[0m\u001b[1;33m.\u001b[0m\u001b[0mreshape\u001b[0m\u001b[1;33m(\u001b[0m\u001b[0mxv\u001b[0m\u001b[1;33m.\u001b[0m\u001b[0mshape\u001b[0m\u001b[1;33m)\u001b[0m\u001b[1;33m\u001b[0m\u001b[1;33m\u001b[0m\u001b[0m\n\u001b[0m\u001b[0;32m     10\u001b[0m \u001b[1;33m\u001b[0m\u001b[0m\n\u001b[0;32m     11\u001b[0m     \u001b[1;31m# create figure\u001b[0m\u001b[1;33m\u001b[0m\u001b[1;33m\u001b[0m\u001b[1;33m\u001b[0m\u001b[0m\n",
      "\u001b[1;31mValueError\u001b[0m: cannot reshape array of size 1250 into shape (25,25)"
     ]
    }
   ],
   "source": [
    "plottest(xv, yv, out, sample0, sample1)"
   ]
  },
  {
   "cell_type": "code",
   "execution_count": 43,
   "id": "059b1c30",
   "metadata": {},
   "outputs": [
    {
     "data": {
      "image/png": "[encoded data removed]",
      "text/plain": [
       "<Figure size 432x288 with 1 Axes>"
      ]
     },
     "metadata": {
      "needs_background": "light"
     },
     "output_type": "display_data"
    }
   ],
   "source": [
    "plottest(xv, yv, test_labels_onehot_2D, sample0, sample1)"
   ]
  },
  {
   "cell_type": "markdown",
   "id": "6ceaa930",
   "metadata": {},
   "source": [
    "## Q4 (3 points)\n",
    "\n",
    "Create your own classification problem for a neural network to learn.  Cannot be linearly separable, it can have as many classes as you'd like (as long as it's 2 or more).  If your problem has 2 classes, there must be more than one distribution per class. I want to see that the distribution that make up your problem have unequal variances and non-zero correlations.  Display your problem in a figure."
   ]
  },
  {
   "cell_type": "code",
   "execution_count": null,
   "id": "80750cac",
   "metadata": {},
   "outputs": [],
   "source": []
  },
  {
   "cell_type": "markdown",
   "id": "a21b4f7e",
   "metadata": {},
   "source": [
    "## Q5 (5 points)\n",
    "\n",
    "Create a multi-layer NN that can learn your problem.  Justiyf all choices. <br>\n",
    "<br>\n",
    "We will be looking to see that your network is reasonably small (number of layers and number of nodes per layer) to learn our problem (e.g. its complexity must be justified).  A network with seveeral hidden layers and dozens of nodes per layer might learn your problem, but would be undoubtedly too complex to be justifiable. <br>\n",
    "<br>\n",
    "In a mark down cell, briefly document that different options you investiaged and why you chose the particular combinations you arrived at."
   ]
  },
  {
   "cell_type": "code",
   "execution_count": null,
   "id": "af7cadf9",
   "metadata": {},
   "outputs": [],
   "source": []
  },
  {
   "cell_type": "markdown",
   "id": "75a63c87",
   "metadata": {},
   "source": [
    "## Q6 (2 points)\n",
    "\n",
    "Create a plot of training accuracy as a function of epoch, and create a plot of both the loss and validation loss.  Use plottest() again.  You may need to edit the given function in this case to make it work with your problem."
   ]
  },
  {
   "cell_type": "code",
   "execution_count": null,
   "id": "76afa741",
   "metadata": {},
   "outputs": [],
   "source": []
  },
  {
   "cell_type": "code",
   "execution_count": null,
   "id": "4d350c65",
   "metadata": {},
   "outputs": [],
   "source": []
  }
 ],
 "metadata": {
  "kernelspec": {
   "display_name": "Python 3 (ipykernel)",
   "language": "python",
   "name": "python3"
  },
  "language_info": {
   "codemirror_mode": {
    "name": "ipython",
    "version": 3
   },
   "file_extension": ".py",
   "mimetype": "text/x-python",
   "name": "python",
   "nbconvert_exporter": "python",
   "pygments_lexer": "ipython3",
   "version": "3.7.11"
  }
 },
 "nbformat": 4,
 "nbformat_minor": 5
}
