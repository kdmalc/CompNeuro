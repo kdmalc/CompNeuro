{
 "cells": [
  {
   "cell_type": "markdown",
   "id": "b230f331",
   "metadata": {},
   "source": [
    "# Homework 6\n",
    "# Multi-layer Neural Networks\n",
    "# Due Tues Oct 26"
   ]
  },
  {
   "cell_type": "code",
   "execution_count": 1,
   "id": "b0f2ac56",
   "metadata": {
    "scrolled": true
   },
   "outputs": [],
   "source": [
    "import numpy as np\n",
    "import matplotlib.pyplot as plt\n",
    "import numpy.random as R\n",
    "R.seed(1337)\n",
    "\n",
    "\n",
    "import warnings\n",
    "with warnings.catch_warnings():\n",
    "    warnings.filterwarnings(\"ignore\",category=FutureWarning)\n",
    "    from tensorflow.keras import models\n",
    "    from tensorflow.keras import layers\n",
    "    from tensorflow.keras import optimizers\n",
    "\n",
    "import os"
   ]
  },
  {
   "cell_type": "markdown",
   "id": "27c7c634",
   "metadata": {},
   "source": [
    "## Q1 (2 points)\n",
    "\n",
    "Use the approach from HW5 to create an XOR problem, allowing for 200 training patterns per category (e.g. 400 total) and assume the same standard deviations/correlations used for HW5.  You will need to format the matrix of training patterns and the matrix of teachers to allow for the problem to be learned by a neural network using Keras.  Display your XOR problem in a figure."
   ]
  },
  {
   "cell_type": "code",
   "execution_count": 2,
   "id": "4d14a963",
   "metadata": {},
   "outputs": [],
   "source": [
    "## generate N random samples from a 2D multivariate normal distribution\n",
    "##\n",
    "## with mean [mx, my]\n",
    "##\n",
    "## with covariance matrix [[  sx*sx, r*sx*sy],\n",
    "##                         [r*sx*sy,   sy*sy]]\n",
    "## where sx is the standard deviation along the x dimension\n",
    "## where sy is the standard deviation along the y dimension\n",
    "## where r is the correlation between the dimensions\n",
    "##\n",
    "\n",
    "def gensamples(N, mx, my, sx, sy, r):\n",
    "    M   = np.array([mx, my])\n",
    "    Cov = np.array([[  sx*sx, r*sx*sy],\n",
    "                    [r*sx*sy,   sy*sy]])\n",
    "    return (R.multivariate_normal(M, Cov, size=N, check_valid='warn'))"
   ]
  },
  {
   "cell_type": "code",
   "execution_count": 3,
   "id": "403dc0e3",
   "metadata": {},
   "outputs": [
    {
     "data": {
      "image/png": "[encoded data removed]",
      "text/plain": [
       "<Figure size 432x288 with 1 Axes>"
      ]
     },
     "metadata": {
      "needs_background": "light"
     },
     "output_type": "display_data"
    }
   ],
   "source": [
    "# classification problem used in Q1\n",
    "\n",
    "# Bottom left\n",
    "mx0 = -2.;  my0 = -2.\n",
    "sx0 = 1.;  sy0 = 1.\n",
    "r0 = 0.\n",
    "# Top right\n",
    "mx1 = 2.; my1 = 2.\n",
    "#######################################################################\n",
    "# Bottom right\n",
    "mx3 = 2.;  my3 = -2.\n",
    "sx3 = 1.; sy3 = 1.\n",
    "r3 = 0.\n",
    "# Top left\n",
    "mx4 = -2.; my4 = 2.\n",
    "#######################################################################\n",
    "N = 50\n",
    "sample_bl = gensamples(N, mx0, my0, sx0, sy0, r0)\n",
    "sample_tr = gensamples(N, mx1, my1, sx0, sy0, r0)\n",
    "sample0 = np.concatenate((sample_bl, sample_tr), axis=0)\n",
    "\n",
    "sample_br = gensamples(N, mx3, my3, sx3, sy3, r3)\n",
    "sample_tl = gensamples(N, mx4, my4, sx3, sy3, r3)\n",
    "sample1 = np.concatenate((sample_br, sample_tl), axis=0)\n",
    "\n",
    "# plot example\n",
    "plt.plot(sample0[:,0],sample0[:,1],'b+',sample1[:,0],sample1[:,1],'r+')\n",
    "plt.xlabel('dim1')\n",
    "plt.ylabel('dim2')\n",
    "plt.axis('equal')\n",
    "plt.axis('square')\n",
    "plt.legend(('class 0', 'class 1'), loc='lower right')\n",
    "xymin = -7; xymax = 7\n",
    "plt.ylim((xymin,xymax))\n",
    "plt.xlim((xymin,xymax))\n",
    "plt.show()"
   ]
  },
  {
   "cell_type": "markdown",
   "id": "4d6f34e9",
   "metadata": {},
   "source": [
    "Format the training patterns and make the teachers (one_hot_labels)"
   ]
  },
  {
   "cell_type": "code",
   "execution_count": 4,
   "id": "a703a70a",
   "metadata": {},
   "outputs": [
    {
     "name": "stdout",
     "output_type": "stream",
     "text": [
      "(200, 2)\n",
      "[-2.70318731 -2.49028236]\n",
      "[-2.70318731 -2.49028236]\n",
      "[ 1.32331345 -1.59240808]\n",
      "[ 1.32331345 -1.59240808]\n"
     ]
    }
   ],
   "source": [
    "# All training patterns\n",
    "\n",
    "train_array = np.concatenate((sample0, sample1), axis=0)\n",
    "# Verify correct shape\n",
    "print(train_array.shape)\n",
    "# Verify the first sample is the first entry of sample0\n",
    "print(sample0[0])\n",
    "print(train_array[0])\n",
    "# Verify the 100th sample is the first entry of sample1\n",
    "print(sample1[0])\n",
    "print(train_array[100])"
   ]
  },
  {
   "cell_type": "code",
   "execution_count": 5,
   "id": "4cbbc541",
   "metadata": {},
   "outputs": [
    {
     "name": "stdout",
     "output_type": "stream",
     "text": [
      "(200, 1)\n",
      "[0.]\n",
      "[1.]\n"
     ]
    }
   ],
   "source": [
    "# Create the teacher\n",
    "\n",
    "train_labels_onehot = np.concatenate((np.zeros((N*2,1)), np.ones((N*2,1))))\n",
    "print(train_labels_onehot.shape)\n",
    "print(train_labels_onehot[0])\n",
    "print(train_labels_onehot[100])"
   ]
  },
  {
   "cell_type": "markdown",
   "id": "67fe108c",
   "metadata": {},
   "source": [
    "## Q2 (5 points)\n",
    "\n",
    "Create a multi-layer neural network that can learn this XOR problem using Keras.  You will need to decide the number of hidden layers and nodes per layer (and justify those choices), as well as choose an optimizer and choose a number of epochs and batch size (and justify these choices).  Hold out 20% of the training patterns for validation.  Document the iterations you did before arriving at your final answer.  Use the plots in Q3 to inform your choices. <br>\n",
    "<br>\n",
    "In a markdown cell, briefly document the differnt options you investiaged (different network architectures and Keras settinsg) and why you chose the particular combinations you arrived at."
   ]
  },
  {
   "cell_type": "code",
   "execution_count": 53,
   "id": "745f5c88",
   "metadata": {},
   "outputs": [
    {
     "name": "stdout",
     "output_type": "stream",
     "text": [
      "Model: \"sequential_17\"\n",
      "_________________________________________________________________\n",
      "Layer (type)                 Output Shape              Param #   \n",
      "=================================================================\n",
      "dense_12 (Dense)             (None, 4)                 12        \n",
      "_________________________________________________________________\n",
      "dense_13 (Dense)             (None, 2)                 10        \n",
      "=================================================================\n",
      "Total params: 22\n",
      "Trainable params: 22\n",
      "Non-trainable params: 0\n",
      "_________________________________________________________________\n",
      "None\n",
      "************************************************\n",
      "\n",
      "layer name : dense_12 | input shape : (?, 2) | output shape : (?, 4)\n",
      "layer name : dense_13 | input shape : (?, 4) | output shape : (?, 2)\n",
      "************************************************\n",
      "\n",
      "{'name': 'dense_12', 'trainable': True, 'batch_input_shape': (None, 2), 'dtype': 'float32', 'units': 4, 'activation': 'relu', 'use_bias': True, 'kernel_initializer': {'class_name': 'GlorotUniform', 'config': {'seed': None, 'dtype': 'float32'}}, 'bias_initializer': {'class_name': 'Zeros', 'config': {'dtype': 'float32'}}, 'kernel_regularizer': None, 'bias_regularizer': None, 'activity_regularizer': None, 'kernel_constraint': None, 'bias_constraint': None}\n",
      "{'name': 'dense_13', 'trainable': True, 'batch_input_shape': (None, 4), 'dtype': 'float32', 'units': 2, 'activation': 'relu', 'use_bias': True, 'kernel_initializer': {'class_name': 'GlorotUniform', 'config': {'seed': None, 'dtype': 'float32'}}, 'bias_initializer': {'class_name': 'Zeros', 'config': {'dtype': 'float32'}}, 'kernel_regularizer': None, 'bias_regularizer': None, 'activity_regularizer': None, 'kernel_constraint': None, 'bias_constraint': None}\n",
      "\n"
     ]
    }
   ],
   "source": [
    "network = models.Sequential()\n",
    "\n",
    "nin  = 2\n",
    "nhid = 4\n",
    "nout = 2\n",
    "\n",
    "network = models.Sequential()\n",
    "network.add(layers.Dense(nhid, \n",
    "                         activation='relu', \n",
    "                         input_shape=(nin,)))\n",
    "network.add(layers.Dense(nout, \n",
    "                         activation='relu', #softmax \n",
    "                         input_shape=(nhid,)))\n",
    "print(network.summary())\n",
    "print('************************************************\\n')\n",
    "\n",
    "for layer in network.layers:\n",
    "    print('layer name : {} | input shape : {} | output shape : {}'.format(layer.name, layer.input.shape, layer.output.shape))\n",
    "print('************************************************\\n')\n",
    "\n",
    "for layer in network.layers:\n",
    "    print(layer.get_config())\n",
    "print()"
   ]
  },
  {
   "cell_type": "code",
   "execution_count": 54,
   "id": "e32ac8ed",
   "metadata": {},
   "outputs": [],
   "source": [
    "# compile network\n",
    "\n",
    "# configure optimizer\n",
    "# sgd = optimizers.SGD(learning_rate=0.01, decay=1e-6, momentum=0.9)\n",
    "\n",
    "network.compile(optimizer='adam', \n",
    "                loss='categorical_crossentropy', \n",
    "                metrics=['accuracy', 'mse'])"
   ]
  },
  {
   "cell_type": "code",
   "execution_count": 55,
   "id": "129c1307",
   "metadata": {},
   "outputs": [],
   "source": [
    "def create_network(nin=2, nout=1):\n",
    "    network = models.Sequential()\n",
    "\n",
    "    network = models.Sequential()\n",
    "    network.add(layers.Dense(nout, \n",
    "                             activation='linear', \n",
    "                             input_shape=(nin,)))\n",
    "    \n",
    "    # configure optimizer\n",
    "    sgd = optimizers.SGD(learning_rate=0.01, decay=1e-6, momentum=0.9)\n",
    "\n",
    "    network.compile(optimizer=sgd, \n",
    "                    loss='mean_squared_error', \n",
    "                    metrics=['accuracy', 'mse'])\n",
    "    \n",
    "    return network\n",
    "\n",
    "def plot_model_acc(history):\n",
    "    \"\"\"Accuracy Plotting Function\"\"\"\n",
    "    plt.plot(history.history['acc'])\n",
    "    plt.plot(history.history['val_acc'])\n",
    "    plt.title('Model Accuracy As a Function of Number of Epochs Trained')\n",
    "    plt.ylabel('Accuracy')\n",
    "    plt.xlabel('Epoch')\n",
    "    plt.legend(['train', 'validation'], loc='lower right')\n",
    "    plt.show()"
   ]
  },
  {
   "cell_type": "code",
   "execution_count": 65,
   "id": "d46009d1",
   "metadata": {},
   "outputs": [
    {
     "name": "stdout",
     "output_type": "stream",
     "text": [
      "Train on 160 samples, validate on 40 samples\n",
      "Epoch 1/50\n",
      "160/160 [==============================] - 0s 2ms/sample - loss: 1.1269 - acc: 0.5562 - mean_squared_error: 1.1269 - val_loss: 1.0431 - val_acc: 0.0250 - val_mean_squared_error: 1.0431\n",
      "Epoch 2/50\n",
      "160/160 [==============================] - 0s 1ms/sample - loss: 0.4076 - acc: 0.6375 - mean_squared_error: 0.4076 - val_loss: 1.7842 - val_acc: 0.0000e+00 - val_mean_squared_error: 1.7842\n",
      "Epoch 3/50\n",
      "160/160 [==============================] - 0s 831us/sample - loss: 0.4816 - acc: 0.5813 - mean_squared_error: 0.4816 - val_loss: 0.0268 - val_acc: 1.0000 - val_mean_squared_error: 0.0268\n",
      "Epoch 4/50\n",
      "160/160 [==============================] - 0s 894us/sample - loss: 0.5974 - acc: 0.5625 - mean_squared_error: 0.5974 - val_loss: 2.9604 - val_acc: 0.0000e+00 - val_mean_squared_error: 2.9604\n",
      "Epoch 5/50\n",
      "160/160 [==============================] - 0s 944us/sample - loss: 1.0480 - acc: 0.5625 - mean_squared_error: 1.0480 - val_loss: 0.3178 - val_acc: 0.4250 - val_mean_squared_error: 0.3178\n",
      "Epoch 6/50\n",
      "160/160 [==============================] - 0s 813us/sample - loss: 2.2090 - acc: 0.4938 - mean_squared_error: 2.2090 - val_loss: 14.5052 - val_acc: 0.0000e+00 - val_mean_squared_error: 14.5052\n",
      "Epoch 7/50\n",
      "160/160 [==============================] - 0s 813us/sample - loss: 1.3500 - acc: 0.5688 - mean_squared_error: 1.3500 - val_loss: 0.2102 - val_acc: 0.6250 - val_mean_squared_error: 0.2102\n",
      "Epoch 8/50\n",
      "160/160 [==============================] - 0s 931us/sample - loss: 0.6678 - acc: 0.6000 - mean_squared_error: 0.6678 - val_loss: 2.7083 - val_acc: 0.0000e+00 - val_mean_squared_error: 2.7083\n",
      "Epoch 9/50\n",
      "160/160 [==============================] - 0s 844us/sample - loss: 0.8279 - acc: 0.5125 - mean_squared_error: 0.8279 - val_loss: 1.9489 - val_acc: 0.0000e+00 - val_mean_squared_error: 1.9489\n",
      "Epoch 10/50\n",
      "160/160 [==============================] - 0s 819us/sample - loss: 0.6543 - acc: 0.6000 - mean_squared_error: 0.6543 - val_loss: 4.5792 - val_acc: 0.0000e+00 - val_mean_squared_error: 4.5792\n",
      "Epoch 11/50\n",
      "160/160 [==============================] - 0s 1ms/sample - loss: 1.0042 - acc: 0.5875 - mean_squared_error: 1.0042 - val_loss: 3.4919 - val_acc: 0.0000e+00 - val_mean_squared_error: 3.4919\n",
      "Epoch 12/50\n",
      "160/160 [==============================] - 0s 806us/sample - loss: 0.7362 - acc: 0.5750 - mean_squared_error: 0.7362 - val_loss: 6.2818 - val_acc: 0.0000e+00 - val_mean_squared_error: 6.2818\n",
      "Epoch 13/50\n",
      "160/160 [==============================] - 0s 808us/sample - loss: 1.7457 - acc: 0.5063 - mean_squared_error: 1.7457 - val_loss: 0.7091 - val_acc: 0.0000e+00 - val_mean_squared_error: 0.7091\n",
      "Epoch 14/50\n",
      "160/160 [==============================] - 0s 913us/sample - loss: 0.7007 - acc: 0.6562 - mean_squared_error: 0.7007 - val_loss: 6.2342 - val_acc: 0.0000e+00 - val_mean_squared_error: 6.2342\n",
      "Epoch 15/50\n",
      "160/160 [==============================] - 0s 950us/sample - loss: 1.9314 - acc: 0.5375 - mean_squared_error: 1.9314 - val_loss: 3.3481 - val_acc: 0.0000e+00 - val_mean_squared_error: 3.3481\n",
      "Epoch 16/50\n",
      "160/160 [==============================] - 0s 963us/sample - loss: 0.6571 - acc: 0.6000 - mean_squared_error: 0.6571 - val_loss: 0.5783 - val_acc: 0.1000 - val_mean_squared_error: 0.5783\n",
      "Epoch 17/50\n",
      "160/160 [==============================] - 0s 813us/sample - loss: 1.1360 - acc: 0.5625 - mean_squared_error: 1.1360 - val_loss: 1.6130 - val_acc: 0.0000e+00 - val_mean_squared_error: 1.6130\n",
      "Epoch 18/50\n",
      "160/160 [==============================] - 0s 906us/sample - loss: 0.7152 - acc: 0.6187 - mean_squared_error: 0.7152 - val_loss: 1.7166 - val_acc: 0.0000e+00 - val_mean_squared_error: 1.7166\n",
      "Epoch 19/50\n",
      "160/160 [==============================] - 0s 888us/sample - loss: 1.0645 - acc: 0.6313 - mean_squared_error: 1.0645 - val_loss: 0.9395 - val_acc: 0.0000e+00 - val_mean_squared_error: 0.9395\n",
      "Epoch 20/50\n",
      "160/160 [==============================] - 0s 800us/sample - loss: 1.2323 - acc: 0.5000 - mean_squared_error: 1.2323 - val_loss: 4.4916 - val_acc: 0.0000e+00 - val_mean_squared_error: 4.4916\n",
      "Epoch 21/50\n",
      "160/160 [==============================] - 0s 819us/sample - loss: 2.0566 - acc: 0.5437 - mean_squared_error: 2.0566 - val_loss: 2.6687 - val_acc: 0.0000e+00 - val_mean_squared_error: 2.6687\n",
      "Epoch 22/50\n",
      "160/160 [==============================] - 0s 850us/sample - loss: 0.5459 - acc: 0.6187 - mean_squared_error: 0.5459 - val_loss: 4.5923 - val_acc: 0.0000e+00 - val_mean_squared_error: 4.5923\n",
      "Epoch 23/50\n",
      "160/160 [==============================] - 0s 856us/sample - loss: 3.1523 - acc: 0.5500 - mean_squared_error: 3.1523 - val_loss: 2.5063 - val_acc: 0.0000e+00 - val_mean_squared_error: 2.5063\n",
      "Epoch 24/50\n",
      "160/160 [==============================] - 0s 838us/sample - loss: 1.7669 - acc: 0.5625 - mean_squared_error: 1.7669 - val_loss: 2.4070 - val_acc: 0.0000e+00 - val_mean_squared_error: 2.4070\n",
      "Epoch 25/50\n",
      "160/160 [==============================] - 0s 838us/sample - loss: 0.8386 - acc: 0.5688 - mean_squared_error: 0.8386 - val_loss: 0.0446 - val_acc: 1.0000 - val_mean_squared_error: 0.0446\n",
      "Epoch 26/50\n",
      "160/160 [==============================] - 0s 881us/sample - loss: 0.7584 - acc: 0.5813 - mean_squared_error: 0.7584 - val_loss: 1.2693 - val_acc: 0.2000 - val_mean_squared_error: 1.2693\n",
      "Epoch 27/50\n",
      "160/160 [==============================] - 0s 831us/sample - loss: 0.9018 - acc: 0.5875 - mean_squared_error: 0.9018 - val_loss: 0.7346 - val_acc: 0.0500 - val_mean_squared_error: 0.7346\n",
      "Epoch 28/50\n",
      "160/160 [==============================] - 0s 981us/sample - loss: 1.3589 - acc: 0.4563 - mean_squared_error: 1.3589 - val_loss: 0.5141 - val_acc: 0.0000e+00 - val_mean_squared_error: 0.5141\n",
      "Epoch 29/50\n",
      "160/160 [==============================] - 0s 913us/sample - loss: 0.4623 - acc: 0.6500 - mean_squared_error: 0.4623 - val_loss: 0.8660 - val_acc: 0.0000e+00 - val_mean_squared_error: 0.8660\n",
      "Epoch 30/50\n",
      "160/160 [==============================] - 0s 869us/sample - loss: 0.5207 - acc: 0.5875 - mean_squared_error: 0.5207 - val_loss: 1.3029 - val_acc: 0.0000e+00 - val_mean_squared_error: 1.3029\n",
      "Epoch 31/50\n",
      "160/160 [==============================] - 0s 838us/sample - loss: 0.7919 - acc: 0.6375 - mean_squared_error: 0.7919 - val_loss: 2.6669 - val_acc: 0.0000e+00 - val_mean_squared_error: 2.6669\n",
      "Epoch 32/50\n",
      "160/160 [==============================] - 0s 856us/sample - loss: 1.6591 - acc: 0.6187 - mean_squared_error: 1.6591 - val_loss: 0.9442 - val_acc: 0.0500 - val_mean_squared_error: 0.9442\n",
      "Epoch 33/50\n",
      "160/160 [==============================] - 0s 850us/sample - loss: 1.9598 - acc: 0.4812 - mean_squared_error: 1.9598 - val_loss: 0.3462 - val_acc: 0.4500 - val_mean_squared_error: 0.3462\n",
      "Epoch 34/50\n",
      "160/160 [==============================] - 0s 831us/sample - loss: 1.0362 - acc: 0.5562 - mean_squared_error: 1.0362 - val_loss: 1.3306 - val_acc: 0.0000e+00 - val_mean_squared_error: 1.3306\n",
      "Epoch 35/50\n",
      "160/160 [==============================] - 0s 850us/sample - loss: 1.1440 - acc: 0.5813 - mean_squared_error: 1.1440 - val_loss: 5.0249 - val_acc: 0.1000 - val_mean_squared_error: 5.0249\n",
      "Epoch 36/50\n",
      "160/160 [==============================] - 0s 994us/sample - loss: 1.3261 - acc: 0.6125 - mean_squared_error: 1.3261 - val_loss: 4.4342 - val_acc: 0.0000e+00 - val_mean_squared_error: 4.4342\n",
      "Epoch 37/50\n",
      "160/160 [==============================] - 0s 950us/sample - loss: 0.6358 - acc: 0.5688 - mean_squared_error: 0.6358 - val_loss: 1.7326 - val_acc: 0.0000e+00 - val_mean_squared_error: 1.7326\n",
      "Epoch 38/50\n",
      "160/160 [==============================] - 0s 819us/sample - loss: 9.1875 - acc: 0.5437 - mean_squared_error: 9.1875 - val_loss: 3.6237 - val_acc: 0.0000e+00 - val_mean_squared_error: 3.6237\n",
      "Epoch 39/50\n",
      "160/160 [==============================] - 0s 844us/sample - loss: 0.3667 - acc: 0.6812 - mean_squared_error: 0.3667 - val_loss: 0.5713 - val_acc: 0.2000 - val_mean_squared_error: 0.5713\n",
      "Epoch 40/50\n",
      "160/160 [==============================] - 0s 844us/sample - loss: 0.6017 - acc: 0.6187 - mean_squared_error: 0.6017 - val_loss: 2.9678 - val_acc: 0.0000e+00 - val_mean_squared_error: 2.9678\n",
      "Epoch 41/50\n"
     ]
    },
    {
     "name": "stdout",
     "output_type": "stream",
     "text": [
      "160/160 [==============================] - 0s 863us/sample - loss: 0.6399 - acc: 0.6313 - mean_squared_error: 0.6399 - val_loss: 0.0771 - val_acc: 1.0000 - val_mean_squared_error: 0.0771\n",
      "Epoch 42/50\n",
      "160/160 [==============================] - 0s 831us/sample - loss: 0.4174 - acc: 0.6250 - mean_squared_error: 0.4174 - val_loss: 3.7433 - val_acc: 0.0000e+00 - val_mean_squared_error: 3.7433\n",
      "Epoch 43/50\n",
      "160/160 [==============================] - 0s 881us/sample - loss: 1.5035 - acc: 0.5562 - mean_squared_error: 1.5035 - val_loss: 2.5716 - val_acc: 0.0000e+00 - val_mean_squared_error: 2.5716\n",
      "Epoch 44/50\n",
      "160/160 [==============================] - 0s 825us/sample - loss: 1.4082 - acc: 0.5625 - mean_squared_error: 1.4082 - val_loss: 0.8064 - val_acc: 0.0000e+00 - val_mean_squared_error: 0.8064\n",
      "Epoch 45/50\n",
      "160/160 [==============================] - 0s 819us/sample - loss: 0.9025 - acc: 0.5562 - mean_squared_error: 0.9025 - val_loss: 0.8184 - val_acc: 0.0000e+00 - val_mean_squared_error: 0.8184\n",
      "Epoch 46/50\n",
      "160/160 [==============================] - 0s 831us/sample - loss: 0.5784 - acc: 0.6313 - mean_squared_error: 0.5784 - val_loss: 2.0969 - val_acc: 0.0000e+00 - val_mean_squared_error: 2.0969\n",
      "Epoch 47/50\n",
      "160/160 [==============================] - 0s 881us/sample - loss: 0.6619 - acc: 0.5562 - mean_squared_error: 0.6619 - val_loss: 0.1972 - val_acc: 0.9500 - val_mean_squared_error: 0.1972\n",
      "Epoch 48/50\n",
      "160/160 [==============================] - 0s 881us/sample - loss: 1.2677 - acc: 0.5875 - mean_squared_error: 1.2677 - val_loss: 0.1459 - val_acc: 0.8750 - val_mean_squared_error: 0.1459\n",
      "Epoch 49/50\n",
      "160/160 [==============================] - 0s 894us/sample - loss: 7.0788 - acc: 0.4187 - mean_squared_error: 7.0788 - val_loss: 16.4398 - val_acc: 0.0000e+00 - val_mean_squared_error: 16.4398\n",
      "Epoch 50/50\n",
      "160/160 [==============================] - 0s 850us/sample - loss: 9.5963 - acc: 0.5000 - mean_squared_error: 9.5963 - val_loss: 2.2169 - val_acc: 0.0000e+00 - val_mean_squared_error: 2.2169\n",
      "Done training!\n"
     ]
    }
   ],
   "source": [
    "# now train the network\n",
    "#\n",
    "# training requires training patterns (train_image_vec) and teachers (train_labels_onehot)\n",
    "#\n",
    "# sets # training epochs, validation (described later), and batch_size\n",
    "#\n",
    "# set verbose=True to see training unfold\n",
    "\n",
    "num_epochs = 50\n",
    "\n",
    "network = create_network()\n",
    "history = network.fit(train_array, \n",
    "                      train_labels_onehot, \n",
    "                      verbose=True, \n",
    "                      validation_split=.2, \n",
    "                      epochs=num_epochs, \n",
    "                      batch_size=1)\n",
    "print('Done training!')"
   ]
  },
  {
   "cell_type": "markdown",
   "id": "5222f548",
   "metadata": {},
   "source": [
    "## Q3 (3 points)\n",
    "\n",
    "Create a plot of training accuracy as a function of epoch, create a plot of both the loss ('loss') and validation loss ('val_loss') on the same graph.  Test the network using a mesh grid of test patterns and display the results as a 3D graph using plottest()."
   ]
  },
  {
   "cell_type": "code",
   "execution_count": 66,
   "id": "6af2735d",
   "metadata": {},
   "outputs": [],
   "source": [
    "# function for generating plot for Q4\n",
    "# xv is array of x-values of test grid (from meshgrid)\n",
    "# yv is array of y-values of test grid (from meshgrid)\n",
    "# out is the output of the neural network given the test patterns\n",
    "# sample0, sample1 are the training patterns from earlier\n",
    "\n",
    "def plottest(xv, yv, out, sample0, sample1):\n",
    "    # reshape out\n",
    "    zv = out.reshape(xv.shape)\n",
    "\n",
    "    # create figure\n",
    "    fig = plt.figure()\n",
    "    plt.contourf(xv, yv, zv, levels=xv.shape[0], cmap=plt.cm.gist_yarg)\n",
    "    plt.plot(sample0[:,0], sample0[:,1], 'b+', \n",
    "             sample1[:,0], sample1[:,1], 'r+')    \n",
    "    \n",
    "    plt.xlabel('dim1')\n",
    "    plt.ylabel('dim2')\n",
    "    plt.axis('equal')\n",
    "    plt.axis('square')\n",
    "    xymin = -5.5; xymax = 5.5\n",
    "    plt.ylim((xymin,xymax))\n",
    "    plt.xlim((xymin,xymax))\n",
    "    plt.show()"
   ]
  },
  {
   "cell_type": "code",
   "execution_count": 67,
   "id": "ccf6577e",
   "metadata": {},
   "outputs": [
    {
     "data": {
      "image/png": "[encoded data removed]",
      "text/plain": [
       "<Figure size 432x288 with 1 Axes>"
      ]
     },
     "metadata": {
      "needs_background": "light"
     },
     "output_type": "display_data"
    },
    {
     "name": "stdout",
     "output_type": "stream",
     "text": [
      "!!!!!!!!!!!!!!!!!!!!!!!!!!!!!!!!!!!!!!!!!!!!!!!!!!\n",
      "Network success!\n",
      "!!!!!!!!!!!!!!!!!!!!!!!!!!!!!!!!!!!!!!!!!!!!!!!!!!\n"
     ]
    }
   ],
   "source": [
    "plot_model_acc(history)\n",
    "var = 0.05\n",
    "\n",
    "mean = sum(history.history['acc'][-20:])/len(history.history['acc'][-20:])\n",
    "upper = mean * 1+var > history.history['acc'][-6]\n",
    "lower = mean * 1-var < history.history['acc'][-6]\n",
    "\n",
    "if upper and lower:\n",
    "    print(\"!!!!!!!!!!!!!!!!!!!!!!!!!!!!!!!!!!!!!!!!!!!!!!!!!!\")\n",
    "    print(\"Network success!\")\n",
    "    print(\"!!!!!!!!!!!!!!!!!!!!!!!!!!!!!!!!!!!!!!!!!!!!!!!!!!\")\n",
    "else: \n",
    "    print(\"!!!!!!!!!!!!!!!!!!!!!!!!!!!!!!!!!!!!!!!!!!!!!!!!!!\")\n",
    "    print(\"Network failure\")\n",
    "    print(\"!!!!!!!!!!!!!!!!!!!!!!!!!!!!!!!!!!!!!!!!!!!!!!!!!!\")"
   ]
  },
  {
   "cell_type": "code",
   "execution_count": 68,
   "id": "9c814293",
   "metadata": {},
   "outputs": [
    {
     "name": "stdout",
     "output_type": "stream",
     "text": [
      "(625, 2)\n",
      "[-5.5 -5.5]\n",
      "[-5.04166667 -5.5       ]\n",
      "[ 5.04166667 -4.125     ]\n",
      "[ 5.5   -4.125]\n"
     ]
    }
   ],
   "source": [
    "# generate test pattern array for Q4\n",
    "\n",
    "xymin = -5.5\n",
    "xymax = 5.5\n",
    "Npts = 25\n",
    "xv, yv = np.meshgrid(np.linspace(xymin, xymax, Npts), \n",
    "                     np.linspace(xymin, xymax, Npts))\n",
    "test_pats = np.concatenate((xv.reshape((Npts*Npts,1)), \n",
    "                            yv.reshape((Npts*Npts,1))), axis=1)\n",
    "\n",
    "print(test_pats.shape)\n",
    "print(test_pats[0])\n",
    "print(test_pats[1])\n",
    "print(test_pats[98])\n",
    "print(test_pats[99])"
   ]
  },
  {
   "cell_type": "code",
   "execution_count": 69,
   "id": "b96b421e",
   "metadata": {},
   "outputs": [
    {
     "data": {
      "image/png": "[encoded data removed]",
      "text/plain": [
       "<Figure size 432x288 with 1 Axes>"
      ]
     },
     "metadata": {
      "needs_background": "light"
     },
     "output_type": "display_data"
    }
   ],
   "source": [
    "test_labels_onehot = [0]*test_pats.shape[0]\n",
    "\n",
    "# plot example\n",
    "for idx in range((test_pats.shape[0])):\n",
    "    point = test_pats[idx,:]\n",
    "    if ((point[0] < 0 and point[1] > 0) or (point[0] > 0 and point[1]<0)):\n",
    "        test_labels_onehot[idx] = 1\n",
    "        plt.plot(point[0],point[1],'r+')\n",
    "    else:\n",
    "        plt.plot(point[0],point[1],'b+')\n",
    "plt.xlabel('dim1')\n",
    "plt.ylabel('dim2')\n",
    "plt.axis('equal')\n",
    "plt.axis('square')\n",
    "xymin = -5; xymax = 7.5\n",
    "plt.show()"
   ]
  },
  {
   "cell_type": "code",
   "execution_count": 70,
   "id": "2b51d537",
   "metadata": {},
   "outputs": [],
   "source": [
    "#print(test_labels_onehot)\n",
    "\n",
    "test_labels_onehot_array = np.array(test_labels_onehot).reshape((test_pats.shape[0],1))\n",
    "test_labels_onehot_opened = [val[0] for val in test_labels_onehot_array]\n",
    "test_labels_onehot_2D = np.array(test_labels_onehot_opened).reshape(len(test_labels_onehot_opened),1)"
   ]
  },
  {
   "cell_type": "code",
   "execution_count": 71,
   "id": "3e871b1d",
   "metadata": {},
   "outputs": [
    {
     "name": "stdout",
     "output_type": "stream",
     "text": [
      "test_loss (MSE)     : 1.3064429924964904\n",
      "test_acc (%Correct) : 0.5248000025749207\n"
     ]
    }
   ],
   "source": [
    "# call network.evaluate() if you have test patterns and test answers and want to know performance\n",
    "results = network.evaluate(test_pats, \n",
    "                           test_labels_onehot_2D, \n",
    "                           verbose=False)\n",
    "\n",
    "test_loss = results[0]\n",
    "test_acc = results[1]\n",
    "\n",
    "print('test_loss (MSE)     : {}'.format(test_loss))\n",
    "print('test_acc (%Correct) : {}'.format(test_acc))\n",
    "\n",
    "out = network.predict(\n",
    "   test_pats, \n",
    "   batch_size = 20, \n",
    "   verbose = 0,  \n",
    "   workers = 1, \n",
    "   use_multiprocessing = False)"
   ]
  },
  {
   "cell_type": "code",
   "execution_count": 72,
   "id": "6de19052",
   "metadata": {},
   "outputs": [
    {
     "data": {
      "image/png": "[encoded data removed]",
      "text/plain": [
       "<Figure size 432x288 with 1 Axes>"
      ]
     },
     "metadata": {
      "needs_background": "light"
     },
     "output_type": "display_data"
    }
   ],
   "source": [
    "plottest(xv, yv, out, sample0, sample1)"
   ]
  },
  {
   "cell_type": "code",
   "execution_count": 73,
   "id": "059b1c30",
   "metadata": {},
   "outputs": [
    {
     "data": {
      "image/png": "[encoded data removed]",
      "text/plain": [
       "<Figure size 432x288 with 1 Axes>"
      ]
     },
     "metadata": {
      "needs_background": "light"
     },
     "output_type": "display_data"
    }
   ],
   "source": [
    "plottest(xv, yv, test_labels_onehot_2D, sample0, sample1)"
   ]
  },
  {
   "cell_type": "markdown",
   "id": "6ceaa930",
   "metadata": {},
   "source": [
    "## Q4 (3 points)\n",
    "\n",
    "Create your own classification problem for a neural network to learn.  Cannot be linearly separable, it can have as many classes as you'd like (as long as it's 2 or more).  If your problem has 2 classes, there must be more than one distribution per class. I want to see that the distribution that make up your problem have unequal variances and non-zero correlations.  Display your problem in a figure."
   ]
  },
  {
   "cell_type": "code",
   "execution_count": null,
   "id": "80750cac",
   "metadata": {},
   "outputs": [],
   "source": []
  },
  {
   "cell_type": "markdown",
   "id": "a21b4f7e",
   "metadata": {},
   "source": [
    "## Q5 (5 points)\n",
    "\n",
    "Create a multi-layer NN that can learn your problem.  Justiyf all choices. <br>\n",
    "<br>\n",
    "We will be looking to see that your network is reasonably small (number of layers and number of nodes per layer) to learn our problem (e.g. its complexity must be justified).  A network with seveeral hidden layers and dozens of nodes per layer might learn your problem, but would be undoubtedly too complex to be justifiable. <br>\n",
    "<br>\n",
    "In a mark down cell, briefly document that different options you investiaged and why you chose the particular combinations you arrived at."
   ]
  },
  {
   "cell_type": "code",
   "execution_count": null,
   "id": "af7cadf9",
   "metadata": {},
   "outputs": [],
   "source": []
  },
  {
   "cell_type": "markdown",
   "id": "75a63c87",
   "metadata": {},
   "source": [
    "## Q6 (2 points)\n",
    "\n",
    "Create a plot of training accuracy as a function of epoch, and create a plot of both the loss and validation loss.  Use plottest() again.  You may need to edit the given function in this case to make it work with your problem."
   ]
  },
  {
   "cell_type": "code",
   "execution_count": null,
   "id": "76afa741",
   "metadata": {},
   "outputs": [],
   "source": []
  },
  {
   "cell_type": "code",
   "execution_count": null,
   "id": "4d350c65",
   "metadata": {},
   "outputs": [],
   "source": []
  }
 ],
 "metadata": {
  "kernelspec": {
   "display_name": "Python 3 (ipykernel)",
   "language": "python",
   "name": "python3"
  },
  "language_info": {
   "codemirror_mode": {
    "name": "ipython",
    "version": 3
   },
   "file_extension": ".py",
   "mimetype": "text/x-python",
   "name": "python",
   "nbconvert_exporter": "python",
   "pygments_lexer": "ipython3",
   "version": "3.7.11"
  }
 },
 "nbformat": 4,
 "nbformat_minor": 5
}
