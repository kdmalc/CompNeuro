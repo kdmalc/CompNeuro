{
 "cells": [
  {
   "cell_type": "markdown",
   "id": "a98a1d5e-603a-4625-a738-74b86872a961",
   "metadata": {},
   "source": [
    "### Homework 2 examples (dos and don'ts)"
   ]
  },
  {
   "cell_type": "markdown",
   "id": "3922b259-864c-4078-92ab-a7dfc3af871b",
   "metadata": {},
   "source": [
    "here is an example of defining and using a function (for loop version)"
   ]
  },
  {
   "cell_type": "code",
   "execution_count": null,
   "id": "9a01cd45-e595-493f-8306-ffdcd5f5df4e",
   "metadata": {},
   "outputs": [],
   "source": [
    "import numpy as np\n",
    "\n",
    "def my_logistic_for(n):\n",
    "    a = np.zeros(len(n))\n",
    "    for i in range(len(n)):\n",
    "        a[i] = 1 / (1 + np.exp(-n[i]))\n",
    "    return (a)\n",
    "\n",
    "n = np.linspace(-8, 8, 1000)\n",
    "a = np.zeros(len(n))\n",
    "\n",
    "a = my_logistic_for(n) "
   ]
  },
  {
   "cell_type": "markdown",
   "id": "8cc1b099-73ea-4232-9686-280bc905afee",
   "metadata": {},
   "source": [
    "<b>DO NOT</b> do something like this:"
   ]
  },
  {
   "cell_type": "code",
   "execution_count": null,
   "id": "9f24f2d7-b5d8-4adf-bbf8-fbe4a6195bd1",
   "metadata": {},
   "outputs": [],
   "source": [
    "n = np.linspace(-8, 8, 1000)\n",
    "a = np.zeros(len(n))\n",
    "\n",
    "def my_logistic_for_wrong1(n):\n",
    "    for i in range(len(n)):\n",
    "        a[i] = 1 / (1 + np.exp(-n[i]))\n",
    "    return (a)\n",
    "\n",
    "a = my_logistic_for_wrong1(n) "
   ]
  },
  {
   "cell_type": "markdown",
   "id": "7a097a58-c79f-406a-a29a-e184c7b5bdad",
   "metadata": {},
   "source": [
    "<b>AND DO NOT</b> do this:"
   ]
  },
  {
   "cell_type": "code",
   "execution_count": null,
   "id": "99200b93-209d-4f61-846b-64218a5fd52f",
   "metadata": {},
   "outputs": [],
   "source": [
    "n = np.linspace(-8, 8, 1000)\n",
    "a = np.zeros(len(n))\n",
    "\n",
    "def my_logistic_for_wrong2():\n",
    "    for i in range(len(n)):\n",
    "        a[i] = 1 / (1 + np.exp(-n[i]))\n",
    "\n",
    "a = my_logistic_for_wrong2() "
   ]
  },
  {
   "cell_type": "markdown",
   "id": "b400ea5e-0e49-4e74-acf7-345f673009c8",
   "metadata": {},
   "source": [
    "In nearly every case, any variables used by a function must be passed as parameters to the function and values must be returned from the function."
   ]
  },
  {
   "cell_type": "markdown",
   "id": "5579caaa-2fe5-4c18-a995-114aa1a87556",
   "metadata": {},
   "source": [
    "<hr>"
   ]
  },
  {
   "cell_type": "markdown",
   "id": "0f65af93-14ee-46a9-90cb-a40826f7ad4f",
   "metadata": {},
   "source": [
    "a modular function allows you to call it multiple times"
   ]
  },
  {
   "cell_type": "code",
   "execution_count": null,
   "id": "899dcfdd-0c11-4249-8b37-9e3aeb37e220",
   "metadata": {},
   "outputs": [],
   "source": [
    "import matplotlib.pyplot as plt\n",
    "\n",
    "def my_tripleplot(n, a1, a2, a3, l1, l2, l3, title):\n",
    "    plt.plot(n, a1, 'r-', label=l1)\n",
    "    plt.plot(n, a2, 'g-', label=l2)\n",
    "    plt.plot(n, a3, 'b-', label=l3)\n",
    "    plt.xlabel('n')\n",
    "    plt.ylabel('a(n)')\n",
    "    plt.title(title)\n",
    "    plt.legend()\n",
    "    plt.show()"
   ]
  },
  {
   "cell_type": "code",
   "execution_count": null,
   "id": "4849a0d9-cb09-49e8-ade0-51bc831a9cb8",
   "metadata": {},
   "outputs": [],
   "source": [
    "m = 1\n",
    "b = np.array([-1, 0, +1])\n",
    "a1 = my_logistic_for(m*n+b[0])\n",
    "a2 = my_logistic_for(m*n+b[1])\n",
    "a3 = my_logistic_for(m*n+b[2])\n",
    "\n",
    "my_tripleplot(n, a1, a2, a3, f'b = {b[0]}', f'b = {b[1]}', f'b = {b[2]}', 'logistic (b manipulation)')"
   ]
  },
  {
   "cell_type": "code",
   "execution_count": null,
   "id": "eee25f83-5afa-4f7c-81e1-ad6a7aab78e0",
   "metadata": {},
   "outputs": [],
   "source": [
    "m = np.array([.5, 1, 1.5])\n",
    "b = 0\n",
    "a1 = my_logistic_for(m[0]*n+b)\n",
    "a2 = my_logistic_for(m[1]*n+b)\n",
    "a3 = my_logistic_for(m[2]*n+b)\n",
    "\n",
    "my_tripleplot(n, a1, a2, a3, f'm = {m[0]}', f'm = {m[1]}', f'm = {m[2]}', 'logistic (m manipulation)')"
   ]
  },
  {
   "cell_type": "markdown",
   "id": "062d93d6-4837-415c-a2d0-0a94d71c16bf",
   "metadata": {},
   "source": [
    "<hr>"
   ]
  },
  {
   "cell_type": "markdown",
   "id": "163a8a50-34fc-4f66-b2e1-a907db89a2d3",
   "metadata": {},
   "source": [
    "The code should be broken up into logical pieces.\n",
    "\n",
    "<b>DO NOT</b> do something like this:"
   ]
  },
  {
   "cell_type": "code",
   "execution_count": null,
   "id": "124f0a50-0225-48ec-a19d-0a008a45057e",
   "metadata": {},
   "outputs": [],
   "source": [
    "x = np.linspace(-8, 8, 1000)\n",
    "\n",
    "def my_tripleplot_wrong(x):\n",
    "    a1 = 1 / (1 + np.exp(-(1*x-1)))\n",
    "    a2 = 1 / (1 + np.exp(-(1*x+0)))\n",
    "    a3 = 1 / (1 + np.exp(-(1*x+1)))\n",
    "\n",
    "    plt.plot(n, a1, 'r-', label='b=-1')\n",
    "    plt.plot(n, a2, 'g-', label='b=0')\n",
    "    plt.plot(n, a3, 'b-', label='b=+1')\n",
    "    plt.xlabel('n')\n",
    "    plt.ylabel('a(n)')\n",
    "    plt.title('logistic b manipulation')\n",
    "    plt.legend()\n",
    "    plt.show()\n",
    "    \n",
    "my_tripleplot_wrong(x)"
   ]
  },
  {
   "cell_type": "code",
   "execution_count": null,
   "id": "b4fc2112-2a8f-4848-9be1-df7d54b543a5",
   "metadata": {},
   "outputs": [],
   "source": []
  }
 ],
 "metadata": {
  "kernelspec": {
   "display_name": "Python 3 (ipykernel)",
   "language": "python",
   "name": "python3"
  },
  "language_info": {
   "codemirror_mode": {
    "name": "ipython",
    "version": 3
   },
   "file_extension": ".py",
   "mimetype": "text/x-python",
   "name": "python",
   "nbconvert_exporter": "python",
   "pygments_lexer": "ipython3",
   "version": "3.9.7"
  }
 },
 "nbformat": 4,
 "nbformat_minor": 5
}
