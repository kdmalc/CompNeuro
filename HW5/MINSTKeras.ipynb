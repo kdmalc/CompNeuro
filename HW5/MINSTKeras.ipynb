{
 "cells": [
  {
   "cell_type": "code",
   "execution_count": 1,
   "metadata": {},
   "outputs": [],
   "source": [
    "import numpy as np\n",
    "import matplotlib.pyplot as plt\n",
    "\n",
    "# supress unnecessary warnings\n",
    "import os\n",
    "os.environ['TF_CPP_MIN_LOG_LEVEL']='2'"
   ]
  },
  {
   "cell_type": "code",
   "execution_count": 2,
   "metadata": {},
   "outputs": [
    {
     "name": "stderr",
     "output_type": "stream",
     "text": [
      "C:\\Users\\kdmen\\miniconda3\\envs\\NSCenv\\lib\\site-packages\\tensorflow\\python\\framework\\dtypes.py:516: FutureWarning: Passing (type, 1) or '1type' as a synonym of type is deprecated; in a future version of numpy, it will be understood as (type, (1,)) / '(1,)type'.\n",
      "  _np_qint8 = np.dtype([(\"qint8\", np.int8, 1)])\n",
      "C:\\Users\\kdmen\\miniconda3\\envs\\NSCenv\\lib\\site-packages\\tensorflow\\python\\framework\\dtypes.py:517: FutureWarning: Passing (type, 1) or '1type' as a synonym of type is deprecated; in a future version of numpy, it will be understood as (type, (1,)) / '(1,)type'.\n",
      "  _np_quint8 = np.dtype([(\"quint8\", np.uint8, 1)])\n",
      "C:\\Users\\kdmen\\miniconda3\\envs\\NSCenv\\lib\\site-packages\\tensorflow\\python\\framework\\dtypes.py:518: FutureWarning: Passing (type, 1) or '1type' as a synonym of type is deprecated; in a future version of numpy, it will be understood as (type, (1,)) / '(1,)type'.\n",
      "  _np_qint16 = np.dtype([(\"qint16\", np.int16, 1)])\n",
      "C:\\Users\\kdmen\\miniconda3\\envs\\NSCenv\\lib\\site-packages\\tensorflow\\python\\framework\\dtypes.py:519: FutureWarning: Passing (type, 1) or '1type' as a synonym of type is deprecated; in a future version of numpy, it will be understood as (type, (1,)) / '(1,)type'.\n",
      "  _np_quint16 = np.dtype([(\"quint16\", np.uint16, 1)])\n",
      "C:\\Users\\kdmen\\miniconda3\\envs\\NSCenv\\lib\\site-packages\\tensorflow\\python\\framework\\dtypes.py:520: FutureWarning: Passing (type, 1) or '1type' as a synonym of type is deprecated; in a future version of numpy, it will be understood as (type, (1,)) / '(1,)type'.\n",
      "  _np_qint32 = np.dtype([(\"qint32\", np.int32, 1)])\n",
      "C:\\Users\\kdmen\\miniconda3\\envs\\NSCenv\\lib\\site-packages\\tensorflow\\python\\framework\\dtypes.py:525: FutureWarning: Passing (type, 1) or '1type' as a synonym of type is deprecated; in a future version of numpy, it will be understood as (type, (1,)) / '(1,)type'.\n",
      "  np_resource = np.dtype([(\"resource\", np.ubyte, 1)])\n",
      "C:\\Users\\kdmen\\miniconda3\\envs\\NSCenv\\lib\\site-packages\\tensorboard\\compat\\tensorflow_stub\\dtypes.py:541: FutureWarning: Passing (type, 1) or '1type' as a synonym of type is deprecated; in a future version of numpy, it will be understood as (type, (1,)) / '(1,)type'.\n",
      "  _np_qint8 = np.dtype([(\"qint8\", np.int8, 1)])\n",
      "C:\\Users\\kdmen\\miniconda3\\envs\\NSCenv\\lib\\site-packages\\tensorboard\\compat\\tensorflow_stub\\dtypes.py:542: FutureWarning: Passing (type, 1) or '1type' as a synonym of type is deprecated; in a future version of numpy, it will be understood as (type, (1,)) / '(1,)type'.\n",
      "  _np_quint8 = np.dtype([(\"quint8\", np.uint8, 1)])\n",
      "C:\\Users\\kdmen\\miniconda3\\envs\\NSCenv\\lib\\site-packages\\tensorboard\\compat\\tensorflow_stub\\dtypes.py:543: FutureWarning: Passing (type, 1) or '1type' as a synonym of type is deprecated; in a future version of numpy, it will be understood as (type, (1,)) / '(1,)type'.\n",
      "  _np_qint16 = np.dtype([(\"qint16\", np.int16, 1)])\n",
      "C:\\Users\\kdmen\\miniconda3\\envs\\NSCenv\\lib\\site-packages\\tensorboard\\compat\\tensorflow_stub\\dtypes.py:544: FutureWarning: Passing (type, 1) or '1type' as a synonym of type is deprecated; in a future version of numpy, it will be understood as (type, (1,)) / '(1,)type'.\n",
      "  _np_quint16 = np.dtype([(\"quint16\", np.uint16, 1)])\n",
      "C:\\Users\\kdmen\\miniconda3\\envs\\NSCenv\\lib\\site-packages\\tensorboard\\compat\\tensorflow_stub\\dtypes.py:545: FutureWarning: Passing (type, 1) or '1type' as a synonym of type is deprecated; in a future version of numpy, it will be understood as (type, (1,)) / '(1,)type'.\n",
      "  _np_qint32 = np.dtype([(\"qint32\", np.int32, 1)])\n",
      "C:\\Users\\kdmen\\miniconda3\\envs\\NSCenv\\lib\\site-packages\\tensorboard\\compat\\tensorflow_stub\\dtypes.py:550: FutureWarning: Passing (type, 1) or '1type' as a synonym of type is deprecated; in a future version of numpy, it will be understood as (type, (1,)) / '(1,)type'.\n",
      "  np_resource = np.dtype([(\"resource\", np.ubyte, 1)])\n"
     ]
    },
    {
     "data": {
      "image/png": "[encoded data removed]",
      "text/plain": [
       "<Figure size 432x288 with 9 Axes>"
      ]
     },
     "metadata": {},
     "output_type": "display_data"
    }
   ],
   "source": [
    "##\n",
    "## MINST happens to be preloaded with Keras\n",
    "##\n",
    "\n",
    "# load mnist\n",
    "from tensorflow.keras.datasets import mnist\n",
    "(train_images, train_labels), (test_images, test_labels) = mnist.load_data()\n",
    "\n",
    "# display some digits\n",
    "fig = plt.figure()\n",
    "for i in range(9):\n",
    "    plt.subplot(3,3,i+1)\n",
    "    plt.imshow(train_images[i], cmap='gray', interpolation='none')\n",
    "    plt.title(\"Digit: {}\".format(train_labels[i]))\n",
    "    plt.xticks([])\n",
    "    plt.yticks([])\n",
    "plt.show()\n",
    "\n",
    "# image shape\n",
    "sz = train_images.shape[1]"
   ]
  },
  {
   "cell_type": "code",
   "execution_count": 3,
   "metadata": {},
   "outputs": [
    {
     "name": "stdout",
     "output_type": "stream",
     "text": [
      "*** Original Training and Testing Patterns ***\n",
      "Training images shape:  (60000, 28, 28)\n",
      "Training images type:   <class 'numpy.uint8'>\n",
      "Testing images shape:   (10000, 28, 28)\n",
      "Testing images type:    <class 'numpy.uint8'>\n",
      "\n",
      "*** Reformatted Training and Testing Patterns ***\n",
      "Training images shape:  (60000, 784)\n",
      "Training images type:   <class 'numpy.float32'>\n",
      "Testing images shape:   (10000, 784)\n",
      "Testing images type:    <class 'numpy.float32'>\n"
     ]
    }
   ],
   "source": [
    "##\n",
    "## preprocess training and testing patterns\n",
    "##\n",
    "## this is a common first step for training any neural network\n",
    "##\n",
    "\n",
    "# check out dimensions and types of mnist data\n",
    "print('*** Original Training and Testing Patterns ***')\n",
    "print('Training images shape: ', train_images.shape)\n",
    "print('Training images type:  ', type(train_images[0][0][0]))\n",
    "print('Testing images shape:  ', test_images.shape)\n",
    "print('Testing images type:   ', type(test_images[0][0][0]))\n",
    "print()\n",
    "\n",
    "# need to reshape and preprocess the training/testing images\n",
    "train_images_vec = train_images.reshape((train_images.shape[0], train_images.shape[1] * train_images.shape[2]))\n",
    "train_images_vec = train_images_vec.astype('float32') / 255\n",
    "test_images_vec = test_images.reshape((test_images.shape[0], test_images.shape[1] * test_images.shape[2]))\n",
    "test_images_vec = test_images_vec.astype('float32') / 255\n",
    "\n",
    "# display new input dimensions/type\n",
    "print('*** Reformatted Training and Testing Patterns ***')\n",
    "print('Training images shape: ', train_images_vec.shape)\n",
    "print('Training images type:  ', type(train_images_vec[0][0]))\n",
    "print('Testing images shape:  ', test_images_vec.shape)\n",
    "print('Testing images type:   ', type(test_images_vec[0][0]))"
   ]
  },
  {
   "cell_type": "code",
   "execution_count": 4,
   "metadata": {},
   "outputs": [
    {
     "name": "stdout",
     "output_type": "stream",
     "text": [
      "First 5 training labels as labels:\n",
      " [5 0 4 1 9]\n",
      "First 5 training labels as one-hot encoded vectors:\n",
      " [[0. 0. 0. 0. 0. 1. 0. 0. 0. 0.]\n",
      " [1. 0. 0. 0. 0. 0. 0. 0. 0. 0.]\n",
      " [0. 0. 0. 0. 1. 0. 0. 0. 0. 0.]\n",
      " [0. 1. 0. 0. 0. 0. 0. 0. 0. 0.]\n",
      " [0. 0. 0. 0. 0. 0. 0. 0. 0. 1.]]\n"
     ]
    }
   ],
   "source": [
    "##\n",
    "## MINST labels are numeric - want to reformat as one-hot coded vectors\n",
    "##\n",
    "\n",
    "from tensorflow.keras.utils import to_categorical\n",
    "\n",
    "# also need to categorically encode the labels\n",
    "print('First 5 training labels as labels:\\n', train_labels[:5])\n",
    "\n",
    "train_labels_onehot = to_categorical(train_labels)\n",
    "test_labels_onehot = to_categorical(test_labels)\n",
    "print('First 5 training labels as one-hot encoded vectors:\\n', train_labels_onehot[:5])"
   ]
  },
  {
   "cell_type": "markdown",
   "metadata": {},
   "source": [
    "## start with a simple one-layer neural network in Keras"
   ]
  },
  {
   "cell_type": "code",
   "execution_count": 5,
   "metadata": {},
   "outputs": [
    {
     "name": "stdout",
     "output_type": "stream",
     "text": [
      "WARNING:tensorflow:From C:\\Users\\kdmen\\miniconda3\\envs\\NSCenv\\lib\\site-packages\\tensorflow\\python\\ops\\init_ops.py:1251: calling VarianceScaling.__init__ (from tensorflow.python.ops.init_ops) with dtype is deprecated and will be removed in a future version.\n",
      "Instructions for updating:\n",
      "Call initializer instance with the dtype argument instead of passing it to the constructor\n"
     ]
    }
   ],
   "source": [
    "#########################################################################################\n",
    "##\n",
    "## define and train neural network in Keras\n",
    "##\n",
    "\n",
    "# import tools for basic keras networks \n",
    "from tensorflow.keras import models\n",
    "from tensorflow.keras import layers# number of input node (nin = 784)\n",
    "nin = train_images_vec.shape[1]\n",
    "\n",
    "# number of output nodes (nout = 10)\n",
    "nout = train_labels_onehot.shape[1]\n",
    "\n",
    "# create architecture of simple neural network model\n",
    "# input layer  : 28*28 = 784 (nin) input nodes\n",
    "# output layer : 10 (nout) sigmoid output nodes\n",
    "\n",
    "# Sequential is a basic stack of layers (most basic type of neural network)\n",
    "# https://keras.io/getting-started/sequential-model-guide/\n",
    "#\n",
    "# this initializes a blank Sequential network\n",
    "network = models.Sequential()\n",
    "\n",
    "# network.add() adds the first (and only) layer to the network (the output layer)\n",
    "# \n",
    "# layers.Dense() is a densely connect layer\n",
    "# with nout units\n",
    "# with a sigmoidal activation function\n",
    "# that receives input from an input later with a specific shape\n",
    "# \n",
    "network.add(layers.Dense(nout, \n",
    "                         activation='sigmoid', \n",
    "                         input_shape=(nin,)))\n",
    "\n",
    "# with multi-layer networks, we will have additional network.add() calls"
   ]
  },
  {
   "cell_type": "code",
   "execution_count": 6,
   "metadata": {},
   "outputs": [
    {
     "name": "stdout",
     "output_type": "stream",
     "text": [
      "Model: \"sequential\"\n",
      "_________________________________________________________________\n",
      "Layer (type)                 Output Shape              Param #   \n",
      "=================================================================\n",
      "dense (Dense)                (None, 10)                7850      \n",
      "=================================================================\n",
      "Total params: 7,850\n",
      "Trainable params: 7,850\n",
      "Non-trainable params: 0\n",
      "_________________________________________________________________\n",
      "None\n"
     ]
    }
   ],
   "source": [
    "# print a model summary\n",
    "print(network.summary())"
   ]
  },
  {
   "cell_type": "code",
   "execution_count": 7,
   "metadata": {},
   "outputs": [
    {
     "name": "stdout",
     "output_type": "stream",
     "text": [
      "*** Basic Network Structure ***\n",
      "layer name : dense | input shape : (?, 784) | output shape : (?, 10)\n",
      "\n",
      "*** Detailed Network Layer Information ***\n",
      "{'name': 'dense', 'trainable': True, 'batch_input_shape': (None, 784), 'dtype': 'float32', 'units': 10, 'activation': 'sigmoid', 'use_bias': True, 'kernel_initializer': {'class_name': 'GlorotUniform', 'config': {'seed': None, 'dtype': 'float32'}}, 'bias_initializer': {'class_name': 'Zeros', 'config': {'dtype': 'float32'}}, 'kernel_regularizer': None, 'bias_regularizer': None, 'activity_regularizer': None, 'kernel_constraint': None, 'bias_constraint': None}\n",
      "\n"
     ]
    }
   ],
   "source": [
    "# print more info about the network\n",
    "\n",
    "print('*** Basic Network Structure ***')\n",
    "for layer in network.layers:\n",
    "    print('layer name : {} | input shape : {} | output shape : {}'.format(layer.name, layer.input.shape, layer.output.shape))\n",
    "print()\n",
    "print('*** Detailed Network Layer Information ***')\n",
    "for layer in network.layers:\n",
    "    print(layer.get_config())\n",
    "print()"
   ]
  },
  {
   "cell_type": "code",
   "execution_count": 8,
   "metadata": {},
   "outputs": [],
   "source": [
    "# compile network\n",
    "#\n",
    "# configures the network for training, specifying optimizer and loss function\n",
    "#\n",
    "# optimizer='sgd'           : stochastic gradient descent (simplest, not the smartest)\n",
    "# loss='mean_squared_error' : uses MSE (MSE = 1/N * SSE)\n",
    "# metrics=['accuracy']      : what is printed when verbose=True\n",
    "network.compile(optimizer='sgd', \n",
    "                loss='mean_squared_error', \n",
    "                metrics=['accuracy', 'mse'])\n",
    "\n",
    "# if leave off metrics, only saves loss and val_loss\n",
    "# network.compile(optimizer='sgd', \n",
    "#                 loss='mean_squared_error')"
   ]
  },
  {
   "cell_type": "code",
   "execution_count": 9,
   "metadata": {},
   "outputs": [
    {
     "name": "stdout",
     "output_type": "stream",
     "text": [
      "W shape : (784, 10)\n",
      "weight (W) initial values:\n",
      "[[ 0.0434696  -0.07312791  0.06791828 ...  0.02409373  0.01383343\n",
      "  -0.01871774]\n",
      " [ 0.04646685  0.05897155  0.03518604 ...  0.02873019  0.08681963\n",
      "  -0.08540788]\n",
      " [-0.02982108  0.01450865  0.00567929 ...  0.04022194  0.01765777\n",
      "  -0.02914935]\n",
      " ...\n",
      " [-0.07688302 -0.08675285  0.04836226 ...  0.03645513 -0.07965605\n",
      "   0.00210171]\n",
      " [-0.05746371  0.00268188  0.00495815 ... -0.02069464 -0.03127427\n",
      "   0.08069774]\n",
      " [-0.0851071  -0.00478388 -0.00013306 ...  0.0681871  -0.01552822\n",
      "  -0.01991042]]\n"
     ]
    }
   ],
   "source": [
    "# note that before training, weights are initialized to small random values\n",
    "print('W shape : {}'.format(network.layers[0].get_weights()[0].shape))\n",
    "print('weight (W) initial values:')\n",
    "print(network.layers[0].get_weights()[0])"
   ]
  },
  {
   "cell_type": "code",
   "execution_count": 10,
   "metadata": {},
   "outputs": [
    {
     "name": "stdout",
     "output_type": "stream",
     "text": [
      "Train on 54000 samples, validate on 6000 samples\n",
      "Epoch 1/20\n",
      "54000/54000 [==============================] - 2s 33us/sample - loss: 0.1454 - acc: 0.1524 - mean_squared_error: 0.1454 - val_loss: 0.1056 - val_acc: 0.2392 - val_mean_squared_error: 0.1056\n",
      "Epoch 2/20\n",
      "54000/54000 [==============================] - 2s 29us/sample - loss: 0.0978 - acc: 0.2861 - mean_squared_error: 0.0978 - val_loss: 0.0917 - val_acc: 0.3507 - val_mean_squared_error: 0.0917\n",
      "Epoch 3/20\n",
      "54000/54000 [==============================] - 2s 29us/sample - loss: 0.0894 - acc: 0.3834 - mean_squared_error: 0.0894 - val_loss: 0.0862 - val_acc: 0.4305 - val_mean_squared_error: 0.0862\n",
      "Epoch 4/20\n",
      "54000/54000 [==============================] - 2s 29us/sample - loss: 0.0851 - acc: 0.4449 - mean_squared_error: 0.0851 - val_loss: 0.0824 - val_acc: 0.4782 - val_mean_squared_error: 0.0824\n",
      "Epoch 5/20\n",
      "54000/54000 [==============================] - 2s 29us/sample - loss: 0.0818 - acc: 0.4816 - mean_squared_error: 0.0818 - val_loss: 0.0793 - val_acc: 0.5122 - val_mean_squared_error: 0.0793\n",
      "Epoch 6/20\n",
      "54000/54000 [==============================] - 2s 29us/sample - loss: 0.0789 - acc: 0.5080 - mean_squared_error: 0.0789 - val_loss: 0.0765 - val_acc: 0.5388 - val_mean_squared_error: 0.0765\n",
      "Epoch 7/20\n",
      "54000/54000 [==============================] - 2s 29us/sample - loss: 0.0764 - acc: 0.5322 - mean_squared_error: 0.0764 - val_loss: 0.0739 - val_acc: 0.5618 - val_mean_squared_error: 0.0739\n",
      "Epoch 8/20\n",
      "54000/54000 [==============================] - 2s 29us/sample - loss: 0.0740 - acc: 0.5537 - mean_squared_error: 0.0740 - val_loss: 0.0716 - val_acc: 0.5818 - val_mean_squared_error: 0.0716\n",
      "Epoch 9/20\n",
      "54000/54000 [==============================] - 2s 29us/sample - loss: 0.0719 - acc: 0.5734 - mean_squared_error: 0.0719 - val_loss: 0.0694 - val_acc: 0.6075 - val_mean_squared_error: 0.0694\n",
      "Epoch 10/20\n",
      "54000/54000 [==============================] - 2s 29us/sample - loss: 0.0699 - acc: 0.5926 - mean_squared_error: 0.0699 - val_loss: 0.0674 - val_acc: 0.6287 - val_mean_squared_error: 0.0674\n",
      "Epoch 11/20\n",
      "54000/54000 [==============================] - 2s 29us/sample - loss: 0.0680 - acc: 0.6102 - mean_squared_error: 0.0680 - val_loss: 0.0655 - val_acc: 0.6478 - val_mean_squared_error: 0.0655\n",
      "Epoch 12/20\n",
      "54000/54000 [==============================] - 2s 29us/sample - loss: 0.0663 - acc: 0.6251 - mean_squared_error: 0.0663 - val_loss: 0.0637 - val_acc: 0.6650 - val_mean_squared_error: 0.0637\n",
      "Epoch 13/20\n",
      "54000/54000 [==============================] - 2s 29us/sample - loss: 0.0647 - acc: 0.6406 - mean_squared_error: 0.0647 - val_loss: 0.0621 - val_acc: 0.6800 - val_mean_squared_error: 0.0621\n",
      "Epoch 14/20\n",
      "54000/54000 [==============================] - 2s 29us/sample - loss: 0.0633 - acc: 0.6528 - mean_squared_error: 0.0633 - val_loss: 0.0606 - val_acc: 0.6892 - val_mean_squared_error: 0.0606\n",
      "Epoch 15/20\n",
      "54000/54000 [==============================] - 2s 29us/sample - loss: 0.0619 - acc: 0.6634 - mean_squared_error: 0.0619 - val_loss: 0.0591 - val_acc: 0.6980 - val_mean_squared_error: 0.0591\n",
      "Epoch 16/20\n",
      "54000/54000 [==============================] - 2s 29us/sample - loss: 0.0606 - acc: 0.6725 - mean_squared_error: 0.0606 - val_loss: 0.0578 - val_acc: 0.7070 - val_mean_squared_error: 0.0578\n",
      "Epoch 17/20\n",
      "54000/54000 [==============================] - 2s 30us/sample - loss: 0.0594 - acc: 0.6814 - mean_squared_error: 0.0594 - val_loss: 0.0566 - val_acc: 0.7178 - val_mean_squared_error: 0.0566\n",
      "Epoch 18/20\n",
      "54000/54000 [==============================] - 2s 29us/sample - loss: 0.0583 - acc: 0.6900 - mean_squared_error: 0.0583 - val_loss: 0.0554 - val_acc: 0.7282 - val_mean_squared_error: 0.0554\n",
      "Epoch 19/20\n",
      "54000/54000 [==============================] - 2s 29us/sample - loss: 0.0573 - acc: 0.6974 - mean_squared_error: 0.0573 - val_loss: 0.0544 - val_acc: 0.7352 - val_mean_squared_error: 0.0544\n",
      "Epoch 20/20\n",
      "54000/54000 [==============================] - 2s 29us/sample - loss: 0.0563 - acc: 0.7050 - mean_squared_error: 0.0563 - val_loss: 0.0534 - val_acc: 0.7432 - val_mean_squared_error: 0.0534\n",
      "Done training!\n"
     ]
    }
   ],
   "source": [
    "# now train the network\n",
    "#\n",
    "# training requires training patterns (train_image_vec) and teachers (train_labels_onehot)\n",
    "#\n",
    "# sets # training epochs, validation (described later), and batch_size\n",
    "#\n",
    "# set verbose=True to see training unfold\n",
    "history = network.fit(train_images_vec, \n",
    "                      train_labels_onehot, \n",
    "                      verbose=True, \n",
    "                      validation_split=.1, \n",
    "                      epochs=20, \n",
    "                      batch_size=128)\n",
    "print('Done training!')\n",
    "\n",
    "# if run this again, it will do more training on the same network"
   ]
  },
  {
   "cell_type": "code",
   "execution_count": 11,
   "metadata": {},
   "outputs": [
    {
     "name": "stdout",
     "output_type": "stream",
     "text": [
      "{'loss': [0.14539550761602543, 0.09775129275189506, 0.08939633740760662, 0.08505553519946557, 0.08177220672369004, 0.07892380485269758, 0.07635598980938947, 0.07401582277924926, 0.07186889665656619, 0.06988676391045252, 0.06804851598651321, 0.0663395666413837, 0.06474892563069308, 0.06326795901965213, 0.061889965460256297, 0.06060863778105489, 0.05941713814602958, 0.0583081466599747, 0.05727381309535768, 0.05630702666883115], 'acc': [0.15240741, 0.28607407, 0.3834074, 0.44494444, 0.4815741, 0.5079815, 0.5322037, 0.55366665, 0.5733704, 0.5925926, 0.61016667, 0.6251111, 0.6405926, 0.65275925, 0.6633889, 0.6724815, 0.6814259, 0.689963, 0.6973889, 0.7050185], 'mean_squared_error': [0.14539546, 0.09775129, 0.089396305, 0.08505558, 0.08177222, 0.078923844, 0.076356, 0.07401583, 0.07186888, 0.069886744, 0.06804853, 0.06633957, 0.06474891, 0.063267976, 0.061889958, 0.06060865, 0.05941714, 0.058308147, 0.057273827, 0.056307055], 'val_loss': [0.10562044195334117, 0.09172966508070628, 0.08618166426817576, 0.08242852940162022, 0.07928968385855358, 0.07647765356302261, 0.0739164558450381, 0.07156485092639923, 0.06939022038380305, 0.06736832455794016, 0.06548355382680893, 0.06372374621033669, 0.06208269799749056, 0.0605537660419941, 0.05913340613245964, 0.057813290417194366, 0.05658787954847018, 0.055447371393442156, 0.05438319898645083, 0.05338874148329099], 'val_acc': [0.23916666, 0.35066667, 0.4305, 0.47816667, 0.5121667, 0.5388333, 0.5618333, 0.58183336, 0.6075, 0.62866664, 0.64783335, 0.665, 0.68, 0.68916667, 0.698, 0.707, 0.71783334, 0.72816664, 0.73516667, 0.7431667], 'val_mean_squared_error': [0.105620444, 0.09172966, 0.08618166, 0.08242854, 0.079289675, 0.076477654, 0.07391645, 0.07156485, 0.069390215, 0.06736833, 0.065483555, 0.06372376, 0.062082686, 0.060553767, 0.059133407, 0.057813294, 0.056587875, 0.055447377, 0.0543832, 0.053388737]}\n"
     ]
    }
   ],
   "source": [
    "# history contains the loss (training loss), accuracy, mse, val_loss (validation loss), \n",
    "# val_accuracy (validation accuracy), val_mse, as a Python dictionary\n",
    "print(history.history)"
   ]
  },
  {
   "cell_type": "code",
   "execution_count": 12,
   "metadata": {},
   "outputs": [
    {
     "ename": "KeyError",
     "evalue": "'accuracy'",
     "output_type": "error",
     "traceback": [
      "\u001b[1;31m---------------------------------------------------------------------------\u001b[0m",
      "\u001b[1;31mKeyError\u001b[0m                                  Traceback (most recent call last)",
      "\u001b[1;32m~\\AppData\\Local\\Temp/ipykernel_5672/4105741310.py\u001b[0m in \u001b[0;36m<module>\u001b[1;34m\u001b[0m\n\u001b[0;32m      1\u001b[0m \u001b[1;31m# access one of the elements of the dictionary by name (in this case training accuracy)\u001b[0m\u001b[1;33m\u001b[0m\u001b[1;33m\u001b[0m\u001b[1;33m\u001b[0m\u001b[0m\n\u001b[1;32m----> 2\u001b[1;33m \u001b[0mprint\u001b[0m\u001b[1;33m(\u001b[0m\u001b[0mhistory\u001b[0m\u001b[1;33m.\u001b[0m\u001b[0mhistory\u001b[0m\u001b[1;33m[\u001b[0m\u001b[1;34m'accuracy'\u001b[0m\u001b[1;33m]\u001b[0m\u001b[1;33m)\u001b[0m\u001b[1;33m\u001b[0m\u001b[1;33m\u001b[0m\u001b[0m\n\u001b[0m",
      "\u001b[1;31mKeyError\u001b[0m: 'accuracy'"
     ]
    }
   ],
   "source": [
    "# access one of the elements of the dictionary by name (in this case training accuracy)\n",
    "print(history.history['accuracy'])"
   ]
  },
  {
   "cell_type": "code",
   "execution_count": null,
   "metadata": {},
   "outputs": [],
   "source": [
    "# call network.evaluate() if you have test patterns and test answers and want to know performance\n",
    "test_loss, test_acc = network.evaluate(test_images_vec, \n",
    "                                       test_labels_onehot, \n",
    "                                       verbose=False)\n",
    "\n",
    "print('test_loss (MSE)     : {}'.format(test_loss))\n",
    "print('test_acc (%Correct) : {}'.format(test_acc))"
   ]
  },
  {
   "cell_type": "code",
   "execution_count": null,
   "metadata": {},
   "outputs": [],
   "source": [
    "# call network.predict() if you have test patterns and want to get predicted outputs\n",
    "out = network.predict(test_images_vec)\n",
    "\n",
    "print('dimensions of out : {}'.format(out.shape))"
   ]
  },
  {
   "cell_type": "markdown",
   "metadata": {},
   "source": [
    "## multi-layer neural network in Keras"
   ]
  },
  {
   "cell_type": "code",
   "execution_count": null,
   "metadata": {},
   "outputs": [],
   "source": [
    "from tensorflow.keras import regularizers\n",
    "\n",
    "# number of input node (nin = 784)\n",
    "nin = train_images_vec.shape[1]\n",
    "\n",
    "# create a multi-layer network with two layers of nhid hidden nodes\n",
    "nhid = 100\n",
    "\n",
    "# number of output nodes (nout = 10)\n",
    "nout = train_labels_onehot.shape[1]\n",
    "\n",
    "# create architecture of multi-layer neural network model\n",
    "# input layer  : 28*28 = 784 (nin) input nodes\n",
    "# hidden layer : 100 hidden nodes\n",
    "# output layer : 10 (nout) softmax output nodes\n",
    "\n",
    "# this initializes a blank Sequential network\n",
    "network2 = models.Sequential()\n",
    "\n",
    "# add layers to the initialized network\n",
    "# \n",
    "# hidden layer (input->hidden) - using relu because of its nice mathematical properties\n",
    "network2.add(layers.Dense(nhid, \n",
    "                          kernel_regularizer=regularizers.l2(0.01), \n",
    "                          activation='relu', \n",
    "                          input_shape=(nin,)))\n",
    "\n",
    "# hidden layer (hidden->hidden) - using relu because of its nice mathematical properties\n",
    "network2.add(layers.Dense(nhid, \n",
    "                          kernel_regularizer=regularizers.l2(0.01), \n",
    "                          activation='relu'))\n",
    "\n",
    "# output layer (hidden->output) - using softmax as per discussion in class\n",
    "network2.add(layers.Dense(nout, \n",
    "                          kernel_regularizer=regularizers.l2(0.01), \n",
    "                          activation='softmax'))\n",
    "\n",
    "# regularizers (L1 or L2) can potentially help with over-fitting"
   ]
  },
  {
   "cell_type": "code",
   "execution_count": null,
   "metadata": {},
   "outputs": [],
   "source": [
    "# print a model summary\n",
    "print(network2.summary())\n",
    "\n",
    "# print more info about the network\n",
    "\n",
    "print('*** Basic Network Structure ***')\n",
    "for layer in network2.layers:\n",
    "    print('layer name : {} | input shape : {} | output shape : {}'.format(layer.name, layer.input.shape, layer.output.shape))\n",
    "print()\n",
    "print('*** Detailed Network Layer Information ***')\n",
    "for layer in network2.layers:\n",
    "    print(layer.get_config())\n",
    "    print()"
   ]
  },
  {
   "cell_type": "code",
   "execution_count": null,
   "metadata": {},
   "outputs": [],
   "source": [
    "# compile network\n",
    "#\n",
    "# using 'adam' optimizer (extension of stochastic gradient descent)\n",
    "#\n",
    "# using categorical cross entropy with softmax output activation\n",
    "network2.compile(optimizer='adam', \n",
    "                 loss='categorical_crossentropy', \n",
    "                 metrics=['accuracy'])"
   ]
  },
  {
   "cell_type": "code",
   "execution_count": null,
   "metadata": {},
   "outputs": [],
   "source": [
    "# now train the network\n",
    "#\n",
    "# validation is used to adjust optimization\n",
    "history = network2.fit(train_images_vec, \n",
    "                       train_labels_onehot, \n",
    "                       verbose=True, \n",
    "                       validation_split=.1, \n",
    "                       epochs=20, \n",
    "                       batch_size=128)\n",
    "print('Done training!')"
   ]
  },
  {
   "cell_type": "code",
   "execution_count": null,
   "metadata": {},
   "outputs": [],
   "source": []
  }
 ],
 "metadata": {
  "kernelspec": {
   "display_name": "Python 3 (ipykernel)",
   "language": "python",
   "name": "python3"
  },
  "language_info": {
   "codemirror_mode": {
    "name": "ipython",
    "version": 3
   },
   "file_extension": ".py",
   "mimetype": "text/x-python",
   "name": "python",
   "nbconvert_exporter": "python",
   "pygments_lexer": "ipython3",
   "version": "3.7.11"
  }
 },
 "nbformat": 4,
 "nbformat_minor": 4
}
