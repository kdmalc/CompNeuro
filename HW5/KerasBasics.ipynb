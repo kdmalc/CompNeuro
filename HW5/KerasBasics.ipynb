{
 "cells": [
  {
   "cell_type": "code",
   "execution_count": null,
   "id": "faa1f04a-63e4-4f6b-9ebd-76824f27ab37",
   "metadata": {},
   "outputs": [],
   "source": [
    "from tensorflow.keras import models\n",
    "from tensorflow.keras import layers\n",
    "\n",
    "network = models.Sequential()\n",
    "\n",
    "nin  = 1\n",
    "nout = 1\n",
    "\n",
    "network = models.Sequential()\n",
    "network.add(layers.Dense(nout, \n",
    "                         activation='linear', \n",
    "                         input_shape=(nin,)))\n",
    "\n",
    "print(network.summary())\n",
    "print('************************************************\\n')\n",
    "\n",
    "for layer in network.layers:\n",
    "    print('layer name : {} | input shape : {} | output shape : {}'.format(layer.name, layer.input.shape, layer.output.shape))\n",
    "print('************************************************\\n')\n",
    "\n",
    "for layer in network.layers:\n",
    "    print(layer.get_config())\n",
    "print()"
   ]
  },
  {
   "cell_type": "code",
   "execution_count": null,
   "id": "48aa81bd-e683-4858-abba-2f0c8303f05a",
   "metadata": {},
   "outputs": [],
   "source": [
    "network = models.Sequential()\n",
    "\n",
    "nin  = 4\n",
    "nout = 3\n",
    "\n",
    "network = models.Sequential()\n",
    "network.add(layers.Dense(nout, \n",
    "                         activation='sigmoid', \n",
    "                         input_shape=(nin,)))\n",
    "\n",
    "print(network.summary())\n",
    "print('************************************************\\n')\n",
    "\n",
    "for layer in network.layers:\n",
    "    print('layer name : {} | input shape : {} | output shape : {}'.format(layer.name, layer.input.shape, layer.output.shape))\n",
    "print('************************************************\\n')\n",
    "\n",
    "for layer in network.layers:\n",
    "    print(layer.get_config())\n",
    "print()"
   ]
  },
  {
   "cell_type": "code",
   "execution_count": null,
   "id": "e3abb94d-02b2-4161-b472-3e19a728a113",
   "metadata": {},
   "outputs": [],
   "source": [
    "network = models.Sequential()\n",
    "\n",
    "nin  = 4\n",
    "nhid = 5\n",
    "nout = 3\n",
    "\n",
    "network = models.Sequential()\n",
    "network.add(layers.Dense(nhid, \n",
    "                         activation='sigmoid', \n",
    "                         input_shape=(nin,)))\n",
    "network.add(layers.Dense(nout, \n",
    "                         activation='sigmoid'))\n",
    "\n",
    "print(network.summary())\n",
    "print('************************************************\\n')\n",
    "\n",
    "for layer in network.layers:\n",
    "    print('layer name : {} | input shape : {} | output shape : {}'.format(layer.name, layer.input.shape, layer.output.shape))\n",
    "print('************************************************\\n')\n",
    "\n",
    "for layer in network.layers:\n",
    "    print(layer.get_config())\n",
    "print()"
   ]
  },
  {
   "cell_type": "code",
   "execution_count": null,
   "id": "3c37cf00-afe0-4453-b693-319b93ac4e0d",
   "metadata": {},
   "outputs": [],
   "source": [
    "network = models.Sequential()\n",
    "\n",
    "nin   = 4\n",
    "nhid1 = 5\n",
    "nhid2 = 2\n",
    "nout  = 3\n",
    "\n",
    "network = models.Sequential()\n",
    "network.add(layers.Dense(nhid1, \n",
    "                         activation='sigmoid', \n",
    "                         input_shape=(nin,)))\n",
    "network.add(layers.Dense(nhid2, \n",
    "                         activation='sigmoid'))\n",
    "network.add(layers.Dense(nout, \n",
    "                         activation='sigmoid'))\n",
    "\n",
    "print(network.summary())\n",
    "print('************************************************\\n')\n",
    "\n",
    "for layer in network.layers:\n",
    "    print('layer name : {} | input shape : {} | output shape : {}'.format(layer.name, layer.input.shape, layer.output.shape))\n",
    "print('************************************************\\n')\n",
    "\n",
    "for layer in network.layers:\n",
    "    print(layer.get_config())\n",
    "print()"
   ]
  },
  {
   "cell_type": "markdown",
   "id": "d95c9882-9acc-45b1-9ddd-99275229a8e7",
   "metadata": {},
   "source": [
    "<hr>"
   ]
  },
  {
   "cell_type": "code",
   "execution_count": null,
   "id": "16b43b92-916f-4525-bc65-a2fef34a4c60",
   "metadata": {},
   "outputs": [],
   "source": [
    "network = models.Sequential()\n",
    "\n",
    "nin  = 4\n",
    "nout = 3\n",
    "\n",
    "network = models.Sequential()\n",
    "network.add(layers.Dense(nout, \n",
    "                         activation='sigmoid', \n",
    "                         input_shape=(nin,)))\n",
    "\n",
    "print(network.summary())"
   ]
  },
  {
   "cell_type": "code",
   "execution_count": null,
   "id": "684bcce4-d7e6-459d-8c7e-219f033a2f57",
   "metadata": {},
   "outputs": [],
   "source": [
    "# compile network\n",
    "\n",
    "network.compile(optimizer='sgd', \n",
    "                loss='mean_squared_error', \n",
    "                metrics=['accuracy', 'mse'])"
   ]
  },
  {
   "cell_type": "code",
   "execution_count": null,
   "id": "b996fa25-c8f5-45ea-a18c-681e24236f11",
   "metadata": {},
   "outputs": [],
   "source": [
    "# fit network (obviously, here we have defined no patterns or teachers)\n",
    "\n",
    "history = network.fit(train_patterns, \n",
    "                      train_teach, \n",
    "                      verbose=True, \n",
    "                      validation_split=.1, \n",
    "                      epochs=20, \n",
    "                      batch_size=128)"
   ]
  }
 ],
 "metadata": {
  "kernelspec": {
   "display_name": "Python 3 (ipykernel)",
   "language": "python",
   "name": "python3"
  },
  "language_info": {
   "codemirror_mode": {
    "name": "ipython",
    "version": 3
   },
   "file_extension": ".py",
   "mimetype": "text/x-python",
   "name": "python",
   "nbconvert_exporter": "python",
   "pygments_lexer": "ipython3",
   "version": "3.7.11"
  }
 },
 "nbformat": 4,
 "nbformat_minor": 5
}
