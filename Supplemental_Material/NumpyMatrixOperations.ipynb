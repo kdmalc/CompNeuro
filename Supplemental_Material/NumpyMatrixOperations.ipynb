{
 "cells": [
  {
   "cell_type": "markdown",
   "metadata": {},
   "source": [
    "### vector, element, matrix operations with numpy arrays \n"
   ]
  },
  {
   "cell_type": "code",
   "execution_count": null,
   "metadata": {},
   "outputs": [],
   "source": [
    "import numpy as np\n",
    "\n",
    "# let us create two numpy arrays\n",
    "a = np.array([1, 2, 3, 4])\n",
    "b = np.array([5, 6, 7, 8])\n",
    "\n",
    "print('a : {}'.format(a))\n",
    "print('b : {}'.format(b))"
   ]
  },
  {
   "cell_type": "markdown",
   "metadata": {},
   "source": [
    "basic multiplication (\\*) of two numpy arrays is element-wise<br>\n",
    "(this is like the .\\* operation in Matlab)"
   ]
  },
  {
   "cell_type": "code",
   "execution_count": null,
   "metadata": {},
   "outputs": [],
   "source": [
    "# multiple a*b\n",
    "\n",
    "c = a*b\n",
    "\n",
    "print('c = a*b : {}'.format(c))"
   ]
  },
  {
   "cell_type": "markdown",
   "metadata": {},
   "source": [
    "<hr>\n",
    "\n",
    "we showed before how to do dot products of numpy arrays"
   ]
  },
  {
   "cell_type": "code",
   "execution_count": null,
   "metadata": {},
   "outputs": [],
   "source": [
    "# dot product\n",
    "\n",
    "d = np.dot(a,b)\n",
    "\n",
    "print('d = dot(a,b) : {}'.format(d))"
   ]
  },
  {
   "cell_type": "markdown",
   "metadata": {},
   "source": [
    "<hr>\n",
    "\n",
    "to do matrix multiplcation, we use np.matmul()"
   ]
  },
  {
   "cell_type": "code",
   "execution_count": null,
   "metadata": {},
   "outputs": [],
   "source": [
    "# try matrix multiplication of a times b\n",
    "\n",
    "print(a.shape)\n",
    "print(b.shape)\n",
    "\n",
    "c = np.matmul(a,b)\n",
    "print(\"c = np.matmul(a,b))\")\n",
    "print(c)\n",
    "\n",
    "# note that this is the SAME as the dot product because the dot product \n",
    "# is used as part of the calculation of a matrix multiplication"
   ]
  },
  {
   "cell_type": "code",
   "execution_count": null,
   "metadata": {},
   "outputs": [],
   "source": [
    "# what is happening above?\n",
    "\n",
    "# even though a and b are vectors, numpy is assuming you\n",
    "# have a as 1x4 and b as 4x1, causing c to be 1x1 (scalar)\n",
    "\n",
    "print(type(c))\n",
    "print(c.shape)"
   ]
  },
  {
   "cell_type": "code",
   "execution_count": null,
   "metadata": {},
   "outputs": [],
   "source": [
    "# we can also try matrix multiplication of b times a\n",
    "\n",
    "d = np.matmul(b,a)\n",
    "print(\"d = np.matmul(b,a)\")\n",
    "print(d)\n",
    "\n",
    "# now it assumes b is 1x4 and a is 4x1, again causing \n",
    "# c to be 1x1 (scalar)\n",
    "print(type(d))\n",
    "print(d.shape)"
   ]
  },
  {
   "cell_type": "markdown",
   "metadata": {},
   "source": [
    "<hr>"
   ]
  },
  {
   "cell_type": "code",
   "execution_count": null,
   "metadata": {},
   "outputs": [],
   "source": [
    "# we can also resize a and b to be 2D matrices\n",
    "\n",
    "# make a copy of a and b (because we're resizing)\n",
    "aa = np.copy(a)\n",
    "bb = np.copy(b)\n",
    "\n",
    "aa.resize(1,aa.shape[0])\n",
    "bb.resize(bb.shape[0],1)\n",
    "\n",
    "print(\"aa\")\n",
    "print(aa)\n",
    "print(aa.shape)\n",
    "print()\n",
    "print(\"bb\")\n",
    "print(bb)\n",
    "print(bb.shape)"
   ]
  },
  {
   "cell_type": "markdown",
   "metadata": {},
   "source": [
    "<hr>"
   ]
  },
  {
   "cell_type": "code",
   "execution_count": null,
   "metadata": {},
   "outputs": [],
   "source": [
    "# we can matrix multiply a*b \n",
    "# (1,4) matrix times (4,1) matrix is a (1,1) matrix\n",
    "\n",
    "cc = np.matmul(aa,bb)\n",
    "\n",
    "print(aa)\n",
    "print(bb)\n",
    "print('cc = np.matmul(aa,bb) : {}'.format(cc))\n",
    "print(cc.shape)"
   ]
  },
  {
   "cell_type": "markdown",
   "metadata": {},
   "source": [
    "note that (by definition) this is equal to the dot product of a and b shown earlier\n",
    "\n",
    "the above dot product is also called the **inner product** of two vectors (1,n) times (n,1)"
   ]
  },
  {
   "cell_type": "markdown",
   "metadata": {},
   "source": [
    "<hr>"
   ]
  },
  {
   "cell_type": "code",
   "execution_count": null,
   "metadata": {},
   "outputs": [],
   "source": [
    "# note that if we instead multiply b*a we get a very different result\n",
    "# (4,1) array * (1,4) array is a (4,4) array\n",
    "\n",
    "dd = np.matmul(bb,aa)\n",
    "\n",
    "print(aa)\n",
    "print(bb)\n",
    "print('dd = np.matmul(bb,aa) :')\n",
    "print(dd)\n",
    "print(dd.shape)"
   ]
  },
  {
   "cell_type": "markdown",
   "metadata": {},
   "source": [
    "the above multiplication of two vectors is called the **outer product** of two vectors (n,1) times (1,n) "
   ]
  },
  {
   "cell_type": "markdown",
   "metadata": {},
   "source": [
    "<hr>"
   ]
  },
  {
   "cell_type": "code",
   "execution_count": null,
   "metadata": {},
   "outputs": [],
   "source": [
    "# the transpose of a numpy array exchanges rows for columns\n",
    "\n",
    "print(aa)\n",
    "print(aa.T)"
   ]
  },
  {
   "cell_type": "code",
   "execution_count": null,
   "metadata": {},
   "outputs": [],
   "source": [
    "# see the difference between these two matrix multiplications\n",
    "\n",
    "print(np.matmul(aa, bb))\n",
    "print(np.matmul(aa.T, bb.T))"
   ]
  },
  {
   "cell_type": "markdown",
   "metadata": {},
   "source": [
    "<hr>"
   ]
  },
  {
   "cell_type": "code",
   "execution_count": null,
   "metadata": {},
   "outputs": [],
   "source": [
    "# one more illustration of numpy matrix multiplication\n",
    "\n",
    "A = np.array([[1, 1, 1, 1],\n",
    "              [2, 2, 2, 2],\n",
    "              [3, 3, 3, 3]])\n",
    "B = np.array([[1, 1],\n",
    "              [2, 2],\n",
    "              [3, 3],\n",
    "              [4, 4]])\n",
    "\n",
    "print(\"A\")\n",
    "print(A)\n",
    "print(A.shape)\n",
    "print(\"B\")\n",
    "print(B)\n",
    "print(B.shape)\n",
    "print(\"np.matmul(A, B)\")\n",
    "print(np.matmul(A, B))"
   ]
  },
  {
   "cell_type": "code",
   "execution_count": null,
   "metadata": {},
   "outputs": [],
   "source": [
    "# we cannot multiply B*A (the error says why)\n",
    "\n",
    "print(np.matmul(B, A))"
   ]
  },
  {
   "cell_type": "code",
   "execution_count": null,
   "metadata": {},
   "outputs": [],
   "source": []
  }
 ],
 "metadata": {
  "kernelspec": {
   "display_name": "Python 3 (ipykernel)",
   "language": "python",
   "name": "python3"
  },
  "language_info": {
   "codemirror_mode": {
    "name": "ipython",
    "version": 3
   },
   "file_extension": ".py",
   "mimetype": "text/x-python",
   "name": "python",
   "nbconvert_exporter": "python",
   "pygments_lexer": "ipython3",
   "version": "3.9.7"
  }
 },
 "nbformat": 4,
 "nbformat_minor": 4
}
